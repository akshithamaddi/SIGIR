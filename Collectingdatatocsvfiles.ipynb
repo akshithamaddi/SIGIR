{
  "nbformat": 4,
  "nbformat_minor": 0,
  "metadata": {
    "colab": {
      "name": "Collectingdatatocsvfiles.ipynb",
      "provenance": [],
      "collapsed_sections": [],
      "include_colab_link": true
    },
    "kernelspec": {
      "name": "python3",
      "display_name": "Python 3"
    }
  },
  "cells": [
    {
      "cell_type": "markdown",
      "metadata": {
        "id": "view-in-github",
        "colab_type": "text"
      },
      "source": [
        "<a href=\"https://colab.research.google.com/github/akshithamaddi/SIGIR/blob/main/Collectingdatatocsvfiles.ipynb\" target=\"_parent\"><img src=\"https://colab.research.google.com/assets/colab-badge.svg\" alt=\"Open In Colab\"/></a>"
      ]
    },
    {
      "cell_type": "code",
      "metadata": {
        "id": "X_G3fm790SEc",
        "colab": {
          "base_uri": "https://localhost:8080/"
        },
        "outputId": "17cffbf4-a4b7-46e1-8a8e-64d1b7d1f007"
      },
      "source": [
        "#Mounting the drive for collecting data from csv files \n",
        "from google.colab import drive\n",
        "drive.mount('/content/drive')"
      ],
      "execution_count": null,
      "outputs": [
        {
          "output_type": "stream",
          "text": [
            "Mounted at /content/drive\n"
          ],
          "name": "stdout"
        }
      ]
    },
    {
      "cell_type": "code",
      "metadata": {
        "id": "1qFQrHji0E3M"
      },
      "source": [
        "#Reading all the csv files and replacing the url in article no to get the article id's\n",
        "import glob\n",
        "import pandas as pd\n",
        "import os\n",
        "import csv\n",
        "# Select all the files in your directory\n",
        "directory = r'/content/drive/My Drive/sigir_data'\n",
        "files = glob.glob(directory + \"/*.csv\")\n",
        "df1 = pd.concat([pd.read_csv(fp,skipinitialspace=True,encoding = \"ISO-8859-1\").assign(New=os.path.basename(fp)) for fp in files])\n",
        "df1['article_no'] = df1['article_id'].str.replace('https://doi.org/','') \n",
        "df1.to_csv('output.csv')"
      ],
      "execution_count": null,
      "outputs": []
    },
    {
      "cell_type": "code",
      "metadata": {
        "id": "Owyp47VWri1P"
      },
      "source": [
        "#Removing the unwanted data\n",
        "data = pd.read_csv(\"output.csv\") \n",
        "df1 = data[pd.notnull(data['article_id'])]\n",
        "df1.to_csv('articleoutput.csv')\n",
        "#reading the csvfile\n",
        "data = pd.read_csv(\"articleoutput.csv\") \n",
        "header = [\"article_no\"]\n",
        "df1.to_csv('articleno.csv', columns = header)"
      ],
      "execution_count": null,
      "outputs": []
    },
    {
      "cell_type": "code",
      "metadata": {
        "id": "QiF50MalJmD6"
      },
      "source": [
        "#appending the url to all the article id's collected for collecting the json files. \n",
        "import csv\n",
        "import itertools\n",
        "contents = []\n",
        "with open('articleno.csv','r') as csvf:\n",
        "    urls = csv.reader(csvf)\n",
        "    next(urls, None)\n",
        "    contents = [row[1] for row in itertools.islice(urls,975)] \n",
        "string = 'https://api.semanticscholar.org/v1/paper/'\n",
        "my_new_list = [string+x for x in contents]\n",
        "with open(\"Article_URLs.csv\",\"w\") as f:\n",
        "    writer = csv.writer(f,delimiter=\"\\n\")\n",
        "    writer.writerow(['ArticleURL'])\n",
        "    writer.writerow(my_new_list) "
      ],
      "execution_count": null,
      "outputs": []
    },
    {
      "cell_type": "code",
      "metadata": {
        "id": "xsTKtQwTJ0OJ"
      },
      "source": [
        "#Code to collect the json files.\n",
        "import urllib.request\n",
        "from urllib.request import Request, urlopen\n",
        "from urllib.error import URLError, HTTPError\n",
        "import time\n",
        "countUp = 0\n",
        "headers = {}\n",
        "headers['User-Agent'] = 'Mozilla/5.0 (X11; Linux i686) AppleWebKit/537.17 (KHTML, like Gecko) Chrome/24.0.1312.27 Safari/537.17'\n",
        "for j in my_new_list:\n",
        " time.sleep(2)\n",
        " try:\n",
        "     req = urllib.request.Request(j,headers=headers)\n",
        "     response = urllib.request.urlopen(req)\n",
        "     res=response.read().decode('utf8')\n",
        "     time.sleep(0.1)\n",
        "     print(\"Here\")\n",
        "     with open ('/content/jsonfiles/Article' + str(countUp) + '.json', 'w') as g:\n",
        "          g.write(res)\n",
        "     countUp += 1\n",
        " except HTTPError as e:\n",
        "    print('The server couldn\\'t fulfill the request.')\n",
        "    print('Error code: ', e.code)\n",
        "    time.sleep(30) \n",
        " except URLError as e:\n",
        "    print('We failed to reach a server.')\n",
        "    print('Reason: ', e.reason)\n",
        "    time.sleep(30)"
      ],
      "execution_count": null,
      "outputs": []
    },
    {
      "cell_type": "code",
      "metadata": {
        "id": "EeFiEnAJqOik",
        "colab": {
          "base_uri": "https://localhost:8080/",
          "height": 364
        },
        "outputId": "83ab308c-95d8-422f-f3cf-5b4eaa482468"
      },
      "source": [
        "#For downloading the zip of all the collected json articles\n",
        "from google.colab import files\n",
        "#For the folder you have to zip it first and can only download later on\n",
        "!zip -r 1971.zip /content/1971\n",
        "#Download files\n",
        "files.download('1971.zip')"
      ],
      "execution_count": null,
      "outputs": [
        {
          "output_type": "stream",
          "text": [
            "  adding: content/1971/ (stored 0%)\n",
            "  adding: content/1971/Article10.pdf (deflated 9%)\n",
            "  adding: content/1971/Article11.pdf (deflated 9%)\n",
            "  adding: content/1971/Article7.pdf (deflated 8%)\n",
            "  adding: content/1971/Article4.pdf (deflated 8%)\n",
            "  adding: content/1971/Article17.pdf (deflated 7%)\n",
            "  adding: content/1971/Article8.pdf (deflated 7%)\n",
            "  adding: content/1971/Article2.pdf (deflated 6%)\n",
            "  adding: content/1971/Article5.pdf (deflated 7%)\n",
            "  adding: content/1971/Article18.pdf (deflated 6%)\n",
            "  adding: content/1971/Article6.pdf (deflated 7%)\n",
            "  adding: content/1971/Article3.pdf (deflated 8%)\n",
            "  adding: content/1971/Article15.pdf (deflated 14%)\n",
            "  adding: content/1971/Article19.pdf (deflated 7%)\n",
            "  adding: content/1971/Article9.pdf (deflated 6%)\n",
            "  adding: content/1971/Article13.pdf (deflated 7%)\n",
            "  adding: content/1971/Article12.pdf (deflated 8%)\n",
            "  adding: content/1971/Article14.pdf (deflated 7%)\n",
            "  adding: content/1971/Article16.pdf (deflated 9%)\n",
            "  adding: content/1971/Article1.pdf (deflated 5%)\n"
          ],
          "name": "stdout"
        }
      ]
    },
    {
      "cell_type": "code",
      "metadata": {
        "id": "O6RKDuaE-VUB",
        "colab": {
          "base_uri": "https://localhost:8080/",
          "height": 54
        },
        "outputId": "3af3dd7e-7059-420b-f237-d2b2076dd0ca"
      },
      "source": [
        "#Code for dowunloading the pdf files.\n",
        "import pandas as pd \n",
        "import numpy as np\n",
        "import requests\n",
        "from urllib.request import Request, urlopen\n",
        "from urllib.error import URLError, HTTPError\n",
        "import time\n",
        "pdf = pd.read_csv(\"2001_sigir_article_information.csv\",encoding = \"ISO-8859-1\")\n",
        "pdf_list = pdf['pdf_link'].to_list()\n",
        "cleanlist = [i for i in pdf_list if i is not np.nan]\n",
        "print(cleanlist)\n",
        "countUp = 1\n",
        "for j in cleanlist:\n",
        "  myfile = requests.get(j, allow_redirects=True)\n",
        "  with open('/content/2001/Article' + str(countUp) + '.pdf', 'wb') as g:\n",
        "      g.write(myfile.content)\n",
        "  countUp += 1   "
      ],
      "execution_count": null,
      "outputs": [
        {
          "output_type": "stream",
          "text": [
            "['https://dl.acm.org/doi/pdf/10.1145/383952.383953?download=true', 'https://dl.acm.org/doi/pdf/10.1145/383952.383954?download=true', 'https://dl.acm.org/doi/pdf/10.1145/383952.383955?download=true', 'https://dl.acm.org/doi/pdf/10.1145/383952.383956?download=true', 'https://dl.acm.org/doi/pdf/10.1145/383952.383957?download=true', 'https://dl.acm.org/doi/pdf/10.1145/383952.383958?download=true', 'https://dl.acm.org/doi/pdf/10.1145/383952.383959?download=true', 'https://dl.acm.org/doi/pdf/10.1145/383952.383960?download=true', 'https://dl.acm.org/doi/pdf/10.1145/383952.383961?download=true', 'https://dl.acm.org/doi/pdf/10.1145/383952.383963?download=true', 'https://dl.acm.org/doi/pdf/10.1145/383952.383964?download=true', 'https://dl.acm.org/doi/pdf/10.1145/383952.383965?download=true', 'https://dl.acm.org/doi/pdf/10.1145/383952.383966?download=true', 'https://dl.acm.org/doi/pdf/10.1145/383952.383968?download=true', 'https://dl.acm.org/doi/pdf/10.1145/383952.383970?download=true', 'https://dl.acm.org/doi/pdf/10.1145/383952.383972?download=true', 'https://dl.acm.org/doi/pdf/10.1145/383952.383974?download=true', 'https://dl.acm.org/doi/pdf/10.1145/383952.383975?download=true', 'https://dl.acm.org/doi/pdf/10.1145/383952.383976?download=true', 'https://dl.acm.org/doi/pdf/10.1145/383952.383981?download=true', 'https://dl.acm.org/doi/pdf/10.1145/383952.383982?download=true', 'https://dl.acm.org/doi/pdf/10.1145/383952.383985?download=true', 'https://dl.acm.org/doi/pdf/10.1145/383952.383986?download=true', 'https://dl.acm.org/doi/pdf/10.1145/383952.383987?download=true', 'https://dl.acm.org/doi/pdf/10.1145/383952.383989?download=true', 'https://dl.acm.org/doi/pdf/10.1145/383952.383990?download=true', 'https://dl.acm.org/doi/pdf/10.1145/383952.383991?download=true', 'https://dl.acm.org/doi/pdf/10.1145/383952.383992?download=true', 'https://dl.acm.org/doi/pdf/10.1145/383952.383993?download=true', 'https://dl.acm.org/doi/pdf/10.1145/383952.383995?download=true', 'https://dl.acm.org/doi/pdf/10.1145/383952.383999?download=true', 'https://dl.acm.org/doi/pdf/10.1145/383952.384003?download=true', 'https://dl.acm.org/doi/pdf/10.1145/383952.384005?download=true', 'https://dl.acm.org/doi/pdf/10.1145/383952.384007?download=true', 'https://dl.acm.org/doi/pdf/10.1145/383952.384009?download=true', 'https://dl.acm.org/doi/pdf/10.1145/383952.384012?download=true', 'https://dl.acm.org/doi/pdf/10.1145/383952.384011?download=true', 'https://dl.acm.org/doi/pdf/10.1145/383952.384013?download=true', 'https://dl.acm.org/doi/pdf/10.1145/383952.384015?download=true', 'https://dl.acm.org/doi/pdf/10.1145/383952.384017?download=true', 'https://dl.acm.org/doi/pdf/10.1145/383952.384019?download=true', 'https://dl.acm.org/doi/pdf/10.1145/383952.384021?download=true', 'https://dl.acm.org/doi/pdf/10.1145/383952.384022?download=true', 'https://dl.acm.org/doi/pdf/10.1145/383952.384024?download=true', 'https://dl.acm.org/doi/pdf/10.1145/383952.384025?download=true', 'https://dl.acm.org/doi/pdf/10.1145/383952.384028?download=true', 'https://dl.acm.org/doi/pdf/10.1145/383952.384029?download=true', 'https://dl.acm.org/doi/pdf/10.1145/383952.384030?download=true', 'https://dl.acm.org/doi/pdf/10.1145/383952.384031?download=true', 'https://dl.acm.org/doi/pdf/10.1145/383952.384032?download=true', 'https://dl.acm.org/doi/pdf/10.1145/383952.384033?download=true', 'https://dl.acm.org/doi/pdf/10.1145/383952.384034?download=true', 'https://dl.acm.org/doi/pdf/10.1145/383952.384035?download=true', 'https://dl.acm.org/doi/pdf/10.1145/383952.384037?download=true', 'https://dl.acm.org/doi/pdf/10.1145/383952.384038?download=true', 'https://dl.acm.org/doi/pdf/10.1145/383952.384039?download=true', 'https://dl.acm.org/doi/pdf/10.1145/383952.384041?download=true', 'https://dl.acm.org/doi/pdf/10.1145/383952.384042?download=true', 'https://dl.acm.org/doi/pdf/10.1145/383952.384045?download=true', 'https://dl.acm.org/doi/pdf/10.1145/383952.384061?download=true', 'https://dl.acm.org/doi/pdf/10.1145/383952.384062?download=true', 'https://dl.acm.org/doi/pdf/10.1145/383952.384063?download=true', 'https://dl.acm.org/doi/pdf/10.1145/383952.384064?download=true', 'https://dl.acm.org/doi/pdf/10.1145/383952.384065?download=true', 'https://dl.acm.org/doi/pdf/10.1145/383952.384066?download=true', 'https://dl.acm.org/doi/pdf/10.1145/383952.384067?download=true', 'https://dl.acm.org/doi/pdf/10.1145/383952.384068?download=true', 'https://dl.acm.org/doi/pdf/10.1145/383952.384069?download=true', 'https://dl.acm.org/doi/pdf/10.1145/383952.384070?download=true', 'https://dl.acm.org/doi/pdf/10.1145/383952.384071?download=true', 'https://dl.acm.org/doi/pdf/10.1145/383952.384072?download=true', 'https://dl.acm.org/doi/pdf/10.1145/383952.384073?download=true', 'https://dl.acm.org/doi/pdf/10.1145/383952.384074?download=true', 'https://dl.acm.org/doi/pdf/10.1145/383952.384075?download=true', 'https://dl.acm.org/doi/pdf/10.1145/383952.384080?download=true', 'https://dl.acm.org/doi/pdf/10.1145/383952.384083?download=true', 'https://dl.acm.org/doi/pdf/10.1145/383952.384086?download=true', 'https://dl.acm.org/doi/pdf/10.1145/383952.384090?download=true', 'https://dl.acm.org/doi/pdf/10.1145/383952.384091?download=true', 'https://dl.acm.org/doi/pdf/10.1145/383952.384092?download=true', 'https://dl.acm.org/doi/pdf/10.1145/383952.384093?download=true', 'https://dl.acm.org/doi/pdf/10.1145/383952.384094?download=true', 'https://dl.acm.org/doi/pdf/10.1145/383952.384095?download=true', 'https://dl.acm.org/doi/pdf/10.1145/383952.384096?download=true', 'https://dl.acm.org/doi/pdf/10.1145/383952.384097?download=true', 'https://dl.acm.org/doi/pdf/10.1145/383952.384098?download=true', 'https://dl.acm.org/doi/pdf/10.1145/383952.384099?download=true']\n"
          ],
          "name": "stdout"
        }
      ]
    }
  ]
}