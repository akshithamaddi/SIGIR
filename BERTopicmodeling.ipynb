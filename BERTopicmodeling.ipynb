{
  "nbformat": 4,
  "nbformat_minor": 0,
  "metadata": {
    "colab": {
      "name": "BERTopicmodeling.ipynb",
      "provenance": [],
      "collapsed_sections": [],
      "include_colab_link": true
    },
    "kernelspec": {
      "display_name": "Python 3",
      "name": "python3"
    },
    "language_info": {
      "name": "python"
    },
    "widgets": {
      "application/vnd.jupyter.widget-state+json": {
        "a449021d885c46b2b8d6c29570ca81b9": {
          "model_module": "@jupyter-widgets/controls",
          "model_name": "HBoxModel",
          "state": {
            "_view_name": "HBoxView",
            "_dom_classes": [],
            "_model_name": "HBoxModel",
            "_view_module": "@jupyter-widgets/controls",
            "_model_module_version": "1.5.0",
            "_view_count": null,
            "_view_module_version": "1.5.0",
            "box_style": "",
            "layout": "IPY_MODEL_ead22c8397a54c29aeeb2a496993ae18",
            "_model_module": "@jupyter-widgets/controls",
            "children": [
              "IPY_MODEL_5cd403f44f0d4f7a8c97f43039be2806",
              "IPY_MODEL_605944622958498592723dc6c4209125"
            ]
          }
        },
        "ead22c8397a54c29aeeb2a496993ae18": {
          "model_module": "@jupyter-widgets/base",
          "model_name": "LayoutModel",
          "state": {
            "_view_name": "LayoutView",
            "grid_template_rows": null,
            "right": null,
            "justify_content": null,
            "_view_module": "@jupyter-widgets/base",
            "overflow": null,
            "_model_module_version": "1.2.0",
            "_view_count": null,
            "flex_flow": null,
            "width": null,
            "min_width": null,
            "border": null,
            "align_items": null,
            "bottom": null,
            "_model_module": "@jupyter-widgets/base",
            "top": null,
            "grid_column": null,
            "overflow_y": null,
            "overflow_x": null,
            "grid_auto_flow": null,
            "grid_area": null,
            "grid_template_columns": null,
            "flex": null,
            "_model_name": "LayoutModel",
            "justify_items": null,
            "grid_row": null,
            "max_height": null,
            "align_content": null,
            "visibility": null,
            "align_self": null,
            "height": null,
            "min_height": null,
            "padding": null,
            "grid_auto_rows": null,
            "grid_gap": null,
            "max_width": null,
            "order": null,
            "_view_module_version": "1.2.0",
            "grid_template_areas": null,
            "object_position": null,
            "object_fit": null,
            "grid_auto_columns": null,
            "margin": null,
            "display": null,
            "left": null
          }
        },
        "5cd403f44f0d4f7a8c97f43039be2806": {
          "model_module": "@jupyter-widgets/controls",
          "model_name": "FloatProgressModel",
          "state": {
            "_view_name": "ProgressView",
            "style": "IPY_MODEL_abe1bfcfd817429b81834c49c0d52a2e",
            "_dom_classes": [],
            "description": "100%",
            "_model_name": "FloatProgressModel",
            "bar_style": "success",
            "max": 83426730,
            "_view_module": "@jupyter-widgets/controls",
            "_model_module_version": "1.5.0",
            "value": 83426730,
            "_view_count": null,
            "_view_module_version": "1.5.0",
            "orientation": "horizontal",
            "min": 0,
            "description_tooltip": null,
            "_model_module": "@jupyter-widgets/controls",
            "layout": "IPY_MODEL_07b4bbc27bab42a0aac06a00674fc311"
          }
        },
        "605944622958498592723dc6c4209125": {
          "model_module": "@jupyter-widgets/controls",
          "model_name": "HTMLModel",
          "state": {
            "_view_name": "HTMLView",
            "style": "IPY_MODEL_f322be45069a4577a6631a34ff0cdaea",
            "_dom_classes": [],
            "description": "",
            "_model_name": "HTMLModel",
            "placeholder": "​",
            "_view_module": "@jupyter-widgets/controls",
            "_model_module_version": "1.5.0",
            "value": " 83.4M/83.4M [00:11&lt;00:00, 7.56MB/s]",
            "_view_count": null,
            "_view_module_version": "1.5.0",
            "description_tooltip": null,
            "_model_module": "@jupyter-widgets/controls",
            "layout": "IPY_MODEL_72ccd792a52242259955b2f30a7e1759"
          }
        },
        "abe1bfcfd817429b81834c49c0d52a2e": {
          "model_module": "@jupyter-widgets/controls",
          "model_name": "ProgressStyleModel",
          "state": {
            "_view_name": "StyleView",
            "_model_name": "ProgressStyleModel",
            "description_width": "initial",
            "_view_module": "@jupyter-widgets/base",
            "_model_module_version": "1.5.0",
            "_view_count": null,
            "_view_module_version": "1.2.0",
            "bar_color": null,
            "_model_module": "@jupyter-widgets/controls"
          }
        },
        "07b4bbc27bab42a0aac06a00674fc311": {
          "model_module": "@jupyter-widgets/base",
          "model_name": "LayoutModel",
          "state": {
            "_view_name": "LayoutView",
            "grid_template_rows": null,
            "right": null,
            "justify_content": null,
            "_view_module": "@jupyter-widgets/base",
            "overflow": null,
            "_model_module_version": "1.2.0",
            "_view_count": null,
            "flex_flow": null,
            "width": null,
            "min_width": null,
            "border": null,
            "align_items": null,
            "bottom": null,
            "_model_module": "@jupyter-widgets/base",
            "top": null,
            "grid_column": null,
            "overflow_y": null,
            "overflow_x": null,
            "grid_auto_flow": null,
            "grid_area": null,
            "grid_template_columns": null,
            "flex": null,
            "_model_name": "LayoutModel",
            "justify_items": null,
            "grid_row": null,
            "max_height": null,
            "align_content": null,
            "visibility": null,
            "align_self": null,
            "height": null,
            "min_height": null,
            "padding": null,
            "grid_auto_rows": null,
            "grid_gap": null,
            "max_width": null,
            "order": null,
            "_view_module_version": "1.2.0",
            "grid_template_areas": null,
            "object_position": null,
            "object_fit": null,
            "grid_auto_columns": null,
            "margin": null,
            "display": null,
            "left": null
          }
        },
        "f322be45069a4577a6631a34ff0cdaea": {
          "model_module": "@jupyter-widgets/controls",
          "model_name": "DescriptionStyleModel",
          "state": {
            "_view_name": "StyleView",
            "_model_name": "DescriptionStyleModel",
            "description_width": "",
            "_view_module": "@jupyter-widgets/base",
            "_model_module_version": "1.5.0",
            "_view_count": null,
            "_view_module_version": "1.2.0",
            "_model_module": "@jupyter-widgets/controls"
          }
        },
        "72ccd792a52242259955b2f30a7e1759": {
          "model_module": "@jupyter-widgets/base",
          "model_name": "LayoutModel",
          "state": {
            "_view_name": "LayoutView",
            "grid_template_rows": null,
            "right": null,
            "justify_content": null,
            "_view_module": "@jupyter-widgets/base",
            "overflow": null,
            "_model_module_version": "1.2.0",
            "_view_count": null,
            "flex_flow": null,
            "width": null,
            "min_width": null,
            "border": null,
            "align_items": null,
            "bottom": null,
            "_model_module": "@jupyter-widgets/base",
            "top": null,
            "grid_column": null,
            "overflow_y": null,
            "overflow_x": null,
            "grid_auto_flow": null,
            "grid_area": null,
            "grid_template_columns": null,
            "flex": null,
            "_model_name": "LayoutModel",
            "justify_items": null,
            "grid_row": null,
            "max_height": null,
            "align_content": null,
            "visibility": null,
            "align_self": null,
            "height": null,
            "min_height": null,
            "padding": null,
            "grid_auto_rows": null,
            "grid_gap": null,
            "max_width": null,
            "order": null,
            "_view_module_version": "1.2.0",
            "grid_template_areas": null,
            "object_position": null,
            "object_fit": null,
            "grid_auto_columns": null,
            "margin": null,
            "display": null,
            "left": null
          }
        },
        "369d7ccf15894164838ce1cb66d28a13": {
          "model_module": "@jupyter-widgets/controls",
          "model_name": "HBoxModel",
          "state": {
            "_view_name": "HBoxView",
            "_dom_classes": [],
            "_model_name": "HBoxModel",
            "_view_module": "@jupyter-widgets/controls",
            "_model_module_version": "1.5.0",
            "_view_count": null,
            "_view_module_version": "1.5.0",
            "box_style": "",
            "layout": "IPY_MODEL_187dbb9e650046feabf72a36065fc902",
            "_model_module": "@jupyter-widgets/controls",
            "children": [
              "IPY_MODEL_bd455e07a6314672b03a683931c2529a",
              "IPY_MODEL_f3ab424590774854ba7d66fbdcfe3793"
            ]
          }
        },
        "187dbb9e650046feabf72a36065fc902": {
          "model_module": "@jupyter-widgets/base",
          "model_name": "LayoutModel",
          "state": {
            "_view_name": "LayoutView",
            "grid_template_rows": null,
            "right": null,
            "justify_content": null,
            "_view_module": "@jupyter-widgets/base",
            "overflow": null,
            "_model_module_version": "1.2.0",
            "_view_count": null,
            "flex_flow": null,
            "width": null,
            "min_width": null,
            "border": null,
            "align_items": null,
            "bottom": null,
            "_model_module": "@jupyter-widgets/base",
            "top": null,
            "grid_column": null,
            "overflow_y": null,
            "overflow_x": null,
            "grid_auto_flow": null,
            "grid_area": null,
            "grid_template_columns": null,
            "flex": null,
            "_model_name": "LayoutModel",
            "justify_items": null,
            "grid_row": null,
            "max_height": null,
            "align_content": null,
            "visibility": null,
            "align_self": null,
            "height": null,
            "min_height": null,
            "padding": null,
            "grid_auto_rows": null,
            "grid_gap": null,
            "max_width": null,
            "order": null,
            "_view_module_version": "1.2.0",
            "grid_template_areas": null,
            "object_position": null,
            "object_fit": null,
            "grid_auto_columns": null,
            "margin": null,
            "display": null,
            "left": null
          }
        },
        "bd455e07a6314672b03a683931c2529a": {
          "model_module": "@jupyter-widgets/controls",
          "model_name": "FloatProgressModel",
          "state": {
            "_view_name": "ProgressView",
            "style": "IPY_MODEL_d22c92aafae64b948125b1ebe7d1d59e",
            "_dom_classes": [],
            "description": "Batches: 100%",
            "_model_name": "FloatProgressModel",
            "bar_style": "success",
            "max": 139,
            "_view_module": "@jupyter-widgets/controls",
            "_model_module_version": "1.5.0",
            "value": 139,
            "_view_count": null,
            "_view_module_version": "1.5.0",
            "orientation": "horizontal",
            "min": 0,
            "description_tooltip": null,
            "_model_module": "@jupyter-widgets/controls",
            "layout": "IPY_MODEL_6afc31aee80b4ccda1833f009bcd94ed"
          }
        },
        "f3ab424590774854ba7d66fbdcfe3793": {
          "model_module": "@jupyter-widgets/controls",
          "model_name": "HTMLModel",
          "state": {
            "_view_name": "HTMLView",
            "style": "IPY_MODEL_d0ff7df3ac614d76983efb441d1cc03c",
            "_dom_classes": [],
            "description": "",
            "_model_name": "HTMLModel",
            "placeholder": "​",
            "_view_module": "@jupyter-widgets/controls",
            "_model_module_version": "1.5.0",
            "value": " 139/139 [04:17&lt;00:00,  1.86s/it]",
            "_view_count": null,
            "_view_module_version": "1.5.0",
            "description_tooltip": null,
            "_model_module": "@jupyter-widgets/controls",
            "layout": "IPY_MODEL_7bac7ba2e1cd49d4a3acc7c02d3f21b5"
          }
        },
        "d22c92aafae64b948125b1ebe7d1d59e": {
          "model_module": "@jupyter-widgets/controls",
          "model_name": "ProgressStyleModel",
          "state": {
            "_view_name": "StyleView",
            "_model_name": "ProgressStyleModel",
            "description_width": "initial",
            "_view_module": "@jupyter-widgets/base",
            "_model_module_version": "1.5.0",
            "_view_count": null,
            "_view_module_version": "1.2.0",
            "bar_color": null,
            "_model_module": "@jupyter-widgets/controls"
          }
        },
        "6afc31aee80b4ccda1833f009bcd94ed": {
          "model_module": "@jupyter-widgets/base",
          "model_name": "LayoutModel",
          "state": {
            "_view_name": "LayoutView",
            "grid_template_rows": null,
            "right": null,
            "justify_content": null,
            "_view_module": "@jupyter-widgets/base",
            "overflow": null,
            "_model_module_version": "1.2.0",
            "_view_count": null,
            "flex_flow": null,
            "width": null,
            "min_width": null,
            "border": null,
            "align_items": null,
            "bottom": null,
            "_model_module": "@jupyter-widgets/base",
            "top": null,
            "grid_column": null,
            "overflow_y": null,
            "overflow_x": null,
            "grid_auto_flow": null,
            "grid_area": null,
            "grid_template_columns": null,
            "flex": null,
            "_model_name": "LayoutModel",
            "justify_items": null,
            "grid_row": null,
            "max_height": null,
            "align_content": null,
            "visibility": null,
            "align_self": null,
            "height": null,
            "min_height": null,
            "padding": null,
            "grid_auto_rows": null,
            "grid_gap": null,
            "max_width": null,
            "order": null,
            "_view_module_version": "1.2.0",
            "grid_template_areas": null,
            "object_position": null,
            "object_fit": null,
            "grid_auto_columns": null,
            "margin": null,
            "display": null,
            "left": null
          }
        },
        "d0ff7df3ac614d76983efb441d1cc03c": {
          "model_module": "@jupyter-widgets/controls",
          "model_name": "DescriptionStyleModel",
          "state": {
            "_view_name": "StyleView",
            "_model_name": "DescriptionStyleModel",
            "description_width": "",
            "_view_module": "@jupyter-widgets/base",
            "_model_module_version": "1.5.0",
            "_view_count": null,
            "_view_module_version": "1.2.0",
            "_model_module": "@jupyter-widgets/controls"
          }
        },
        "7bac7ba2e1cd49d4a3acc7c02d3f21b5": {
          "model_module": "@jupyter-widgets/base",
          "model_name": "LayoutModel",
          "state": {
            "_view_name": "LayoutView",
            "grid_template_rows": null,
            "right": null,
            "justify_content": null,
            "_view_module": "@jupyter-widgets/base",
            "overflow": null,
            "_model_module_version": "1.2.0",
            "_view_count": null,
            "flex_flow": null,
            "width": null,
            "min_width": null,
            "border": null,
            "align_items": null,
            "bottom": null,
            "_model_module": "@jupyter-widgets/base",
            "top": null,
            "grid_column": null,
            "overflow_y": null,
            "overflow_x": null,
            "grid_auto_flow": null,
            "grid_area": null,
            "grid_template_columns": null,
            "flex": null,
            "_model_name": "LayoutModel",
            "justify_items": null,
            "grid_row": null,
            "max_height": null,
            "align_content": null,
            "visibility": null,
            "align_self": null,
            "height": null,
            "min_height": null,
            "padding": null,
            "grid_auto_rows": null,
            "grid_gap": null,
            "max_width": null,
            "order": null,
            "_view_module_version": "1.2.0",
            "grid_template_areas": null,
            "object_position": null,
            "object_fit": null,
            "grid_auto_columns": null,
            "margin": null,
            "display": null,
            "left": null
          }
        }
      }
    }
  },
  "cells": [
    {
      "cell_type": "markdown",
      "metadata": {
        "id": "view-in-github",
        "colab_type": "text"
      },
      "source": [
        "<a href=\"https://colab.research.google.com/github/akshithamaddi/SIGIR/blob/main/BERTopicmodeling.ipynb\" target=\"_parent\"><img src=\"https://colab.research.google.com/assets/colab-badge.svg\" alt=\"Open In Colab\"/></a>"
      ]
    },
    {
      "cell_type": "code",
      "metadata": {
        "id": "nuLZeY0fhQCL"
      },
      "source": [
        "import pandas as pd\n",
        "df = pd.read_csv(\"clean_abstract (1).csv\",encoding=\"ISO-8859-1\")\n",
        "header = [\"clean_abstract\"]\n",
        "df.to_csv('output.csv', columns = header)"
      ],
      "execution_count": null,
      "outputs": []
    },
    {
      "cell_type": "code",
      "metadata": {
        "colab": {
          "base_uri": "https://localhost:8080/"
        },
        "id": "s6dNTVhge9zZ",
        "outputId": "6ca18c22-054b-4182-aae5-3400d3b40f05"
      },
      "source": [
        "import nltk;\n",
        "nltk.download('stopwords')"
      ],
      "execution_count": null,
      "outputs": [
        {
          "output_type": "stream",
          "text": [
            "[nltk_data] Downloading package stopwords to /root/nltk_data...\n",
            "[nltk_data]   Unzipping corpora/stopwords.zip.\n"
          ],
          "name": "stdout"
        },
        {
          "output_type": "execute_result",
          "data": {
            "text/plain": [
              "True"
            ]
          },
          "metadata": {
            "tags": []
          },
          "execution_count": 2
        }
      ]
    },
    {
      "cell_type": "code",
      "metadata": {
        "colab": {
          "base_uri": "https://localhost:8080/",
          "height": 1000
        },
        "id": "g50D-mXOidyL",
        "outputId": "6229097f-9964-4f9d-de34-79c8eaf1742b"
      },
      "source": [
        "pip install bertopic"
      ],
      "execution_count": null,
      "outputs": [
        {
          "output_type": "stream",
          "text": [
            "Collecting bertopic\n",
            "  Downloading bertopic-0.8.1-py2.py3-none-any.whl (53 kB)\n",
            "\u001b[?25l\r\u001b[K     |██████                          | 10 kB 26.5 MB/s eta 0:00:01\r\u001b[K     |████████████▏                   | 20 kB 31.1 MB/s eta 0:00:01\r\u001b[K     |██████████████████▎             | 30 kB 27.7 MB/s eta 0:00:01\r\u001b[K     |████████████████████████▍       | 40 kB 19.5 MB/s eta 0:00:01\r\u001b[K     |██████████████████████████████▌ | 51 kB 9.0 MB/s eta 0:00:01\r\u001b[K     |████████████████████████████████| 53 kB 1.9 MB/s \n",
            "\u001b[?25hRequirement already satisfied: scikit-learn>=0.22.2.post1 in /usr/local/lib/python3.7/dist-packages (from bertopic) (0.22.2.post1)\n",
            "Collecting sentence-transformers>=0.4.1\n",
            "  Downloading sentence-transformers-2.0.0.tar.gz (85 kB)\n",
            "\u001b[K     |████████████████████████████████| 85 kB 3.4 MB/s \n",
            "\u001b[?25hCollecting numpy>=1.20.0\n",
            "  Downloading numpy-1.21.1-cp37-cp37m-manylinux_2_12_x86_64.manylinux2010_x86_64.whl (15.7 MB)\n",
            "\u001b[K     |████████████████████████████████| 15.7 MB 73 kB/s \n",
            "\u001b[?25hRequirement already satisfied: tqdm>=4.41.1 in /usr/local/lib/python3.7/dist-packages (from bertopic) (4.41.1)\n",
            "Requirement already satisfied: pandas>=1.1.5 in /usr/local/lib/python3.7/dist-packages (from bertopic) (1.1.5)\n",
            "Collecting plotly<4.14.3,>=4.7.0\n",
            "  Downloading plotly-4.14.2-py2.py3-none-any.whl (13.2 MB)\n",
            "\u001b[K     |████████████████████████████████| 13.2 MB 145 kB/s \n",
            "\u001b[?25hCollecting umap-learn>=0.5.0\n",
            "  Downloading umap-learn-0.5.1.tar.gz (80 kB)\n",
            "\u001b[K     |████████████████████████████████| 80 kB 9.6 MB/s \n",
            "\u001b[?25hCollecting hdbscan>=0.8.27\n",
            "  Downloading hdbscan-0.8.27.tar.gz (6.4 MB)\n",
            "\u001b[K     |████████████████████████████████| 6.4 MB 23.3 MB/s \n",
            "\u001b[?25h  Installing build dependencies ... \u001b[?25l\u001b[?25hdone\n",
            "  Getting requirements to build wheel ... \u001b[?25l\u001b[?25hdone\n",
            "    Preparing wheel metadata ... \u001b[?25l\u001b[?25hdone\n",
            "Requirement already satisfied: scipy>=1.0 in /usr/local/lib/python3.7/dist-packages (from hdbscan>=0.8.27->bertopic) (1.4.1)\n",
            "Requirement already satisfied: joblib>=1.0 in /usr/local/lib/python3.7/dist-packages (from hdbscan>=0.8.27->bertopic) (1.0.1)\n",
            "Requirement already satisfied: six in /usr/local/lib/python3.7/dist-packages (from hdbscan>=0.8.27->bertopic) (1.15.0)\n",
            "Requirement already satisfied: cython>=0.27 in /usr/local/lib/python3.7/dist-packages (from hdbscan>=0.8.27->bertopic) (0.29.23)\n",
            "Requirement already satisfied: python-dateutil>=2.7.3 in /usr/local/lib/python3.7/dist-packages (from pandas>=1.1.5->bertopic) (2.8.1)\n",
            "Requirement already satisfied: pytz>=2017.2 in /usr/local/lib/python3.7/dist-packages (from pandas>=1.1.5->bertopic) (2018.9)\n",
            "Requirement already satisfied: retrying>=1.3.3 in /usr/local/lib/python3.7/dist-packages (from plotly<4.14.3,>=4.7.0->bertopic) (1.3.3)\n",
            "Collecting transformers<5.0.0,>=4.6.0\n",
            "  Downloading transformers-4.9.0-py3-none-any.whl (2.6 MB)\n",
            "\u001b[K     |████████████████████████████████| 2.6 MB 35.5 MB/s \n",
            "\u001b[?25hRequirement already satisfied: torch>=1.6.0 in /usr/local/lib/python3.7/dist-packages (from sentence-transformers>=0.4.1->bertopic) (1.9.0+cu102)\n",
            "Requirement already satisfied: torchvision in /usr/local/lib/python3.7/dist-packages (from sentence-transformers>=0.4.1->bertopic) (0.10.0+cu102)\n",
            "Requirement already satisfied: nltk in /usr/local/lib/python3.7/dist-packages (from sentence-transformers>=0.4.1->bertopic) (3.2.5)\n",
            "Collecting sentencepiece\n",
            "  Downloading sentencepiece-0.1.96-cp37-cp37m-manylinux_2_17_x86_64.manylinux2014_x86_64.whl (1.2 MB)\n",
            "\u001b[K     |████████████████████████████████| 1.2 MB 37.0 MB/s \n",
            "\u001b[?25hCollecting huggingface-hub\n",
            "  Downloading huggingface_hub-0.0.14-py3-none-any.whl (43 kB)\n",
            "\u001b[K     |████████████████████████████████| 43 kB 1.5 MB/s \n",
            "\u001b[?25hRequirement already satisfied: typing-extensions in /usr/local/lib/python3.7/dist-packages (from torch>=1.6.0->sentence-transformers>=0.4.1->bertopic) (3.7.4.3)\n",
            "Requirement already satisfied: importlib-metadata in /usr/local/lib/python3.7/dist-packages (from transformers<5.0.0,>=4.6.0->sentence-transformers>=0.4.1->bertopic) (4.6.1)\n",
            "Requirement already satisfied: filelock in /usr/local/lib/python3.7/dist-packages (from transformers<5.0.0,>=4.6.0->sentence-transformers>=0.4.1->bertopic) (3.0.12)\n",
            "Requirement already satisfied: regex!=2019.12.17 in /usr/local/lib/python3.7/dist-packages (from transformers<5.0.0,>=4.6.0->sentence-transformers>=0.4.1->bertopic) (2019.12.20)\n",
            "Requirement already satisfied: requests in /usr/local/lib/python3.7/dist-packages (from transformers<5.0.0,>=4.6.0->sentence-transformers>=0.4.1->bertopic) (2.23.0)\n",
            "Collecting pyyaml>=5.1\n",
            "  Downloading PyYAML-5.4.1-cp37-cp37m-manylinux1_x86_64.whl (636 kB)\n",
            "\u001b[K     |████████████████████████████████| 636 kB 52.0 MB/s \n",
            "\u001b[?25hCollecting tokenizers<0.11,>=0.10.1\n",
            "  Downloading tokenizers-0.10.3-cp37-cp37m-manylinux_2_5_x86_64.manylinux1_x86_64.manylinux_2_12_x86_64.manylinux2010_x86_64.whl (3.3 MB)\n",
            "\u001b[K     |████████████████████████████████| 3.3 MB 22.0 MB/s \n",
            "\u001b[?25hCollecting sacremoses\n",
            "  Downloading sacremoses-0.0.45-py3-none-any.whl (895 kB)\n",
            "\u001b[K     |████████████████████████████████| 895 kB 48.1 MB/s \n",
            "\u001b[?25hRequirement already satisfied: packaging in /usr/local/lib/python3.7/dist-packages (from transformers<5.0.0,>=4.6.0->sentence-transformers>=0.4.1->bertopic) (21.0)\n",
            "Collecting huggingface-hub\n",
            "  Downloading huggingface_hub-0.0.12-py3-none-any.whl (37 kB)\n",
            "Requirement already satisfied: pyparsing>=2.0.2 in /usr/local/lib/python3.7/dist-packages (from packaging->transformers<5.0.0,>=4.6.0->sentence-transformers>=0.4.1->bertopic) (2.4.7)\n",
            "Requirement already satisfied: numba>=0.49 in /usr/local/lib/python3.7/dist-packages (from umap-learn>=0.5.0->bertopic) (0.51.2)\n",
            "Collecting pynndescent>=0.5\n",
            "  Downloading pynndescent-0.5.4.tar.gz (1.1 MB)\n",
            "\u001b[K     |████████████████████████████████| 1.1 MB 48.2 MB/s \n",
            "\u001b[?25hRequirement already satisfied: setuptools in /usr/local/lib/python3.7/dist-packages (from numba>=0.49->umap-learn>=0.5.0->bertopic) (57.2.0)\n",
            "Requirement already satisfied: llvmlite<0.35,>=0.34.0.dev0 in /usr/local/lib/python3.7/dist-packages (from numba>=0.49->umap-learn>=0.5.0->bertopic) (0.34.0)\n",
            "Requirement already satisfied: zipp>=0.5 in /usr/local/lib/python3.7/dist-packages (from importlib-metadata->transformers<5.0.0,>=4.6.0->sentence-transformers>=0.4.1->bertopic) (3.5.0)\n",
            "Requirement already satisfied: urllib3!=1.25.0,!=1.25.1,<1.26,>=1.21.1 in /usr/local/lib/python3.7/dist-packages (from requests->transformers<5.0.0,>=4.6.0->sentence-transformers>=0.4.1->bertopic) (1.24.3)\n",
            "Requirement already satisfied: idna<3,>=2.5 in /usr/local/lib/python3.7/dist-packages (from requests->transformers<5.0.0,>=4.6.0->sentence-transformers>=0.4.1->bertopic) (2.10)\n",
            "Requirement already satisfied: chardet<4,>=3.0.2 in /usr/local/lib/python3.7/dist-packages (from requests->transformers<5.0.0,>=4.6.0->sentence-transformers>=0.4.1->bertopic) (3.0.4)\n",
            "Requirement already satisfied: certifi>=2017.4.17 in /usr/local/lib/python3.7/dist-packages (from requests->transformers<5.0.0,>=4.6.0->sentence-transformers>=0.4.1->bertopic) (2021.5.30)\n",
            "Requirement already satisfied: click in /usr/local/lib/python3.7/dist-packages (from sacremoses->transformers<5.0.0,>=4.6.0->sentence-transformers>=0.4.1->bertopic) (7.1.2)\n",
            "Requirement already satisfied: pillow>=5.3.0 in /usr/local/lib/python3.7/dist-packages (from torchvision->sentence-transformers>=0.4.1->bertopic) (7.1.2)\n",
            "Building wheels for collected packages: hdbscan, sentence-transformers, umap-learn, pynndescent\n",
            "  Building wheel for hdbscan (PEP 517) ... \u001b[?25l\u001b[?25hdone\n",
            "  Created wheel for hdbscan: filename=hdbscan-0.8.27-cp37-cp37m-linux_x86_64.whl size=2311877 sha256=5c7e179803761a536698183980939d128488217352ede3ab9ae4fd5c00e790bb\n",
            "  Stored in directory: /root/.cache/pip/wheels/73/5f/2f/9a259b84003b84847c259779206acecabb25ab56f1506ee72b\n",
            "  Building wheel for sentence-transformers (setup.py) ... \u001b[?25l\u001b[?25hdone\n",
            "  Created wheel for sentence-transformers: filename=sentence_transformers-2.0.0-py3-none-any.whl size=126709 sha256=56be8531a90355dcbe94e1a172045f175c49939d24a215ccb488f80ff75456f5\n",
            "  Stored in directory: /root/.cache/pip/wheels/d1/c1/0f/faafd427f705c4b012274ba60d9a91d75830306811e1355293\n",
            "  Building wheel for umap-learn (setup.py) ... \u001b[?25l\u001b[?25hdone\n",
            "  Created wheel for umap-learn: filename=umap_learn-0.5.1-py3-none-any.whl size=76566 sha256=1166e6de27d00161cc757b664c60b8dd3f6d7c51905741a381b27f9d5799b68b\n",
            "  Stored in directory: /root/.cache/pip/wheels/01/e7/bb/347dc0e510803d7116a13d592b10cc68262da56a8eec4dd72f\n",
            "  Building wheel for pynndescent (setup.py) ... \u001b[?25l\u001b[?25hdone\n",
            "  Created wheel for pynndescent: filename=pynndescent-0.5.4-py3-none-any.whl size=52372 sha256=d4d41b7ef567fc01aad74f7aea03945d1bcc3881e38c919ac9648b55424477dc\n",
            "  Stored in directory: /root/.cache/pip/wheels/d0/5b/62/3401692ddad12324249c774c4b15ccb046946021e2b581c043\n",
            "Successfully built hdbscan sentence-transformers umap-learn pynndescent\n",
            "Installing collected packages: numpy, tokenizers, sacremoses, pyyaml, huggingface-hub, transformers, sentencepiece, pynndescent, umap-learn, sentence-transformers, plotly, hdbscan, bertopic\n",
            "  Attempting uninstall: numpy\n",
            "    Found existing installation: numpy 1.19.5\n",
            "    Uninstalling numpy-1.19.5:\n",
            "      Successfully uninstalled numpy-1.19.5\n",
            "  Attempting uninstall: pyyaml\n",
            "    Found existing installation: PyYAML 3.13\n",
            "    Uninstalling PyYAML-3.13:\n",
            "      Successfully uninstalled PyYAML-3.13\n",
            "  Attempting uninstall: plotly\n",
            "    Found existing installation: plotly 4.4.1\n",
            "    Uninstalling plotly-4.4.1:\n",
            "      Successfully uninstalled plotly-4.4.1\n",
            "\u001b[31mERROR: pip's dependency resolver does not currently take into account all the packages that are installed. This behaviour is the source of the following dependency conflicts.\n",
            "tensorflow 2.5.0 requires numpy~=1.19.2, but you have numpy 1.21.1 which is incompatible.\n",
            "datascience 0.10.6 requires folium==0.2.1, but you have folium 0.8.3 which is incompatible.\n",
            "albumentations 0.1.12 requires imgaug<0.2.7,>=0.2.5, but you have imgaug 0.2.9 which is incompatible.\u001b[0m\n",
            "Successfully installed bertopic-0.8.1 hdbscan-0.8.27 huggingface-hub-0.0.12 numpy-1.21.1 plotly-4.14.2 pynndescent-0.5.4 pyyaml-5.4.1 sacremoses-0.0.45 sentence-transformers-2.0.0 sentencepiece-0.1.96 tokenizers-0.10.3 transformers-4.9.0 umap-learn-0.5.1\n"
          ],
          "name": "stdout"
        },
        {
          "output_type": "display_data",
          "data": {
            "application/vnd.colab-display-data+json": {
              "pip_warning": {
                "packages": [
                  "numpy"
                ]
              }
            }
          },
          "metadata": {
            "tags": []
          }
        }
      ]
    },
    {
      "cell_type": "code",
      "metadata": {
        "colab": {
          "base_uri": "https://localhost:8080/"
        },
        "id": "OThzk94qiu1y",
        "outputId": "e5b95143-e281-42a6-fa0f-307d8629c6ed"
      },
      "source": [
        "pip install bertopic[visualization]"
      ],
      "execution_count": null,
      "outputs": [
        {
          "output_type": "stream",
          "text": [
            "Requirement already satisfied: bertopic[visualization] in /usr/local/lib/python3.7/dist-packages (0.8.1)\n",
            "\u001b[33mWARNING: bertopic 0.8.1 does not provide the extra 'visualization'\u001b[0m\n",
            "Requirement already satisfied: sentence-transformers>=0.4.1 in /usr/local/lib/python3.7/dist-packages (from bertopic[visualization]) (2.0.0)\n",
            "Requirement already satisfied: numpy>=1.20.0 in /usr/local/lib/python3.7/dist-packages (from bertopic[visualization]) (1.21.1)\n",
            "Requirement already satisfied: plotly<4.14.3,>=4.7.0 in /usr/local/lib/python3.7/dist-packages (from bertopic[visualization]) (4.14.2)\n",
            "Requirement already satisfied: scikit-learn>=0.22.2.post1 in /usr/local/lib/python3.7/dist-packages (from bertopic[visualization]) (0.22.2.post1)\n",
            "Requirement already satisfied: pandas>=1.1.5 in /usr/local/lib/python3.7/dist-packages (from bertopic[visualization]) (1.1.5)\n",
            "Requirement already satisfied: hdbscan>=0.8.27 in /usr/local/lib/python3.7/dist-packages (from bertopic[visualization]) (0.8.27)\n",
            "Requirement already satisfied: tqdm>=4.41.1 in /usr/local/lib/python3.7/dist-packages (from bertopic[visualization]) (4.41.1)\n",
            "Requirement already satisfied: umap-learn>=0.5.0 in /usr/local/lib/python3.7/dist-packages (from bertopic[visualization]) (0.5.1)\n",
            "Requirement already satisfied: six in /usr/local/lib/python3.7/dist-packages (from hdbscan>=0.8.27->bertopic[visualization]) (1.15.0)\n",
            "Requirement already satisfied: scipy>=1.0 in /usr/local/lib/python3.7/dist-packages (from hdbscan>=0.8.27->bertopic[visualization]) (1.4.1)\n",
            "Requirement already satisfied: cython>=0.27 in /usr/local/lib/python3.7/dist-packages (from hdbscan>=0.8.27->bertopic[visualization]) (0.29.23)\n",
            "Requirement already satisfied: joblib>=1.0 in /usr/local/lib/python3.7/dist-packages (from hdbscan>=0.8.27->bertopic[visualization]) (1.0.1)\n",
            "Requirement already satisfied: python-dateutil>=2.7.3 in /usr/local/lib/python3.7/dist-packages (from pandas>=1.1.5->bertopic[visualization]) (2.8.1)\n",
            "Requirement already satisfied: pytz>=2017.2 in /usr/local/lib/python3.7/dist-packages (from pandas>=1.1.5->bertopic[visualization]) (2018.9)\n",
            "Requirement already satisfied: retrying>=1.3.3 in /usr/local/lib/python3.7/dist-packages (from plotly<4.14.3,>=4.7.0->bertopic[visualization]) (1.3.3)\n",
            "Requirement already satisfied: nltk in /usr/local/lib/python3.7/dist-packages (from sentence-transformers>=0.4.1->bertopic[visualization]) (3.2.5)\n",
            "Requirement already satisfied: transformers<5.0.0,>=4.6.0 in /usr/local/lib/python3.7/dist-packages (from sentence-transformers>=0.4.1->bertopic[visualization]) (4.9.0)\n",
            "Requirement already satisfied: torchvision in /usr/local/lib/python3.7/dist-packages (from sentence-transformers>=0.4.1->bertopic[visualization]) (0.10.0+cu102)\n",
            "Requirement already satisfied: huggingface-hub in /usr/local/lib/python3.7/dist-packages (from sentence-transformers>=0.4.1->bertopic[visualization]) (0.0.12)\n",
            "Requirement already satisfied: sentencepiece in /usr/local/lib/python3.7/dist-packages (from sentence-transformers>=0.4.1->bertopic[visualization]) (0.1.96)\n",
            "Requirement already satisfied: torch>=1.6.0 in /usr/local/lib/python3.7/dist-packages (from sentence-transformers>=0.4.1->bertopic[visualization]) (1.9.0+cu102)\n",
            "Requirement already satisfied: typing-extensions in /usr/local/lib/python3.7/dist-packages (from torch>=1.6.0->sentence-transformers>=0.4.1->bertopic[visualization]) (3.7.4.3)\n",
            "Requirement already satisfied: filelock in /usr/local/lib/python3.7/dist-packages (from transformers<5.0.0,>=4.6.0->sentence-transformers>=0.4.1->bertopic[visualization]) (3.0.12)\n",
            "Requirement already satisfied: regex!=2019.12.17 in /usr/local/lib/python3.7/dist-packages (from transformers<5.0.0,>=4.6.0->sentence-transformers>=0.4.1->bertopic[visualization]) (2019.12.20)\n",
            "Requirement already satisfied: tokenizers<0.11,>=0.10.1 in /usr/local/lib/python3.7/dist-packages (from transformers<5.0.0,>=4.6.0->sentence-transformers>=0.4.1->bertopic[visualization]) (0.10.3)\n",
            "Requirement already satisfied: sacremoses in /usr/local/lib/python3.7/dist-packages (from transformers<5.0.0,>=4.6.0->sentence-transformers>=0.4.1->bertopic[visualization]) (0.0.45)\n",
            "Requirement already satisfied: pyyaml>=5.1 in /usr/local/lib/python3.7/dist-packages (from transformers<5.0.0,>=4.6.0->sentence-transformers>=0.4.1->bertopic[visualization]) (5.4.1)\n",
            "Requirement already satisfied: packaging in /usr/local/lib/python3.7/dist-packages (from transformers<5.0.0,>=4.6.0->sentence-transformers>=0.4.1->bertopic[visualization]) (21.0)\n",
            "Requirement already satisfied: requests in /usr/local/lib/python3.7/dist-packages (from transformers<5.0.0,>=4.6.0->sentence-transformers>=0.4.1->bertopic[visualization]) (2.23.0)\n",
            "Requirement already satisfied: importlib-metadata in /usr/local/lib/python3.7/dist-packages (from transformers<5.0.0,>=4.6.0->sentence-transformers>=0.4.1->bertopic[visualization]) (4.6.1)\n",
            "Requirement already satisfied: pyparsing>=2.0.2 in /usr/local/lib/python3.7/dist-packages (from packaging->transformers<5.0.0,>=4.6.0->sentence-transformers>=0.4.1->bertopic[visualization]) (2.4.7)\n",
            "Requirement already satisfied: numba>=0.49 in /usr/local/lib/python3.7/dist-packages (from umap-learn>=0.5.0->bertopic[visualization]) (0.51.2)\n",
            "Requirement already satisfied: pynndescent>=0.5 in /usr/local/lib/python3.7/dist-packages (from umap-learn>=0.5.0->bertopic[visualization]) (0.5.4)\n",
            "Requirement already satisfied: llvmlite<0.35,>=0.34.0.dev0 in /usr/local/lib/python3.7/dist-packages (from numba>=0.49->umap-learn>=0.5.0->bertopic[visualization]) (0.34.0)\n",
            "Requirement already satisfied: setuptools in /usr/local/lib/python3.7/dist-packages (from numba>=0.49->umap-learn>=0.5.0->bertopic[visualization]) (57.2.0)\n",
            "Requirement already satisfied: zipp>=0.5 in /usr/local/lib/python3.7/dist-packages (from importlib-metadata->transformers<5.0.0,>=4.6.0->sentence-transformers>=0.4.1->bertopic[visualization]) (3.5.0)\n",
            "Requirement already satisfied: certifi>=2017.4.17 in /usr/local/lib/python3.7/dist-packages (from requests->transformers<5.0.0,>=4.6.0->sentence-transformers>=0.4.1->bertopic[visualization]) (2021.5.30)\n",
            "Requirement already satisfied: urllib3!=1.25.0,!=1.25.1,<1.26,>=1.21.1 in /usr/local/lib/python3.7/dist-packages (from requests->transformers<5.0.0,>=4.6.0->sentence-transformers>=0.4.1->bertopic[visualization]) (1.24.3)\n",
            "Requirement already satisfied: chardet<4,>=3.0.2 in /usr/local/lib/python3.7/dist-packages (from requests->transformers<5.0.0,>=4.6.0->sentence-transformers>=0.4.1->bertopic[visualization]) (3.0.4)\n",
            "Requirement already satisfied: idna<3,>=2.5 in /usr/local/lib/python3.7/dist-packages (from requests->transformers<5.0.0,>=4.6.0->sentence-transformers>=0.4.1->bertopic[visualization]) (2.10)\n",
            "Requirement already satisfied: click in /usr/local/lib/python3.7/dist-packages (from sacremoses->transformers<5.0.0,>=4.6.0->sentence-transformers>=0.4.1->bertopic[visualization]) (7.1.2)\n",
            "Requirement already satisfied: pillow>=5.3.0 in /usr/local/lib/python3.7/dist-packages (from torchvision->sentence-transformers>=0.4.1->bertopic[visualization]) (7.1.2)\n"
          ],
          "name": "stdout"
        }
      ]
    },
    {
      "cell_type": "code",
      "metadata": {
        "colab": {
          "base_uri": "https://localhost:8080/"
        },
        "id": "RSs0Ujh3i1aZ",
        "outputId": "6154c3b5-8a4f-42e0-9460-a516c2a44cea"
      },
      "source": [
        "pip install bertopic[flair]"
      ],
      "execution_count": null,
      "outputs": [
        {
          "output_type": "stream",
          "text": [
            "Requirement already satisfied: bertopic[flair] in /usr/local/lib/python3.7/dist-packages (0.8.1)\n",
            "Requirement already satisfied: numpy>=1.20.0 in /usr/local/lib/python3.7/dist-packages (from bertopic[flair]) (1.21.1)\n",
            "Requirement already satisfied: pandas>=1.1.5 in /usr/local/lib/python3.7/dist-packages (from bertopic[flair]) (1.1.5)\n",
            "Requirement already satisfied: scikit-learn>=0.22.2.post1 in /usr/local/lib/python3.7/dist-packages (from bertopic[flair]) (0.22.2.post1)\n",
            "Requirement already satisfied: hdbscan>=0.8.27 in /usr/local/lib/python3.7/dist-packages (from bertopic[flair]) (0.8.27)\n",
            "Requirement already satisfied: umap-learn>=0.5.0 in /usr/local/lib/python3.7/dist-packages (from bertopic[flair]) (0.5.1)\n",
            "Requirement already satisfied: sentence-transformers>=0.4.1 in /usr/local/lib/python3.7/dist-packages (from bertopic[flair]) (2.0.0)\n",
            "Requirement already satisfied: plotly<4.14.3,>=4.7.0 in /usr/local/lib/python3.7/dist-packages (from bertopic[flair]) (4.14.2)\n",
            "Requirement already satisfied: tqdm>=4.41.1 in /usr/local/lib/python3.7/dist-packages (from bertopic[flair]) (4.41.1)\n",
            "Collecting flair==0.7\n",
            "  Downloading flair-0.7-py3-none-any.whl (448 kB)\n",
            "\u001b[K     |████████████████████████████████| 448 kB 9.4 MB/s \n",
            "\u001b[?25hCollecting torch<1.7.1,>=1.4.0\n",
            "  Downloading torch-1.7.0-cp37-cp37m-manylinux1_x86_64.whl (776.7 MB)\n",
            "\u001b[K     |████████████████████████████████| 776.7 MB 3.5 kB/s \n",
            "\u001b[?25hCollecting transformers==3.5.1\n",
            "  Downloading transformers-3.5.1-py3-none-any.whl (1.3 MB)\n",
            "\u001b[K     |████████████████████████████████| 1.3 MB 41.0 MB/s \n",
            "\u001b[?25hRequirement already satisfied: matplotlib>=2.2.3 in /usr/local/lib/python3.7/dist-packages (from flair==0.7->bertopic[flair]) (3.2.2)\n",
            "Requirement already satisfied: tabulate in /usr/local/lib/python3.7/dist-packages (from flair==0.7->bertopic[flair]) (0.8.9)\n",
            "Collecting deprecated>=1.2.4\n",
            "  Downloading Deprecated-1.2.12-py2.py3-none-any.whl (9.5 kB)\n",
            "Requirement already satisfied: gensim<=3.8.3,>=3.4.0 in /usr/local/lib/python3.7/dist-packages (from flair==0.7->bertopic[flair]) (3.6.0)\n",
            "Collecting langdetect\n",
            "  Downloading langdetect-1.0.9.tar.gz (981 kB)\n",
            "\u001b[K     |████████████████████████████████| 981 kB 20.7 MB/s \n",
            "\u001b[?25hRequirement already satisfied: gdown in /usr/local/lib/python3.7/dist-packages (from flair==0.7->bertopic[flair]) (3.6.4)\n",
            "Collecting bpemb>=0.3.2\n",
            "  Downloading bpemb-0.3.3-py3-none-any.whl (19 kB)\n",
            "Requirement already satisfied: lxml in /usr/local/lib/python3.7/dist-packages (from flair==0.7->bertopic[flair]) (4.2.6)\n",
            "Requirement already satisfied: regex in /usr/local/lib/python3.7/dist-packages (from flair==0.7->bertopic[flair]) (2019.12.20)\n",
            "Requirement already satisfied: python-dateutil>=2.6.1 in /usr/local/lib/python3.7/dist-packages (from flair==0.7->bertopic[flair]) (2.8.1)\n",
            "Collecting ftfy\n",
            "  Downloading ftfy-6.0.3.tar.gz (64 kB)\n",
            "\u001b[K     |████████████████████████████████| 64 kB 2.1 MB/s \n",
            "\u001b[?25hCollecting mpld3==0.3\n",
            "  Downloading mpld3-0.3.tar.gz (788 kB)\n",
            "\u001b[K     |████████████████████████████████| 788 kB 44.4 MB/s \n",
            "\u001b[?25hCollecting segtok>=1.5.7\n",
            "  Downloading segtok-1.5.10.tar.gz (25 kB)\n",
            "Collecting sqlitedict>=1.6.0\n",
            "  Downloading sqlitedict-1.7.0.tar.gz (28 kB)\n",
            "Collecting konoha<5.0.0,>=4.0.0\n",
            "  Downloading konoha-4.6.5-py3-none-any.whl (20 kB)\n",
            "Requirement already satisfied: hyperopt>=0.1.1 in /usr/local/lib/python3.7/dist-packages (from flair==0.7->bertopic[flair]) (0.1.2)\n",
            "Collecting sentencepiece<=0.1.91\n",
            "  Downloading sentencepiece-0.1.91-cp37-cp37m-manylinux1_x86_64.whl (1.1 MB)\n",
            "\u001b[K     |████████████████████████████████| 1.1 MB 46.2 MB/s \n",
            "\u001b[?25hCollecting janome\n",
            "  Downloading Janome-0.4.1-py2.py3-none-any.whl (19.7 MB)\n",
            "\u001b[K     |████████████████████████████████| 19.7 MB 39 kB/s \n",
            "\u001b[?25hRequirement already satisfied: filelock in /usr/local/lib/python3.7/dist-packages (from transformers==3.5.1->bertopic[flair]) (3.0.12)\n",
            "Requirement already satisfied: packaging in /usr/local/lib/python3.7/dist-packages (from transformers==3.5.1->bertopic[flair]) (21.0)\n",
            "Requirement already satisfied: requests in /usr/local/lib/python3.7/dist-packages (from transformers==3.5.1->bertopic[flair]) (2.23.0)\n",
            "Requirement already satisfied: protobuf in /usr/local/lib/python3.7/dist-packages (from transformers==3.5.1->bertopic[flair]) (3.17.3)\n",
            "Requirement already satisfied: sacremoses in /usr/local/lib/python3.7/dist-packages (from transformers==3.5.1->bertopic[flair]) (0.0.45)\n",
            "Collecting tokenizers==0.9.3\n",
            "  Downloading tokenizers-0.9.3-cp37-cp37m-manylinux1_x86_64.whl (2.9 MB)\n",
            "\u001b[K     |████████████████████████████████| 2.9 MB 15.1 MB/s \n",
            "\u001b[?25hRequirement already satisfied: wrapt<2,>=1.10 in /usr/local/lib/python3.7/dist-packages (from deprecated>=1.2.4->flair==0.7->bertopic[flair]) (1.12.1)\n",
            "Requirement already satisfied: six>=1.5.0 in /usr/local/lib/python3.7/dist-packages (from gensim<=3.8.3,>=3.4.0->flair==0.7->bertopic[flair]) (1.15.0)\n",
            "Requirement already satisfied: scipy>=0.18.1 in /usr/local/lib/python3.7/dist-packages (from gensim<=3.8.3,>=3.4.0->flair==0.7->bertopic[flair]) (1.4.1)\n",
            "Requirement already satisfied: smart-open>=1.2.1 in /usr/local/lib/python3.7/dist-packages (from gensim<=3.8.3,>=3.4.0->flair==0.7->bertopic[flair]) (5.1.0)\n",
            "Requirement already satisfied: cython>=0.27 in /usr/local/lib/python3.7/dist-packages (from hdbscan>=0.8.27->bertopic[flair]) (0.29.23)\n",
            "Requirement already satisfied: joblib>=1.0 in /usr/local/lib/python3.7/dist-packages (from hdbscan>=0.8.27->bertopic[flair]) (1.0.1)\n",
            "Requirement already satisfied: future in /usr/local/lib/python3.7/dist-packages (from hyperopt>=0.1.1->flair==0.7->bertopic[flair]) (0.16.0)\n",
            "Requirement already satisfied: pymongo in /usr/local/lib/python3.7/dist-packages (from hyperopt>=0.1.1->flair==0.7->bertopic[flair]) (3.11.4)\n",
            "Requirement already satisfied: networkx in /usr/local/lib/python3.7/dist-packages (from hyperopt>=0.1.1->flair==0.7->bertopic[flair]) (2.5.1)\n",
            "Collecting importlib-metadata<4.0.0,>=3.7.0\n",
            "  Downloading importlib_metadata-3.10.1-py3-none-any.whl (14 kB)\n",
            "Collecting requests\n",
            "  Downloading requests-2.26.0-py2.py3-none-any.whl (62 kB)\n",
            "\u001b[K     |████████████████████████████████| 62 kB 781 kB/s \n",
            "\u001b[?25hCollecting overrides<4.0.0,>=3.0.0\n",
            "  Downloading overrides-3.1.0.tar.gz (11 kB)\n",
            "Requirement already satisfied: typing-extensions>=3.6.4 in /usr/local/lib/python3.7/dist-packages (from importlib-metadata<4.0.0,>=3.7.0->konoha<5.0.0,>=4.0.0->flair==0.7->bertopic[flair]) (3.7.4.3)\n",
            "Requirement already satisfied: zipp>=0.5 in /usr/local/lib/python3.7/dist-packages (from importlib-metadata<4.0.0,>=3.7.0->konoha<5.0.0,>=4.0.0->flair==0.7->bertopic[flair]) (3.5.0)\n",
            "Requirement already satisfied: pyparsing!=2.0.4,!=2.1.2,!=2.1.6,>=2.0.1 in /usr/local/lib/python3.7/dist-packages (from matplotlib>=2.2.3->flair==0.7->bertopic[flair]) (2.4.7)\n",
            "Requirement already satisfied: cycler>=0.10 in /usr/local/lib/python3.7/dist-packages (from matplotlib>=2.2.3->flair==0.7->bertopic[flair]) (0.10.0)\n",
            "Requirement already satisfied: kiwisolver>=1.0.1 in /usr/local/lib/python3.7/dist-packages (from matplotlib>=2.2.3->flair==0.7->bertopic[flair]) (1.3.1)\n",
            "Requirement already satisfied: pytz>=2017.2 in /usr/local/lib/python3.7/dist-packages (from pandas>=1.1.5->bertopic[flair]) (2018.9)\n",
            "Requirement already satisfied: retrying>=1.3.3 in /usr/local/lib/python3.7/dist-packages (from plotly<4.14.3,>=4.7.0->bertopic[flair]) (1.3.3)\n",
            "Requirement already satisfied: urllib3<1.27,>=1.21.1 in /usr/local/lib/python3.7/dist-packages (from requests->transformers==3.5.1->bertopic[flair]) (1.24.3)\n",
            "Requirement already satisfied: charset-normalizer~=2.0.0 in /usr/local/lib/python3.7/dist-packages (from requests->transformers==3.5.1->bertopic[flair]) (2.0.2)\n",
            "Requirement already satisfied: certifi>=2017.4.17 in /usr/local/lib/python3.7/dist-packages (from requests->transformers==3.5.1->bertopic[flair]) (2021.5.30)\n",
            "Requirement already satisfied: idna<4,>=2.5 in /usr/local/lib/python3.7/dist-packages (from requests->transformers==3.5.1->bertopic[flair]) (2.10)\n",
            "Collecting sentence-transformers>=0.4.1\n",
            "  Downloading sentence-transformers-1.2.1.tar.gz (80 kB)\n",
            "\u001b[K     |████████████████████████████████| 80 kB 7.9 MB/s \n",
            "\u001b[?25hRequirement already satisfied: torchvision in /usr/local/lib/python3.7/dist-packages (from sentence-transformers>=0.4.1->bertopic[flair]) (0.10.0+cu102)\n",
            "Requirement already satisfied: nltk in /usr/local/lib/python3.7/dist-packages (from sentence-transformers>=0.4.1->bertopic[flair]) (3.2.5)\n",
            "Collecting dataclasses\n",
            "  Downloading dataclasses-0.6-py3-none-any.whl (14 kB)\n",
            "Requirement already satisfied: pynndescent>=0.5 in /usr/local/lib/python3.7/dist-packages (from umap-learn>=0.5.0->bertopic[flair]) (0.5.4)\n",
            "Requirement already satisfied: numba>=0.49 in /usr/local/lib/python3.7/dist-packages (from umap-learn>=0.5.0->bertopic[flair]) (0.51.2)\n",
            "Requirement already satisfied: llvmlite<0.35,>=0.34.0.dev0 in /usr/local/lib/python3.7/dist-packages (from numba>=0.49->umap-learn>=0.5.0->bertopic[flair]) (0.34.0)\n",
            "Requirement already satisfied: setuptools in /usr/local/lib/python3.7/dist-packages (from numba>=0.49->umap-learn>=0.5.0->bertopic[flair]) (57.2.0)\n",
            "Requirement already satisfied: wcwidth in /usr/local/lib/python3.7/dist-packages (from ftfy->flair==0.7->bertopic[flair]) (0.2.5)\n",
            "Requirement already satisfied: decorator<5,>=4.3 in /usr/local/lib/python3.7/dist-packages (from networkx->hyperopt>=0.1.1->flair==0.7->bertopic[flair]) (4.4.2)\n",
            "Requirement already satisfied: click in /usr/local/lib/python3.7/dist-packages (from sacremoses->transformers==3.5.1->bertopic[flair]) (7.1.2)\n",
            "Requirement already satisfied: pillow>=5.3.0 in /usr/local/lib/python3.7/dist-packages (from torchvision->sentence-transformers>=0.4.1->bertopic[flair]) (7.1.2)\n",
            "Collecting torchvision\n",
            "  Downloading torchvision-0.10.0-cp37-cp37m-manylinux1_x86_64.whl (22.1 MB)\n",
            "\u001b[K     |████████████████████████████████| 22.1 MB 59 kB/s \n",
            "\u001b[?25h  Downloading torchvision-0.9.1-cp37-cp37m-manylinux1_x86_64.whl (17.4 MB)\n",
            "\u001b[K     |████████████████████████████████| 17.4 MB 110 kB/s \n",
            "\u001b[?25h  Downloading torchvision-0.9.0-cp37-cp37m-manylinux1_x86_64.whl (17.3 MB)\n",
            "\u001b[K     |████████████████████████████████| 17.3 MB 16 kB/s \n",
            "\u001b[?25h  Downloading torchvision-0.8.2-cp37-cp37m-manylinux1_x86_64.whl (12.8 MB)\n",
            "\u001b[K     |████████████████████████████████| 12.8 MB 9.4 MB/s \n",
            "\u001b[?25h  Downloading torchvision-0.8.1-cp37-cp37m-manylinux1_x86_64.whl (12.7 MB)\n",
            "\u001b[K     |████████████████████████████████| 12.7 MB 89 kB/s \n",
            "\u001b[?25hBuilding wheels for collected packages: mpld3, overrides, segtok, sentence-transformers, sqlitedict, ftfy, langdetect\n",
            "  Building wheel for mpld3 (setup.py) ... \u001b[?25l\u001b[?25hdone\n",
            "  Created wheel for mpld3: filename=mpld3-0.3-py3-none-any.whl size=116701 sha256=308d3e00a3ef57a7c052a3fef2f7d8d906c6b52a9f9dcdc52f3c9d931dfad7f0\n",
            "  Stored in directory: /root/.cache/pip/wheels/26/70/6a/1c79e59951a41b4045497da187b2724f5659ca64033cf4548e\n",
            "  Building wheel for overrides (setup.py) ... \u001b[?25l\u001b[?25hdone\n",
            "  Created wheel for overrides: filename=overrides-3.1.0-py3-none-any.whl size=10188 sha256=7561f2929aec81f36bbeaac5df85d450050c500a139fd13f89fd18417456b149\n",
            "  Stored in directory: /root/.cache/pip/wheels/3a/0d/38/01a9bc6e20dcfaf0a6a7b552d03137558ba1c38aea47644682\n",
            "  Building wheel for segtok (setup.py) ... \u001b[?25l\u001b[?25hdone\n",
            "  Created wheel for segtok: filename=segtok-1.5.10-py3-none-any.whl size=25030 sha256=aeeeb352ff76f7eb86c287e09dde043869eaf6029b9afeae3e206b3a856dca86\n",
            "  Stored in directory: /root/.cache/pip/wheels/67/b7/d0/a121106e61339eee5ed083bc230b1c8dc422c49a5a28c2addd\n",
            "  Building wheel for sentence-transformers (setup.py) ... \u001b[?25l\u001b[?25hdone\n",
            "  Created wheel for sentence-transformers: filename=sentence_transformers-1.2.1-py3-none-any.whl size=123299 sha256=ff36b3ce23097b57c1e0170fb61114cd6060bf3dd8e4b1ee537ef5c08ee28a19\n",
            "  Stored in directory: /root/.cache/pip/wheels/53/f2/3a/b9159c4e43a6a4aa2751421ff5dfe69231fbcc91f7efbc4d2f\n",
            "  Building wheel for sqlitedict (setup.py) ... \u001b[?25l\u001b[?25hdone\n",
            "  Created wheel for sqlitedict: filename=sqlitedict-1.7.0-py3-none-any.whl size=14392 sha256=a14ddccbaf1a14cb720c487fcc591e5aa2f25699f9671c600f7b4bacae104f80\n",
            "  Stored in directory: /root/.cache/pip/wheels/af/94/06/18c0e83e9e227da8f3582810b51f319bbfd181e508676a56c8\n",
            "  Building wheel for ftfy (setup.py) ... \u001b[?25l\u001b[?25hdone\n",
            "  Created wheel for ftfy: filename=ftfy-6.0.3-py3-none-any.whl size=41934 sha256=44dea3724ecfb3f1aa4053e1fe57c0ffe2bedb3ff004c13a0cf8faa6559a7cdd\n",
            "  Stored in directory: /root/.cache/pip/wheels/19/f5/38/273eb3b5e76dfd850619312f693716ac4518b498f5ffb6f56d\n",
            "  Building wheel for langdetect (setup.py) ... \u001b[?25l\u001b[?25hdone\n",
            "  Created wheel for langdetect: filename=langdetect-1.0.9-py3-none-any.whl size=993241 sha256=99920aac386238a979b598751eb633915f8fe2c2277786c4553a9ac9d5023c89\n",
            "  Stored in directory: /root/.cache/pip/wheels/c5/96/8a/f90c59ed25d75e50a8c10a1b1c2d4c402e4dacfa87f3aff36a\n",
            "Successfully built mpld3 overrides segtok sentence-transformers sqlitedict ftfy langdetect\n",
            "Installing collected packages: dataclasses, torch, tokenizers, sentencepiece, requests, transformers, torchvision, overrides, importlib-metadata, sqlitedict, sentence-transformers, segtok, mpld3, langdetect, konoha, janome, ftfy, deprecated, bpemb, flair\n",
            "  Attempting uninstall: torch\n",
            "    Found existing installation: torch 1.9.0+cu102\n",
            "    Uninstalling torch-1.9.0+cu102:\n",
            "      Successfully uninstalled torch-1.9.0+cu102\n",
            "  Attempting uninstall: tokenizers\n",
            "    Found existing installation: tokenizers 0.10.3\n",
            "    Uninstalling tokenizers-0.10.3:\n",
            "      Successfully uninstalled tokenizers-0.10.3\n",
            "  Attempting uninstall: sentencepiece\n",
            "    Found existing installation: sentencepiece 0.1.96\n",
            "    Uninstalling sentencepiece-0.1.96:\n",
            "      Successfully uninstalled sentencepiece-0.1.96\n",
            "  Attempting uninstall: requests\n",
            "    Found existing installation: requests 2.23.0\n",
            "    Uninstalling requests-2.23.0:\n",
            "      Successfully uninstalled requests-2.23.0\n",
            "  Attempting uninstall: transformers\n",
            "    Found existing installation: transformers 4.9.0\n",
            "    Uninstalling transformers-4.9.0:\n",
            "      Successfully uninstalled transformers-4.9.0\n",
            "  Attempting uninstall: torchvision\n",
            "    Found existing installation: torchvision 0.10.0+cu102\n",
            "    Uninstalling torchvision-0.10.0+cu102:\n",
            "      Successfully uninstalled torchvision-0.10.0+cu102\n",
            "  Attempting uninstall: importlib-metadata\n",
            "    Found existing installation: importlib-metadata 4.6.1\n",
            "    Uninstalling importlib-metadata-4.6.1:\n",
            "      Successfully uninstalled importlib-metadata-4.6.1\n",
            "  Attempting uninstall: sentence-transformers\n",
            "    Found existing installation: sentence-transformers 2.0.0\n",
            "    Uninstalling sentence-transformers-2.0.0:\n",
            "      Successfully uninstalled sentence-transformers-2.0.0\n",
            "\u001b[31mERROR: pip's dependency resolver does not currently take into account all the packages that are installed. This behaviour is the source of the following dependency conflicts.\n",
            "torchtext 0.10.0 requires torch==1.9.0, but you have torch 1.7.0 which is incompatible.\n",
            "google-colab 1.0.0 requires requests~=2.23.0, but you have requests 2.26.0 which is incompatible.\n",
            "datascience 0.10.6 requires folium==0.2.1, but you have folium 0.8.3 which is incompatible.\u001b[0m\n",
            "Successfully installed bpemb-0.3.3 dataclasses-0.6 deprecated-1.2.12 flair-0.7 ftfy-6.0.3 importlib-metadata-3.10.1 janome-0.4.1 konoha-4.6.5 langdetect-1.0.9 mpld3-0.3 overrides-3.1.0 requests-2.26.0 segtok-1.5.10 sentence-transformers-1.2.1 sentencepiece-0.1.91 sqlitedict-1.7.0 tokenizers-0.9.3 torch-1.7.0 torchvision-0.8.1 transformers-3.5.1\n"
          ],
          "name": "stdout"
        }
      ]
    },
    {
      "cell_type": "code",
      "metadata": {
        "id": "TNEcYVNcjH0k",
        "colab": {
          "base_uri": "https://localhost:8080/",
          "height": 157,
          "referenced_widgets": [
            "a449021d885c46b2b8d6c29570ca81b9",
            "ead22c8397a54c29aeeb2a496993ae18",
            "5cd403f44f0d4f7a8c97f43039be2806",
            "605944622958498592723dc6c4209125",
            "abe1bfcfd817429b81834c49c0d52a2e",
            "07b4bbc27bab42a0aac06a00674fc311",
            "f322be45069a4577a6631a34ff0cdaea",
            "72ccd792a52242259955b2f30a7e1759"
          ]
        },
        "outputId": "5eacf583-0b2c-42fb-9804-2ee562f2c6fe"
      },
      "source": [
        "from bertopic import BERTopic\n",
        "import pandas as pd\n",
        "\n",
        "df1= pd.read_csv(\"output.csv\")\n",
        "docs = df1['clean_abstract']\n",
        "topic_model = BERTopic()\n",
        "topics, probabilities = topic_model.fit_transform(docs)"
      ],
      "execution_count": null,
      "outputs": [
        {
          "output_type": "stream",
          "text": [
            "/usr/local/lib/python3.7/dist-packages/distributed/config.py:20: YAMLLoadWarning: calling yaml.load() without Loader=... is deprecated, as the default Loader is unsafe. Please read https://msg.pyyaml.org/load for full details.\n",
            "  defaults = yaml.load(f)\n"
          ],
          "name": "stderr"
        },
        {
          "output_type": "display_data",
          "data": {
            "application/vnd.jupyter.widget-view+json": {
              "model_id": "a449021d885c46b2b8d6c29570ca81b9",
              "version_minor": 0,
              "version_major": 2
            },
            "text/plain": [
              "HBox(children=(FloatProgress(value=0.0, max=83426730.0), HTML(value='')))"
            ]
          },
          "metadata": {
            "tags": []
          }
        },
        {
          "output_type": "stream",
          "text": [
            "\n"
          ],
          "name": "stdout"
        },
        {
          "output_type": "stream",
          "text": [
            "/usr/local/lib/python3.7/dist-packages/numba/np/ufunc/parallel.py:363: NumbaWarning: The TBB threading layer requires TBB version 2019.5 or later i.e., TBB_INTERFACE_VERSION >= 11005. Found TBB_INTERFACE_VERSION = 9107. The TBB threading layer is disabled.\n",
            "  warnings.warn(problem)\n"
          ],
          "name": "stderr"
        }
      ]
    },
    {
      "cell_type": "code",
      "metadata": {
        "id": "QUx8b4lAj2Bu"
      },
      "source": [
        "topicfreq = topic_model.get_topic_freq()\n",
        "topicfreq.to_csv(\"topicfreq.csv\")"
      ],
      "execution_count": null,
      "outputs": []
    },
    {
      "cell_type": "code",
      "metadata": {
        "colab": {
          "base_uri": "https://localhost:8080/"
        },
        "id": "uCaa7lxHvE9g",
        "outputId": "955cf690-bab7-466f-e462-6ab65fa68877"
      },
      "source": [
        "topic_model.get_topic(16)"
      ],
      "execution_count": null,
      "outputs": [
        {
          "output_type": "execute_result",
          "data": {
            "text/plain": [
              "[('translat', 0.12463895896801162),\n",
              " ('crosslanguag', 0.04722577404113109),\n",
              " ('languag', 0.029766471990865642),\n",
              " ('crosslingu', 0.025142718204422276),\n",
              " ('monolingu', 0.02502004971420888),\n",
              " ('transliter', 0.016882280608832515),\n",
              " ('mixedscript', 0.01605473888815372),\n",
              " ('multilingu', 0.013445030012117477),\n",
              " ('cross', 0.010868852936251177),\n",
              " ('parallel', 0.009112502743072098)]"
            ]
          },
          "metadata": {
            "tags": []
          },
          "execution_count": 5
        }
      ]
    },
    {
      "cell_type": "code",
      "metadata": {
        "id": "8pH-fJbzd5i2"
      },
      "source": [
        "from bertopic import BERTopic\n",
        "topic_model = BERTopic(language=\"Dutch\")"
      ],
      "execution_count": null,
      "outputs": []
    },
    {
      "cell_type": "code",
      "metadata": {
        "id": "ulG58YT_d8lA"
      },
      "source": [
        "from bertopic import BERTopic\n",
        "topic_model = BERTopic(embedding_model=\"xlm-r-bert-base-nli-stsb-mean-tokens\")"
      ],
      "execution_count": null,
      "outputs": []
    },
    {
      "cell_type": "code",
      "metadata": {
        "id": "iNMYA18FeDoi"
      },
      "source": [
        "from bertopic import BERTopic\n",
        "topic_model = BERTopic()\n",
        "topic_model.save(\"my_model\")"
      ],
      "execution_count": null,
      "outputs": []
    },
    {
      "cell_type": "code",
      "metadata": {
        "id": "5Di_g1SVeH2a"
      },
      "source": [
        "loaded_model = BERTopic.load(\"my_model\")"
      ],
      "execution_count": null,
      "outputs": []
    },
    {
      "cell_type": "code",
      "metadata": {
        "id": "78G3qGs4dviV"
      },
      "source": [
        "from bertopic import BERTopic\n",
        "topic_model = BERTopic(nr_topics=\"auto\")"
      ],
      "execution_count": null,
      "outputs": []
    },
    {
      "cell_type": "code",
      "metadata": {
        "id": "svWvKmkjfuOw"
      },
      "source": [
        "from bertopic import BERTopic\n",
        "\n",
        "topic_model = BERTopic()\n",
        "topics, probs = topic_model.fit_transform(docs)\n",
        "\n",
        "# Further reduce topics\n",
        "new_topics, new_probs = topic_model.reduce_topics(docs, topics, probs, nr_topics=16)"
      ],
      "execution_count": null,
      "outputs": []
    },
    {
      "cell_type": "code",
      "metadata": {
        "colab": {
          "base_uri": "https://localhost:8080/",
          "height": 570
        },
        "id": "P0j6V5m7g9sS",
        "outputId": "89105cc6-ec17-4c5c-e389-ed71a2927158"
      },
      "source": [
        "topic_model.get_topic_freq()"
      ],
      "execution_count": null,
      "outputs": [
        {
          "output_type": "execute_result",
          "data": {
            "text/html": [
              "<div>\n",
              "<style scoped>\n",
              "    .dataframe tbody tr th:only-of-type {\n",
              "        vertical-align: middle;\n",
              "    }\n",
              "\n",
              "    .dataframe tbody tr th {\n",
              "        vertical-align: top;\n",
              "    }\n",
              "\n",
              "    .dataframe thead th {\n",
              "        text-align: right;\n",
              "    }\n",
              "</style>\n",
              "<table border=\"1\" class=\"dataframe\">\n",
              "  <thead>\n",
              "    <tr style=\"text-align: right;\">\n",
              "      <th></th>\n",
              "      <th>Topic</th>\n",
              "      <th>Count</th>\n",
              "    </tr>\n",
              "  </thead>\n",
              "  <tbody>\n",
              "    <tr>\n",
              "      <th>0</th>\n",
              "      <td>-1</td>\n",
              "      <td>1819</td>\n",
              "    </tr>\n",
              "    <tr>\n",
              "      <th>1</th>\n",
              "      <td>0</td>\n",
              "      <td>338</td>\n",
              "    </tr>\n",
              "    <tr>\n",
              "      <th>2</th>\n",
              "      <td>1</td>\n",
              "      <td>320</td>\n",
              "    </tr>\n",
              "    <tr>\n",
              "      <th>3</th>\n",
              "      <td>2</td>\n",
              "      <td>300</td>\n",
              "    </tr>\n",
              "    <tr>\n",
              "      <th>4</th>\n",
              "      <td>3</td>\n",
              "      <td>243</td>\n",
              "    </tr>\n",
              "    <tr>\n",
              "      <th>5</th>\n",
              "      <td>4</td>\n",
              "      <td>225</td>\n",
              "    </tr>\n",
              "    <tr>\n",
              "      <th>6</th>\n",
              "      <td>5</td>\n",
              "      <td>149</td>\n",
              "    </tr>\n",
              "    <tr>\n",
              "      <th>7</th>\n",
              "      <td>6</td>\n",
              "      <td>145</td>\n",
              "    </tr>\n",
              "    <tr>\n",
              "      <th>8</th>\n",
              "      <td>7</td>\n",
              "      <td>132</td>\n",
              "    </tr>\n",
              "    <tr>\n",
              "      <th>9</th>\n",
              "      <td>8</td>\n",
              "      <td>131</td>\n",
              "    </tr>\n",
              "    <tr>\n",
              "      <th>10</th>\n",
              "      <td>9</td>\n",
              "      <td>114</td>\n",
              "    </tr>\n",
              "    <tr>\n",
              "      <th>11</th>\n",
              "      <td>10</td>\n",
              "      <td>113</td>\n",
              "    </tr>\n",
              "    <tr>\n",
              "      <th>12</th>\n",
              "      <td>11</td>\n",
              "      <td>88</td>\n",
              "    </tr>\n",
              "    <tr>\n",
              "      <th>13</th>\n",
              "      <td>12</td>\n",
              "      <td>85</td>\n",
              "    </tr>\n",
              "    <tr>\n",
              "      <th>14</th>\n",
              "      <td>13</td>\n",
              "      <td>85</td>\n",
              "    </tr>\n",
              "    <tr>\n",
              "      <th>15</th>\n",
              "      <td>14</td>\n",
              "      <td>75</td>\n",
              "    </tr>\n",
              "    <tr>\n",
              "      <th>16</th>\n",
              "      <td>15</td>\n",
              "      <td>71</td>\n",
              "    </tr>\n",
              "  </tbody>\n",
              "</table>\n",
              "</div>"
            ],
            "text/plain": [
              "    Topic  Count\n",
              "0      -1   1819\n",
              "1       0    338\n",
              "2       1    320\n",
              "3       2    300\n",
              "4       3    243\n",
              "5       4    225\n",
              "6       5    149\n",
              "7       6    145\n",
              "8       7    132\n",
              "9       8    131\n",
              "10      9    114\n",
              "11     10    113\n",
              "12     11     88\n",
              "13     12     85\n",
              "14     13     85\n",
              "15     14     75\n",
              "16     15     71"
            ]
          },
          "metadata": {
            "tags": []
          },
          "execution_count": 13
        }
      ]
    },
    {
      "cell_type": "code",
      "metadata": {
        "colab": {
          "base_uri": "https://localhost:8080/"
        },
        "id": "HaTV0FILhO9b",
        "outputId": "a707779d-23d2-4b27-a684-e91b07c520fb"
      },
      "source": [
        "topic_model.get_topics()"
      ],
      "execution_count": null,
      "outputs": [
        {
          "output_type": "execute_result",
          "data": {
            "text/plain": [
              "{-1: [('search', 0.024083639597440178),\n",
              "  ('inform', 0.02081601047053467),\n",
              "  ('queri', 0.019681994857079565),\n",
              "  ('web', 0.014557057256380077),\n",
              "  ('relev', 0.014251284010259683),\n",
              "  ('propos', 0.013545438450705244),\n",
              "  ('data', 0.012711740827102117),\n",
              "  ('engin', 0.010655717946759543),\n",
              "  ('gener', 0.010653050417817375),\n",
              "  ('research', 0.010464166361173689)],\n",
              " 0: [('model', 0.03992054044550187),\n",
              "  ('cluster', 0.03337770987533536),\n",
              "  ('method', 0.0237563450854124),\n",
              "  ('propos', 0.02320821669411988),\n",
              "  ('queri', 0.023073993970468012),\n",
              "  ('predict', 0.020657482467132074),\n",
              "  ('filter', 0.020493190340318858),\n",
              "  ('algorithm', 0.014784188114732158),\n",
              "  ('data', 0.014037705550265704),\n",
              "  ('qa', 0.014006461109310288)],\n",
              " 1: [('rank', 0.04381737641361206),\n",
              "  ('model', 0.02673584229123549),\n",
              "  ('neural', 0.023738896324258574),\n",
              "  ('data', 0.022938048097488343),\n",
              "  ('method', 0.021672753193511914),\n",
              "  ('featur', 0.019923910143282597),\n",
              "  ('propos', 0.01615638525301088),\n",
              "  ('machin', 0.01436946030405419),\n",
              "  ('optim', 0.01376857892283784),\n",
              "  ('dataset', 0.012959820879011865)],\n",
              " 2: [('hash', 0.027105464595653453),\n",
              "  ('summar', 0.023199989340813427),\n",
              "  ('method', 0.02191060639806037),\n",
              "  ('summari', 0.02173889219987576),\n",
              "  ('weight', 0.021305851959355998),\n",
              "  ('propos', 0.018430820589546773),\n",
              "  ('index', 0.018283608332632567),\n",
              "  ('queri', 0.017632616311984692),\n",
              "  ('data', 0.01703509445803156),\n",
              "  ('algorithm', 0.016974670201587126)],\n",
              " 3: [('music', 0.049972608380779444),\n",
              "  ('web', 0.026312102611707928),\n",
              "  ('sentiment', 0.0239107281034164),\n",
              "  ('ad', 0.022011678174324388),\n",
              "  ('tempor', 0.019487626358828416),\n",
              "  ('propos', 0.01703108842597099),\n",
              "  ('advertis', 0.016926829222285427),\n",
              "  ('content', 0.016265896688278797),\n",
              "  ('queri', 0.014541827429244546),\n",
              "  ('search', 0.014456656603091932)],\n",
              " 4: [('queri', 0.041527354875193004),\n",
              "  ('translat', 0.038243857217769496),\n",
              "  ('video', 0.038040445923083574),\n",
              "  ('retriev', 0.0286257560151004),\n",
              "  ('languag', 0.019985068215655804),\n",
              "  ('structur', 0.013902759429140191),\n",
              "  ('expans', 0.013495535752315251),\n",
              "  ('crosslanguag', 0.013150958373827699),\n",
              "  ('techniqu', 0.012338967043132523),\n",
              "  ('propos', 0.011736721839192528)],\n",
              " 5: [('search', 0.06033642025594756),\n",
              "  ('engin', 0.05258842474929854),\n",
              "  ('queri', 0.04709635908707228),\n",
              "  ('user', 0.024297372474141137),\n",
              "  ('log', 0.02165166272696961),\n",
              "  ('web', 0.019009736628083283),\n",
              "  ('inform', 0.015441741015555845),\n",
              "  ('knowledg', 0.01337736937155451),\n",
              "  ('behavior', 0.012904909858581544),\n",
              "  ('gener', 0.012718079779253603)],\n",
              " 6: [('test', 0.05130698739701372),\n",
              "  ('judgment', 0.047046286326368134),\n",
              "  ('evalu', 0.04460134216598274),\n",
              "  ('relev', 0.03925097583371272),\n",
              "  ('retriev', 0.027778945027980874),\n",
              "  ('judg', 0.027664341235395948),\n",
              "  ('measur', 0.024894125040722227),\n",
              "  ('assessor', 0.018746878280417316),\n",
              "  ('experi', 0.013722608203744296),\n",
              "  ('assess', 0.013336551708768215)],\n",
              " 7: [('inform', 0.041348628793989366),\n",
              "  ('research', 0.03296025565752097),\n",
              "  ('user', 0.02876662632801667),\n",
              "  ('task', 0.026675344966683525),\n",
              "  ('search', 0.023252559053607267),\n",
              "  ('need', 0.01941727412313806),\n",
              "  ('workshop', 0.01650164109273882),\n",
              "  ('topic', 0.016120330581503424),\n",
              "  ('interact', 0.014767643454491443),\n",
              "  ('process', 0.013973989284381736)],\n",
              " 8: [('word', 0.08904064119979906),\n",
              "  ('speech', 0.04664392635281815),\n",
              "  ('text', 0.027331538535237326),\n",
              "  ('recognit', 0.024591863288785366),\n",
              "  ('spoken', 0.023037462017249977),\n",
              "  ('transcript', 0.022236271826401335),\n",
              "  ('ngram', 0.016721158469285707),\n",
              "  ('techniqu', 0.0160815560392474),\n",
              "  ('morpholog', 0.015281220421421902),\n",
              "  ('phonem', 0.01403614294031224)],\n",
              " 9: [('relev', 0.03691099791381497),\n",
              "  ('retriev', 0.03657284569722523),\n",
              "  ('prf', 0.032362144644375576),\n",
              "  ('combin', 0.0315973368535512),\n",
              "  ('queri', 0.029429232147614285),\n",
              "  ('improv', 0.027312462177603383),\n",
              "  ('pseudorelev', 0.023586477740085692),\n",
              "  ('method', 0.023085350311895094),\n",
              "  ('propos', 0.01865723672484828),\n",
              "  ('experi', 0.014635518726888523)],\n",
              " 10: [('locat', 0.1093977813203618),\n",
              "  ('geograph', 0.06309696249828713),\n",
              "  ('recommend', 0.03342445338296865),\n",
              "  ('busi', 0.032793362123219164),\n",
              "  ('geotag', 0.023356672916860617),\n",
              "  ('visit', 0.019664715467646237),\n",
              "  ('search', 0.019460752359289193),\n",
              "  ('travel', 0.01808553986079696),\n",
              "  ('predict', 0.017943513445398684),\n",
              "  ('travelogu', 0.015221631391923143)],\n",
              " 11: [('imag', 0.14968304271433464),\n",
              "  ('patent', 0.049010197029689624),\n",
              "  ('retriev', 0.043847241799527356),\n",
              "  ('queri', 0.026489427249758023),\n",
              "  ('propos', 0.023055871552188932),\n",
              "  ('visual', 0.02018900865572764),\n",
              "  ('search', 0.019102231685006434),\n",
              "  ('method', 0.01752329839396087),\n",
              "  ('relev', 0.016793930318367734),\n",
              "  ('featur', 0.014262120160804073)],\n",
              " 12: [('search', 0.09140201049804841),\n",
              "  ('user', 0.056857625666896325),\n",
              "  ('task', 0.05257280484887845),\n",
              "  ('behavior', 0.04919939889110731),\n",
              "  ('session', 0.030358106278196875),\n",
              "  ('searcher', 0.02931557721017199),\n",
              "  ('predict', 0.022050600859845903),\n",
              "  ('queri', 0.021249480179617787),\n",
              "  ('log', 0.018394802956311625),\n",
              "  ('interact', 0.015394409717385557)],\n",
              " 13: [('categori', 0.04630953417117483),\n",
              "  ('hierarchi', 0.03413473296117849),\n",
              "  ('classif', 0.033656106045994685),\n",
              "  ('classifi', 0.03239197310539029),\n",
              "  ('categor', 0.03065950934833107),\n",
              "  ('hierarch', 0.02185391128954679),\n",
              "  ('overlap', 0.020457093977843285),\n",
              "  ('algorithm', 0.015887219538320504),\n",
              "  ('taxonomi', 0.015546155809673745),\n",
              "  ('automat', 0.015492357753960045)],\n",
              " 14: [('item', 0.05644095246290717),\n",
              "  ('factor', 0.028042532362990244),\n",
              "  ('model', 0.025881299141196124),\n",
              "  ('rate', 0.02563519424331437),\n",
              "  ('interest', 0.024831350964571088),\n",
              "  ('propos', 0.019234866796917854),\n",
              "  ('algorithm', 0.01749279565933979),\n",
              "  ('useritem', 0.016997695266627234),\n",
              "  ('predict', 0.016007397280675243),\n",
              "  ('method', 0.01530280514740114)],\n",
              " 15: [('tweet', 0.11709384912505075),\n",
              "  ('twitter', 0.06639615470297205),\n",
              "  ('social', 0.060440188572860536),\n",
              "  ('topic', 0.04486530231974457),\n",
              "  ('post', 0.030641324299647953),\n",
              "  ('hashtag', 0.030048640990539357),\n",
              "  ('retweet', 0.02449401796150167),\n",
              "  ('microblog', 0.02098444910473928),\n",
              "  ('predict', 0.01977249124226331),\n",
              "  ('messag', 0.01908192937704442)]}"
            ]
          },
          "metadata": {
            "tags": []
          },
          "execution_count": 14
        }
      ]
    },
    {
      "cell_type": "code",
      "metadata": {
        "id": "13vlUwahZWBA"
      },
      "source": [
        "#tri-grams\n",
        "topic_model.update_topics(docs, topics, n_gram_range=(1, 3))"
      ],
      "execution_count": null,
      "outputs": []
    },
    {
      "cell_type": "code",
      "metadata": {
        "colab": {
          "base_uri": "https://localhost:8080/"
        },
        "id": "pKjyvkajZXV0",
        "outputId": "2e0f2e71-abc1-44cb-8d89-81044bbe3234"
      },
      "source": [
        "topic_model.get_topics()"
      ],
      "execution_count": null,
      "outputs": [
        {
          "output_type": "execute_result",
          "data": {
            "text/plain": [
              "{-1: [('search', 0.005197410677795122),\n",
              "  ('queri', 0.004602477429058952),\n",
              "  ('method', 0.00379516034050166),\n",
              "  ('propos', 0.0036791158951774375),\n",
              "  ('data', 0.0036431320777909784),\n",
              "  ('relev', 0.0036383591662006417),\n",
              "  ('task', 0.0034501490633527575),\n",
              "  ('web', 0.0034402185765725546),\n",
              "  ('gener', 0.003025060292817898),\n",
              "  ('featur', 0.002957269466549757)],\n",
              " 0: [('test', 0.01833472273031658),\n",
              "  ('judgment', 0.01413445561759951),\n",
              "  ('test collect', 0.012739648287550843),\n",
              "  ('relev', 0.011396595937419225),\n",
              "  ('assessor', 0.006974185179079275),\n",
              "  ('relev judgment', 0.0066460522310905846),\n",
              "  ('reliabl', 0.005732724168730117),\n",
              "  ('assess', 0.005610156323003481),\n",
              "  ('retriev', 0.005301216583056769),\n",
              "  ('inform retriev', 0.00416207423248004)],\n",
              " 1: [('inform', 0.010680311842492211),\n",
              "  ('task', 0.007189333775203829),\n",
              "  ('inform retriev', 0.006661488343667008),\n",
              "  ('search', 0.005736565557795798),\n",
              "  ('inform need', 0.004851320275256773),\n",
              "  ('interact', 0.004212439294906314),\n",
              "  ('workshop', 0.004160256895052925),\n",
              "  ('tool', 0.003750877678966657),\n",
              "  ('social medium', 0.0035762673300255773),\n",
              "  ('process', 0.0034811495842992043)],\n",
              " 2: [('rank', 0.02210499013422426),\n",
              "  ('learn rank', 0.011539722651614018),\n",
              "  ('rank model', 0.006895721158044228),\n",
              "  ('optim', 0.005903659550004117),\n",
              "  ('rank function', 0.005509848540951519),\n",
              "  ('train data', 0.005225129877909993),\n",
              "  ('rank svm', 0.004940694471437344),\n",
              "  ('svm', 0.0049201013781575),\n",
              "  ('neural', 0.004736975153524859),\n",
              "  ('boost', 0.00442562171739787)],\n",
              " 3: [('cluster', 0.04345501267834033),\n",
              "  ('document cluster', 0.012355206041282858),\n",
              "  ('method', 0.008329192066451182),\n",
              "  ('propos', 0.007401136218626755),\n",
              "  ('cluster algorithm', 0.00704735922337132),\n",
              "  ('cluster method', 0.00492168286082928),\n",
              "  ('optim', 0.004783596960214306),\n",
              "  ('featur', 0.0044699427912903615),\n",
              "  ('paper propos', 0.00443359352663793),\n",
              "  ('task', 0.004340408541294303)],\n",
              " 4: [('model', 0.02894542241983142),\n",
              "  ('languag model', 0.02685671444397647),\n",
              "  ('languag', 0.022653706143933083),\n",
              "  ('probabilist', 0.009788090748676785),\n",
              "  ('retriev', 0.009385698223374322),\n",
              "  ('estim', 0.008114962338973573),\n",
              "  ('retriev model', 0.006488651767966012),\n",
              "  ('probabilist model', 0.006378353300838604),\n",
              "  ('propos', 0.005386208300622062),\n",
              "  ('languag model approach', 0.004753109801919512)],\n",
              " 5: [('recommend', 0.03374347729109592),\n",
              "  ('item', 0.019156721529651543),\n",
              "  ('user', 0.013865484990900049),\n",
              "  ('recommend system', 0.011389642295296062),\n",
              "  ('interest', 0.006818979585404918),\n",
              "  ('user item', 0.006366940598820642),\n",
              "  ('prefer', 0.00621568860299779),\n",
              "  ('useritem', 0.004382198010261728),\n",
              "  ('predict', 0.004075915310443082),\n",
              "  ('explain recommend', 0.003974392116251346)],\n",
              " 6: [('queri', 0.023419544279188017),\n",
              "  ('predict', 0.015447376512687648),\n",
              "  ('qac', 0.014388784336497715),\n",
              "  ('predictor', 0.010795550164564521),\n",
              "  ('qpp', 0.01007596620285249),\n",
              "  ('perform predict', 0.00919567511836543),\n",
              "  ('queri perform', 0.008662872609907689),\n",
              "  ('queri perform predict', 0.0068631250755383155),\n",
              "  ('queri autocomplet', 0.005529838375010129),\n",
              "  ('queri suggest', 0.004057391638193083)],\n",
              " 7: [('feedback', 0.03652930869332237),\n",
              "  ('prf', 0.015516574382270552),\n",
              "  ('relev feedback', 0.013825415950926127),\n",
              "  ('relev', 0.013209768047737339),\n",
              "  ('pseudorelev', 0.011615137097464074),\n",
              "  ('pseudorelev feedback', 0.009999713176092263),\n",
              "  ('feedback document', 0.007575947546586709),\n",
              "  ('feedback method', 0.0061675287926668),\n",
              "  ('term feedback', 0.005239262988563663),\n",
              "  ('feedback model', 0.005049668770385171)],\n",
              " 8: [('queri', 0.019714242952057384),\n",
              "  ('engin', 0.018457567468959362),\n",
              "  ('search engin', 0.017539277930297765),\n",
              "  ('search', 0.013460153953982005),\n",
              "  ('process', 0.008135584629471565),\n",
              "  ('queri process', 0.005229092152290723),\n",
              "  ('techniqu', 0.005124610560014777),\n",
              "  ('web search', 0.0051031241215367005),\n",
              "  ('web search engin', 0.0046391338303260945),\n",
              "  ('queri log', 0.004391614321605257)],\n",
              " 9: [('question', 0.03671794668105607),\n",
              "  ('cqa', 0.014599316697415722),\n",
              "  ('question answer', 0.01386382502264054),\n",
              "  ('answer question', 0.006358253793368162),\n",
              "  ('yahoo answer', 0.006335874033049507),\n",
              "  ('answer cqa', 0.006069267955279196),\n",
              "  ('asker', 0.00576759486194142),\n",
              "  ('question answer cqa', 0.005255509758809791),\n",
              "  ('questionansw', 0.004073150628548186),\n",
              "  ('vqa', 0.0038147808137156828)],\n",
              " 10: [('summar', 0.04225999811258129),\n",
              "  ('summari', 0.03676702252143048),\n",
              "  ('multidocu', 0.011268324989872758),\n",
              "  ('multidocu summar', 0.009418652337839535),\n",
              "  ('text summar', 0.009039823899732041),\n",
              "  ('summar system', 0.008722654530980912),\n",
              "  ('gener', 0.00703251189168541),\n",
              "  ('summar method', 0.0062051055625279425),\n",
              "  ('document summar', 0.004731791065664805),\n",
              "  ('gener summari', 0.004653829171895957)],\n",
              " 11: [('form may', 0.0),\n",
              "  ('form negat', 0.0),\n",
              "  ('form natur', 0.0),\n",
              "  ('form namevalu', 0.0),\n",
              "  ('form mold', 0.0),\n",
              "  ('form mental', 0.0),\n",
              "  ('form namevalu pair', 0.0),\n",
              "  ('form negat preposit', 0.0),\n",
              "  ('form offlin simul', 0.0),\n",
              "  ('form offlin', 0.0)],\n",
              " 12: [('compress', 0.026445143240894708),\n",
              "  ('invert', 0.015104458095426026),\n",
              "  ('index', 0.014200820928417112),\n",
              "  ('invert index', 0.008944068061303396),\n",
              "  ('techniqu', 0.006665920712950622),\n",
              "  ('algorithm', 0.006504244553358204),\n",
              "  ('decompress', 0.005668084455932093),\n",
              "  ('code', 0.005609575838977665),\n",
              "  ('process', 0.005487219271976804),\n",
              "  ('faster', 0.004866421969391599)],\n",
              " 13: [('search', 0.02326124314463966),\n",
              "  ('search task', 0.008748288225149734),\n",
              "  ('search session', 0.0077609246756629845),\n",
              "  ('web search', 0.007652645965256084),\n",
              "  ('searcher', 0.007231870061457587),\n",
              "  ('search behavior', 0.00666346519406992),\n",
              "  ('search system', 0.006618869490601344),\n",
              "  ('user behavior', 0.005833031154053894),\n",
              "  ('search result', 0.0058175174154204805),\n",
              "  ('session search', 0.005365994938678125)],\n",
              " 14: [('music', 0.06495044942544155),\n",
              "  ('audio', 0.011106597638241539),\n",
              "  ('music retriev', 0.009939529347965081),\n",
              "  ('listen', 0.008573322477086795),\n",
              "  ('music recommend', 0.008573322477086795),\n",
              "  ('music inform', 0.008208067934556125),\n",
              "  ('music inform retriev', 0.007467089984986472),\n",
              "  ('mir', 0.006212205842478175),\n",
              "  ('music collect', 0.005542842304339909),\n",
              "  ('propos', 0.005250188529504609)],\n",
              " 15: [('tweet', 0.041466657343321146),\n",
              "  ('twitter', 0.021271492413854867),\n",
              "  ('social', 0.014913818332682795),\n",
              "  ('hashtag', 0.01124394205331976),\n",
              "  ('post', 0.011118151110089205),\n",
              "  ('retweet', 0.008855930743432779),\n",
              "  ('social medium', 0.008510029407936477),\n",
              "  ('topic model', 0.004671794681748282),\n",
              "  ('timelin', 0.004610853043717627),\n",
              "  ('predict', 0.004504723368707544)]}"
            ]
          },
          "metadata": {
            "tags": []
          },
          "execution_count": 30
        }
      ]
    },
    {
      "cell_type": "code",
      "metadata": {
        "colab": {
          "base_uri": "https://localhost:8080/",
          "height": 666
        },
        "id": "EQVSJkXAvIVF",
        "outputId": "01d73174-6b7c-47f5-8d96-c87ffed53dbb"
      },
      "source": [
        "topic_model.visualize_topics()"
      ],
      "execution_count": null,
      "outputs": [
        {
          "output_type": "display_data",
          "data": {
            "text/html": [
              "<html>\n",
              "<head><meta charset=\"utf-8\" /></head>\n",
              "<body>\n",
              "    <div>            <script src=\"https://cdnjs.cloudflare.com/ajax/libs/mathjax/2.7.5/MathJax.js?config=TeX-AMS-MML_SVG\"></script><script type=\"text/javascript\">if (window.MathJax) {MathJax.Hub.Config({SVG: {font: \"STIX-Web\"}});}</script>                <script type=\"text/javascript\">window.PlotlyConfig = {MathJaxConfig: 'local'};</script>\n",
              "        <script src=\"https://cdn.plot.ly/plotly-latest.min.js\"></script>                <div id=\"ac69d6ec-dc31-4788-9b4e-e9d61b6e2c59\" class=\"plotly-graph-div\" style=\"height:650px; width:650px;\"></div>            <script type=\"text/javascript\">                                    window.PLOTLYENV=window.PLOTLYENV || {};                                    if (document.getElementById(\"ac69d6ec-dc31-4788-9b4e-e9d61b6e2c59\")) {                    Plotly.newPlot(                        \"ac69d6ec-dc31-4788-9b4e-e9d61b6e2c59\",                        [{\"customdata\": [[14.597306251525879, 0.054302360862493515, 0, \"learn | rank | neural | featur | method\", 338], [18.521581649780273, 15.061217308044434, 1, \"inform | research | user | inform retriev | task\", 320], [-2.7742984294891357, 5.123614311218262, 2, \"engin | search engin | search | queri | log\", 300], [-3.7976813316345215, -4.988037109375, 3, \"recommend | item | user | recommend system | factor\", 243], [-3.7063844203948975, -4.896753311157227, 4, \"tweet | twitter | social | hashtag | social medium\", 225], [15.7478609085083, 0.18358391523361206, 5, \"model | languag model | languag | retriev | probabilist\", 149], [16.079233169555664, 0.3244904577732086, 6, \"feedback | prf | relev | relev feedback | pseudorelev\", 145], [18.428852081298828, 16.160036087036133, 7, \"translat | crosslanguag | crosslanguag inform retriev | crosslanguag inform | queri translat\", 132], [14.435162544250488, -1.7505481243133545, 8, \"zvec basi experiment | form obtain first | form overal rate | form overal judgment | form overal\", 131], [18.657981872558594, 15.918400764465332, 9, \"word | embed | word embed | transliter | phrase\", 114], [-3.0619823932647705, 4.835807800292969, 10, \"search | task | searcher | search task | web search\", 113], [15.193670272827148, -0.04257914796471596, 11, \"propos | evalu | experi | gener | interfac\", 88], [15.418807983398438, -0.39901667833328247, 12, \"cluster | document cluster | cluster algorithm | method | cluster method\", 85], [15.107391357421875, -1.179905652999878, 13, \"summar | summari | multidocu | multidocu summar | summar system\", 85], [18.754030227661133, 15.391646385192871, 14, \"retriev | ir | databas | inform | structur\", 75], [14.777070999145508, -1.5089408159255981, 15, \"cqa | question answer | yahoo answer | answer cqa | asker\", 71]], \"hovertemplate\": \"<b>Topic %{customdata[2]}</b><br>Words: %{customdata[3]}<br>Size: %{customdata[4]}\", \"legendgroup\": \"\", \"marker\": {\"color\": \"#B0BEC5\", \"line\": {\"color\": \"DarkSlateGrey\", \"width\": 2}, \"size\": [338, 320, 300, 243, 225, 149, 145, 132, 131, 114, 113, 88, 85, 85, 75, 71], \"sizemode\": \"area\", \"sizeref\": 0.21125, \"symbol\": \"circle\"}, \"mode\": \"markers\", \"name\": \"\", \"orientation\": \"v\", \"showlegend\": false, \"type\": \"scatter\", \"x\": [14.597306251525879, 18.521581649780273, -2.7742984294891357, -3.7976813316345215, -3.7063844203948975, 15.7478609085083, 16.079233169555664, 18.428852081298828, 14.435162544250488, 18.657981872558594, -3.0619823932647705, 15.193670272827148, 15.418807983398438, 15.107391357421875, 18.754030227661133, 14.777070999145508], \"xaxis\": \"x\", \"y\": [0.054302360862493515, 15.061217308044434, 5.123614311218262, -4.988037109375, -4.896753311157227, 0.18358391523361206, 0.3244904577732086, 16.160036087036133, -1.7505481243133545, 15.918400764465332, 4.835807800292969, -0.04257914796471596, -0.39901667833328247, -1.179905652999878, 15.391646385192871, -1.5089408159255981], \"yaxis\": \"y\"}],                        {\"annotations\": [{\"showarrow\": false, \"text\": \"D1\", \"x\": -4.3673335313797, \"y\": 6.4238994121551505, \"yshift\": 10}, {\"showarrow\": false, \"text\": \"D2\", \"x\": 8.5999006152153, \"xshift\": 10, \"y\": 18.58404150009155}], \"height\": 650, \"hoverlabel\": {\"bgcolor\": \"white\", \"font\": {\"family\": \"Rockwell\", \"size\": 16}}, \"legend\": {\"itemsizing\": \"constant\", \"tracegroupgap\": 0}, \"margin\": {\"t\": 60}, \"shapes\": [{\"line\": {\"color\": \"#CFD8DC\", \"width\": 2}, \"type\": \"line\", \"x0\": 8.5999006152153, \"x1\": 8.5999006152153, \"y0\": -5.73624267578125, \"y1\": 18.58404150009155}, {\"line\": {\"color\": \"#9E9E9E\", \"width\": 2}, \"type\": \"line\", \"x0\": -4.3673335313797, \"x1\": 21.5671347618103, \"y0\": 6.4238994121551505, \"y1\": 6.4238994121551505}], \"sliders\": [{\"active\": 0, \"pad\": {\"t\": 50}, \"steps\": [{\"args\": [{\"marker.color\": [[\"red\", \"#B0BEC5\", \"#B0BEC5\", \"#B0BEC5\", \"#B0BEC5\", \"#B0BEC5\", \"#B0BEC5\", \"#B0BEC5\", \"#B0BEC5\", \"#B0BEC5\", \"#B0BEC5\", \"#B0BEC5\", \"#B0BEC5\", \"#B0BEC5\", \"#B0BEC5\", \"#B0BEC5\"]]}], \"label\": \"Topic 0\", \"method\": \"update\"}, {\"args\": [{\"marker.color\": [[\"#B0BEC5\", \"red\", \"#B0BEC5\", \"#B0BEC5\", \"#B0BEC5\", \"#B0BEC5\", \"#B0BEC5\", \"#B0BEC5\", \"#B0BEC5\", \"#B0BEC5\", \"#B0BEC5\", \"#B0BEC5\", \"#B0BEC5\", \"#B0BEC5\", \"#B0BEC5\", \"#B0BEC5\"]]}], \"label\": \"Topic 1\", \"method\": \"update\"}, {\"args\": [{\"marker.color\": [[\"#B0BEC5\", \"#B0BEC5\", \"red\", \"#B0BEC5\", \"#B0BEC5\", \"#B0BEC5\", \"#B0BEC5\", \"#B0BEC5\", \"#B0BEC5\", \"#B0BEC5\", \"#B0BEC5\", \"#B0BEC5\", \"#B0BEC5\", \"#B0BEC5\", \"#B0BEC5\", \"#B0BEC5\"]]}], \"label\": \"Topic 2\", \"method\": \"update\"}, {\"args\": [{\"marker.color\": [[\"#B0BEC5\", \"#B0BEC5\", \"#B0BEC5\", \"red\", \"#B0BEC5\", \"#B0BEC5\", \"#B0BEC5\", \"#B0BEC5\", \"#B0BEC5\", \"#B0BEC5\", \"#B0BEC5\", \"#B0BEC5\", \"#B0BEC5\", \"#B0BEC5\", \"#B0BEC5\", \"#B0BEC5\"]]}], \"label\": \"Topic 3\", \"method\": \"update\"}, {\"args\": [{\"marker.color\": [[\"#B0BEC5\", \"#B0BEC5\", \"#B0BEC5\", \"#B0BEC5\", \"red\", \"#B0BEC5\", \"#B0BEC5\", \"#B0BEC5\", \"#B0BEC5\", \"#B0BEC5\", \"#B0BEC5\", \"#B0BEC5\", \"#B0BEC5\", \"#B0BEC5\", \"#B0BEC5\", \"#B0BEC5\"]]}], \"label\": \"Topic 4\", \"method\": \"update\"}, {\"args\": [{\"marker.color\": [[\"#B0BEC5\", \"#B0BEC5\", \"#B0BEC5\", \"#B0BEC5\", \"#B0BEC5\", \"red\", \"#B0BEC5\", \"#B0BEC5\", \"#B0BEC5\", \"#B0BEC5\", \"#B0BEC5\", \"#B0BEC5\", \"#B0BEC5\", \"#B0BEC5\", \"#B0BEC5\", \"#B0BEC5\"]]}], \"label\": \"Topic 5\", \"method\": \"update\"}, {\"args\": [{\"marker.color\": [[\"#B0BEC5\", \"#B0BEC5\", \"#B0BEC5\", \"#B0BEC5\", \"#B0BEC5\", \"#B0BEC5\", \"red\", \"#B0BEC5\", \"#B0BEC5\", \"#B0BEC5\", \"#B0BEC5\", \"#B0BEC5\", \"#B0BEC5\", \"#B0BEC5\", \"#B0BEC5\", \"#B0BEC5\"]]}], \"label\": \"Topic 6\", \"method\": \"update\"}, {\"args\": [{\"marker.color\": [[\"#B0BEC5\", \"#B0BEC5\", \"#B0BEC5\", \"#B0BEC5\", \"#B0BEC5\", \"#B0BEC5\", \"#B0BEC5\", \"red\", \"#B0BEC5\", \"#B0BEC5\", \"#B0BEC5\", \"#B0BEC5\", \"#B0BEC5\", \"#B0BEC5\", \"#B0BEC5\", \"#B0BEC5\"]]}], \"label\": \"Topic 7\", \"method\": \"update\"}, {\"args\": [{\"marker.color\": [[\"#B0BEC5\", \"#B0BEC5\", \"#B0BEC5\", \"#B0BEC5\", \"#B0BEC5\", \"#B0BEC5\", \"#B0BEC5\", \"#B0BEC5\", \"red\", \"#B0BEC5\", \"#B0BEC5\", \"#B0BEC5\", \"#B0BEC5\", \"#B0BEC5\", \"#B0BEC5\", \"#B0BEC5\"]]}], \"label\": \"Topic 8\", \"method\": \"update\"}, {\"args\": [{\"marker.color\": [[\"#B0BEC5\", \"#B0BEC5\", \"#B0BEC5\", \"#B0BEC5\", \"#B0BEC5\", \"#B0BEC5\", \"#B0BEC5\", \"#B0BEC5\", \"#B0BEC5\", \"red\", \"#B0BEC5\", \"#B0BEC5\", \"#B0BEC5\", \"#B0BEC5\", \"#B0BEC5\", \"#B0BEC5\"]]}], \"label\": \"Topic 9\", \"method\": \"update\"}, {\"args\": [{\"marker.color\": [[\"#B0BEC5\", \"#B0BEC5\", \"#B0BEC5\", \"#B0BEC5\", \"#B0BEC5\", \"#B0BEC5\", \"#B0BEC5\", \"#B0BEC5\", \"#B0BEC5\", \"#B0BEC5\", \"red\", \"#B0BEC5\", \"#B0BEC5\", \"#B0BEC5\", \"#B0BEC5\", \"#B0BEC5\"]]}], \"label\": \"Topic 10\", \"method\": \"update\"}, {\"args\": [{\"marker.color\": [[\"#B0BEC5\", \"#B0BEC5\", \"#B0BEC5\", \"#B0BEC5\", \"#B0BEC5\", \"#B0BEC5\", \"#B0BEC5\", \"#B0BEC5\", \"#B0BEC5\", \"#B0BEC5\", \"#B0BEC5\", \"red\", \"#B0BEC5\", \"#B0BEC5\", \"#B0BEC5\", \"#B0BEC5\"]]}], \"label\": \"Topic 11\", \"method\": \"update\"}, {\"args\": [{\"marker.color\": [[\"#B0BEC5\", \"#B0BEC5\", \"#B0BEC5\", \"#B0BEC5\", \"#B0BEC5\", \"#B0BEC5\", \"#B0BEC5\", \"#B0BEC5\", \"#B0BEC5\", \"#B0BEC5\", \"#B0BEC5\", \"#B0BEC5\", \"red\", \"#B0BEC5\", \"#B0BEC5\", \"#B0BEC5\"]]}], \"label\": \"Topic 12\", \"method\": \"update\"}, {\"args\": [{\"marker.color\": [[\"#B0BEC5\", \"#B0BEC5\", \"#B0BEC5\", \"#B0BEC5\", \"#B0BEC5\", \"#B0BEC5\", \"#B0BEC5\", \"#B0BEC5\", \"#B0BEC5\", \"#B0BEC5\", \"#B0BEC5\", \"#B0BEC5\", \"#B0BEC5\", \"red\", \"#B0BEC5\", \"#B0BEC5\"]]}], \"label\": \"Topic 13\", \"method\": \"update\"}, {\"args\": [{\"marker.color\": [[\"#B0BEC5\", \"#B0BEC5\", \"#B0BEC5\", \"#B0BEC5\", \"#B0BEC5\", \"#B0BEC5\", \"#B0BEC5\", \"#B0BEC5\", \"#B0BEC5\", \"#B0BEC5\", \"#B0BEC5\", \"#B0BEC5\", \"#B0BEC5\", \"#B0BEC5\", \"red\", \"#B0BEC5\"]]}], \"label\": \"Topic 14\", \"method\": \"update\"}, {\"args\": [{\"marker.color\": [[\"#B0BEC5\", \"#B0BEC5\", \"#B0BEC5\", \"#B0BEC5\", \"#B0BEC5\", \"#B0BEC5\", \"#B0BEC5\", \"#B0BEC5\", \"#B0BEC5\", \"#B0BEC5\", \"#B0BEC5\", \"#B0BEC5\", \"#B0BEC5\", \"#B0BEC5\", \"#B0BEC5\", \"red\"]]}], \"label\": \"Topic 15\", \"method\": \"update\"}]}], \"template\": {\"data\": {\"bar\": [{\"error_x\": {\"color\": \"rgb(36,36,36)\"}, \"error_y\": {\"color\": \"rgb(36,36,36)\"}, \"marker\": {\"line\": {\"color\": \"white\", \"width\": 0.5}}, \"type\": \"bar\"}], \"barpolar\": [{\"marker\": {\"line\": {\"color\": \"white\", \"width\": 0.5}}, \"type\": \"barpolar\"}], \"carpet\": [{\"aaxis\": {\"endlinecolor\": \"rgb(36,36,36)\", \"gridcolor\": \"white\", \"linecolor\": \"white\", \"minorgridcolor\": \"white\", \"startlinecolor\": \"rgb(36,36,36)\"}, \"baxis\": {\"endlinecolor\": \"rgb(36,36,36)\", \"gridcolor\": \"white\", \"linecolor\": \"white\", \"minorgridcolor\": \"white\", \"startlinecolor\": \"rgb(36,36,36)\"}, \"type\": \"carpet\"}], \"choropleth\": [{\"colorbar\": {\"outlinewidth\": 1, \"tickcolor\": \"rgb(36,36,36)\", \"ticks\": \"outside\"}, \"type\": \"choropleth\"}], \"contour\": [{\"colorbar\": {\"outlinewidth\": 1, \"tickcolor\": \"rgb(36,36,36)\", \"ticks\": \"outside\"}, \"colorscale\": [[0.0, \"#440154\"], [0.1111111111111111, \"#482878\"], [0.2222222222222222, \"#3e4989\"], [0.3333333333333333, \"#31688e\"], [0.4444444444444444, \"#26828e\"], [0.5555555555555556, \"#1f9e89\"], [0.6666666666666666, \"#35b779\"], [0.7777777777777778, \"#6ece58\"], [0.8888888888888888, \"#b5de2b\"], [1.0, \"#fde725\"]], \"type\": \"contour\"}], \"contourcarpet\": [{\"colorbar\": {\"outlinewidth\": 1, \"tickcolor\": \"rgb(36,36,36)\", \"ticks\": \"outside\"}, \"type\": \"contourcarpet\"}], \"heatmap\": [{\"colorbar\": {\"outlinewidth\": 1, \"tickcolor\": \"rgb(36,36,36)\", \"ticks\": \"outside\"}, \"colorscale\": [[0.0, \"#440154\"], [0.1111111111111111, \"#482878\"], [0.2222222222222222, \"#3e4989\"], [0.3333333333333333, \"#31688e\"], [0.4444444444444444, \"#26828e\"], [0.5555555555555556, \"#1f9e89\"], [0.6666666666666666, \"#35b779\"], [0.7777777777777778, \"#6ece58\"], [0.8888888888888888, \"#b5de2b\"], [1.0, \"#fde725\"]], \"type\": \"heatmap\"}], \"heatmapgl\": [{\"colorbar\": {\"outlinewidth\": 1, \"tickcolor\": \"rgb(36,36,36)\", \"ticks\": \"outside\"}, \"colorscale\": [[0.0, \"#440154\"], [0.1111111111111111, \"#482878\"], [0.2222222222222222, \"#3e4989\"], [0.3333333333333333, \"#31688e\"], [0.4444444444444444, \"#26828e\"], [0.5555555555555556, \"#1f9e89\"], [0.6666666666666666, \"#35b779\"], [0.7777777777777778, \"#6ece58\"], [0.8888888888888888, \"#b5de2b\"], [1.0, \"#fde725\"]], \"type\": \"heatmapgl\"}], \"histogram\": [{\"marker\": {\"line\": {\"color\": \"white\", \"width\": 0.6}}, \"type\": \"histogram\"}], \"histogram2d\": [{\"colorbar\": {\"outlinewidth\": 1, \"tickcolor\": \"rgb(36,36,36)\", \"ticks\": \"outside\"}, \"colorscale\": [[0.0, \"#440154\"], [0.1111111111111111, \"#482878\"], [0.2222222222222222, \"#3e4989\"], [0.3333333333333333, \"#31688e\"], [0.4444444444444444, \"#26828e\"], [0.5555555555555556, \"#1f9e89\"], [0.6666666666666666, \"#35b779\"], [0.7777777777777778, \"#6ece58\"], [0.8888888888888888, \"#b5de2b\"], [1.0, \"#fde725\"]], \"type\": \"histogram2d\"}], \"histogram2dcontour\": [{\"colorbar\": {\"outlinewidth\": 1, \"tickcolor\": \"rgb(36,36,36)\", \"ticks\": \"outside\"}, \"colorscale\": [[0.0, \"#440154\"], [0.1111111111111111, \"#482878\"], [0.2222222222222222, \"#3e4989\"], [0.3333333333333333, \"#31688e\"], [0.4444444444444444, \"#26828e\"], [0.5555555555555556, \"#1f9e89\"], [0.6666666666666666, \"#35b779\"], [0.7777777777777778, \"#6ece58\"], [0.8888888888888888, \"#b5de2b\"], [1.0, \"#fde725\"]], \"type\": \"histogram2dcontour\"}], \"mesh3d\": [{\"colorbar\": {\"outlinewidth\": 1, \"tickcolor\": \"rgb(36,36,36)\", \"ticks\": \"outside\"}, \"type\": \"mesh3d\"}], \"parcoords\": [{\"line\": {\"colorbar\": {\"outlinewidth\": 1, \"tickcolor\": \"rgb(36,36,36)\", \"ticks\": \"outside\"}}, \"type\": \"parcoords\"}], \"pie\": [{\"automargin\": true, \"type\": \"pie\"}], \"scatter\": [{\"marker\": {\"colorbar\": {\"outlinewidth\": 1, \"tickcolor\": \"rgb(36,36,36)\", \"ticks\": \"outside\"}}, \"type\": \"scatter\"}], \"scatter3d\": [{\"line\": {\"colorbar\": {\"outlinewidth\": 1, \"tickcolor\": \"rgb(36,36,36)\", \"ticks\": \"outside\"}}, \"marker\": {\"colorbar\": {\"outlinewidth\": 1, \"tickcolor\": \"rgb(36,36,36)\", \"ticks\": \"outside\"}}, \"type\": \"scatter3d\"}], \"scattercarpet\": [{\"marker\": {\"colorbar\": {\"outlinewidth\": 1, \"tickcolor\": \"rgb(36,36,36)\", \"ticks\": \"outside\"}}, \"type\": \"scattercarpet\"}], \"scattergeo\": [{\"marker\": {\"colorbar\": {\"outlinewidth\": 1, \"tickcolor\": \"rgb(36,36,36)\", \"ticks\": \"outside\"}}, \"type\": \"scattergeo\"}], \"scattergl\": [{\"marker\": {\"colorbar\": {\"outlinewidth\": 1, \"tickcolor\": \"rgb(36,36,36)\", \"ticks\": \"outside\"}}, \"type\": \"scattergl\"}], \"scattermapbox\": [{\"marker\": {\"colorbar\": {\"outlinewidth\": 1, \"tickcolor\": \"rgb(36,36,36)\", \"ticks\": \"outside\"}}, \"type\": \"scattermapbox\"}], \"scatterpolar\": [{\"marker\": {\"colorbar\": {\"outlinewidth\": 1, \"tickcolor\": \"rgb(36,36,36)\", \"ticks\": \"outside\"}}, \"type\": \"scatterpolar\"}], \"scatterpolargl\": [{\"marker\": {\"colorbar\": {\"outlinewidth\": 1, \"tickcolor\": \"rgb(36,36,36)\", \"ticks\": \"outside\"}}, \"type\": \"scatterpolargl\"}], \"scatterternary\": [{\"marker\": {\"colorbar\": {\"outlinewidth\": 1, \"tickcolor\": \"rgb(36,36,36)\", \"ticks\": \"outside\"}}, \"type\": \"scatterternary\"}], \"surface\": [{\"colorbar\": {\"outlinewidth\": 1, \"tickcolor\": \"rgb(36,36,36)\", \"ticks\": \"outside\"}, \"colorscale\": [[0.0, \"#440154\"], [0.1111111111111111, \"#482878\"], [0.2222222222222222, \"#3e4989\"], [0.3333333333333333, \"#31688e\"], [0.4444444444444444, \"#26828e\"], [0.5555555555555556, \"#1f9e89\"], [0.6666666666666666, \"#35b779\"], [0.7777777777777778, \"#6ece58\"], [0.8888888888888888, \"#b5de2b\"], [1.0, \"#fde725\"]], \"type\": \"surface\"}], \"table\": [{\"cells\": {\"fill\": {\"color\": \"rgb(237,237,237)\"}, \"line\": {\"color\": \"white\"}}, \"header\": {\"fill\": {\"color\": \"rgb(217,217,217)\"}, \"line\": {\"color\": \"white\"}}, \"type\": \"table\"}]}, \"layout\": {\"annotationdefaults\": {\"arrowhead\": 0, \"arrowwidth\": 1}, \"autotypenumbers\": \"strict\", \"coloraxis\": {\"colorbar\": {\"outlinewidth\": 1, \"tickcolor\": \"rgb(36,36,36)\", \"ticks\": \"outside\"}}, \"colorscale\": {\"diverging\": [[0.0, \"rgb(103,0,31)\"], [0.1, \"rgb(178,24,43)\"], [0.2, \"rgb(214,96,77)\"], [0.3, \"rgb(244,165,130)\"], [0.4, \"rgb(253,219,199)\"], [0.5, \"rgb(247,247,247)\"], [0.6, \"rgb(209,229,240)\"], [0.7, \"rgb(146,197,222)\"], [0.8, \"rgb(67,147,195)\"], [0.9, \"rgb(33,102,172)\"], [1.0, \"rgb(5,48,97)\"]], \"sequential\": [[0.0, \"#440154\"], [0.1111111111111111, \"#482878\"], [0.2222222222222222, \"#3e4989\"], [0.3333333333333333, \"#31688e\"], [0.4444444444444444, \"#26828e\"], [0.5555555555555556, \"#1f9e89\"], [0.6666666666666666, \"#35b779\"], [0.7777777777777778, \"#6ece58\"], [0.8888888888888888, \"#b5de2b\"], [1.0, \"#fde725\"]], \"sequentialminus\": [[0.0, \"#440154\"], [0.1111111111111111, \"#482878\"], [0.2222222222222222, \"#3e4989\"], [0.3333333333333333, \"#31688e\"], [0.4444444444444444, \"#26828e\"], [0.5555555555555556, \"#1f9e89\"], [0.6666666666666666, \"#35b779\"], [0.7777777777777778, \"#6ece58\"], [0.8888888888888888, \"#b5de2b\"], [1.0, \"#fde725\"]]}, \"colorway\": [\"#1F77B4\", \"#FF7F0E\", \"#2CA02C\", \"#D62728\", \"#9467BD\", \"#8C564B\", \"#E377C2\", \"#7F7F7F\", \"#BCBD22\", \"#17BECF\"], \"font\": {\"color\": \"rgb(36,36,36)\"}, \"geo\": {\"bgcolor\": \"white\", \"lakecolor\": \"white\", \"landcolor\": \"white\", \"showlakes\": true, \"showland\": true, \"subunitcolor\": \"white\"}, \"hoverlabel\": {\"align\": \"left\"}, \"hovermode\": \"closest\", \"mapbox\": {\"style\": \"light\"}, \"paper_bgcolor\": \"white\", \"plot_bgcolor\": \"white\", \"polar\": {\"angularaxis\": {\"gridcolor\": \"rgb(232,232,232)\", \"linecolor\": \"rgb(36,36,36)\", \"showgrid\": false, \"showline\": true, \"ticks\": \"outside\"}, \"bgcolor\": \"white\", \"radialaxis\": {\"gridcolor\": \"rgb(232,232,232)\", \"linecolor\": \"rgb(36,36,36)\", \"showgrid\": false, \"showline\": true, \"ticks\": \"outside\"}}, \"scene\": {\"xaxis\": {\"backgroundcolor\": \"white\", \"gridcolor\": \"rgb(232,232,232)\", \"gridwidth\": 2, \"linecolor\": \"rgb(36,36,36)\", \"showbackground\": true, \"showgrid\": false, \"showline\": true, \"ticks\": \"outside\", \"zeroline\": false, \"zerolinecolor\": \"rgb(36,36,36)\"}, \"yaxis\": {\"backgroundcolor\": \"white\", \"gridcolor\": \"rgb(232,232,232)\", \"gridwidth\": 2, \"linecolor\": \"rgb(36,36,36)\", \"showbackground\": true, \"showgrid\": false, \"showline\": true, \"ticks\": \"outside\", \"zeroline\": false, \"zerolinecolor\": \"rgb(36,36,36)\"}, \"zaxis\": {\"backgroundcolor\": \"white\", \"gridcolor\": \"rgb(232,232,232)\", \"gridwidth\": 2, \"linecolor\": \"rgb(36,36,36)\", \"showbackground\": true, \"showgrid\": false, \"showline\": true, \"ticks\": \"outside\", \"zeroline\": false, \"zerolinecolor\": \"rgb(36,36,36)\"}}, \"shapedefaults\": {\"fillcolor\": \"black\", \"line\": {\"width\": 0}, \"opacity\": 0.3}, \"ternary\": {\"aaxis\": {\"gridcolor\": \"rgb(232,232,232)\", \"linecolor\": \"rgb(36,36,36)\", \"showgrid\": false, \"showline\": true, \"ticks\": \"outside\"}, \"baxis\": {\"gridcolor\": \"rgb(232,232,232)\", \"linecolor\": \"rgb(36,36,36)\", \"showgrid\": false, \"showline\": true, \"ticks\": \"outside\"}, \"bgcolor\": \"white\", \"caxis\": {\"gridcolor\": \"rgb(232,232,232)\", \"linecolor\": \"rgb(36,36,36)\", \"showgrid\": false, \"showline\": true, \"ticks\": \"outside\"}}, \"title\": {\"x\": 0.05}, \"xaxis\": {\"automargin\": true, \"gridcolor\": \"rgb(232,232,232)\", \"linecolor\": \"rgb(36,36,36)\", \"showgrid\": false, \"showline\": true, \"ticks\": \"outside\", \"title\": {\"standoff\": 15}, \"zeroline\": false, \"zerolinecolor\": \"rgb(36,36,36)\"}, \"yaxis\": {\"automargin\": true, \"gridcolor\": \"rgb(232,232,232)\", \"linecolor\": \"rgb(36,36,36)\", \"showgrid\": false, \"showline\": true, \"ticks\": \"outside\", \"title\": {\"standoff\": 15}, \"zeroline\": false, \"zerolinecolor\": \"rgb(36,36,36)\"}}}, \"title\": {\"font\": {\"color\": \"Black\", \"size\": 22}, \"text\": \"<b>Intertopic Distance Map\", \"x\": 0.5, \"xanchor\": \"center\", \"y\": 0.95, \"yanchor\": \"top\"}, \"width\": 650, \"xaxis\": {\"anchor\": \"y\", \"domain\": [0.0, 1.0], \"range\": [-4.3673335313797, 21.5671347618103], \"title\": {\"text\": \"\"}, \"visible\": false}, \"yaxis\": {\"anchor\": \"x\", \"domain\": [0.0, 1.0], \"range\": [-5.73624267578125, 18.58404150009155], \"title\": {\"text\": \"\"}, \"visible\": false}},                        {\"responsive\": true}                    ).then(function(){\n",
              "                            \n",
              "var gd = document.getElementById('ac69d6ec-dc31-4788-9b4e-e9d61b6e2c59');\n",
              "var x = new MutationObserver(function (mutations, observer) {{\n",
              "        var display = window.getComputedStyle(gd).display;\n",
              "        if (!display || display === 'none') {{\n",
              "            console.log([gd, 'removed!']);\n",
              "            Plotly.purge(gd);\n",
              "            observer.disconnect();\n",
              "        }}\n",
              "}});\n",
              "\n",
              "// Listen for the removal of the full notebook cells\n",
              "var notebookContainer = gd.closest('#notebook-container');\n",
              "if (notebookContainer) {{\n",
              "    x.observe(notebookContainer, {childList: true});\n",
              "}}\n",
              "\n",
              "// Listen for the clearing of the current output cell\n",
              "var outputEl = gd.closest('.output');\n",
              "if (outputEl) {{\n",
              "    x.observe(outputEl, {childList: true});\n",
              "}}\n",
              "\n",
              "                        })                };                            </script>        </div>\n",
              "</body>\n",
              "</html>"
            ]
          },
          "metadata": {
            "tags": []
          }
        }
      ]
    },
    {
      "cell_type": "code",
      "metadata": {
        "colab": {
          "base_uri": "https://localhost:8080/",
          "height": 182
        },
        "id": "5G-0mNOEzno8",
        "outputId": "4acf22e2-4e63-494c-848e-a8422eb6ffda"
      },
      "source": [
        "#Dynamic Topic Modeling\n",
        "import pandas as pd\n",
        "df = pd.read_csv(\"Article_information.csv\",encoding=\"ISO-8859-1\")\n",
        "df.head(1)"
      ],
      "execution_count": null,
      "outputs": [
        {
          "output_type": "execute_result",
          "data": {
            "text/html": [
              "<div>\n",
              "<style scoped>\n",
              "    .dataframe tbody tr th:only-of-type {\n",
              "        vertical-align: middle;\n",
              "    }\n",
              "\n",
              "    .dataframe tbody tr th {\n",
              "        vertical-align: top;\n",
              "    }\n",
              "\n",
              "    .dataframe thead th {\n",
              "        text-align: right;\n",
              "    }\n",
              "</style>\n",
              "<table border=\"1\" class=\"dataframe\">\n",
              "  <thead>\n",
              "    <tr style=\"text-align: right;\">\n",
              "      <th></th>\n",
              "      <th>Unnamed: 0</th>\n",
              "      <th>Article_id</th>\n",
              "      <th>Venue</th>\n",
              "      <th>Title</th>\n",
              "      <th>Year</th>\n",
              "      <th>Abstract</th>\n",
              "      <th>Doi</th>\n",
              "      <th>fieldsOfStudy</th>\n",
              "      <th>topics</th>\n",
              "      <th>Downloadurl</th>\n",
              "      <th>TotalCitationCount</th>\n",
              "      <th>TotalDownloadCount</th>\n",
              "      <th>Influentialcitationcount</th>\n",
              "    </tr>\n",
              "  </thead>\n",
              "  <tbody>\n",
              "    <tr>\n",
              "      <th>0</th>\n",
              "      <td>0</td>\n",
              "      <td>https://doi.org/10.1145/511285.511286</td>\n",
              "      <td>SIGIR '71</td>\n",
              "      <td>Introduction and perspectives for the 1971 ACM...</td>\n",
              "      <td>1971</td>\n",
              "      <td>introduction prospectives provided 1971 acm in...</td>\n",
              "      <td>10.1145/511285.511286</td>\n",
              "      <td>Computer Science</td>\n",
              "      <td>Information retrieval,Document retrieval</td>\n",
              "      <td>https://dl.acm.org/doi/pdf/10.1145/511285.5112...</td>\n",
              "      <td>0</td>\n",
              "      <td>222</td>\n",
              "      <td>0</td>\n",
              "    </tr>\n",
              "  </tbody>\n",
              "</table>\n",
              "</div>"
            ],
            "text/plain": [
              "   Unnamed: 0  ... Influentialcitationcount\n",
              "0           0  ...                        0\n",
              "\n",
              "[1 rows x 13 columns]"
            ]
          },
          "metadata": {
            "tags": []
          },
          "execution_count": 66
        }
      ]
    },
    {
      "cell_type": "code",
      "metadata": {
        "id": "XCHjNha_zwiF"
      },
      "source": [
        "import re\n",
        "import pandas as pd\n",
        "df.Title = df.apply(lambda row: re.sub(r\"http\\S+\", \"\", row.Abstract).lower(), 1)\n",
        "df.text = df.apply(lambda row: \" \".join(filter(lambda x:x[0]!=\"@\", row.Abstract.split())), 1)\n",
        "df.text = df.apply(lambda row: \" \".join(re.sub(\"[^a-zA-Z]+\", \" \", row.Abstract).split()), 1)\n",
        "year = df.Year.to_list()\n",
        "title = df.Abstract.to_list()"
      ],
      "execution_count": null,
      "outputs": []
    },
    {
      "cell_type": "code",
      "metadata": {
        "colab": {
          "base_uri": "https://localhost:8080/",
          "height": 120,
          "referenced_widgets": [
            "369d7ccf15894164838ce1cb66d28a13",
            "187dbb9e650046feabf72a36065fc902",
            "bd455e07a6314672b03a683931c2529a",
            "f3ab424590774854ba7d66fbdcfe3793",
            "d22c92aafae64b948125b1ebe7d1d59e",
            "6afc31aee80b4ccda1833f009bcd94ed",
            "d0ff7df3ac614d76983efb441d1cc03c",
            "7bac7ba2e1cd49d4a3acc7c02d3f21b5"
          ]
        },
        "id": "tUOpVQDr0zVW",
        "outputId": "51456e54-728b-4333-c9ee-70236a2e210d"
      },
      "source": [
        "from bertopic import BERTopic\n",
        "\n",
        "model = BERTopic(verbose=True)\n",
        "topics, _ = model.fit_transform(title)"
      ],
      "execution_count": null,
      "outputs": [
        {
          "output_type": "display_data",
          "data": {
            "application/vnd.jupyter.widget-view+json": {
              "model_id": "369d7ccf15894164838ce1cb66d28a13",
              "version_minor": 0,
              "version_major": 2
            },
            "text/plain": [
              "HBox(children=(FloatProgress(value=0.0, description='Batches', max=139.0, style=ProgressStyle(description_widt…"
            ]
          },
          "metadata": {
            "tags": []
          }
        },
        {
          "output_type": "stream",
          "text": [
            "2021-07-25 19:39:31,733 - BERTopic - Transformed documents to Embeddings\n"
          ],
          "name": "stderr"
        },
        {
          "output_type": "stream",
          "text": [
            "\n"
          ],
          "name": "stdout"
        },
        {
          "output_type": "stream",
          "text": [
            "2021-07-25 19:39:41,688 - BERTopic - Reduced dimensionality with UMAP\n",
            "2021-07-25 19:39:41,900 - BERTopic - Clustered UMAP embeddings with HDBSCAN\n"
          ],
          "name": "stderr"
        }
      ]
    },
    {
      "cell_type": "code",
      "metadata": {
        "colab": {
          "base_uri": "https://localhost:8080/"
        },
        "id": "9DedaZfDm8h9",
        "outputId": "9a893c9d-e3a8-4364-aa2f-55156872b8ac"
      },
      "source": [
        "topics_over_time = model.topics_over_time(title, topics, year)\n",
        "topics_over_time.to_csv(\"dynamic topics.csv\")"
      ],
      "execution_count": null,
      "outputs": [
        {
          "output_type": "stream",
          "text": [
            "\n",
            "\n",
            "0it [00:00, ?it/s]\u001b[A\u001b[A\n",
            "\n",
            "1it [00:01,  1.95s/it]\u001b[A\u001b[A\n",
            "\n",
            "2it [00:03,  1.77s/it]\u001b[A\u001b[A\n",
            "\n",
            "3it [00:05,  1.78s/it]\u001b[A\u001b[A\n",
            "\n",
            "4it [00:07,  2.11s/it]\u001b[A\u001b[A\n",
            "\n",
            "5it [00:10,  2.37s/it]\u001b[A\u001b[A\n",
            "\n",
            "6it [00:14,  2.67s/it]\u001b[A\u001b[A\n",
            "\n",
            "7it [00:16,  2.52s/it]\u001b[A\u001b[A\n",
            "\n",
            "8it [00:20,  2.93s/it]\u001b[A\u001b[A\n",
            "\n",
            "9it [00:23,  3.09s/it]\u001b[A\u001b[A\n",
            "\n",
            "10it [00:27,  3.34s/it]\u001b[A\u001b[A\n",
            "\n",
            "11it [00:30,  3.12s/it]\u001b[A\u001b[A\n",
            "\n",
            "12it [00:33,  3.21s/it]\u001b[A\u001b[A\n",
            "\n",
            "13it [00:37,  3.21s/it]\u001b[A\u001b[A\n",
            "\n",
            "14it [00:40,  3.25s/it]\u001b[A\u001b[A\n",
            "\n",
            "15it [00:45,  3.72s/it]\u001b[A\u001b[A\n",
            "\n",
            "16it [00:49,  3.78s/it]\u001b[A\u001b[A\n",
            "\n",
            "17it [00:53,  4.09s/it]\u001b[A\u001b[A\n",
            "\n",
            "18it [00:58,  4.36s/it]\u001b[A\u001b[A\n",
            "\n",
            "19it [01:04,  4.83s/it]\u001b[A\u001b[A\n",
            "\n",
            "20it [01:11,  5.51s/it]\u001b[A\u001b[A\n",
            "\n",
            "21it [01:19,  6.00s/it]\u001b[A\u001b[A\n",
            "\n",
            "22it [01:26,  6.48s/it]\u001b[A\u001b[A\n",
            "\n",
            "23it [01:35,  7.16s/it]\u001b[A\u001b[A\n",
            "\n",
            "24it [01:43,  7.50s/it]\u001b[A\u001b[A\n",
            "\n",
            "25it [01:52,  7.92s/it]\u001b[A\u001b[A\n",
            "\n",
            "26it [02:03,  8.90s/it]\u001b[A\u001b[A\n",
            "\n",
            "27it [02:14,  9.37s/it]\u001b[A\u001b[A\n",
            "\n",
            "28it [02:25,  9.89s/it]\u001b[A\u001b[A\n",
            "\n",
            "29it [02:35,  9.98s/it]\u001b[A\u001b[A\n",
            "\n",
            "30it [02:46, 10.23s/it]\u001b[A\u001b[A\n",
            "\n",
            "31it [02:57, 10.38s/it]\u001b[A\u001b[A\n",
            "\n",
            "32it [03:09, 11.03s/it]\u001b[A\u001b[A\n",
            "\n",
            "33it [03:20, 11.01s/it]\u001b[A\u001b[A\n",
            "\n",
            "34it [03:30, 10.68s/it]\u001b[A\u001b[A\n",
            "\n",
            "35it [03:42, 10.94s/it]\u001b[A\u001b[A\n",
            "\n",
            "36it [03:52, 10.92s/it]\u001b[A\u001b[A\n",
            "\n",
            "37it [04:03, 10.77s/it]\u001b[A\u001b[A\n",
            "\n",
            "38it [04:13,  6.68s/it]\n"
          ],
          "name": "stderr"
        }
      ]
    },
    {
      "cell_type": "code",
      "metadata": {
        "id": "RV-0DJfQC1fj"
      },
      "source": [
        "from typing import List\n",
        "import plotly.graph_objs as go\n",
        "def visualize_topics_over_time(model,\n",
        "                               topics_over_time: pd.DataFrame,\n",
        "                               top_n_topics: int = None,\n",
        "                               topics: List[int] = None,\n",
        "                               width: int = 1250,\n",
        "                               height: int = 450) -> go.Figure:\n",
        "    \"\"\" Visualize topics over time\n",
        "\n",
        "    Arguments:\n",
        "        topic_model: A fitted BERTopic instance.\n",
        "        topics_over_time: The topics you would like to be visualized with the\n",
        "                          corresponding topic representation\n",
        "        top_n_topics: To visualize the most frequent topics instead of all\n",
        "        topics: Select which topics you would like to be visualized\n",
        "        width: The width of the figure.\n",
        "        height: The height of the figure.\n",
        "\n",
        "    Returns:\n",
        "        A plotly.graph_objects.Figure including all traces\n",
        "\n",
        "    Usage:\n",
        "\n",
        "    To visualize the topics over time, simply run:\n",
        "\n",
        "    ```python\n",
        "    topics_over_time = topic_model.topics_over_time(docs, topics, timestamps)\n",
        "    topic_model.visualize_topics_over_time(topics_over_time)\n",
        "    ```\n",
        "\n",
        "    Or if you want to save the resulting figure:\n",
        "\n",
        "    ```python\n",
        "    fig = topic_model.visualize_topics_over_time(topics_over_time)\n",
        "    fig.write_html(\"path/to/file.html\")\n",
        "    ```\n",
        "    <iframe src=\"../../tutorial/visualization/trump.html\"\n",
        "    style=\"width:1000px; height: 680px; border: 0px;\"\"></iframe>\n",
        "    \"\"\"\n",
        "    colors = [\"#E69F00\", \"#56B4E9\", \"#009E73\", \"#F0E442\", \"#D55E00\", \"#0072B2\", \"#CC79A7\"]\n",
        "\n",
        "    # Select topics\n",
        "    if topics:\n",
        "        selected_topics = topics\n",
        "    elif top_n_topics:\n",
        "        selected_topics = model.get_topic_freq().head(top_n_topics + 1)[1:].Topic.values\n",
        "    else:\n",
        "        selected_topics = model.get_topic_freq().Topic.values\n",
        "\n",
        "    # Prepare data\n",
        "    topic_names = {key: value[:40] + \"...\" if len(value) > 40 else value\n",
        "                   for key, value in model.topic_names.items()}\n",
        "    topics_over_time[\"Name\"] = topics_over_time.Topic.map(topic_names)\n",
        "    data = topics_over_time.loc[topics_over_time.Topic.isin(selected_topics), :]\n",
        "\n",
        "    # Add traces\n",
        "    fig = go.Figure()\n",
        "    for index, topic in enumerate(data.Topic.unique()):\n",
        "        trace_data = data.loc[data.Topic == topic, :]\n",
        "        topic_name = trace_data.Name.values[0]\n",
        "        words = trace_data.Words.values\n",
        "        fig.add_trace(go.Scatter(x=trace_data.Timestamp, y=trace_data.Frequency,\n",
        "                                 mode='lines',\n",
        "                                 marker_color=colors[index % 7],\n",
        "                                 hoverinfo=\"text\",\n",
        "                                 name=topic_name,\n",
        "                                 hovertext=[f'<b>Topic {topic}</b><br>Words: {word}' for word in words]))\n",
        "\n",
        "    # Styling of the visualization\n",
        "    fig.update_xaxes(showgrid=True)\n",
        "    fig.update_yaxes(showgrid=True)\n",
        "    fig.update_layout(\n",
        "        yaxis_title=\"Frequency\",\n",
        "        title={\n",
        "            'text': \"<b>Topics over Time\",\n",
        "            'y': .95,\n",
        "            'x': 0.40,\n",
        "            'xanchor': 'center',\n",
        "            'yanchor': 'top',\n",
        "            'font': dict(\n",
        "                size=22,\n",
        "                color=\"Black\")\n",
        "        },\n",
        "        template=\"simple_white\",\n",
        "        width=width,\n",
        "        height=height,\n",
        "        hoverlabel=dict(\n",
        "            bgcolor=\"white\",\n",
        "            font_size=16,\n",
        "            font_family=\"Rockwell\"\n",
        "        ),\n",
        "        legend=dict(\n",
        "        )\n",
        "    )\n",
        "    return fig\n"
      ],
      "execution_count": null,
      "outputs": []
    },
    {
      "cell_type": "code",
      "metadata": {
        "colab": {
          "base_uri": "https://localhost:8080/",
          "height": 486
        },
        "id": "jCJxcOAC5r-b",
        "outputId": "5934bee7-b3ef-429c-cd1f-97d55ca1cc6b"
      },
      "source": [
        "model.visualize_topics_over_time(topics_over_time, top_n_topics=16)"
      ],
      "execution_count": null,
      "outputs": [
        {
          "output_type": "display_data",
          "data": {
            "text/html": [
              "<html>\n",
              "<head><meta charset=\"utf-8\" /></head>\n",
              "<body>\n",
              "    <div>            <script src=\"https://cdnjs.cloudflare.com/ajax/libs/mathjax/2.7.5/MathJax.js?config=TeX-AMS-MML_SVG\"></script><script type=\"text/javascript\">if (window.MathJax) {MathJax.Hub.Config({SVG: {font: \"STIX-Web\"}});}</script>                <script type=\"text/javascript\">window.PlotlyConfig = {MathJaxConfig: 'local'};</script>\n",
              "        <script src=\"https://cdn.plot.ly/plotly-latest.min.js\"></script>                <div id=\"bd053f07-969c-4269-9a40-a03fe32edb07\" class=\"plotly-graph-div\" style=\"height:450px; width:1250px;\"></div>            <script type=\"text/javascript\">                                    window.PLOTLYENV=window.PLOTLYENV || {};                                    if (document.getElementById(\"bd053f07-969c-4269-9a40-a03fe32edb07\")) {                    Plotly.newPlot(                        \"bd053f07-969c-4269-9a40-a03fe32edb07\",                        [{\"hoverinfo\": \"text\", \"hovertext\": [\"<b>Topic 10</b><br>Words: grammatical, hebrew, variants, vowels, punctuation\", \"<b>Topic 10</b><br>Words: ngrams, german, speech, text, spelling\", \"<b>Topic 10</b><br>Words: phonographic, correction, typographical, linguistic, predefining\", \"<b>Topic 10</b><br>Words: wordbased, spellingcorrection, english, searches, ngram\", \"<b>Topic 10</b><br>Words: chinese, linguistic, recognition, vocabulary, wordbased\", \"<b>Topic 10</b><br>Words: recognition, phonemes, phoneme, wordbased, ngram\", \"<b>Topic 10</b><br>Words: speech, spoken, recognition, word, words\", \"<b>Topic 10</b><br>Words: speech, spoken, word, words, phonotacticsemantic\", \"<b>Topic 10</b><br>Words: spoken, transcripts, pronunciations, transcription, languages\", \"<b>Topic 10</b><br>Words: pos, segmentation, pelws, pel, recognition\", \"<b>Topic 10</b><br>Words: spoken, contextualisation, speech, foreign, ngram\"], \"marker\": {\"color\": \"#E69F00\"}, \"mode\": \"lines\", \"name\": \"10_spoken_recognition_words_ngram\", \"type\": \"scatter\", \"x\": [1970.952, 1983.8, 1987.0, 1990.2, 1993.4, 1996.6, 1999.8, 2003.0, 2006.2, 2012.6, 2015.8], \"y\": [1, 3, 2, 2, 7, 13, 12, 10, 12, 7, 4]}, {\"hoverinfo\": \"text\", \"hovertext\": [\"<b>Topic 11</b><br>Words: stored, items, hierarchy, directory, associativenetstructured\", \"<b>Topic 11</b><br>Words: bsql, relational, describes, underlinesunderlinetructured, underlinequnderlineuery\", \"<b>Topic 11</b><br>Words: parser, transportability, dbms, database, databases\", \"<b>Topic 11</b><br>Words: describes, artificial, environmental, linguistic, described\", \"<b>Topic 11</b><br>Words: facilities, indexing, system, interface, expert\", \"<b>Topic 11</b><br>Words: indexing, describes, sbn, opac, associative\", \"<b>Topic 11</b><br>Words: paradigm, ir, descriptor, design, induction\", \"<b>Topic 11</b><br>Words: category, indexing, categories, hierarchy, menus\", \"<b>Topic 11</b><br>Words: answerfinding, videoonly, visual, userdefined, colour\", \"<b>Topic 11</b><br>Words: gene, go, annotation, fisc, genomics\", \"<b>Topic 11</b><br>Words: projections, forums, aesthetically, colors, replies\", \"<b>Topic 11</b><br>Words: predictons, foundations, ir, engineering, experimentation\", \"<b>Topic 11</b><br>Words: medicinal, virlab, plants, querys, application\", \"<b>Topic 11</b><br>Words: mention, collection, informal, item, forum\"], \"marker\": {\"color\": \"#56B4E9\"}, \"mode\": \"lines\", \"name\": \"11_indexing_database_interface_implement...\", \"type\": \"scatter\", \"x\": [1970.952, 1977.4, 1980.6, 1983.8, 1987.0, 1990.2, 1993.4, 1996.6, 1999.8, 2003.0, 2006.2, 2009.4, 2012.6, 2015.8], \"y\": [1, 1, 3, 9, 13, 8, 2, 5, 6, 6, 4, 2, 4, 5]}, {\"hoverinfo\": \"text\", \"hovertext\": [\"<b>Topic 12</b><br>Words: rel, english, syntactic, language, translation\", \"<b>Topic 12</b><br>Words: oxford, dictionary, oed, computerize, printed\", \"<b>Topic 12</b><br>Words: phonetic, translation, multilingual, crosslartguage, soundex\", \"<b>Topic 12</b><br>Words: translation, crosslanguage, dictionary, translated, dictionaries\", \"<b>Topic 12</b><br>Words: translation, bilingual, crosslanguage, translations, transliteration\", \"<b>Topic 12</b><br>Words: translation, crosslanguage, translations, bilingual, dictionaries\", \"<b>Topic 12</b><br>Words: transliteration, translation, languages, crosslanguage, language\", \"<b>Topic 12</b><br>Words: translation, crosslanguage, translated, translations, german\", \"<b>Topic 12</b><br>Words: translation, transliterated, spelling, languages, crosslanguage\", \"<b>Topic 12</b><br>Words: translation, crosslingual, crosslanguage, translations, bilingual\"], \"marker\": {\"color\": \"#009E73\"}, \"mode\": \"lines\", \"name\": \"12_translation_crosslanguage_bilingual_t...\", \"type\": \"scatter\", \"x\": [1970.952, 1983.8, 1993.4, 1996.6, 1999.8, 2003.0, 2006.2, 2009.4, 2012.6, 2015.8], \"y\": [1, 1, 2, 7, 17, 13, 6, 7, 5, 6]}, {\"hoverinfo\": \"text\", \"hovertext\": [\"<b>Topic 13</b><br>Words: preliminaries, classification, limit, indicates, determining\", \"<b>Topic 13</b><br>Words: record, records, dsrs, describedparticular, quicklookmonitor\", \"<b>Topic 13</b><br>Words: fuzzy, tp, probabilistic, scheme, schmes\", \"<b>Topic 13</b><br>Words: pvalues, procedures, ellipsoids, ovals, conventional\", \"<b>Topic 13</b><br>Words: dsubscrptmsubscrptitalic, polynomial, probabilistic, requests, italicsupscrpttsupscrpt\", \"<b>Topic 13</b><br>Words: ferret, ferrets, neurons, lexical, websters\", \"<b>Topic 13</b><br>Words: keys, rear, transitions, strings, schemes\", \"<b>Topic 13</b><br>Words: subtopic, passage, answering, retrieval, retriever\", \"<b>Topic 13</b><br>Words: constraints, contextual, retrieval, heuristics, clusterbased\", \"<b>Topic 13</b><br>Words: parameters, ranknet, bagofwords, models, retrieval\", \"<b>Topic 13</b><br>Words: temporal, timeaware, modality, cbir, dimension\", \"<b>Topic 13</b><br>Words: umeasure, bagofwords, erwd, bagofconcepts, trailtext\", \"<b>Topic 13</b><br>Words: heuristics, reading, passage, collection, retrieval\"], \"marker\": {\"color\": \"#F0E442\"}, \"mode\": \"lines\", \"name\": \"13_retrieval_heuristics_relevance_constr...\", \"type\": \"scatter\", \"x\": [1970.952, 1977.4, 1980.6, 1983.8, 1987.0, 1990.2, 1993.4, 1999.8, 2003.0, 2006.2, 2009.4, 2012.6, 2015.8], \"y\": [1, 4, 3, 3, 5, 3, 4, 5, 9, 9, 5, 6, 8]}, {\"hoverinfo\": \"text\", \"hovertext\": [\"<b>Topic 5</b><br>Words: clustering, bottomup, cluster, organization, classifications\", \"<b>Topic 5</b><br>Words: clustering, clusters, organization, cluster, problems1\", \"<b>Topic 5</b><br>Words: clustering, clusters, cluster, algorithm, bsp\", \"<b>Topic 5</b><br>Words: clustering, cluster, scattergather, hypertext, clusters\", \"<b>Topic 5</b><br>Words: scattergather, clustering, browsing, tendency, cluster\", \"<b>Topic 5</b><br>Words: clustering, clusters, speed, cluster, clusterbased\", \"<b>Topic 5</b><br>Words: clustering, cluster, clusters, sib, intragroup\", \"<b>Topic 5</b><br>Words: clustering, clusters, cluster, nmf, mixedinitiative\", \"<b>Topic 5</b><br>Words: clustering, clusters, cluster, prc, matrix\", \"<b>Topic 5</b><br>Words: clustering, clusters, cluster, clusterings, textrank\", \"<b>Topic 5</b><br>Words: clustering, cluster, simrank, clusters, clusterbased\", \"<b>Topic 5</b><br>Words: clustering, cluster, matrix, clusters, nmf\"], \"marker\": {\"color\": \"#D55E00\"}, \"mode\": \"lines\", \"name\": \"5_clustering_cluster_clusters_algorithm\", \"type\": \"scatter\", \"x\": [1977.4, 1980.6, 1983.8, 1990.2, 1993.4, 1996.6, 1999.8, 2003.0, 2006.2, 2009.4, 2012.6, 2015.8], \"y\": [3, 3, 6, 3, 2, 5, 10, 11, 18, 11, 12, 7]}, {\"hoverinfo\": \"text\", \"hovertext\": [\"<b>Topic 7</b><br>Words: manuscript, publication, management, detailed, summarization\", \"<b>Topic 7</b><br>Words: knowledgebased, design, summaries, generating, expert\", \"<b>Topic 7</b><br>Words: summarization, summaries, summmies, summary, summarizes\", \"<b>Topic 7</b><br>Words: summarization, summaries, summary, sentences, sentence\", \"<b>Topic 7</b><br>Words: summarization, summaries, sentences, summary, summarizer\", \"<b>Topic 7</b><br>Words: summarization, summaries, sentences, sentence, summary\", \"<b>Topic 7</b><br>Words: summarization, sentences, summaries, summary, mrc\", \"<b>Topic 7</b><br>Words: summarization, sentences, summary, summaries, multidocument\", \"<b>Topic 7</b><br>Words: sentences, summarization, sentence, summaries, contrastive\", \"<b>Topic 7</b><br>Words: sentences, summarization, summaries, summary, diligence\"], \"marker\": {\"color\": \"#0072B2\"}, \"mode\": \"lines\", \"name\": \"7_summarization_sentences_summaries_sent...\", \"type\": \"scatter\", \"x\": [1977.4, 1980.6, 1993.4, 1996.6, 1999.8, 2003.0, 2006.2, 2009.4, 2012.6, 2015.8], \"y\": [1, 1, 2, 7, 17, 10, 14, 13, 8, 5]}, {\"hoverinfo\": \"text\", \"hovertext\": [\"<b>Topic 0</b><br>Words: subjects, problemsolving, undergraduates, trained, competency\", \"<b>Topic 0</b><br>Words: accessed, stochastic, a1, ohgr, automata\", \"<b>Topic 0</b><br>Words: pawlak82, attributes, pawlak84, pawlaks, boolean\", \"<b>Topic 0</b><br>Words: pseudocosine, testing, productmoment, innerproduct, covariance\", \"<b>Topic 0</b><br>Words: categorization, classifiers, sleepingexperts, minimization, classifier\", \"<b>Topic 0</b><br>Words: classifiers, categorization, knn, learning, automated\", \"<b>Topic 0</b><br>Words: classification, classifiers, categorization, classifier, learning\", \"<b>Topic 0</b><br>Words: classification, svm, categorization, classifiers, ranking\", \"<b>Topic 0</b><br>Words: classification, ranking, learning, svm, feature\", \"<b>Topic 0</b><br>Words: ranking, classification, rank, classifiers, labeling\", \"<b>Topic 0</b><br>Words: learning, classification, ranking, rank, classifier\", \"<b>Topic 0</b><br>Words: learning, neural, ranking, training, classification\"], \"marker\": {\"color\": \"#CC79A7\"}, \"mode\": \"lines\", \"name\": \"0_learning_classification_ranking_rank\", \"type\": \"scatter\", \"x\": [1980.6, 1983.8, 1987.0, 1990.2, 1993.4, 1996.6, 1999.8, 2003.0, 2006.2, 2009.4, 2012.6, 2015.8], \"y\": [1, 1, 1, 2, 4, 7, 29, 26, 45, 51, 21, 91]}, {\"hoverinfo\": \"text\", \"hovertext\": [\"<b>Topic 9</b><br>Words: intermediary, ir, rapp1979, direct, recourse\", \"<b>Topic 9</b><br>Words: caching, computers, pcequipped, storage, eventdriven\", \"<b>Topic 9</b><br>Words: ir, estimation, interdependencies, view, estimate\", \"<b>Topic 9</b><br>Words: ir, evaluation, evaluations, requests, iowa\", \"<b>Topic 9</b><br>Words: ir, rhl, indicator, measure, assessments\", \"<b>Topic 9</b><br>Words: ir, recording, presentation, presented, aof\", \"<b>Topic 9</b><br>Words: irf, ir, wait, failure, systems\", \"<b>Topic 9</b><br>Words: ir, satisfaction, students, evaluation, effectiveness\", \"<b>Topic 9</b><br>Words: ir, evaluation, application, accessibility, evaluations\", \"<b>Topic 9</b><br>Words: ir, research, evaluation, academic, disciplines\", \"<b>Topic 9</b><br>Words: research, evaluation, privacy, experimentation, effort\"], \"marker\": {\"color\": \"#E69F00\"}, \"mode\": \"lines\", \"name\": \"9_ir_research_evaluation_effectiveness\", \"type\": \"scatter\", \"x\": [1980.6, 1983.8, 1987.0, 1993.4, 1996.6, 1999.8, 2003.0, 2006.2, 2009.4, 2012.6, 2015.8], \"y\": [1, 1, 3, 5, 2, 5, 4, 6, 17, 12, 21]}, {\"hoverinfo\": \"text\", \"hovertext\": [\"<b>Topic 15</b><br>Words: extensible, extend, extendable, extendible, extending\", \"<b>Topic 15</b><br>Words: extensible, extend, extendable, extendible, extending\", \"<b>Topic 15</b><br>Words: extensible, extend, extendable, extendible, extending\", \"<b>Topic 15</b><br>Words: extensible, extend, extendable, extendible, extending\", \"<b>Topic 15</b><br>Words: extensible, extend, extendable, extendible, extending\", \"<b>Topic 15</b><br>Words: extensible, extend, extendable, extendible, extending\", \"<b>Topic 15</b><br>Words: extensible, extend, extendable, extendible, extending\", \"<b>Topic 15</b><br>Words: extensible, extend, extendable, extendible, extending\", \"<b>Topic 15</b><br>Words: extensible, extend, extendable, extendible, extending\", \"<b>Topic 15</b><br>Words: extensible, extend, extendable, extendible, extending\"], \"marker\": {\"color\": \"#56B4E9\"}, \"mode\": \"lines\", \"name\": \"15_extensible_extend_extendable_extendib...\", \"type\": \"scatter\", \"x\": [1980.6, 1983.8, 1990.2, 1993.4, 1996.6, 1999.8, 2003.0, 2006.2, 2009.4, 2012.6], \"y\": [3, 3, 6, 17, 7, 12, 10, 1, 1, 2]}, {\"hoverinfo\": \"text\", \"hovertext\": [\"<b>Topic 3</b><br>Words: graphics, maps, graphical, processing, images\", \"<b>Topic 3</b><br>Words: image, images, prototype, machinelearning, video\", \"<b>Topic 3</b><br>Words: image, interpretation, signatures, images, ejjicient\", \"<b>Topic 3</b><br>Words: image, images, objects, feature, rectangularity\", \"<b>Topic 3</b><br>Words: images, image, color, fuzzy, feature\", \"<b>Topic 3</b><br>Words: images, annotation, visual, photographs, shot\", \"<b>Topic 3</b><br>Words: image, video, images, annotation, visual\", \"<b>Topic 3</b><br>Words: image, images, tags, videos, visual\", \"<b>Topic 3</b><br>Words: images, tags, visual, flickr, videos\", \"<b>Topic 3</b><br>Words: images, visual, video, annotation, videos\", \"<b>Topic 3</b><br>Words: video, images, visual, vqa, videos\"], \"marker\": {\"color\": \"#009E73\"}, \"mode\": \"lines\", \"name\": \"3_images_video_visual_annotation\", \"type\": \"scatter\", \"x\": [1983.8, 1987.0, 1990.2, 1993.4, 1996.6, 1999.8, 2003.0, 2006.2, 2009.4, 2012.6, 2015.8], \"y\": [3, 1, 1, 3, 7, 12, 17, 22, 29, 21, 22]}, {\"hoverinfo\": \"text\", \"hovertext\": [\"<b>Topic 6</b><br>Words: simulation, descriptions, wlll, wlth, algorlthm\", \"<b>Topic 6</b><br>Words: views, temporal, events, event, news\", \"<b>Topic 6</b><br>Words: move, visualization, 3space, coloured, interparticle\", \"<b>Topic 6</b><br>Words: events, event, detection, temporal, stories\", \"<b>Topic 6</b><br>Words: stories, event, news, temporal, events\", \"<b>Topic 6</b><br>Words: events, news, temporal, communities, timelines\", \"<b>Topic 6</b><br>Words: temporal, events, time, news, context\", \"<b>Topic 6</b><br>Words: temporal, news, events, event, seasonal\", \"<b>Topic 6</b><br>Words: temporal, events, news, timeaware, context\", \"<b>Topic 6</b><br>Words: event, events, news, temporal, entities\"], \"marker\": {\"color\": \"#F0E442\"}, \"mode\": \"lines\", \"name\": \"6_temporal_events_time_context\", \"type\": \"scatter\", \"x\": [1983.8, 1987.0, 1990.2, 1996.6, 1999.8, 2003.0, 2006.2, 2009.4, 2012.6, 2015.8], \"y\": [1, 1, 1, 4, 7, 7, 11, 16, 23, 19]}, {\"hoverinfo\": \"text\", \"hovertext\": [\"<b>Topic 4</b><br>Words: refinement, searchers, findings, specialists, empirical\", \"<b>Topic 4</b><br>Words: tipster, inquery, formulating, evaluates, routing\", \"<b>Topic 4</b><br>Words: recognitionbased, paraphrase, compounds, terminological, themes\", \"<b>Topic 4</b><br>Words: taxonomy, exibility, clusering, software, opaque\", \"<b>Topic 4</b><br>Words: queries, subwebs, qdl, locations, query\", \"<b>Topic 4</b><br>Words: queries, suggestion, task, subjects, query\", \"<b>Topic 4</b><br>Words: queries, query, subtopics, engine, engines\", \"<b>Topic 4</b><br>Words: queries, task, query, topic, aspects\", \"<b>Topic 4</b><br>Words: queries, query, tasks, diversification, diversity\"], \"marker\": {\"color\": \"#D55E00\"}, \"mode\": \"lines\", \"name\": \"4_queries_query_diversity_task\", \"type\": \"scatter\", \"x\": [1987.0, 1990.2, 1996.6, 1999.8, 2003.0, 2006.2, 2009.4, 2012.6, 2015.8], \"y\": [1, 1, 1, 2, 9, 9, 30, 23, 20]}, {\"hoverinfo\": \"text\", \"hovertext\": [\"<b>Topic 8</b><br>Words: concern, direction, modem, pejtersen, rasmussen\", \"<b>Topic 8</b><br>Words: reviewers, papers, assignment, submitted, manuscripts\", \"<b>Topic 8</b><br>Words: sentiment, homepage, pagerank, hyperlink, homepages\", \"<b>Topic 8</b><br>Words: opinion, sentiment, comments, opinionfinding, blogosphere\", \"<b>Topic 8</b><br>Words: blog, opinion, sentiment, reviews, blogs\", \"<b>Topic 8</b><br>Words: sentiment, reviews, comments, emotion, reviewers\", \"<b>Topic 8</b><br>Words: sentiment, opinion, comments, emotion, emotions\"], \"marker\": {\"color\": \"#0072B2\"}, \"mode\": \"lines\", \"name\": \"8_sentiment_opinion_blog_comments\", \"type\": \"scatter\", \"x\": [1987.0, 1990.2, 2003.0, 2006.2, 2009.4, 2012.6, 2015.8], \"y\": [1, 1, 4, 19, 21, 8, 24]}, {\"hoverinfo\": \"text\", \"hovertext\": [\"<b>Topic 14</b><br>Words: nouns, lexicon, syntactic, newspapers, multiword\", \"<b>Topic 14</b><br>Words: word, words, morphology, morphological, describe\", \"<b>Topic 14</b><br>Words: word, stemming, words, wordword, refuting\", \"<b>Topic 14</b><br>Words: word, routing, words, multiword, distance\", \"<b>Topic 14</b><br>Words: word, disambiguation, pn, words, stemming\", \"<b>Topic 14</b><br>Words: word, protein, katakana, text, lsa\", \"<b>Topic 14</b><br>Words: lexical, hypernym, wordnet, taxonomies, word\", \"<b>Topic 14</b><br>Words: rhetorical, word, text, variants, tlsa\", \"<b>Topic 14</b><br>Words: embeddings, embedding, words, blsreci, bilingual\", \"<b>Topic 14</b><br>Words: embedding, embeddings, text, words, matching\"], \"marker\": {\"color\": \"#CC79A7\"}, \"mode\": \"lines\", \"name\": \"14_text_words_embeddings_embedding\", \"type\": \"scatter\", \"x\": [1987.0, 1990.2, 1993.4, 1996.6, 1999.8, 2003.0, 2006.2, 2009.4, 2012.6, 2015.8], \"y\": [2, 2, 4, 5, 8, 7, 4, 5, 4, 21]}, {\"hoverinfo\": \"text\", \"hovertext\": [\"<b>Topic 1</b><br>Words: searches, mental, knowledge, intention, cogniti\", \"<b>Topic 1</b><br>Words: searchers, web, querybiased, feedback, interact\", \"<b>Topic 1</b><br>Words: behavior, multitasking, feedback, toolbar, session\", \"<b>Topic 1</b><br>Words: behavior, feedback, users, results, satisfaction\", \"<b>Topic 1</b><br>Words: behavior, study, searcher, user, examination\", \"<b>Topic 1</b><br>Words: behavior, satisfaction, users, web, user\", \"<b>Topic 1</b><br>Words: behavior, participants, satisfaction, users, user\"], \"marker\": {\"color\": \"#E69F00\"}, \"mode\": \"lines\", \"name\": \"1_behavior_satisfaction_users_user\", \"type\": \"scatter\", \"x\": [1996.6, 1999.8, 2003.0, 2006.2, 2009.4, 2012.6, 2015.8], \"y\": [3, 5, 13, 22, 37, 46, 39]}, {\"hoverinfo\": \"text\", \"hovertext\": [\"<b>Topic 2</b><br>Words: ratings, recommendation, memorybased, predictor, pca\", \"<b>Topic 2</b><br>Words: filtering, ratings, prediction, recommending, preferences\", \"<b>Topic 2</b><br>Words: filtering, ratings, rating, recommendation, predictions\", \"<b>Topic 2</b><br>Words: recommender, filtering, ratings, recommendation, prediction\", \"<b>Topic 2</b><br>Words: recommendation, recommender, recommendations, filtering, rating\", \"<b>Topic 2</b><br>Words: recommendation, recommender, filtering, factorization, rating\", \"<b>Topic 2</b><br>Words: recommendation, recommender, preferences, filtering, useritem\"], \"marker\": {\"color\": \"#56B4E9\"}, \"mode\": \"lines\", \"name\": \"2_recommendation_recommender_filtering_r...\", \"type\": \"scatter\", \"x\": [1996.6, 1999.8, 2003.0, 2006.2, 2009.4, 2012.6, 2015.8], \"y\": [3, 6, 10, 12, 24, 38, 67]}],                        {\"height\": 450, \"hoverlabel\": {\"bgcolor\": \"white\", \"font\": {\"family\": \"Rockwell\", \"size\": 16}}, \"legend\": {\"title\": {\"text\": \"<b>Global Topic Representation\"}}, \"template\": {\"data\": {\"bar\": [{\"error_x\": {\"color\": \"rgb(36,36,36)\"}, \"error_y\": {\"color\": \"rgb(36,36,36)\"}, \"marker\": {\"line\": {\"color\": \"white\", \"width\": 0.5}}, \"type\": \"bar\"}], \"barpolar\": [{\"marker\": {\"line\": {\"color\": \"white\", \"width\": 0.5}}, \"type\": \"barpolar\"}], \"carpet\": [{\"aaxis\": {\"endlinecolor\": \"rgb(36,36,36)\", \"gridcolor\": \"white\", \"linecolor\": \"white\", \"minorgridcolor\": \"white\", \"startlinecolor\": \"rgb(36,36,36)\"}, \"baxis\": {\"endlinecolor\": \"rgb(36,36,36)\", \"gridcolor\": \"white\", \"linecolor\": \"white\", \"minorgridcolor\": \"white\", \"startlinecolor\": \"rgb(36,36,36)\"}, \"type\": \"carpet\"}], \"choropleth\": [{\"colorbar\": {\"outlinewidth\": 1, \"tickcolor\": \"rgb(36,36,36)\", \"ticks\": \"outside\"}, \"type\": \"choropleth\"}], \"contour\": [{\"colorbar\": {\"outlinewidth\": 1, \"tickcolor\": \"rgb(36,36,36)\", \"ticks\": \"outside\"}, \"colorscale\": [[0.0, \"#440154\"], [0.1111111111111111, \"#482878\"], [0.2222222222222222, \"#3e4989\"], [0.3333333333333333, \"#31688e\"], [0.4444444444444444, \"#26828e\"], [0.5555555555555556, \"#1f9e89\"], [0.6666666666666666, \"#35b779\"], [0.7777777777777778, \"#6ece58\"], [0.8888888888888888, \"#b5de2b\"], [1.0, \"#fde725\"]], \"type\": \"contour\"}], \"contourcarpet\": [{\"colorbar\": {\"outlinewidth\": 1, \"tickcolor\": \"rgb(36,36,36)\", \"ticks\": \"outside\"}, \"type\": \"contourcarpet\"}], \"heatmap\": [{\"colorbar\": {\"outlinewidth\": 1, \"tickcolor\": \"rgb(36,36,36)\", \"ticks\": \"outside\"}, \"colorscale\": [[0.0, \"#440154\"], [0.1111111111111111, \"#482878\"], [0.2222222222222222, \"#3e4989\"], [0.3333333333333333, \"#31688e\"], [0.4444444444444444, \"#26828e\"], [0.5555555555555556, \"#1f9e89\"], [0.6666666666666666, \"#35b779\"], [0.7777777777777778, \"#6ece58\"], [0.8888888888888888, \"#b5de2b\"], [1.0, \"#fde725\"]], \"type\": \"heatmap\"}], \"heatmapgl\": [{\"colorbar\": {\"outlinewidth\": 1, \"tickcolor\": \"rgb(36,36,36)\", \"ticks\": \"outside\"}, \"colorscale\": [[0.0, \"#440154\"], [0.1111111111111111, \"#482878\"], [0.2222222222222222, \"#3e4989\"], [0.3333333333333333, \"#31688e\"], [0.4444444444444444, \"#26828e\"], [0.5555555555555556, \"#1f9e89\"], [0.6666666666666666, \"#35b779\"], [0.7777777777777778, \"#6ece58\"], [0.8888888888888888, \"#b5de2b\"], [1.0, \"#fde725\"]], \"type\": \"heatmapgl\"}], \"histogram\": [{\"marker\": {\"line\": {\"color\": \"white\", \"width\": 0.6}}, \"type\": \"histogram\"}], \"histogram2d\": [{\"colorbar\": {\"outlinewidth\": 1, \"tickcolor\": \"rgb(36,36,36)\", \"ticks\": \"outside\"}, \"colorscale\": [[0.0, \"#440154\"], [0.1111111111111111, \"#482878\"], [0.2222222222222222, \"#3e4989\"], [0.3333333333333333, \"#31688e\"], [0.4444444444444444, \"#26828e\"], [0.5555555555555556, \"#1f9e89\"], [0.6666666666666666, \"#35b779\"], [0.7777777777777778, \"#6ece58\"], [0.8888888888888888, \"#b5de2b\"], [1.0, \"#fde725\"]], \"type\": \"histogram2d\"}], \"histogram2dcontour\": [{\"colorbar\": {\"outlinewidth\": 1, \"tickcolor\": \"rgb(36,36,36)\", \"ticks\": \"outside\"}, \"colorscale\": [[0.0, \"#440154\"], [0.1111111111111111, \"#482878\"], [0.2222222222222222, \"#3e4989\"], [0.3333333333333333, \"#31688e\"], [0.4444444444444444, \"#26828e\"], [0.5555555555555556, \"#1f9e89\"], [0.6666666666666666, \"#35b779\"], [0.7777777777777778, \"#6ece58\"], [0.8888888888888888, \"#b5de2b\"], [1.0, \"#fde725\"]], \"type\": \"histogram2dcontour\"}], \"mesh3d\": [{\"colorbar\": {\"outlinewidth\": 1, \"tickcolor\": \"rgb(36,36,36)\", \"ticks\": \"outside\"}, \"type\": \"mesh3d\"}], \"parcoords\": [{\"line\": {\"colorbar\": {\"outlinewidth\": 1, \"tickcolor\": \"rgb(36,36,36)\", \"ticks\": \"outside\"}}, \"type\": \"parcoords\"}], \"pie\": [{\"automargin\": true, \"type\": \"pie\"}], \"scatter\": [{\"marker\": {\"colorbar\": {\"outlinewidth\": 1, \"tickcolor\": \"rgb(36,36,36)\", \"ticks\": \"outside\"}}, \"type\": \"scatter\"}], \"scatter3d\": [{\"line\": {\"colorbar\": {\"outlinewidth\": 1, \"tickcolor\": \"rgb(36,36,36)\", \"ticks\": \"outside\"}}, \"marker\": {\"colorbar\": {\"outlinewidth\": 1, \"tickcolor\": \"rgb(36,36,36)\", \"ticks\": \"outside\"}}, \"type\": \"scatter3d\"}], \"scattercarpet\": [{\"marker\": {\"colorbar\": {\"outlinewidth\": 1, \"tickcolor\": \"rgb(36,36,36)\", \"ticks\": \"outside\"}}, \"type\": \"scattercarpet\"}], \"scattergeo\": [{\"marker\": {\"colorbar\": {\"outlinewidth\": 1, \"tickcolor\": \"rgb(36,36,36)\", \"ticks\": \"outside\"}}, \"type\": \"scattergeo\"}], \"scattergl\": [{\"marker\": {\"colorbar\": {\"outlinewidth\": 1, \"tickcolor\": \"rgb(36,36,36)\", \"ticks\": \"outside\"}}, \"type\": \"scattergl\"}], \"scattermapbox\": [{\"marker\": {\"colorbar\": {\"outlinewidth\": 1, \"tickcolor\": \"rgb(36,36,36)\", \"ticks\": \"outside\"}}, \"type\": \"scattermapbox\"}], \"scatterpolar\": [{\"marker\": {\"colorbar\": {\"outlinewidth\": 1, \"tickcolor\": \"rgb(36,36,36)\", \"ticks\": \"outside\"}}, \"type\": \"scatterpolar\"}], \"scatterpolargl\": [{\"marker\": {\"colorbar\": {\"outlinewidth\": 1, \"tickcolor\": \"rgb(36,36,36)\", \"ticks\": \"outside\"}}, \"type\": \"scatterpolargl\"}], \"scatterternary\": [{\"marker\": {\"colorbar\": {\"outlinewidth\": 1, \"tickcolor\": \"rgb(36,36,36)\", \"ticks\": \"outside\"}}, \"type\": \"scatterternary\"}], \"surface\": [{\"colorbar\": {\"outlinewidth\": 1, \"tickcolor\": \"rgb(36,36,36)\", \"ticks\": \"outside\"}, \"colorscale\": [[0.0, \"#440154\"], [0.1111111111111111, \"#482878\"], [0.2222222222222222, \"#3e4989\"], [0.3333333333333333, \"#31688e\"], [0.4444444444444444, \"#26828e\"], [0.5555555555555556, \"#1f9e89\"], [0.6666666666666666, \"#35b779\"], [0.7777777777777778, \"#6ece58\"], [0.8888888888888888, \"#b5de2b\"], [1.0, \"#fde725\"]], \"type\": \"surface\"}], \"table\": [{\"cells\": {\"fill\": {\"color\": \"rgb(237,237,237)\"}, \"line\": {\"color\": \"white\"}}, \"header\": {\"fill\": {\"color\": \"rgb(217,217,217)\"}, \"line\": {\"color\": \"white\"}}, \"type\": \"table\"}]}, \"layout\": {\"annotationdefaults\": {\"arrowhead\": 0, \"arrowwidth\": 1}, \"autotypenumbers\": \"strict\", \"coloraxis\": {\"colorbar\": {\"outlinewidth\": 1, \"tickcolor\": \"rgb(36,36,36)\", \"ticks\": \"outside\"}}, \"colorscale\": {\"diverging\": [[0.0, \"rgb(103,0,31)\"], [0.1, \"rgb(178,24,43)\"], [0.2, \"rgb(214,96,77)\"], [0.3, \"rgb(244,165,130)\"], [0.4, \"rgb(253,219,199)\"], [0.5, \"rgb(247,247,247)\"], [0.6, \"rgb(209,229,240)\"], [0.7, \"rgb(146,197,222)\"], [0.8, \"rgb(67,147,195)\"], [0.9, \"rgb(33,102,172)\"], [1.0, \"rgb(5,48,97)\"]], \"sequential\": [[0.0, \"#440154\"], [0.1111111111111111, \"#482878\"], [0.2222222222222222, \"#3e4989\"], [0.3333333333333333, \"#31688e\"], [0.4444444444444444, \"#26828e\"], [0.5555555555555556, \"#1f9e89\"], [0.6666666666666666, \"#35b779\"], [0.7777777777777778, \"#6ece58\"], [0.8888888888888888, \"#b5de2b\"], [1.0, \"#fde725\"]], \"sequentialminus\": [[0.0, \"#440154\"], [0.1111111111111111, \"#482878\"], [0.2222222222222222, \"#3e4989\"], [0.3333333333333333, \"#31688e\"], [0.4444444444444444, \"#26828e\"], [0.5555555555555556, \"#1f9e89\"], [0.6666666666666666, \"#35b779\"], [0.7777777777777778, \"#6ece58\"], [0.8888888888888888, \"#b5de2b\"], [1.0, \"#fde725\"]]}, \"colorway\": [\"#1F77B4\", \"#FF7F0E\", \"#2CA02C\", \"#D62728\", \"#9467BD\", \"#8C564B\", \"#E377C2\", \"#7F7F7F\", \"#BCBD22\", \"#17BECF\"], \"font\": {\"color\": \"rgb(36,36,36)\"}, \"geo\": {\"bgcolor\": \"white\", \"lakecolor\": \"white\", \"landcolor\": \"white\", \"showlakes\": true, \"showland\": true, \"subunitcolor\": \"white\"}, \"hoverlabel\": {\"align\": \"left\"}, \"hovermode\": \"closest\", \"mapbox\": {\"style\": \"light\"}, \"paper_bgcolor\": \"white\", \"plot_bgcolor\": \"white\", \"polar\": {\"angularaxis\": {\"gridcolor\": \"rgb(232,232,232)\", \"linecolor\": \"rgb(36,36,36)\", \"showgrid\": false, \"showline\": true, \"ticks\": \"outside\"}, \"bgcolor\": \"white\", \"radialaxis\": {\"gridcolor\": \"rgb(232,232,232)\", \"linecolor\": \"rgb(36,36,36)\", \"showgrid\": false, \"showline\": true, \"ticks\": \"outside\"}}, \"scene\": {\"xaxis\": {\"backgroundcolor\": \"white\", \"gridcolor\": \"rgb(232,232,232)\", \"gridwidth\": 2, \"linecolor\": \"rgb(36,36,36)\", \"showbackground\": true, \"showgrid\": false, \"showline\": true, \"ticks\": \"outside\", \"zeroline\": false, \"zerolinecolor\": \"rgb(36,36,36)\"}, \"yaxis\": {\"backgroundcolor\": \"white\", \"gridcolor\": \"rgb(232,232,232)\", \"gridwidth\": 2, \"linecolor\": \"rgb(36,36,36)\", \"showbackground\": true, \"showgrid\": false, \"showline\": true, \"ticks\": \"outside\", \"zeroline\": false, \"zerolinecolor\": \"rgb(36,36,36)\"}, \"zaxis\": {\"backgroundcolor\": \"white\", \"gridcolor\": \"rgb(232,232,232)\", \"gridwidth\": 2, \"linecolor\": \"rgb(36,36,36)\", \"showbackground\": true, \"showgrid\": false, \"showline\": true, \"ticks\": \"outside\", \"zeroline\": false, \"zerolinecolor\": \"rgb(36,36,36)\"}}, \"shapedefaults\": {\"fillcolor\": \"black\", \"line\": {\"width\": 0}, \"opacity\": 0.3}, \"ternary\": {\"aaxis\": {\"gridcolor\": \"rgb(232,232,232)\", \"linecolor\": \"rgb(36,36,36)\", \"showgrid\": false, \"showline\": true, \"ticks\": \"outside\"}, \"baxis\": {\"gridcolor\": \"rgb(232,232,232)\", \"linecolor\": \"rgb(36,36,36)\", \"showgrid\": false, \"showline\": true, \"ticks\": \"outside\"}, \"bgcolor\": \"white\", \"caxis\": {\"gridcolor\": \"rgb(232,232,232)\", \"linecolor\": \"rgb(36,36,36)\", \"showgrid\": false, \"showline\": true, \"ticks\": \"outside\"}}, \"title\": {\"x\": 0.05}, \"xaxis\": {\"automargin\": true, \"gridcolor\": \"rgb(232,232,232)\", \"linecolor\": \"rgb(36,36,36)\", \"showgrid\": false, \"showline\": true, \"ticks\": \"outside\", \"title\": {\"standoff\": 15}, \"zeroline\": false, \"zerolinecolor\": \"rgb(36,36,36)\"}, \"yaxis\": {\"automargin\": true, \"gridcolor\": \"rgb(232,232,232)\", \"linecolor\": \"rgb(36,36,36)\", \"showgrid\": false, \"showline\": true, \"ticks\": \"outside\", \"title\": {\"standoff\": 15}, \"zeroline\": false, \"zerolinecolor\": \"rgb(36,36,36)\"}}}, \"title\": {\"font\": {\"color\": \"Black\", \"size\": 22}, \"text\": \"<b>Topics over Time\", \"x\": 0.4, \"xanchor\": \"center\", \"y\": 0.95, \"yanchor\": \"top\"}, \"width\": 1250, \"xaxis\": {\"showgrid\": true}, \"yaxis\": {\"showgrid\": true, \"title\": {\"text\": \"Frequency\"}}},                        {\"responsive\": true}                    ).then(function(){\n",
              "                            \n",
              "var gd = document.getElementById('bd053f07-969c-4269-9a40-a03fe32edb07');\n",
              "var x = new MutationObserver(function (mutations, observer) {{\n",
              "        var display = window.getComputedStyle(gd).display;\n",
              "        if (!display || display === 'none') {{\n",
              "            console.log([gd, 'removed!']);\n",
              "            Plotly.purge(gd);\n",
              "            observer.disconnect();\n",
              "        }}\n",
              "}});\n",
              "\n",
              "// Listen for the removal of the full notebook cells\n",
              "var notebookContainer = gd.closest('#notebook-container');\n",
              "if (notebookContainer) {{\n",
              "    x.observe(notebookContainer, {childList: true});\n",
              "}}\n",
              "\n",
              "// Listen for the clearing of the current output cell\n",
              "var outputEl = gd.closest('.output');\n",
              "if (outputEl) {{\n",
              "    x.observe(outputEl, {childList: true});\n",
              "}}\n",
              "\n",
              "                        })                };                            </script>        </div>\n",
              "</body>\n",
              "</html>"
            ]
          },
          "metadata": {
            "tags": []
          }
        }
      ]
    },
    {
      "cell_type": "code",
      "metadata": {
        "colab": {
          "base_uri": "https://localhost:8080/",
          "height": 486
        },
        "id": "5u5fF9ZaBl4p",
        "outputId": "c8474f77-2fc0-4eca-cdf3-bbbf9d03c397"
      },
      "source": [
        "#Topic_starting_veryBegining\n",
        "model.visualize_topics_over_time(topics_over_time, topics=[4,5,7,13,14,12])"
      ],
      "execution_count": null,
      "outputs": [
        {
          "output_type": "display_data",
          "data": {
            "text/html": [
              "<html>\n",
              "<head><meta charset=\"utf-8\" /></head>\n",
              "<body>\n",
              "    <div>            <script src=\"https://cdnjs.cloudflare.com/ajax/libs/mathjax/2.7.5/MathJax.js?config=TeX-AMS-MML_SVG\"></script><script type=\"text/javascript\">if (window.MathJax) {MathJax.Hub.Config({SVG: {font: \"STIX-Web\"}});}</script>                <script type=\"text/javascript\">window.PlotlyConfig = {MathJaxConfig: 'local'};</script>\n",
              "        <script src=\"https://cdn.plot.ly/plotly-latest.min.js\"></script>                <div id=\"6c364ee5-cf9c-4a24-b0ff-ea4599975063\" class=\"plotly-graph-div\" style=\"height:450px; width:1250px;\"></div>            <script type=\"text/javascript\">                                    window.PLOTLYENV=window.PLOTLYENV || {};                                    if (document.getElementById(\"6c364ee5-cf9c-4a24-b0ff-ea4599975063\")) {                    Plotly.newPlot(                        \"6c364ee5-cf9c-4a24-b0ff-ea4599975063\",                        [{\"hoverinfo\": \"text\", \"hovertext\": [\"<b>Topic 12</b><br>Words: rel, english, syntactic, language, translation\", \"<b>Topic 12</b><br>Words: oxford, dictionary, oed, computerize, printed\", \"<b>Topic 12</b><br>Words: phonetic, dictionary, multilingual, monolingual, crosslanguage\", \"<b>Topic 12</b><br>Words: translation, crosslanguage, dictionary, translated, monolingual\", \"<b>Topic 12</b><br>Words: translation, crosslanguage, bilingual, translations, languages\", \"<b>Topic 12</b><br>Words: translation, crosslanguage, bilingual, transliteration, translations\", \"<b>Topic 12</b><br>Words: transliteration, crosslanguage, languages, crosslingual, bilingual\", \"<b>Topic 12</b><br>Words: translation, languages, language, crosslanguage, transliteration\", \"<b>Topic 12</b><br>Words: translation, translated, crosslanguage, language, languages\", \"<b>Topic 12</b><br>Words: translation, languages, translations, crosslanguage, transliterated\", \"<b>Topic 12</b><br>Words: mapndcg, japaneseenglish, germanenglish, crosslanguage, combination\", \"<b>Topic 12</b><br>Words: translation, crosslingual, crosslanguage, translations, bilingual\"], \"marker\": {\"color\": \"#E69F00\"}, \"mode\": \"lines\", \"name\": \"12_translation_crosslanguage_bilingual_t...\", \"type\": \"scatter\", \"x\": [1970.952, 1983.0, 1995.0, 1997.4, 1999.8, 2002.2, 2004.6, 2007.0, 2009.4, 2011.8, 2014.2, 2016.6], \"y\": [1, 1, 3, 6, 13, 9, 10, 4, 5, 6, 1, 6]}, {\"hoverinfo\": \"text\", \"hovertext\": [\"<b>Topic 13</b><br>Words: preliminaries, classification, limit, indicates, determining\", \"<b>Topic 13</b><br>Words: record, disklike, records, satisfies, keys\", \"<b>Topic 13</b><br>Words: hardware, describedparticular, doeument, quicklookmonitor, dsrs\", \"<b>Topic 13</b><br>Words: fuzzy, tp, probabilistic, scheme, schmes\", \"<b>Topic 13</b><br>Words: pvalues, ellipsoids, ovals, conventional, pvalue\", \"<b>Topic 13</b><br>Words: coordination, improvement, feasibility, vocabulary, match\", \"<b>Topic 13</b><br>Words: dsubscrptmsubscrptitalic, polynomial, probabilistic, requests, italicsupscrpttsupscrpt\", \"<b>Topic 13</b><br>Words: ferret, ferrets, lexical, websters, dictionary\", \"<b>Topic 13</b><br>Words: associations, neurons, adaptive, datalog, representations\", \"<b>Topic 13</b><br>Words: keys, transitions, strings, trie, character\", \"<b>Topic 13</b><br>Words: imagery, textual, visual, descriptions, framework\", \"<b>Topic 13</b><br>Words: passage, constraints, retrieval, heuristics, contextual\", \"<b>Topic 13</b><br>Words: parameters, ranknet, constraints, retrieval, limitation\", \"<b>Topic 13</b><br>Words: criteria, models, behavior, retrieval, subjective\", \"<b>Topic 13</b><br>Words: cbir, temporal, topsurf, bagofvisualwords, clicks\", \"<b>Topic 13</b><br>Words: trailtext, tbg, bagofconcepts, bagofwords, records\", \"<b>Topic 13</b><br>Words: card, interface, interfaces, erwd, collection\", \"<b>Topic 13</b><br>Words: heuristics, answering, retrieval, practical, reexamine\"], \"marker\": {\"color\": \"#56B4E9\"}, \"mode\": \"lines\", \"name\": \"13_retrieval_heuristics_relevance_constr...\", \"type\": \"scatter\", \"x\": [1970.952, 1975.8, 1978.2, 1980.6, 1983.0, 1985.4, 1987.8, 1990.2, 1992.6, 1995.0, 1999.8, 2002.2, 2004.6, 2007.0, 2009.4, 2011.8, 2014.2, 2016.6], \"y\": [1, 1, 3, 3, 2, 1, 5, 2, 4, 1, 1, 8, 7, 7, 4, 4, 8, 3]}, {\"hoverinfo\": \"text\", \"hovertext\": [\"<b>Topic 5</b><br>Words: bottomup, organization, cluster, hierarchy, clustering\", \"<b>Topic 5</b><br>Words: clustering, adaptation, reproductive, adaptive, enhancements\", \"<b>Topic 5</b><br>Words: clustering, clusters, organization, cluster, problems1\", \"<b>Topic 5</b><br>Words: clustering, clusters, cluster, vanr, salt\", \"<b>Topic 5</b><br>Words: clustering, hierarchic, cluster, clusters, bsp\", \"<b>Topic 5</b><br>Words: clustering, objections, browsing, tool, quadratic\", \"<b>Topic 5</b><br>Words: cluster, clustering, scattergather, browsing, hypertext\", \"<b>Topic 5</b><br>Words: clustering, scattergather, speed, clusters, cluster\", \"<b>Topic 5</b><br>Words: clustering, clusters, clusterbased, classification, cluster\", \"<b>Topic 5</b><br>Words: clustering, clusters, cluster, sib, intragroup\", \"<b>Topic 5</b><br>Words: clustering, cluster, clusters, data, factorization\", \"<b>Topic 5</b><br>Words: clustering, clusters, cluster, nmf, plsi\", \"<b>Topic 5</b><br>Words: clustering, clusters, cluster, hyperedges, percentage\", \"<b>Topic 5</b><br>Words: clustering, clusters, clusterings, cluster, simrank\", \"<b>Topic 5</b><br>Words: clustering, cluster, clusters, textrank, simrank\", \"<b>Topic 5</b><br>Words: clustering, simrank, unbalanced, cluster, clusters\", \"<b>Topic 5</b><br>Words: clustering, cluster, matrix, nmf, graph\"], \"marker\": {\"color\": \"#009E73\"}, \"mode\": \"lines\", \"name\": \"5_clustering_cluster_clusters_algorithm\", \"type\": \"scatter\", \"x\": [1975.8, 1978.2, 1980.6, 1983.0, 1985.4, 1990.2, 1992.6, 1995.0, 1997.4, 1999.8, 2002.2, 2004.6, 2007.0, 2009.4, 2011.8, 2014.2, 2016.6], \"y\": [1, 2, 3, 2, 4, 1, 3, 3, 3, 8, 6, 11, 14, 9, 12, 3, 6]}, {\"hoverinfo\": \"text\", \"hovertext\": [\"<b>Topic 7</b><br>Words: manuscript, publication, management, detailed, summarization\", \"<b>Topic 7</b><br>Words: knowledgebased, design, summaries, generating, expert\", \"<b>Topic 7</b><br>Words: summarization, summaries, summmies, summary, summarizes\", \"<b>Topic 7</b><br>Words: summarization, summaries, summary, sentences, sentence\", \"<b>Topic 7</b><br>Words: summarization, summaries, sentences, summary, summarizer\", \"<b>Topic 7</b><br>Words: fractal, summarization, sentences, grammar, summary\", \"<b>Topic 7</b><br>Words: sentences, summarization, summaries, sentence, summary\", \"<b>Topic 7</b><br>Words: summarization, summaries, summary, comments, mrc\", \"<b>Topic 7</b><br>Words: summarization, sentences, summary, summaries, sentence\", \"<b>Topic 7</b><br>Words: summarization, sentences, summaries, sentence, summarisation\", \"<b>Topic 7</b><br>Words: sentences, contrastive, manifoldranking, summarization, multidocument\", \"<b>Topic 7</b><br>Words: sentences, summarization, summaries, summary, diligence\"], \"marker\": {\"color\": \"#F0E442\"}, \"mode\": \"lines\", \"name\": \"7_summarization_sentences_summaries_sent...\", \"type\": \"scatter\", \"x\": [1978.2, 1980.6, 1992.6, 1997.4, 1999.8, 2002.2, 2004.6, 2007.0, 2009.4, 2011.8, 2014.2, 2016.6], \"y\": [1, 1, 2, 7, 13, 5, 14, 9, 11, 7, 3, 5]}, {\"hoverinfo\": \"text\", \"hovertext\": [\"<b>Topic 4</b><br>Words: refinement, searchers, findings, specialists, empirical\", \"<b>Topic 4</b><br>Words: tipster, inquery, formulating, evaluates, routing\", \"<b>Topic 4</b><br>Words: recognitionbased, paraphrase, compounds, terminological, themes\", \"<b>Topic 4</b><br>Words: taxonomy, exibility, clusering, software, opaque\", \"<b>Topic 4</b><br>Words: subwebs, phrases, uksearch, queries, query\", \"<b>Topic 4</b><br>Words: queries, sampling, qdl, locations, query\", \"<b>Topic 4</b><br>Words: suggestion, queries, task, tasks, switch\", \"<b>Topic 4</b><br>Words: diversification, queries, diversity, query, sessions\", \"<b>Topic 4</b><br>Words: queries, query, diversity, task, aspectiles\", \"<b>Topic 4</b><br>Words: queries, presearch, diversification, task, query\", \"<b>Topic 4</b><br>Words: query, queries, xks, tasks, subtasks\"], \"marker\": {\"color\": \"#D55E00\"}, \"mode\": \"lines\", \"name\": \"4_queries_query_diversity_task\", \"type\": \"scatter\", \"x\": [1987.8, 1992.6, 1997.4, 1999.8, 2002.2, 2004.6, 2007.0, 2009.4, 2011.8, 2014.2, 2016.6], \"y\": [1, 1, 1, 2, 5, 7, 6, 16, 29, 12, 16]}, {\"hoverinfo\": \"text\", \"hovertext\": [\"<b>Topic 14</b><br>Words: nouns, lexicon, syntactic, newspapers, multiword\", \"<b>Topic 14</b><br>Words: related, relatedness, apparition, parsers, extraction\", \"<b>Topic 14</b><br>Words: word, stemming, words, refuting, stopword\", \"<b>Topic 14</b><br>Words: routing, wordword, multiword, domain, words\", \"<b>Topic 14</b><br>Words: word, words, segmented, contextual, identifying\", \"<b>Topic 14</b><br>Words: pn, word, quantity, words, disambiguation\", \"<b>Topic 14</b><br>Words: protein, 2pp, disambiguation, spd, rulebased\", \"<b>Topic 14</b><br>Words: word, lexical, taxonomies, languages, loanwords\", \"<b>Topic 14</b><br>Words: hypernym, synonym, wordnet, associative, clustering\", \"<b>Topic 14</b><br>Words: text, lsa, vectorspace, variants, tlsa\", \"<b>Topic 14</b><br>Words: rhetorical, citations, blsreci, blsrecii, english\", \"<b>Topic 14</b><br>Words: word, embeddings, embedding, texts, words\", \"<b>Topic 14</b><br>Words: embeddings, embedding, matching, words, plsa\"], \"marker\": {\"color\": \"#0072B2\"}, \"mode\": \"lines\", \"name\": \"14_text_words_embeddings_embedding\", \"type\": \"scatter\", \"x\": [1987.8, 1990.2, 1992.6, 1995.0, 1997.4, 1999.8, 2002.2, 2004.6, 2007.0, 2009.4, 2011.8, 2014.2, 2016.6], \"y\": [2, 1, 4, 3, 3, 5, 6, 7, 1, 4, 3, 8, 15]}],                        {\"height\": 450, \"hoverlabel\": {\"bgcolor\": \"white\", \"font\": {\"family\": \"Rockwell\", \"size\": 16}}, \"legend\": {\"title\": {\"text\": \"<b>Global Topic Representation\"}}, \"template\": {\"data\": {\"bar\": [{\"error_x\": {\"color\": \"rgb(36,36,36)\"}, \"error_y\": {\"color\": \"rgb(36,36,36)\"}, \"marker\": {\"line\": {\"color\": \"white\", \"width\": 0.5}}, \"type\": \"bar\"}], \"barpolar\": [{\"marker\": {\"line\": {\"color\": \"white\", \"width\": 0.5}}, \"type\": \"barpolar\"}], \"carpet\": [{\"aaxis\": {\"endlinecolor\": \"rgb(36,36,36)\", \"gridcolor\": \"white\", \"linecolor\": \"white\", \"minorgridcolor\": \"white\", \"startlinecolor\": \"rgb(36,36,36)\"}, \"baxis\": {\"endlinecolor\": \"rgb(36,36,36)\", \"gridcolor\": \"white\", \"linecolor\": \"white\", \"minorgridcolor\": \"white\", \"startlinecolor\": \"rgb(36,36,36)\"}, \"type\": \"carpet\"}], \"choropleth\": [{\"colorbar\": {\"outlinewidth\": 1, \"tickcolor\": \"rgb(36,36,36)\", \"ticks\": \"outside\"}, \"type\": \"choropleth\"}], \"contour\": [{\"colorbar\": {\"outlinewidth\": 1, \"tickcolor\": \"rgb(36,36,36)\", \"ticks\": \"outside\"}, \"colorscale\": [[0.0, \"#440154\"], [0.1111111111111111, \"#482878\"], [0.2222222222222222, \"#3e4989\"], [0.3333333333333333, \"#31688e\"], [0.4444444444444444, \"#26828e\"], [0.5555555555555556, \"#1f9e89\"], [0.6666666666666666, \"#35b779\"], [0.7777777777777778, \"#6ece58\"], [0.8888888888888888, \"#b5de2b\"], [1.0, \"#fde725\"]], \"type\": \"contour\"}], \"contourcarpet\": [{\"colorbar\": {\"outlinewidth\": 1, \"tickcolor\": \"rgb(36,36,36)\", \"ticks\": \"outside\"}, \"type\": \"contourcarpet\"}], \"heatmap\": [{\"colorbar\": {\"outlinewidth\": 1, \"tickcolor\": \"rgb(36,36,36)\", \"ticks\": \"outside\"}, \"colorscale\": [[0.0, \"#440154\"], [0.1111111111111111, \"#482878\"], [0.2222222222222222, \"#3e4989\"], [0.3333333333333333, \"#31688e\"], [0.4444444444444444, \"#26828e\"], [0.5555555555555556, \"#1f9e89\"], [0.6666666666666666, \"#35b779\"], [0.7777777777777778, \"#6ece58\"], [0.8888888888888888, \"#b5de2b\"], [1.0, \"#fde725\"]], \"type\": \"heatmap\"}], \"heatmapgl\": [{\"colorbar\": {\"outlinewidth\": 1, \"tickcolor\": \"rgb(36,36,36)\", \"ticks\": \"outside\"}, \"colorscale\": [[0.0, \"#440154\"], [0.1111111111111111, \"#482878\"], [0.2222222222222222, \"#3e4989\"], [0.3333333333333333, \"#31688e\"], [0.4444444444444444, \"#26828e\"], [0.5555555555555556, \"#1f9e89\"], [0.6666666666666666, \"#35b779\"], [0.7777777777777778, \"#6ece58\"], [0.8888888888888888, \"#b5de2b\"], [1.0, \"#fde725\"]], \"type\": \"heatmapgl\"}], \"histogram\": [{\"marker\": {\"line\": {\"color\": \"white\", \"width\": 0.6}}, \"type\": \"histogram\"}], \"histogram2d\": [{\"colorbar\": {\"outlinewidth\": 1, \"tickcolor\": \"rgb(36,36,36)\", \"ticks\": \"outside\"}, \"colorscale\": [[0.0, \"#440154\"], [0.1111111111111111, \"#482878\"], [0.2222222222222222, \"#3e4989\"], [0.3333333333333333, \"#31688e\"], [0.4444444444444444, \"#26828e\"], [0.5555555555555556, \"#1f9e89\"], [0.6666666666666666, \"#35b779\"], [0.7777777777777778, \"#6ece58\"], [0.8888888888888888, \"#b5de2b\"], [1.0, \"#fde725\"]], \"type\": \"histogram2d\"}], \"histogram2dcontour\": [{\"colorbar\": {\"outlinewidth\": 1, \"tickcolor\": \"rgb(36,36,36)\", \"ticks\": \"outside\"}, \"colorscale\": [[0.0, \"#440154\"], [0.1111111111111111, \"#482878\"], [0.2222222222222222, \"#3e4989\"], [0.3333333333333333, \"#31688e\"], [0.4444444444444444, \"#26828e\"], [0.5555555555555556, \"#1f9e89\"], [0.6666666666666666, \"#35b779\"], [0.7777777777777778, \"#6ece58\"], [0.8888888888888888, \"#b5de2b\"], [1.0, \"#fde725\"]], \"type\": \"histogram2dcontour\"}], \"mesh3d\": [{\"colorbar\": {\"outlinewidth\": 1, \"tickcolor\": \"rgb(36,36,36)\", \"ticks\": \"outside\"}, \"type\": \"mesh3d\"}], \"parcoords\": [{\"line\": {\"colorbar\": {\"outlinewidth\": 1, \"tickcolor\": \"rgb(36,36,36)\", \"ticks\": \"outside\"}}, \"type\": \"parcoords\"}], \"pie\": [{\"automargin\": true, \"type\": \"pie\"}], \"scatter\": [{\"marker\": {\"colorbar\": {\"outlinewidth\": 1, \"tickcolor\": \"rgb(36,36,36)\", \"ticks\": \"outside\"}}, \"type\": \"scatter\"}], \"scatter3d\": [{\"line\": {\"colorbar\": {\"outlinewidth\": 1, \"tickcolor\": \"rgb(36,36,36)\", \"ticks\": \"outside\"}}, \"marker\": {\"colorbar\": {\"outlinewidth\": 1, \"tickcolor\": \"rgb(36,36,36)\", \"ticks\": \"outside\"}}, \"type\": \"scatter3d\"}], \"scattercarpet\": [{\"marker\": {\"colorbar\": {\"outlinewidth\": 1, \"tickcolor\": \"rgb(36,36,36)\", \"ticks\": \"outside\"}}, \"type\": \"scattercarpet\"}], \"scattergeo\": [{\"marker\": {\"colorbar\": {\"outlinewidth\": 1, \"tickcolor\": \"rgb(36,36,36)\", \"ticks\": \"outside\"}}, \"type\": \"scattergeo\"}], \"scattergl\": [{\"marker\": {\"colorbar\": {\"outlinewidth\": 1, \"tickcolor\": \"rgb(36,36,36)\", \"ticks\": \"outside\"}}, \"type\": \"scattergl\"}], \"scattermapbox\": [{\"marker\": {\"colorbar\": {\"outlinewidth\": 1, \"tickcolor\": \"rgb(36,36,36)\", \"ticks\": \"outside\"}}, \"type\": \"scattermapbox\"}], \"scatterpolar\": [{\"marker\": {\"colorbar\": {\"outlinewidth\": 1, \"tickcolor\": \"rgb(36,36,36)\", \"ticks\": \"outside\"}}, \"type\": \"scatterpolar\"}], \"scatterpolargl\": [{\"marker\": {\"colorbar\": {\"outlinewidth\": 1, \"tickcolor\": \"rgb(36,36,36)\", \"ticks\": \"outside\"}}, \"type\": \"scatterpolargl\"}], \"scatterternary\": [{\"marker\": {\"colorbar\": {\"outlinewidth\": 1, \"tickcolor\": \"rgb(36,36,36)\", \"ticks\": \"outside\"}}, \"type\": \"scatterternary\"}], \"surface\": [{\"colorbar\": {\"outlinewidth\": 1, \"tickcolor\": \"rgb(36,36,36)\", \"ticks\": \"outside\"}, \"colorscale\": [[0.0, \"#440154\"], [0.1111111111111111, \"#482878\"], [0.2222222222222222, \"#3e4989\"], [0.3333333333333333, \"#31688e\"], [0.4444444444444444, \"#26828e\"], [0.5555555555555556, \"#1f9e89\"], [0.6666666666666666, \"#35b779\"], [0.7777777777777778, \"#6ece58\"], [0.8888888888888888, \"#b5de2b\"], [1.0, \"#fde725\"]], \"type\": \"surface\"}], \"table\": [{\"cells\": {\"fill\": {\"color\": \"rgb(237,237,237)\"}, \"line\": {\"color\": \"white\"}}, \"header\": {\"fill\": {\"color\": \"rgb(217,217,217)\"}, \"line\": {\"color\": \"white\"}}, \"type\": \"table\"}]}, \"layout\": {\"annotationdefaults\": {\"arrowhead\": 0, \"arrowwidth\": 1}, \"autotypenumbers\": \"strict\", \"coloraxis\": {\"colorbar\": {\"outlinewidth\": 1, \"tickcolor\": \"rgb(36,36,36)\", \"ticks\": \"outside\"}}, \"colorscale\": {\"diverging\": [[0.0, \"rgb(103,0,31)\"], [0.1, \"rgb(178,24,43)\"], [0.2, \"rgb(214,96,77)\"], [0.3, \"rgb(244,165,130)\"], [0.4, \"rgb(253,219,199)\"], [0.5, \"rgb(247,247,247)\"], [0.6, \"rgb(209,229,240)\"], [0.7, \"rgb(146,197,222)\"], [0.8, \"rgb(67,147,195)\"], [0.9, \"rgb(33,102,172)\"], [1.0, \"rgb(5,48,97)\"]], \"sequential\": [[0.0, \"#440154\"], [0.1111111111111111, \"#482878\"], [0.2222222222222222, \"#3e4989\"], [0.3333333333333333, \"#31688e\"], [0.4444444444444444, \"#26828e\"], [0.5555555555555556, \"#1f9e89\"], [0.6666666666666666, \"#35b779\"], [0.7777777777777778, \"#6ece58\"], [0.8888888888888888, \"#b5de2b\"], [1.0, \"#fde725\"]], \"sequentialminus\": [[0.0, \"#440154\"], [0.1111111111111111, \"#482878\"], [0.2222222222222222, \"#3e4989\"], [0.3333333333333333, \"#31688e\"], [0.4444444444444444, \"#26828e\"], [0.5555555555555556, \"#1f9e89\"], [0.6666666666666666, \"#35b779\"], [0.7777777777777778, \"#6ece58\"], [0.8888888888888888, \"#b5de2b\"], [1.0, \"#fde725\"]]}, \"colorway\": [\"#1F77B4\", \"#FF7F0E\", \"#2CA02C\", \"#D62728\", \"#9467BD\", \"#8C564B\", \"#E377C2\", \"#7F7F7F\", \"#BCBD22\", \"#17BECF\"], \"font\": {\"color\": \"rgb(36,36,36)\"}, \"geo\": {\"bgcolor\": \"white\", \"lakecolor\": \"white\", \"landcolor\": \"white\", \"showlakes\": true, \"showland\": true, \"subunitcolor\": \"white\"}, \"hoverlabel\": {\"align\": \"left\"}, \"hovermode\": \"closest\", \"mapbox\": {\"style\": \"light\"}, \"paper_bgcolor\": \"white\", \"plot_bgcolor\": \"white\", \"polar\": {\"angularaxis\": {\"gridcolor\": \"rgb(232,232,232)\", \"linecolor\": \"rgb(36,36,36)\", \"showgrid\": false, \"showline\": true, \"ticks\": \"outside\"}, \"bgcolor\": \"white\", \"radialaxis\": {\"gridcolor\": \"rgb(232,232,232)\", \"linecolor\": \"rgb(36,36,36)\", \"showgrid\": false, \"showline\": true, \"ticks\": \"outside\"}}, \"scene\": {\"xaxis\": {\"backgroundcolor\": \"white\", \"gridcolor\": \"rgb(232,232,232)\", \"gridwidth\": 2, \"linecolor\": \"rgb(36,36,36)\", \"showbackground\": true, \"showgrid\": false, \"showline\": true, \"ticks\": \"outside\", \"zeroline\": false, \"zerolinecolor\": \"rgb(36,36,36)\"}, \"yaxis\": {\"backgroundcolor\": \"white\", \"gridcolor\": \"rgb(232,232,232)\", \"gridwidth\": 2, \"linecolor\": \"rgb(36,36,36)\", \"showbackground\": true, \"showgrid\": false, \"showline\": true, \"ticks\": \"outside\", \"zeroline\": false, \"zerolinecolor\": \"rgb(36,36,36)\"}, \"zaxis\": {\"backgroundcolor\": \"white\", \"gridcolor\": \"rgb(232,232,232)\", \"gridwidth\": 2, \"linecolor\": \"rgb(36,36,36)\", \"showbackground\": true, \"showgrid\": false, \"showline\": true, \"ticks\": \"outside\", \"zeroline\": false, \"zerolinecolor\": \"rgb(36,36,36)\"}}, \"shapedefaults\": {\"fillcolor\": \"black\", \"line\": {\"width\": 0}, \"opacity\": 0.3}, \"ternary\": {\"aaxis\": {\"gridcolor\": \"rgb(232,232,232)\", \"linecolor\": \"rgb(36,36,36)\", \"showgrid\": false, \"showline\": true, \"ticks\": \"outside\"}, \"baxis\": {\"gridcolor\": \"rgb(232,232,232)\", \"linecolor\": \"rgb(36,36,36)\", \"showgrid\": false, \"showline\": true, \"ticks\": \"outside\"}, \"bgcolor\": \"white\", \"caxis\": {\"gridcolor\": \"rgb(232,232,232)\", \"linecolor\": \"rgb(36,36,36)\", \"showgrid\": false, \"showline\": true, \"ticks\": \"outside\"}}, \"title\": {\"x\": 0.05}, \"xaxis\": {\"automargin\": true, \"gridcolor\": \"rgb(232,232,232)\", \"linecolor\": \"rgb(36,36,36)\", \"showgrid\": false, \"showline\": true, \"ticks\": \"outside\", \"title\": {\"standoff\": 15}, \"zeroline\": false, \"zerolinecolor\": \"rgb(36,36,36)\"}, \"yaxis\": {\"automargin\": true, \"gridcolor\": \"rgb(232,232,232)\", \"linecolor\": \"rgb(36,36,36)\", \"showgrid\": false, \"showline\": true, \"ticks\": \"outside\", \"title\": {\"standoff\": 15}, \"zeroline\": false, \"zerolinecolor\": \"rgb(36,36,36)\"}}}, \"title\": {\"font\": {\"color\": \"Black\", \"size\": 22}, \"text\": \"<b>Topics over Time\", \"x\": 0.4, \"xanchor\": \"center\", \"y\": 0.95, \"yanchor\": \"top\"}, \"width\": 1250, \"xaxis\": {\"showgrid\": true}, \"yaxis\": {\"showgrid\": true, \"title\": {\"text\": \"Frequency\"}}},                        {\"responsive\": true}                    ).then(function(){\n",
              "                            \n",
              "var gd = document.getElementById('6c364ee5-cf9c-4a24-b0ff-ea4599975063');\n",
              "var x = new MutationObserver(function (mutations, observer) {{\n",
              "        var display = window.getComputedStyle(gd).display;\n",
              "        if (!display || display === 'none') {{\n",
              "            console.log([gd, 'removed!']);\n",
              "            Plotly.purge(gd);\n",
              "            observer.disconnect();\n",
              "        }}\n",
              "}});\n",
              "\n",
              "// Listen for the removal of the full notebook cells\n",
              "var notebookContainer = gd.closest('#notebook-container');\n",
              "if (notebookContainer) {{\n",
              "    x.observe(notebookContainer, {childList: true});\n",
              "}}\n",
              "\n",
              "// Listen for the clearing of the current output cell\n",
              "var outputEl = gd.closest('.output');\n",
              "if (outputEl) {{\n",
              "    x.observe(outputEl, {childList: true});\n",
              "}}\n",
              "\n",
              "                        })                };                            </script>        </div>\n",
              "</body>\n",
              "</html>"
            ]
          },
          "metadata": {
            "tags": []
          }
        }
      ]
    },
    {
      "cell_type": "code",
      "metadata": {
        "colab": {
          "base_uri": "https://localhost:8080/",
          "height": 486
        },
        "id": "ZswKwsKpQor1",
        "outputId": "5b62237f-f3ee-4133-e51a-cb7d5b48d34c"
      },
      "source": [
        "#Topic_between_1985 to 1990\n",
        "model.visualize_topics_over_time(topics_over_time, topics=[6, 1, 3, 8,2,0,10])"
      ],
      "execution_count": null,
      "outputs": [
        {
          "output_type": "display_data",
          "data": {
            "text/html": [
              "<html>\n",
              "<head><meta charset=\"utf-8\" /></head>\n",
              "<body>\n",
              "    <div>            <script src=\"https://cdnjs.cloudflare.com/ajax/libs/mathjax/2.7.5/MathJax.js?config=TeX-AMS-MML_SVG\"></script><script type=\"text/javascript\">if (window.MathJax) {MathJax.Hub.Config({SVG: {font: \"STIX-Web\"}});}</script>                <script type=\"text/javascript\">window.PlotlyConfig = {MathJaxConfig: 'local'};</script>\n",
              "        <script src=\"https://cdn.plot.ly/plotly-latest.min.js\"></script>                <div id=\"ebdc68c3-33b6-4184-8466-c44466effbe0\" class=\"plotly-graph-div\" style=\"height:450px; width:1250px;\"></div>            <script type=\"text/javascript\">                                    window.PLOTLYENV=window.PLOTLYENV || {};                                    if (document.getElementById(\"ebdc68c3-33b6-4184-8466-c44466effbe0\")) {                    Plotly.newPlot(                        \"ebdc68c3-33b6-4184-8466-c44466effbe0\",                        [{\"hoverinfo\": \"text\", \"hovertext\": [\"<b>Topic 10</b><br>Words: extensible, extend, extendable, extendible, extending\", \"<b>Topic 10</b><br>Words: extensible, extend, extendable, extendible, extending\", \"<b>Topic 10</b><br>Words: extensible, extend, extendable, extendible, extending\", \"<b>Topic 10</b><br>Words: extensible, extend, extendable, extendible, extending\", \"<b>Topic 10</b><br>Words: extensible, extend, extendable, extendible, extending\", \"<b>Topic 10</b><br>Words: extensible, extend, extendable, extendible, extending\", \"<b>Topic 10</b><br>Words: extensible, extend, extendable, extendible, extending\", \"<b>Topic 10</b><br>Words: extensible, extend, extendable, extendible, extending\", \"<b>Topic 10</b><br>Words: extensible, extend, extendable, extendible, extending\", \"<b>Topic 10</b><br>Words: extensible, extend, extendable, extendible, extending\", \"<b>Topic 10</b><br>Words: extensible, extend, extendable, extendible, extending\", \"<b>Topic 10</b><br>Words: extensible, extend, extendable, extendible, extending\", \"<b>Topic 10</b><br>Words: extensible, extend, extendable, extendible, extending\", \"<b>Topic 10</b><br>Words: extensible, extend, extendable, extendible, extending\", \"<b>Topic 10</b><br>Words: extensible, extend, extendable, extendible, extending\", \"<b>Topic 10</b><br>Words: extensible, extend, extendable, extendible, extending\", \"<b>Topic 10</b><br>Words: extensible, extend, extendable, extendible, extending\", \"<b>Topic 10</b><br>Words: extensible, extend, extendable, extendible, extending\"], \"marker\": {\"color\": \"#E69F00\"}, \"mode\": \"lines\", \"name\": \"10_extensible_extend_extendable_extendib...\", \"type\": \"scatter\", \"x\": [1981, 1985, 1991, 1993, 1996, 1997, 1999, 2000, 2001, 2002, 2003, 2004, 2005, 2006, 2008, 2012, 2013, 2014], \"y\": [3, 3, 1, 5, 17, 5, 2, 1, 3, 5, 3, 5, 2, 3, 1, 1, 1, 1]}, {\"hoverinfo\": \"text\", \"hovertext\": [\"<b>Topic 0</b><br>Words: subjects, undergraduates, problemsolving, trained, competency\", \"<b>Topic 0</b><br>Words: accessed, stochastic, a1, ohgr, automata\", \"<b>Topic 0</b><br>Words: pawlak82, attributes, pawlak84, pawlaks, boolean\", \"<b>Topic 0</b><br>Words: classificatory, decisions, determiner, offices, classification\", \"<b>Topic 0</b><br>Words: training, learning, categorization, routing, classification\", \"<b>Topic 0</b><br>Words: classifiers, categorization, sleepingexperts, classifier, routing\", \"<b>Topic 0</b><br>Words: categorization, automated, learning, artificial, classification\", \"<b>Topic 0</b><br>Words: classifiers, knn, categorization, learning, manuallygraded\", \"<b>Topic 0</b><br>Words: roller, nnet, friction, signi, direction\", \"<b>Topic 0</b><br>Words: classification, categorization, classifier, vector, learning\", \"<b>Topic 0</b><br>Words: categorization, classification, feature, svms, classifier\", \"<b>Topic 0</b><br>Words: classifiers, classification, genre, topicranking, learning\", \"<b>Topic 0</b><br>Words: classifiers, classification, svm, categorization, classifier\", \"<b>Topic 0</b><br>Words: taxonomy, feature, classification, learning, svm\", \"<b>Topic 0</b><br>Words: czech, categorization, classification, prague, svmrfe\", \"<b>Topic 0</b><br>Words: svm, classification, taxonomy, classifiers, ranking\", \"<b>Topic 0</b><br>Words: ranking, svm, classification, feature, rank\", \"<b>Topic 0</b><br>Words: classification, ranking, svm, svms, hierarchy\", \"<b>Topic 0</b><br>Words: learning, classification, ranking, rank, ndcg\", \"<b>Topic 0</b><br>Words: classification, labels, rank, classifiers, ranking\", \"<b>Topic 0</b><br>Words: learning, ranking, feature, rank, classification\", \"<b>Topic 0</b><br>Words: classification, learning, ranking, classifiers, rank\", \"<b>Topic 0</b><br>Words: adaptation, classifier, class, classifiers, learning\", \"<b>Topic 0</b><br>Words: categories, learning, classification, ranking, chunkbased\", \"<b>Topic 0</b><br>Words: learning, ranking, classification, rank, selection\", \"<b>Topic 0</b><br>Words: learning, rank, ensembles, ranking, trees\", \"<b>Topic 0</b><br>Words: learning, ranking, neural, training, classification\", \"<b>Topic 0</b><br>Words: neural, learning, ranking, training, networks\", \"<b>Topic 0</b><br>Words: learning, neural, classification, ranking, feature\"], \"marker\": {\"color\": \"#56B4E9\"}, \"mode\": \"lines\", \"name\": \"0_learning_training_classification_ranki...\", \"type\": \"scatter\", \"x\": [1983, 1987, 1988, 1989, 1995, 1996, 1997, 1998, 1999, 2000, 2001, 2002, 2003, 2004, 2005, 2006, 2007, 2008, 2009, 2010, 2011, 2012, 2013, 2014, 2015, 2016, 2017, 2018, 2019], \"y\": [1, 1, 1, 1, 4, 3, 2, 4, 2, 6, 6, 7, 8, 3, 8, 9, 18, 14, 11, 12, 18, 14, 4, 6, 13, 16, 18, 24, 23]}, {\"hoverinfo\": \"text\", \"hovertext\": [\"<b>Topic 1</b><br>Words: library, news, catalog, foreknowledge, choicewe\", \"<b>Topic 1</b><br>Words: filtering, ifa, recommendation, predictor, preferences\", \"<b>Topic 1</b><br>Words: prediction, correlationbased, filtering, collaborative, visualization\", \"<b>Topic 1</b><br>Words: privacy, recommending, risks, protects, suggest\", \"<b>Topic 1</b><br>Words: ratings, collaborative, preferences, eachmovie, filtering\", \"<b>Topic 1</b><br>Words: filtering, rating, ratings, normalization, distribution\", \"<b>Topic 1</b><br>Words: collaborative, filtering, memorybased, smoothingbased, decentralized\", \"<b>Topic 1</b><br>Words: ratings, attacks, attack, filtering, sparsity\", \"<b>Topic 1</b><br>Words: movielens, prediction, memorybased, filtering, borrowing\", \"<b>Topic 1</b><br>Words: collaborative, filtering, rating, recommender, preferences\", \"<b>Topic 1</b><br>Words: recommender, recommendations, filtering, recommendation, netflix\", \"<b>Topic 1</b><br>Words: recommendation, recommender, artists, pop, users\", \"<b>Topic 1</b><br>Words: recommendation, recommender, rating, recommendations, interview\", \"<b>Topic 1</b><br>Words: recommendation, recommender, tfmap, filtering, asker\", \"<b>Topic 1</b><br>Words: recommendation, recommender, recommendations, filtering, rating\", \"<b>Topic 1</b><br>Words: recommendation, rating, recommender, recommendations, ratings\", \"<b>Topic 1</b><br>Words: recommendation, filtering, factorization, recommender, personalized\", \"<b>Topic 1</b><br>Words: recommendation, recommendations, dcf, cbrs, collaborative\", \"<b>Topic 1</b><br>Words: recommendation, recommender, factorization, filtering, preferences\", \"<b>Topic 1</b><br>Words: recommendation, recommender, preferences, collaborative, personalized\", \"<b>Topic 1</b><br>Words: recommendation, collaborative, recommendations, recommender, filtering\"], \"marker\": {\"color\": \"#009E73\"}, \"mode\": \"lines\", \"name\": \"1_recommendation_recommender_filtering_r...\", \"type\": \"scatter\", \"x\": [1983, 1999, 2000, 2002, 2003, 2004, 2005, 2006, 2007, 2008, 2009, 2010, 2011, 2012, 2013, 2014, 2015, 2016, 2017, 2018, 2019], \"y\": [1, 3, 2, 2, 1, 5, 2, 2, 2, 5, 4, 6, 12, 8, 11, 16, 16, 7, 20, 18, 32]}, {\"hoverinfo\": \"text\", \"hovertext\": [\"<b>Topic 3</b><br>Words: intermediary, ir, 1982, goal, conference\", \"<b>Topic 3</b><br>Words: interface, recon, energys, intermediaries, energy\", \"<b>Topic 3</b><br>Words: caching, computers, pcequipped, storage, eventdriven\", \"<b>Topic 3</b><br>Words: airphys, ir, estimation, worddescriptor, fachinformationsentrum\", \"<b>Topic 3</b><br>Words: air, connectionist, consensual, ir, bulletin\", \"<b>Topic 3</b><br>Words: permission, abstraction, ir, data, acm\", \"<b>Topic 3</b><br>Words: ir, cbr, evaluations, evaluation, assess\", \"<b>Topic 3</b><br>Words: ir, requests, workloads, workload, distributed\", \"<b>Topic 3</b><br>Words: ir, indicator, measure, visualization, application\", \"<b>Topic 3</b><br>Words: visualization, 3d, nirve, 2d, costs\", \"<b>Topic 3</b><br>Words: presentation, aof, validity, ir, reliability\", \"<b>Topic 3</b><br>Words: interagency, initiatives, department, agencies, virtual\", \"<b>Topic 3</b><br>Words: ir, analyser, okapi, qpa, visualisation\", \"<b>Topic 3</b><br>Words: imperfect, elicitation, effectiveness, unreliability, weblike\", \"<b>Topic 3</b><br>Words: failure, flaws, verified, reliability, failures\", \"<b>Topic 3</b><br>Words: irf, wait, optimal, broker, distributed\", \"<b>Topic 3</b><br>Words: grid, xml, eprum, libraries, cheshire3\", \"<b>Topic 3</b><br>Words: ir, satisfaction, effectiveness, evaluation, performance\", \"<b>Topic 3</b><br>Words: students, ir, topics, teach, projects\", \"<b>Topic 3</b><br>Words: difficulty, confident, selection, requirement, chosen\", \"<b>Topic 3</b><br>Words: accessibility, difficulty, prediction, evaluation, quality\", \"<b>Topic 3</b><br>Words: ir, sorting, modelling, evaluation, accumulators\", \"<b>Topic 3</b><br>Words: tutorial, collaboration, evaluation, lm, foundations\", \"<b>Topic 3</b><br>Words: stability, psdr, stabilityrobustness, psdrs, benefits\", \"<b>Topic 3</b><br>Words: tutorial, approaches, outcomes, deconstructing, illustrations\", \"<b>Topic 3</b><br>Words: academic, industry, research, evaluation, measures\", \"<b>Topic 3</b><br>Words: tutorial, 904labs, effort, instruction, participants\", \"<b>Topic 3</b><br>Words: toolkits, research, lucene, subcorpora, collections\", \"<b>Topic 3</b><br>Words: determinability, research, task, opensource, platforms\", \"<b>Topic 3</b><br>Words: ir, standardization, research, irbu, transformation\"], \"marker\": {\"color\": \"#F0E442\"}, \"mode\": \"lines\", \"name\": \"3_ir_evaluation_effectiveness_experiment...\", \"type\": \"scatter\", \"x\": [1983, 1985, 1987, 1988, 1989, 1991, 1995, 1996, 1998, 1999, 2000, 2001, 2002, 2003, 2004, 2005, 2006, 2007, 2008, 2009, 2010, 2011, 2012, 2013, 2014, 2015, 2016, 2017, 2018, 2019], \"y\": [2, 1, 1, 3, 2, 1, 3, 3, 3, 1, 2, 1, 5, 2, 2, 2, 4, 4, 1, 1, 6, 6, 8, 3, 4, 4, 8, 4, 9, 6]}, {\"hoverinfo\": \"text\", \"hovertext\": [\"<b>Topic 6</b><br>Words: knowledgebased, summaries, generating, summarization, databases\", \"<b>Topic 6</b><br>Words: summarization, summaries, summmies, summary, summarizes\", \"<b>Topic 6</b><br>Words: summarization, summaries, summary, informationnovelty, nonmmr\", \"<b>Topic 6</b><br>Words: summarization, summary, summaries, sentence, sentences\", \"<b>Topic 6</b><br>Words: summarization, gist, segment, summarizer, summary\", \"<b>Topic 6</b><br>Words: summarization, summaries, summary, sentences, hierarchies\", \"<b>Topic 6</b><br>Words: summaries, summarization, sentences, summary, summarizer\", \"<b>Topic 6</b><br>Words: fractal, summarization, summaries, lexicon, summary\", \"<b>Topic 6</b><br>Words: summarization, puretext, summarizationbased, classification, summary\", \"<b>Topic 6</b><br>Words: summaries, summarization, newsblaster, summarizer, summarizers\", \"<b>Topic 6</b><br>Words: summarization, catalog, summaries, summary, sentences\", \"<b>Topic 6</b><br>Words: summarization, graphranking, timedtextrank, summarizations, multidocument\", \"<b>Topic 6</b><br>Words: summarization, summaries, themes, mrc, cluster\", \"<b>Topic 6</b><br>Words: summarization, summary, redundancy, summaries, hurricane\", \"<b>Topic 6</b><br>Words: summarization, summary, summaries, sentences, pages\", \"<b>Topic 6</b><br>Words: summarization, sentences, summary, summaries, sentence\", \"<b>Topic 6</b><br>Words: summarization, summarisation, summaries, sentiment, opinionbased\", \"<b>Topic 6</b><br>Words: summarization, summaries, books, summarized, summary\", \"<b>Topic 6</b><br>Words: summarization, sentences, contrastive, manifoldranking, summaries\", \"<b>Topic 6</b><br>Words: summarization, sentences, summaries, summary, contextual\", \"<b>Topic 6</b><br>Words: sentences, summarization, extraction, unlabelled, sentence\", \"<b>Topic 6</b><br>Words: summaries, summary, radiologist, summarization, radiology\"], \"marker\": {\"color\": \"#D55E00\"}, \"mode\": \"lines\", \"name\": \"6_summarization_summaries_summary_text\", \"type\": \"scatter\", \"x\": [1983, 1995, 1998, 1999, 2000, 2001, 2002, 2003, 2004, 2005, 2006, 2007, 2008, 2009, 2010, 2011, 2012, 2014, 2015, 2017, 2018, 2019], \"y\": [1, 2, 2, 5, 2, 6, 3, 4, 2, 3, 4, 3, 7, 2, 5, 4, 2, 3, 4, 4, 1, 1]}, {\"hoverinfo\": \"text\", \"hovertext\": [\"<b>Topic 8</b><br>Words: image, fuzzy, images, partial, description\", \"<b>Topic 8</b><br>Words: impression, mapping, interface, design, representation\", \"<b>Topic 8</b><br>Words: image, images, alphabetic, catalogue, recognition\", \"<b>Topic 8</b><br>Words: images, map, feature, eccentricity, rectangularity\", \"<b>Topic 8</b><br>Words: image, images, database, xnxtors, iexicaf\", \"<b>Topic 8</b><br>Words: color, fuzzy, blue, feature, foql\", \"<b>Topic 8</b><br>Words: patches, patch, pixel, learningbased, classifying\", \"<b>Topic 8</b><br>Words: photographs, images, shoebox, rotate, printed\", \"<b>Topic 8</b><br>Words: image, images, annotation, visual, photographs\", \"<b>Topic 8</b><br>Words: annotation, blobs, selforganising, datadata, wordblob\", \"<b>Topic 8</b><br>Words: image, annotation, images, metadata, video\", \"<b>Topic 8</b><br>Words: annotation, semantic, annotated, database, classification\", \"<b>Topic 8</b><br>Words: image, images, tags, scalestructure, flickr\", \"<b>Topic 8</b><br>Words: semantic, distance, annotation, labels, contentbased\", \"<b>Topic 8</b><br>Words: image, images, annotations, sparse, geonamesfootnotehttpwwwgeonamesorg\", \"<b>Topic 8</b><br>Words: entropy, ccds, descriptor, map, descriptors\", \"<b>Topic 8</b><br>Words: images, facial, tag, annotation, tags\", \"<b>Topic 8</b><br>Words: images, tags, photos, faces, visual\", \"<b>Topic 8</b><br>Words: image, images, facial, visual, face\", \"<b>Topic 8</b><br>Words: images, visual, annotation, annotating, flickr\", \"<b>Topic 8</b><br>Words: images, targets, labels, embedding, vectorizing\", \"<b>Topic 8</b><br>Words: images, rbprf, annotation, prf, torralba\", \"<b>Topic 8</b><br>Words: images, map, sketches, annotation, bqp\", \"<b>Topic 8</b><br>Words: tags, images, visual, tagir, tagbased\"], \"marker\": {\"color\": \"#0072B2\"}, \"mode\": \"lines\", \"name\": \"8_image_images_annotation_visual\", \"type\": \"scatter\", \"x\": [1987, 1988, 1995, 1996, 1997, 1998, 1999, 2000, 2001, 2003, 2004, 2005, 2007, 2008, 2009, 2010, 2011, 2012, 2013, 2014, 2015, 2016, 2017, 2018], \"y\": [1, 1, 2, 1, 2, 1, 1, 1, 3, 3, 2, 4, 3, 2, 2, 3, 6, 4, 5, 7, 2, 2, 4, 2]}, {\"hoverinfo\": \"text\", \"hovertext\": [\"<b>Topic 2</b><br>Words: cognitive, students, factorreferenced, tests, searches\", \"<b>Topic 2</b><br>Words: searchers, termconsistency, conceptconsistency, terminologicat, experience\", \"<b>Topic 2</b><br>Words: subjects, mental, prior, took, incremental\", \"<b>Topic 2</b><br>Words: searches, intention, userlibrarian, revealment, humanmediated\", \"<b>Topic 2</b><br>Words: evidence, uncertainty, detectionrecognition, sitespages, texthtml\", \"<b>Topic 2</b><br>Words: webdocsum, summariser, titlesabstracts, querybiased, webbased\", \"<b>Topic 2</b><br>Words: querybiased, summarisation, interact, presentation, searcher\", \"<b>Topic 2</b><br>Words: searchers, feedback, worktask, groups, web\", \"<b>Topic 2</b><br>Words: abstracts, eyetracking, viewing, browse, viewed\", \"<b>Topic 2</b><br>Words: toolbar, clicked, feedback, user, users\", \"<b>Topic 2</b><br>Words: multitasking, behavior, feedback, switching, session\", \"<b>Topic 2</b><br>Words: destinations, behavior, captions, url, searches\", \"<b>Topic 2</b><br>Words: behavior, mouse, clicked, searchers, feedback\", \"<b>Topic 2</b><br>Words: choice, feedback, eye, satisfaction, eyetrackingbased\", \"<b>Topic 2</b><br>Words: click, behavior, frustration, clicks, ads\", \"<b>Topic 2</b><br>Words: behavior, searcher, multitasking, viewser, users\", \"<b>Topic 2</b><br>Words: behavior, tasks, examination, results, task\", \"<b>Topic 2</b><br>Words: switching, behavior, biases, bias, stopping\", \"<b>Topic 2</b><br>Words: satisfaction, behavior, clicks, users, user\", \"<b>Topic 2</b><br>Words: serps, participants, satisfaction, eyetracking, mouse\", \"<b>Topic 2</b><br>Words: behavior, engagement, users, feedback, intentions\", \"<b>Topic 2</b><br>Words: participants, behavior, serps, serp, tasks\", \"<b>Topic 2</b><br>Words: behavior, behaviors, satisfaction, preference, csm\", \"<b>Topic 2</b><br>Words: behavior, experiences, behaviors, trails, satisfaction\"], \"marker\": {\"color\": \"#CC79A7\"}, \"mode\": \"lines\", \"name\": \"2_behavior_satisfaction_participants_use...\", \"type\": \"scatter\", \"x\": [1992, 1995, 1998, 1999, 2000, 2001, 2002, 2003, 2004, 2005, 2006, 2007, 2008, 2009, 2010, 2011, 2012, 2013, 2014, 2015, 2016, 2017, 2018, 2019], \"y\": [1, 1, 1, 2, 2, 1, 1, 2, 1, 7, 4, 3, 8, 6, 10, 14, 14, 4, 16, 18, 11, 8, 10, 8]}],                        {\"height\": 450, \"hoverlabel\": {\"bgcolor\": \"white\", \"font\": {\"family\": \"Rockwell\", \"size\": 16}}, \"legend\": {\"title\": {\"text\": \"<b>Global Topic Representation\"}}, \"template\": {\"data\": {\"bar\": [{\"error_x\": {\"color\": \"rgb(36,36,36)\"}, \"error_y\": {\"color\": \"rgb(36,36,36)\"}, \"marker\": {\"line\": {\"color\": \"white\", \"width\": 0.5}}, \"type\": \"bar\"}], \"barpolar\": [{\"marker\": {\"line\": {\"color\": \"white\", \"width\": 0.5}}, \"type\": \"barpolar\"}], \"carpet\": [{\"aaxis\": {\"endlinecolor\": \"rgb(36,36,36)\", \"gridcolor\": \"white\", \"linecolor\": \"white\", \"minorgridcolor\": \"white\", \"startlinecolor\": \"rgb(36,36,36)\"}, \"baxis\": {\"endlinecolor\": \"rgb(36,36,36)\", \"gridcolor\": \"white\", \"linecolor\": \"white\", \"minorgridcolor\": \"white\", \"startlinecolor\": \"rgb(36,36,36)\"}, \"type\": \"carpet\"}], \"choropleth\": [{\"colorbar\": {\"outlinewidth\": 1, \"tickcolor\": \"rgb(36,36,36)\", \"ticks\": \"outside\"}, \"type\": \"choropleth\"}], \"contour\": [{\"colorbar\": {\"outlinewidth\": 1, \"tickcolor\": \"rgb(36,36,36)\", \"ticks\": \"outside\"}, \"colorscale\": [[0.0, \"#440154\"], [0.1111111111111111, \"#482878\"], [0.2222222222222222, \"#3e4989\"], [0.3333333333333333, \"#31688e\"], [0.4444444444444444, \"#26828e\"], [0.5555555555555556, \"#1f9e89\"], [0.6666666666666666, \"#35b779\"], [0.7777777777777778, \"#6ece58\"], [0.8888888888888888, \"#b5de2b\"], [1.0, \"#fde725\"]], \"type\": \"contour\"}], \"contourcarpet\": [{\"colorbar\": {\"outlinewidth\": 1, \"tickcolor\": \"rgb(36,36,36)\", \"ticks\": \"outside\"}, \"type\": \"contourcarpet\"}], \"heatmap\": [{\"colorbar\": {\"outlinewidth\": 1, \"tickcolor\": \"rgb(36,36,36)\", \"ticks\": \"outside\"}, \"colorscale\": [[0.0, \"#440154\"], [0.1111111111111111, \"#482878\"], [0.2222222222222222, \"#3e4989\"], [0.3333333333333333, \"#31688e\"], [0.4444444444444444, \"#26828e\"], [0.5555555555555556, \"#1f9e89\"], [0.6666666666666666, \"#35b779\"], [0.7777777777777778, \"#6ece58\"], [0.8888888888888888, \"#b5de2b\"], [1.0, \"#fde725\"]], \"type\": \"heatmap\"}], \"heatmapgl\": [{\"colorbar\": {\"outlinewidth\": 1, \"tickcolor\": \"rgb(36,36,36)\", \"ticks\": \"outside\"}, \"colorscale\": [[0.0, \"#440154\"], [0.1111111111111111, \"#482878\"], [0.2222222222222222, \"#3e4989\"], [0.3333333333333333, \"#31688e\"], [0.4444444444444444, \"#26828e\"], [0.5555555555555556, \"#1f9e89\"], [0.6666666666666666, \"#35b779\"], [0.7777777777777778, \"#6ece58\"], [0.8888888888888888, \"#b5de2b\"], [1.0, \"#fde725\"]], \"type\": \"heatmapgl\"}], \"histogram\": [{\"marker\": {\"line\": {\"color\": \"white\", \"width\": 0.6}}, \"type\": \"histogram\"}], \"histogram2d\": [{\"colorbar\": {\"outlinewidth\": 1, \"tickcolor\": \"rgb(36,36,36)\", \"ticks\": \"outside\"}, \"colorscale\": [[0.0, \"#440154\"], [0.1111111111111111, \"#482878\"], [0.2222222222222222, \"#3e4989\"], [0.3333333333333333, \"#31688e\"], [0.4444444444444444, \"#26828e\"], [0.5555555555555556, \"#1f9e89\"], [0.6666666666666666, \"#35b779\"], [0.7777777777777778, \"#6ece58\"], [0.8888888888888888, \"#b5de2b\"], [1.0, \"#fde725\"]], \"type\": \"histogram2d\"}], \"histogram2dcontour\": [{\"colorbar\": {\"outlinewidth\": 1, \"tickcolor\": \"rgb(36,36,36)\", \"ticks\": \"outside\"}, \"colorscale\": [[0.0, \"#440154\"], [0.1111111111111111, \"#482878\"], [0.2222222222222222, \"#3e4989\"], [0.3333333333333333, \"#31688e\"], [0.4444444444444444, \"#26828e\"], [0.5555555555555556, \"#1f9e89\"], [0.6666666666666666, \"#35b779\"], [0.7777777777777778, \"#6ece58\"], [0.8888888888888888, \"#b5de2b\"], [1.0, \"#fde725\"]], \"type\": \"histogram2dcontour\"}], \"mesh3d\": [{\"colorbar\": {\"outlinewidth\": 1, \"tickcolor\": \"rgb(36,36,36)\", \"ticks\": \"outside\"}, \"type\": \"mesh3d\"}], \"parcoords\": [{\"line\": {\"colorbar\": {\"outlinewidth\": 1, \"tickcolor\": \"rgb(36,36,36)\", \"ticks\": \"outside\"}}, \"type\": \"parcoords\"}], \"pie\": [{\"automargin\": true, \"type\": \"pie\"}], \"scatter\": [{\"marker\": {\"colorbar\": {\"outlinewidth\": 1, \"tickcolor\": \"rgb(36,36,36)\", \"ticks\": \"outside\"}}, \"type\": \"scatter\"}], \"scatter3d\": [{\"line\": {\"colorbar\": {\"outlinewidth\": 1, \"tickcolor\": \"rgb(36,36,36)\", \"ticks\": \"outside\"}}, \"marker\": {\"colorbar\": {\"outlinewidth\": 1, \"tickcolor\": \"rgb(36,36,36)\", \"ticks\": \"outside\"}}, \"type\": \"scatter3d\"}], \"scattercarpet\": [{\"marker\": {\"colorbar\": {\"outlinewidth\": 1, \"tickcolor\": \"rgb(36,36,36)\", \"ticks\": \"outside\"}}, \"type\": \"scattercarpet\"}], \"scattergeo\": [{\"marker\": {\"colorbar\": {\"outlinewidth\": 1, \"tickcolor\": \"rgb(36,36,36)\", \"ticks\": \"outside\"}}, \"type\": \"scattergeo\"}], \"scattergl\": [{\"marker\": {\"colorbar\": {\"outlinewidth\": 1, \"tickcolor\": \"rgb(36,36,36)\", \"ticks\": \"outside\"}}, \"type\": \"scattergl\"}], \"scattermapbox\": [{\"marker\": {\"colorbar\": {\"outlinewidth\": 1, \"tickcolor\": \"rgb(36,36,36)\", \"ticks\": \"outside\"}}, \"type\": \"scattermapbox\"}], \"scatterpolar\": [{\"marker\": {\"colorbar\": {\"outlinewidth\": 1, \"tickcolor\": \"rgb(36,36,36)\", \"ticks\": \"outside\"}}, \"type\": \"scatterpolar\"}], \"scatterpolargl\": [{\"marker\": {\"colorbar\": {\"outlinewidth\": 1, \"tickcolor\": \"rgb(36,36,36)\", \"ticks\": \"outside\"}}, \"type\": \"scatterpolargl\"}], \"scatterternary\": [{\"marker\": {\"colorbar\": {\"outlinewidth\": 1, \"tickcolor\": \"rgb(36,36,36)\", \"ticks\": \"outside\"}}, \"type\": \"scatterternary\"}], \"surface\": [{\"colorbar\": {\"outlinewidth\": 1, \"tickcolor\": \"rgb(36,36,36)\", \"ticks\": \"outside\"}, \"colorscale\": [[0.0, \"#440154\"], [0.1111111111111111, \"#482878\"], [0.2222222222222222, \"#3e4989\"], [0.3333333333333333, \"#31688e\"], [0.4444444444444444, \"#26828e\"], [0.5555555555555556, \"#1f9e89\"], [0.6666666666666666, \"#35b779\"], [0.7777777777777778, \"#6ece58\"], [0.8888888888888888, \"#b5de2b\"], [1.0, \"#fde725\"]], \"type\": \"surface\"}], \"table\": [{\"cells\": {\"fill\": {\"color\": \"rgb(237,237,237)\"}, \"line\": {\"color\": \"white\"}}, \"header\": {\"fill\": {\"color\": \"rgb(217,217,217)\"}, \"line\": {\"color\": \"white\"}}, \"type\": \"table\"}]}, \"layout\": {\"annotationdefaults\": {\"arrowhead\": 0, \"arrowwidth\": 1}, \"autotypenumbers\": \"strict\", \"coloraxis\": {\"colorbar\": {\"outlinewidth\": 1, \"tickcolor\": \"rgb(36,36,36)\", \"ticks\": \"outside\"}}, \"colorscale\": {\"diverging\": [[0.0, \"rgb(103,0,31)\"], [0.1, \"rgb(178,24,43)\"], [0.2, \"rgb(214,96,77)\"], [0.3, \"rgb(244,165,130)\"], [0.4, \"rgb(253,219,199)\"], [0.5, \"rgb(247,247,247)\"], [0.6, \"rgb(209,229,240)\"], [0.7, \"rgb(146,197,222)\"], [0.8, \"rgb(67,147,195)\"], [0.9, \"rgb(33,102,172)\"], [1.0, \"rgb(5,48,97)\"]], \"sequential\": [[0.0, \"#440154\"], [0.1111111111111111, \"#482878\"], [0.2222222222222222, \"#3e4989\"], [0.3333333333333333, \"#31688e\"], [0.4444444444444444, \"#26828e\"], [0.5555555555555556, \"#1f9e89\"], [0.6666666666666666, \"#35b779\"], [0.7777777777777778, \"#6ece58\"], [0.8888888888888888, \"#b5de2b\"], [1.0, \"#fde725\"]], \"sequentialminus\": [[0.0, \"#440154\"], [0.1111111111111111, \"#482878\"], [0.2222222222222222, \"#3e4989\"], [0.3333333333333333, \"#31688e\"], [0.4444444444444444, \"#26828e\"], [0.5555555555555556, \"#1f9e89\"], [0.6666666666666666, \"#35b779\"], [0.7777777777777778, \"#6ece58\"], [0.8888888888888888, \"#b5de2b\"], [1.0, \"#fde725\"]]}, \"colorway\": [\"#1F77B4\", \"#FF7F0E\", \"#2CA02C\", \"#D62728\", \"#9467BD\", \"#8C564B\", \"#E377C2\", \"#7F7F7F\", \"#BCBD22\", \"#17BECF\"], \"font\": {\"color\": \"rgb(36,36,36)\"}, \"geo\": {\"bgcolor\": \"white\", \"lakecolor\": \"white\", \"landcolor\": \"white\", \"showlakes\": true, \"showland\": true, \"subunitcolor\": \"white\"}, \"hoverlabel\": {\"align\": \"left\"}, \"hovermode\": \"closest\", \"mapbox\": {\"style\": \"light\"}, \"paper_bgcolor\": \"white\", \"plot_bgcolor\": \"white\", \"polar\": {\"angularaxis\": {\"gridcolor\": \"rgb(232,232,232)\", \"linecolor\": \"rgb(36,36,36)\", \"showgrid\": false, \"showline\": true, \"ticks\": \"outside\"}, \"bgcolor\": \"white\", \"radialaxis\": {\"gridcolor\": \"rgb(232,232,232)\", \"linecolor\": \"rgb(36,36,36)\", \"showgrid\": false, \"showline\": true, \"ticks\": \"outside\"}}, \"scene\": {\"xaxis\": {\"backgroundcolor\": \"white\", \"gridcolor\": \"rgb(232,232,232)\", \"gridwidth\": 2, \"linecolor\": \"rgb(36,36,36)\", \"showbackground\": true, \"showgrid\": false, \"showline\": true, \"ticks\": \"outside\", \"zeroline\": false, \"zerolinecolor\": \"rgb(36,36,36)\"}, \"yaxis\": {\"backgroundcolor\": \"white\", \"gridcolor\": \"rgb(232,232,232)\", \"gridwidth\": 2, \"linecolor\": \"rgb(36,36,36)\", \"showbackground\": true, \"showgrid\": false, \"showline\": true, \"ticks\": \"outside\", \"zeroline\": false, \"zerolinecolor\": \"rgb(36,36,36)\"}, \"zaxis\": {\"backgroundcolor\": \"white\", \"gridcolor\": \"rgb(232,232,232)\", \"gridwidth\": 2, \"linecolor\": \"rgb(36,36,36)\", \"showbackground\": true, \"showgrid\": false, \"showline\": true, \"ticks\": \"outside\", \"zeroline\": false, \"zerolinecolor\": \"rgb(36,36,36)\"}}, \"shapedefaults\": {\"fillcolor\": \"black\", \"line\": {\"width\": 0}, \"opacity\": 0.3}, \"ternary\": {\"aaxis\": {\"gridcolor\": \"rgb(232,232,232)\", \"linecolor\": \"rgb(36,36,36)\", \"showgrid\": false, \"showline\": true, \"ticks\": \"outside\"}, \"baxis\": {\"gridcolor\": \"rgb(232,232,232)\", \"linecolor\": \"rgb(36,36,36)\", \"showgrid\": false, \"showline\": true, \"ticks\": \"outside\"}, \"bgcolor\": \"white\", \"caxis\": {\"gridcolor\": \"rgb(232,232,232)\", \"linecolor\": \"rgb(36,36,36)\", \"showgrid\": false, \"showline\": true, \"ticks\": \"outside\"}}, \"title\": {\"x\": 0.05}, \"xaxis\": {\"automargin\": true, \"gridcolor\": \"rgb(232,232,232)\", \"linecolor\": \"rgb(36,36,36)\", \"showgrid\": false, \"showline\": true, \"ticks\": \"outside\", \"title\": {\"standoff\": 15}, \"zeroline\": false, \"zerolinecolor\": \"rgb(36,36,36)\"}, \"yaxis\": {\"automargin\": true, \"gridcolor\": \"rgb(232,232,232)\", \"linecolor\": \"rgb(36,36,36)\", \"showgrid\": false, \"showline\": true, \"ticks\": \"outside\", \"title\": {\"standoff\": 15}, \"zeroline\": false, \"zerolinecolor\": \"rgb(36,36,36)\"}}}, \"title\": {\"font\": {\"color\": \"Black\", \"size\": 22}, \"text\": \"<b>Topics over Time\", \"x\": 0.4, \"xanchor\": \"center\", \"y\": 0.95, \"yanchor\": \"top\"}, \"width\": 1250, \"xaxis\": {\"showgrid\": true}, \"yaxis\": {\"showgrid\": true, \"title\": {\"text\": \"Frequency\"}}},                        {\"responsive\": true}                    ).then(function(){\n",
              "                            \n",
              "var gd = document.getElementById('ebdc68c3-33b6-4184-8466-c44466effbe0');\n",
              "var x = new MutationObserver(function (mutations, observer) {{\n",
              "        var display = window.getComputedStyle(gd).display;\n",
              "        if (!display || display === 'none') {{\n",
              "            console.log([gd, 'removed!']);\n",
              "            Plotly.purge(gd);\n",
              "            observer.disconnect();\n",
              "        }}\n",
              "}});\n",
              "\n",
              "// Listen for the removal of the full notebook cells\n",
              "var notebookContainer = gd.closest('#notebook-container');\n",
              "if (notebookContainer) {{\n",
              "    x.observe(notebookContainer, {childList: true});\n",
              "}}\n",
              "\n",
              "// Listen for the clearing of the current output cell\n",
              "var outputEl = gd.closest('.output');\n",
              "if (outputEl) {{\n",
              "    x.observe(outputEl, {childList: true});\n",
              "}}\n",
              "\n",
              "                        })                };                            </script>        </div>\n",
              "</body>\n",
              "</html>"
            ]
          },
          "metadata": {
            "tags": []
          }
        }
      ]
    },
    {
      "cell_type": "code",
      "metadata": {
        "colab": {
          "base_uri": "https://localhost:8080/",
          "height": 486
        },
        "id": "4nbksdKh_HWX",
        "outputId": "3d207814-5d3b-47d3-fa02-057fa8e4ba99"
      },
      "source": [
        "#Topic_after 1995\n",
        "model.visualize_topics_over_time(topics_over_time, topics=[15,9,11])"
      ],
      "execution_count": null,
      "outputs": [
        {
          "output_type": "display_data",
          "data": {
            "text/html": [
              "<html>\n",
              "<head><meta charset=\"utf-8\" /></head>\n",
              "<body>\n",
              "    <div>            <script src=\"https://cdnjs.cloudflare.com/ajax/libs/mathjax/2.7.5/MathJax.js?config=TeX-AMS-MML_SVG\"></script><script type=\"text/javascript\">if (window.MathJax) {MathJax.Hub.Config({SVG: {font: \"STIX-Web\"}});}</script>                <script type=\"text/javascript\">window.PlotlyConfig = {MathJaxConfig: 'local'};</script>\n",
              "        <script src=\"https://cdn.plot.ly/plotly-latest.min.js\"></script>                <div id=\"16d583e7-27e7-4688-aed9-3e13ffc72757\" class=\"plotly-graph-div\" style=\"height:450px; width:1250px;\"></div>            <script type=\"text/javascript\">                                    window.PLOTLYENV=window.PLOTLYENV || {};                                    if (document.getElementById(\"16d583e7-27e7-4688-aed9-3e13ffc72757\")) {                    Plotly.newPlot(                        \"16d583e7-27e7-4688-aed9-3e13ffc72757\",                        [{\"hoverinfo\": \"text\", \"hovertext\": [\"<b>Topic 15</b><br>Words: music, key, melodies, musical, pitch\", \"<b>Topic 15</b><br>Words: music, mir, melodies, musical, ngrams\", \"<b>Topic 15</b><br>Words: music, monophonic, polyphonic, homophonic, pitches\", \"<b>Topic 15</b><br>Words: music, melody, musical, accompaniment, melodies\", \"<b>Topic 15</b><br>Words: music, genre, polyphonic, musical, mir\", \"<b>Topic 15</b><br>Words: cmrs, audio, music, multimedia, genres\", \"<b>Topic 15</b><br>Words: musicsurfer, music, descriptions, metadata, rhythm\", \"<b>Topic 15</b><br>Words: music, singer, vocal, harmony, timing\", \"<b>Topic 15</b><br>Words: music, songs, audio, semantic, annotate\", \"<b>Topic 15</b><br>Words: music, acoustic, polyphonic, melody, monophonic\", \"<b>Topic 15</b><br>Words: music, audio, songs, mdct, mir\", \"<b>Topic 15</b><br>Words: music, genre, ensemble, harmonic, classification\", \"<b>Topic 15</b><br>Words: music, ambience, subclassifiers, song, mir\", \"<b>Topic 15</b><br>Words: music, audio, listening, mir, microblog\", \"<b>Topic 15</b><br>Words: music, geospatial, continent, musical, listening\", \"<b>Topic 15</b><br>Words: music, venuemusic, listening, playlist, audio\", \"<b>Topic 15</b><br>Words: music, dlmptm, anomaly, audio, listening\", \"<b>Topic 15</b><br>Words: music, spotify, userspecific, chroma, transcription\", \"<b>Topic 15</b><br>Words: music, listening, activities, interviews, experience\"], \"marker\": {\"color\": \"#E69F00\"}, \"mode\": \"lines\", \"name\": \"15_music_audio_listening_songs\", \"type\": \"scatter\", \"x\": [1999, 2000, 2001, 2002, 2003, 2004, 2005, 2006, 2007, 2009, 2010, 2011, 2012, 2013, 2014, 2015, 2016, 2017, 2018], \"y\": [3, 1, 1, 3, 3, 1, 1, 2, 3, 4, 3, 2, 3, 2, 2, 4, 4, 3, 2]}, {\"hoverinfo\": \"text\", \"hovertext\": [\"<b>Topic 9</b><br>Words: hyperlinks, web, anchor, hypertext, linked\", \"<b>Topic 9</b><br>Words: links, web, anchor, hyperlink, page\", \"<b>Topic 9</b><br>Words: url, pagerank, page, pages, selection3\", \"<b>Topic 9</b><br>Words: anchor, link, web, pagerank, homepage\", \"<b>Topic 9</b><br>Words: page, web, pagerank, segmentation, blocklevel\", \"<b>Topic 9</b><br>Words: pagerank, link, web, algorithm, urm\", \"<b>Topic 9</b><br>Words: pages, pagerank, websites, web, hostgraph\", \"<b>Topic 9</b><br>Words: diffusionrank, web, link, pagerank, links\", \"<b>Topic 9</b><br>Words: pages, forum, crawler, links, link\", \"<b>Topic 9</b><br>Words: pagerank, web, links, urls, privacypreserving\", \"<b>Topic 9</b><br>Words: anchor, link, web, links, pagerank\", \"<b>Topic 9</b><br>Words: anchors, anchor, tweets, conversations, tweet\", \"<b>Topic 9</b><br>Words: plugin, yali, xpaths, nerd, web\", \"<b>Topic 9</b><br>Words: scalability, infrastructures, architectural, optimizations, web\", \"<b>Topic 9</b><br>Words: policy, aggregators, web, browsegraph, hyperlink\", \"<b>Topic 9</b><br>Words: useragents, sites, web, tor, dmoz\", \"<b>Topic 9</b><br>Words: deduping, seq2seq, urls, crawlers, url\", \"<b>Topic 9</b><br>Words: job, employers, searches, marketplace, enterprises\", \"<b>Topic 9</b><br>Words: politeness, politebinarylambdacrawl, constraints, crawler, scheduling\"], \"marker\": {\"color\": \"#56B4E9\"}, \"mode\": \"lines\", \"name\": \"9_web_pagerank_links_crawler\", \"type\": \"scatter\", \"x\": [2000, 2001, 2002, 2003, 2004, 2005, 2006, 2007, 2008, 2009, 2010, 2012, 2013, 2014, 2015, 2016, 2017, 2018, 2019], \"y\": [3, 6, 2, 3, 6, 5, 6, 5, 4, 6, 4, 1, 3, 1, 4, 1, 1, 1, 1]}, {\"hoverinfo\": \"text\", \"hovertext\": [\"<b>Topic 11</b><br>Words: agate, alerts, filtered, disaster, disasters\", \"<b>Topic 11</b><br>Words: tweets, tweet, quickview, nlpbased, ie\", \"<b>Topic 11</b><br>Words: twitter, tweets, tweet, hashtag, posts\", \"<b>Topic 11</b><br>Words: tweets, tweet, twitter, streams, retweet\", \"<b>Topic 11</b><br>Words: tweets, twitter, tweet, hashtags, hashtag\", \"<b>Topic 11</b><br>Words: tweets, tweet, twitter, hashtags, spam\", \"<b>Topic 11</b><br>Words: tweets, tweet, twitter, geoburst, geotagged\", \"<b>Topic 11</b><br>Words: tweets, twitter, tweet, earthquake, tweets2013\", \"<b>Topic 11</b><br>Words: tweets, tweet, twitter, instagram, forecasting\", \"<b>Topic 11</b><br>Words: tweets, retweet, tweet, twitter, event\"], \"marker\": {\"color\": \"#009E73\"}, \"mode\": \"lines\", \"name\": \"11_tweets_tweet_twitter_realtime\", \"type\": \"scatter\", \"x\": [2009, 2011, 2012, 2013, 2014, 2015, 2016, 2017, 2018, 2019], \"y\": [1, 1, 9, 6, 5, 5, 12, 4, 7, 5]}],                        {\"height\": 450, \"hoverlabel\": {\"bgcolor\": \"white\", \"font\": {\"family\": \"Rockwell\", \"size\": 16}}, \"legend\": {\"title\": {\"text\": \"<b>Global Topic Representation\"}}, \"template\": {\"data\": {\"bar\": [{\"error_x\": {\"color\": \"rgb(36,36,36)\"}, \"error_y\": {\"color\": \"rgb(36,36,36)\"}, \"marker\": {\"line\": {\"color\": \"white\", \"width\": 0.5}}, \"type\": \"bar\"}], \"barpolar\": [{\"marker\": {\"line\": {\"color\": \"white\", \"width\": 0.5}}, \"type\": \"barpolar\"}], \"carpet\": [{\"aaxis\": {\"endlinecolor\": \"rgb(36,36,36)\", \"gridcolor\": \"white\", \"linecolor\": \"white\", \"minorgridcolor\": \"white\", \"startlinecolor\": \"rgb(36,36,36)\"}, \"baxis\": {\"endlinecolor\": \"rgb(36,36,36)\", \"gridcolor\": \"white\", \"linecolor\": \"white\", \"minorgridcolor\": \"white\", \"startlinecolor\": \"rgb(36,36,36)\"}, \"type\": \"carpet\"}], \"choropleth\": [{\"colorbar\": {\"outlinewidth\": 1, \"tickcolor\": \"rgb(36,36,36)\", \"ticks\": \"outside\"}, \"type\": \"choropleth\"}], \"contour\": [{\"colorbar\": {\"outlinewidth\": 1, \"tickcolor\": \"rgb(36,36,36)\", \"ticks\": \"outside\"}, \"colorscale\": [[0.0, \"#440154\"], [0.1111111111111111, \"#482878\"], [0.2222222222222222, \"#3e4989\"], [0.3333333333333333, \"#31688e\"], [0.4444444444444444, \"#26828e\"], [0.5555555555555556, \"#1f9e89\"], [0.6666666666666666, \"#35b779\"], [0.7777777777777778, \"#6ece58\"], [0.8888888888888888, \"#b5de2b\"], [1.0, \"#fde725\"]], \"type\": \"contour\"}], \"contourcarpet\": [{\"colorbar\": {\"outlinewidth\": 1, \"tickcolor\": \"rgb(36,36,36)\", \"ticks\": \"outside\"}, \"type\": \"contourcarpet\"}], \"heatmap\": [{\"colorbar\": {\"outlinewidth\": 1, \"tickcolor\": \"rgb(36,36,36)\", \"ticks\": \"outside\"}, \"colorscale\": [[0.0, \"#440154\"], [0.1111111111111111, \"#482878\"], [0.2222222222222222, \"#3e4989\"], [0.3333333333333333, \"#31688e\"], [0.4444444444444444, \"#26828e\"], [0.5555555555555556, \"#1f9e89\"], [0.6666666666666666, \"#35b779\"], [0.7777777777777778, \"#6ece58\"], [0.8888888888888888, \"#b5de2b\"], [1.0, \"#fde725\"]], \"type\": \"heatmap\"}], \"heatmapgl\": [{\"colorbar\": {\"outlinewidth\": 1, \"tickcolor\": \"rgb(36,36,36)\", \"ticks\": \"outside\"}, \"colorscale\": [[0.0, \"#440154\"], [0.1111111111111111, \"#482878\"], [0.2222222222222222, \"#3e4989\"], [0.3333333333333333, \"#31688e\"], [0.4444444444444444, \"#26828e\"], [0.5555555555555556, \"#1f9e89\"], [0.6666666666666666, \"#35b779\"], [0.7777777777777778, \"#6ece58\"], [0.8888888888888888, \"#b5de2b\"], [1.0, \"#fde725\"]], \"type\": \"heatmapgl\"}], \"histogram\": [{\"marker\": {\"line\": {\"color\": \"white\", \"width\": 0.6}}, \"type\": \"histogram\"}], \"histogram2d\": [{\"colorbar\": {\"outlinewidth\": 1, \"tickcolor\": \"rgb(36,36,36)\", \"ticks\": \"outside\"}, \"colorscale\": [[0.0, \"#440154\"], [0.1111111111111111, \"#482878\"], [0.2222222222222222, \"#3e4989\"], [0.3333333333333333, \"#31688e\"], [0.4444444444444444, \"#26828e\"], [0.5555555555555556, \"#1f9e89\"], [0.6666666666666666, \"#35b779\"], [0.7777777777777778, \"#6ece58\"], [0.8888888888888888, \"#b5de2b\"], [1.0, \"#fde725\"]], \"type\": \"histogram2d\"}], \"histogram2dcontour\": [{\"colorbar\": {\"outlinewidth\": 1, \"tickcolor\": \"rgb(36,36,36)\", \"ticks\": \"outside\"}, \"colorscale\": [[0.0, \"#440154\"], [0.1111111111111111, \"#482878\"], [0.2222222222222222, \"#3e4989\"], [0.3333333333333333, \"#31688e\"], [0.4444444444444444, \"#26828e\"], [0.5555555555555556, \"#1f9e89\"], [0.6666666666666666, \"#35b779\"], [0.7777777777777778, \"#6ece58\"], [0.8888888888888888, \"#b5de2b\"], [1.0, \"#fde725\"]], \"type\": \"histogram2dcontour\"}], \"mesh3d\": [{\"colorbar\": {\"outlinewidth\": 1, \"tickcolor\": \"rgb(36,36,36)\", \"ticks\": \"outside\"}, \"type\": \"mesh3d\"}], \"parcoords\": [{\"line\": {\"colorbar\": {\"outlinewidth\": 1, \"tickcolor\": \"rgb(36,36,36)\", \"ticks\": \"outside\"}}, \"type\": \"parcoords\"}], \"pie\": [{\"automargin\": true, \"type\": \"pie\"}], \"scatter\": [{\"marker\": {\"colorbar\": {\"outlinewidth\": 1, \"tickcolor\": \"rgb(36,36,36)\", \"ticks\": \"outside\"}}, \"type\": \"scatter\"}], \"scatter3d\": [{\"line\": {\"colorbar\": {\"outlinewidth\": 1, \"tickcolor\": \"rgb(36,36,36)\", \"ticks\": \"outside\"}}, \"marker\": {\"colorbar\": {\"outlinewidth\": 1, \"tickcolor\": \"rgb(36,36,36)\", \"ticks\": \"outside\"}}, \"type\": \"scatter3d\"}], \"scattercarpet\": [{\"marker\": {\"colorbar\": {\"outlinewidth\": 1, \"tickcolor\": \"rgb(36,36,36)\", \"ticks\": \"outside\"}}, \"type\": \"scattercarpet\"}], \"scattergeo\": [{\"marker\": {\"colorbar\": {\"outlinewidth\": 1, \"tickcolor\": \"rgb(36,36,36)\", \"ticks\": \"outside\"}}, \"type\": \"scattergeo\"}], \"scattergl\": [{\"marker\": {\"colorbar\": {\"outlinewidth\": 1, \"tickcolor\": \"rgb(36,36,36)\", \"ticks\": \"outside\"}}, \"type\": \"scattergl\"}], \"scattermapbox\": [{\"marker\": {\"colorbar\": {\"outlinewidth\": 1, \"tickcolor\": \"rgb(36,36,36)\", \"ticks\": \"outside\"}}, \"type\": \"scattermapbox\"}], \"scatterpolar\": [{\"marker\": {\"colorbar\": {\"outlinewidth\": 1, \"tickcolor\": \"rgb(36,36,36)\", \"ticks\": \"outside\"}}, \"type\": \"scatterpolar\"}], \"scatterpolargl\": [{\"marker\": {\"colorbar\": {\"outlinewidth\": 1, \"tickcolor\": \"rgb(36,36,36)\", \"ticks\": \"outside\"}}, \"type\": \"scatterpolargl\"}], \"scatterternary\": [{\"marker\": {\"colorbar\": {\"outlinewidth\": 1, \"tickcolor\": \"rgb(36,36,36)\", \"ticks\": \"outside\"}}, \"type\": \"scatterternary\"}], \"surface\": [{\"colorbar\": {\"outlinewidth\": 1, \"tickcolor\": \"rgb(36,36,36)\", \"ticks\": \"outside\"}, \"colorscale\": [[0.0, \"#440154\"], [0.1111111111111111, \"#482878\"], [0.2222222222222222, \"#3e4989\"], [0.3333333333333333, \"#31688e\"], [0.4444444444444444, \"#26828e\"], [0.5555555555555556, \"#1f9e89\"], [0.6666666666666666, \"#35b779\"], [0.7777777777777778, \"#6ece58\"], [0.8888888888888888, \"#b5de2b\"], [1.0, \"#fde725\"]], \"type\": \"surface\"}], \"table\": [{\"cells\": {\"fill\": {\"color\": \"rgb(237,237,237)\"}, \"line\": {\"color\": \"white\"}}, \"header\": {\"fill\": {\"color\": \"rgb(217,217,217)\"}, \"line\": {\"color\": \"white\"}}, \"type\": \"table\"}]}, \"layout\": {\"annotationdefaults\": {\"arrowhead\": 0, \"arrowwidth\": 1}, \"autotypenumbers\": \"strict\", \"coloraxis\": {\"colorbar\": {\"outlinewidth\": 1, \"tickcolor\": \"rgb(36,36,36)\", \"ticks\": \"outside\"}}, \"colorscale\": {\"diverging\": [[0.0, \"rgb(103,0,31)\"], [0.1, \"rgb(178,24,43)\"], [0.2, \"rgb(214,96,77)\"], [0.3, \"rgb(244,165,130)\"], [0.4, \"rgb(253,219,199)\"], [0.5, \"rgb(247,247,247)\"], [0.6, \"rgb(209,229,240)\"], [0.7, \"rgb(146,197,222)\"], [0.8, \"rgb(67,147,195)\"], [0.9, \"rgb(33,102,172)\"], [1.0, \"rgb(5,48,97)\"]], \"sequential\": [[0.0, \"#440154\"], [0.1111111111111111, \"#482878\"], [0.2222222222222222, \"#3e4989\"], [0.3333333333333333, \"#31688e\"], [0.4444444444444444, \"#26828e\"], [0.5555555555555556, \"#1f9e89\"], [0.6666666666666666, \"#35b779\"], [0.7777777777777778, \"#6ece58\"], [0.8888888888888888, \"#b5de2b\"], [1.0, \"#fde725\"]], \"sequentialminus\": [[0.0, \"#440154\"], [0.1111111111111111, \"#482878\"], [0.2222222222222222, \"#3e4989\"], [0.3333333333333333, \"#31688e\"], [0.4444444444444444, \"#26828e\"], [0.5555555555555556, \"#1f9e89\"], [0.6666666666666666, \"#35b779\"], [0.7777777777777778, \"#6ece58\"], [0.8888888888888888, \"#b5de2b\"], [1.0, \"#fde725\"]]}, \"colorway\": [\"#1F77B4\", \"#FF7F0E\", \"#2CA02C\", \"#D62728\", \"#9467BD\", \"#8C564B\", \"#E377C2\", \"#7F7F7F\", \"#BCBD22\", \"#17BECF\"], \"font\": {\"color\": \"rgb(36,36,36)\"}, \"geo\": {\"bgcolor\": \"white\", \"lakecolor\": \"white\", \"landcolor\": \"white\", \"showlakes\": true, \"showland\": true, \"subunitcolor\": \"white\"}, \"hoverlabel\": {\"align\": \"left\"}, \"hovermode\": \"closest\", \"mapbox\": {\"style\": \"light\"}, \"paper_bgcolor\": \"white\", \"plot_bgcolor\": \"white\", \"polar\": {\"angularaxis\": {\"gridcolor\": \"rgb(232,232,232)\", \"linecolor\": \"rgb(36,36,36)\", \"showgrid\": false, \"showline\": true, \"ticks\": \"outside\"}, \"bgcolor\": \"white\", \"radialaxis\": {\"gridcolor\": \"rgb(232,232,232)\", \"linecolor\": \"rgb(36,36,36)\", \"showgrid\": false, \"showline\": true, \"ticks\": \"outside\"}}, \"scene\": {\"xaxis\": {\"backgroundcolor\": \"white\", \"gridcolor\": \"rgb(232,232,232)\", \"gridwidth\": 2, \"linecolor\": \"rgb(36,36,36)\", \"showbackground\": true, \"showgrid\": false, \"showline\": true, \"ticks\": \"outside\", \"zeroline\": false, \"zerolinecolor\": \"rgb(36,36,36)\"}, \"yaxis\": {\"backgroundcolor\": \"white\", \"gridcolor\": \"rgb(232,232,232)\", \"gridwidth\": 2, \"linecolor\": \"rgb(36,36,36)\", \"showbackground\": true, \"showgrid\": false, \"showline\": true, \"ticks\": \"outside\", \"zeroline\": false, \"zerolinecolor\": \"rgb(36,36,36)\"}, \"zaxis\": {\"backgroundcolor\": \"white\", \"gridcolor\": \"rgb(232,232,232)\", \"gridwidth\": 2, \"linecolor\": \"rgb(36,36,36)\", \"showbackground\": true, \"showgrid\": false, \"showline\": true, \"ticks\": \"outside\", \"zeroline\": false, \"zerolinecolor\": \"rgb(36,36,36)\"}}, \"shapedefaults\": {\"fillcolor\": \"black\", \"line\": {\"width\": 0}, \"opacity\": 0.3}, \"ternary\": {\"aaxis\": {\"gridcolor\": \"rgb(232,232,232)\", \"linecolor\": \"rgb(36,36,36)\", \"showgrid\": false, \"showline\": true, \"ticks\": \"outside\"}, \"baxis\": {\"gridcolor\": \"rgb(232,232,232)\", \"linecolor\": \"rgb(36,36,36)\", \"showgrid\": false, \"showline\": true, \"ticks\": \"outside\"}, \"bgcolor\": \"white\", \"caxis\": {\"gridcolor\": \"rgb(232,232,232)\", \"linecolor\": \"rgb(36,36,36)\", \"showgrid\": false, \"showline\": true, \"ticks\": \"outside\"}}, \"title\": {\"x\": 0.05}, \"xaxis\": {\"automargin\": true, \"gridcolor\": \"rgb(232,232,232)\", \"linecolor\": \"rgb(36,36,36)\", \"showgrid\": false, \"showline\": true, \"ticks\": \"outside\", \"title\": {\"standoff\": 15}, \"zeroline\": false, \"zerolinecolor\": \"rgb(36,36,36)\"}, \"yaxis\": {\"automargin\": true, \"gridcolor\": \"rgb(232,232,232)\", \"linecolor\": \"rgb(36,36,36)\", \"showgrid\": false, \"showline\": true, \"ticks\": \"outside\", \"title\": {\"standoff\": 15}, \"zeroline\": false, \"zerolinecolor\": \"rgb(36,36,36)\"}}}, \"title\": {\"font\": {\"color\": \"Black\", \"size\": 22}, \"text\": \"<b>Topics over Time\", \"x\": 0.4, \"xanchor\": \"center\", \"y\": 0.95, \"yanchor\": \"top\"}, \"width\": 1250, \"xaxis\": {\"showgrid\": true}, \"yaxis\": {\"showgrid\": true, \"title\": {\"text\": \"Frequency\"}}},                        {\"responsive\": true}                    ).then(function(){\n",
              "                            \n",
              "var gd = document.getElementById('16d583e7-27e7-4688-aed9-3e13ffc72757');\n",
              "var x = new MutationObserver(function (mutations, observer) {{\n",
              "        var display = window.getComputedStyle(gd).display;\n",
              "        if (!display || display === 'none') {{\n",
              "            console.log([gd, 'removed!']);\n",
              "            Plotly.purge(gd);\n",
              "            observer.disconnect();\n",
              "        }}\n",
              "}});\n",
              "\n",
              "// Listen for the removal of the full notebook cells\n",
              "var notebookContainer = gd.closest('#notebook-container');\n",
              "if (notebookContainer) {{\n",
              "    x.observe(notebookContainer, {childList: true});\n",
              "}}\n",
              "\n",
              "// Listen for the clearing of the current output cell\n",
              "var outputEl = gd.closest('.output');\n",
              "if (outputEl) {{\n",
              "    x.observe(outputEl, {childList: true});\n",
              "}}\n",
              "\n",
              "                        })                };                            </script>        </div>\n",
              "</body>\n",
              "</html>"
            ]
          },
          "metadata": {
            "tags": []
          }
        }
      ]
    },
    {
      "cell_type": "code",
      "metadata": {
        "id": "184C9M7C2eci"
      },
      "source": [
        "topics_over_time.to_csv(\"dynamic_topic_modeling.csv\")"
      ],
      "execution_count": null,
      "outputs": []
    },
    {
      "cell_type": "code",
      "metadata": {
        "id": "1roN11DOc9o0"
      },
      "source": [
        "BERTopic().visualize_topics_over_time(topics_over_time)"
      ],
      "execution_count": null,
      "outputs": []
    },
    {
      "cell_type": "code",
      "metadata": {
        "colab": {
          "base_uri": "https://localhost:8080/",
          "height": 486
        },
        "id": "Lc13KqU4oJ6T",
        "outputId": "314baf2f-8e75-4b6f-f2b7-c4f3678f17d5"
      },
      "source": [
        "model.visualize_topics_over_time(topics_over_time)"
      ],
      "execution_count": null,
      "outputs": [
        {
          "output_type": "display_data",
          "data": {
            "text/html": [
              "<html>\n",
              "<head><meta charset=\"utf-8\" /></head>\n",
              "<body>\n",
              "    <div>            <script src=\"https://cdnjs.cloudflare.com/ajax/libs/mathjax/2.7.5/MathJax.js?config=TeX-AMS-MML_SVG\"></script><script type=\"text/javascript\">if (window.MathJax) {MathJax.Hub.Config({SVG: {font: \"STIX-Web\"}});}</script>                <script type=\"text/javascript\">window.PlotlyConfig = {MathJaxConfig: 'local'};</script>\n",
              "        <script src=\"https://cdn.plot.ly/plotly-latest.min.js\"></script>                <div id=\"956c64ae-03d4-4734-a096-c2cd50694358\" class=\"plotly-graph-div\" style=\"height:450px; width:1250px;\"></div>            <script type=\"text/javascript\">                                    window.PLOTLYENV=window.PLOTLYENV || {};                                    if (document.getElementById(\"956c64ae-03d4-4734-a096-c2cd50694358\")) {                    Plotly.newPlot(                        \"956c64ae-03d4-4734-a096-c2cd50694358\",                        [{\"hoverinfo\": \"text\", \"hovertext\": [\"<b>Topic -1</b><br>Words: semantic, proceedings, management, systems, programming\", \"<b>Topic -1</b><br>Words: mediator, enduser, atns, system, management\", \"<b>Topic -1</b><br>Words: meter, system, lattices, materials, collections\", \"<b>Topic -1</b><br>Words: similarity, contentanalysis, psychology, ratings, judgments\", \"<b>Topic -1</b><br>Words: files, catalogs, intelligence, opacs, databases\", \"<b>Topic -1</b><br>Words: boolean, systems, graphics, processing, maps\", \"<b>Topic -1</b><br>Words: office, indexing, processing, knowledge, italicvsubscrptisubscrptitalic\", \"<b>Topic -1</b><br>Words: algebra, suffixing, prolog, dictionary, bestfirst\", \"<b>Topic -1</b><br>Words: rdq, concordance, planning, linguistic, rdq2\", \"<b>Topic -1</b><br>Words: thesaurus, worm, connectionist, expert, knowledge\", \"<b>Topic -1</b><br>Words: cbd, database, keywords, smart, complementary\", \"<b>Topic -1</b><br>Words: thesaurus, semanticbased, abilities, logic, cognitive\", \"<b>Topic -1</b><br>Words: boolean, indexing, refinement, mapping, queries\", \"<b>Topic -1</b><br>Words: database, integration, netserf, indexing, queries\", \"<b>Topic -1</b><br>Words: spider, ir, proximity, concurrent, dbms\", \"<b>Topic -1</b><br>Words: graphs, searching, tool, documents, perusal\", \"<b>Topic -1</b><br>Words: indexing, database, extraction, recall, databases\", \"<b>Topic -1</b><br>Words: ggloss, similarity, adaptive, filtering, lsi\", \"<b>Topic -1</b><br>Words: cognitive, tympani, tympanum, quality, circuit\", \"<b>Topic -1</b><br>Words: metasearch, queryexpansion, topic, index, pruning\", \"<b>Topic -1</b><br>Words: extraction, annotation, web, corpus, amilcare\", \"<b>Topic -1</b><br>Words: metasearch, text, algorithm, similarity, web\", \"<b>Topic -1</b><br>Words: feedback, web, queries, document, narrative\", \"<b>Topic -1</b><br>Words: titles, web, performance, html, queries\", \"<b>Topic -1</b><br>Words: sampling, precision, queries, feedback, query\", \"<b>Topic -1</b><br>Words: queries, web, query, precision, performance\", \"<b>Topic -1</b><br>Words: web, queries, evaluation, features, query\", \"<b>Topic -1</b><br>Words: queries, query, proximity, web, relevance\", \"<b>Topic -1</b><br>Words: relevance, queries, web, blog, query\", \"<b>Topic -1</b><br>Words: web, queries, relevance, ranking, data\", \"<b>Topic -1</b><br>Words: queries, query, user, relevance, web\", \"<b>Topic -1</b><br>Words: relevance, web, topics, semantic, relevant\", \"<b>Topic -1</b><br>Words: influence, queries, analysis, web, ranking\", \"<b>Topic -1</b><br>Words: proximity, queries, task, systems, user\", \"<b>Topic -1</b><br>Words: queries, use, evaluation, web, data\", \"<b>Topic -1</b><br>Words: users, knowledge, queries, data, model\", \"<b>Topic -1</b><br>Words: task, knowledge, users, queries, user\", \"<b>Topic -1</b><br>Words: task, models, knowledge, data, datasets\"], \"marker\": {\"color\": \"#E69F00\"}, \"mode\": \"lines\", \"name\": \"-1_queries_web_relevance_query\", \"type\": \"scatter\", \"x\": [1971, 1978, 1979, 1981, 1983, 1985, 1986, 1987, 1988, 1989, 1991, 1992, 1993, 1995, 1996, 1997, 1998, 1999, 2000, 2001, 2002, 2003, 2004, 2005, 2006, 2007, 2008, 2009, 2010, 2011, 2012, 2013, 2014, 2015, 2016, 2017, 2018, 2019], \"y\": [10, 5, 5, 5, 13, 12, 16, 13, 15, 19, 12, 12, 13, 12, 12, 14, 34, 25, 26, 29, 24, 32, 44, 34, 53, 84, 69, 75, 85, 93, 84, 75, 68, 66, 79, 104, 102, 94]}, {\"hoverinfo\": \"text\", \"hovertext\": [\"<b>Topic 4</b><br>Words: preliminaries, classification, limit, particular, determining\", \"<b>Topic 4</b><br>Words: record, disklike, records, satisfies, accessed\", \"<b>Topic 4</b><br>Words: hardware, contentaddressable, dsrs, quicklookmonitor, describedparticular\", \"<b>Topic 4</b><br>Words: fuzzy, adaptive, scheme, probabilistic, heuristic\", \"<b>Topic 4</b><br>Words: tp, 2poisson, frequency, conjunction, occurrence\", \"<b>Topic 4</b><br>Words: cassini, ellipsoids, largeslzed, file, subspaces\", \"<b>Topic 4</b><br>Words: poisson, nonpoisson, independent, distributions, compensate\", \"<b>Topic 4</b><br>Words: coordination, improvement, indexing, feasibility, hand\", \"<b>Topic 4</b><br>Words: inference, termvector, criteria, database, naturallanguage\", \"<b>Topic 4</b><br>Words: dsubscrptmsubscrptitalic, polynomial, probabilistic, requests, italicsubscrptlsubscrpt\", \"<b>Topic 4</b><br>Words: ferret, inferencebad, ferrets, newtwork, lexical\", \"<b>Topic 4</b><br>Words: speech, medias, coherently, experiments, recognition\", \"<b>Topic 4</b><br>Words: passage, collections, signatures, functionality, adaptive\", \"<b>Topic 4</b><br>Words: collections, structured, inference, managelarger, optimizationtechnique\", \"<b>Topic 4</b><br>Words: inroute, optirnizations, flteringe, ffectiveness, tothedemands\", \"<b>Topic 4</b><br>Words: combining, hsa, achieved, improvements, effectiveness\", \"<b>Topic 4</b><br>Words: choosing, centralized, collections, discriminatory, distributed\", \"<b>Topic 4</b><br>Words: trec7, realization, trec6, tf, idf\", \"<b>Topic 4</b><br>Words: presentation, detailed, imagery, textual, visual\", \"<b>Topic 4</b><br>Words: answering, passage, syntactic, synergy, clir\", \"<b>Topic 4</b><br>Words: constraints, clusterbased, heuristics, contextual, troubleshooting\", \"<b>Topic 4</b><br>Words: reer, functions, experiment, retrieval, relevance\", \"<b>Topic 4</b><br>Words: fields, semantic, constraints, fieldbased, weighting\", \"<b>Topic 4</b><br>Words: structured, bagofwords, annotations, adhoc, wikipedias\", \"<b>Topic 4</b><br>Words: likelihood, wordtoword, model, translationbased, translation\", \"<b>Topic 4</b><br>Words: subjective, retrieval, emotionbased, markovitch, bagofusers\", \"<b>Topic 4</b><br>Words: translation, crosslingual, interaction, userassisted, searcher\", \"<b>Topic 4</b><br>Words: temporal, turk, timeaware, amazon, blogs\", \"<b>Topic 4</b><br>Words: books, navigable, peruse, navigating, pictures\", \"<b>Topic 4</b><br>Words: charts, graphs, magazines, newspapers, graphic\", \"<b>Topic 4</b><br>Words: learningtorank, measures, feedback, svmrank, passagebased\", \"<b>Topic 4</b><br>Words: erwd, interfaces, interface, navigational, bagofwords\", \"<b>Topic 4</b><br>Words: retrievability, decision, tuning, optimizing, markov\", \"<b>Topic 4</b><br>Words: passage, engineered, answering, neural, proposal\", \"<b>Topic 4</b><br>Words: heuristics, practical, reexamine, explainability, illustrates\"], \"marker\": {\"color\": \"#56B4E9\"}, \"mode\": \"lines\", \"name\": \"4_retrieval_document_passage_documents\", \"type\": \"scatter\", \"x\": [1971, 1978, 1979, 1981, 1983, 1985, 1986, 1987, 1988, 1989, 1991, 1992, 1993, 1995, 1996, 1997, 1998, 1999, 2002, 2003, 2004, 2005, 2006, 2007, 2008, 2009, 2010, 2011, 2012, 2013, 2014, 2015, 2016, 2018, 2019], \"y\": [1, 1, 3, 4, 1, 2, 1, 1, 4, 3, 4, 2, 3, 5, 1, 1, 1, 1, 2, 6, 5, 7, 4, 2, 2, 5, 4, 1, 1, 1, 2, 3, 4, 2, 1]}, {\"hoverinfo\": \"text\", \"hovertext\": [\"<b>Topic 5</b><br>Words: stored, items, hierarchy, directory, associativenetstructured\", \"<b>Topic 5</b><br>Words: bsql, relational, underlinebunderlinelock, underlinelunderlineanguage, underlinequnderlineuery\", \"<b>Topic 5</b><br>Words: expertconsultation, termskeywords, onlinethesarus, vocabulary, find\", \"<b>Topic 5</b><br>Words: parser, system, transportability, database, domain\", \"<b>Topic 5</b><br>Words: sublanguage, programs, grammar, describes, language\", \"<b>Topic 5</b><br>Words: describes, parsing, linguistic, described, stairs\", \"<b>Topic 5</b><br>Words: epx, semanticallybased, pollution, environmental, knowledge\", \"<b>Topic 5</b><br>Words: interface, expert, krl, beagle, iota\", \"<b>Topic 5</b><br>Words: facilities, euromath, office, design, italicsettings\", \"<b>Topic 5</b><br>Words: associative, propositional, permission, order, describes\", \"<b>Topic 5</b><br>Words: sbn, opac, interface, capabilities, permit\", \"<b>Topic 5</b><br>Words: describes, sense, sensebased, lattice, keyword\", \"<b>Topic 5</b><br>Words: paradigm, ir, development, predicates, descriptor\", \"<b>Topic 5</b><br>Words: dominance, weights, extended, cacm, frequency\", \"<b>Topic 5</b><br>Words: display, animation, workspace, categories, component\", \"<b>Topic 5</b><br>Words: relational, logical, logic, bmirjl, bmirj2\", \"<b>Topic 5</b><br>Words: hierarchy, category, categories, entertainment, organized\", \"<b>Topic 5</b><br>Words: answerfinding, retail, inspecting, faq, answered\", \"<b>Topic 5</b><br>Words: redundancy, answering, redundance, 100gigabyte, capitalize\", \"<b>Topic 5</b><br>Words: videoonly, userdefined, concepts, multimodal, stepping\", \"<b>Topic 5</b><br>Words: fisc, community, communities, architecture, workgroups\", \"<b>Topic 5</b><br>Words: gene, annotation, genomics, domain, organism\", \"<b>Topic 5</b><br>Words: peng, environment, filtering, filter, progress\", \"<b>Topic 5</b><br>Words: projections, projecting, vectorspace, scaling, multidimensional\", \"<b>Topic 5</b><br>Words: visualrank, multiclass, forums, manyweb, category\", \"<b>Topic 5</b><br>Words: metric, expansion, resistance, genomic, relevancy\", \"<b>Topic 5</b><br>Words: nuggets, nugget, predictons, semantics, foundations\", \"<b>Topic 5</b><br>Words: medicinal, plants, application, prescription, oaiharvested\", \"<b>Topic 5</b><br>Words: virlab, querys, entities, categories, namedentity\", \"<b>Topic 5</b><br>Words: audiovisual, affordances, informal, technology, professionals\", \"<b>Topic 5</b><br>Words: coreferent, reality, virtual, vr, educational\", \"<b>Topic 5</b><br>Words: trectools, resource, treclike, python, library\"], \"marker\": {\"color\": \"#009E73\"}, \"mode\": \"lines\", \"name\": \"5_system_interface_database_language\", \"type\": \"scatter\", \"x\": [1971, 1978, 1981, 1983, 1985, 1986, 1987, 1988, 1989, 1991, 1992, 1993, 1995, 1996, 1997, 1998, 1999, 2000, 2002, 2003, 2004, 2005, 2006, 2008, 2009, 2010, 2012, 2013, 2014, 2016, 2018, 2019], \"y\": [1, 1, 1, 4, 2, 6, 3, 8, 7, 4, 3, 4, 2, 1, 1, 2, 3, 1, 4, 2, 3, 3, 1, 1, 4, 1, 3, 3, 2, 4, 3, 2]}, {\"hoverinfo\": \"text\", \"hovertext\": [\"<b>Topic 8</b><br>Words: rel, english, syntactic, language, translation\", \"<b>Topic 8</b><br>Words: oxford, dictionary, oed, computerize, printed\", \"<b>Topic 8</b><br>Words: french, automation, linguistic, solutions, recognition\", \"<b>Topic 8</b><br>Words: phonetic, translation, multilingual, soundex, crosslartguage\", \"<b>Topic 8</b><br>Words: dictionary, translation, phrases, phrasal, crosslanguage\", \"<b>Topic 8</b><br>Words: translation, dictionary, crosslanguage, translated, spanish\", \"<b>Topic 8</b><br>Words: translation, crosslanguage, humanquality, englishjapanese, monolingual\", \"<b>Topic 8</b><br>Words: translation, pirkolas, translations, crosslanguage, dictionary\", \"<b>Topic 8</b><br>Words: translation, crosslanguage, languages, bilingual, translations\", \"<b>Topic 8</b><br>Words: translation, crosslanguage, bilingual, translations, arabic\", \"<b>Topic 8</b><br>Words: translation, transliteration, japanese, crosslanguage, mandarin\", \"<b>Topic 8</b><br>Words: translation, crosslanguage, translations, translate, bilingual\", \"<b>Topic 8</b><br>Words: crosslanguage, bilingual, crosslingual, language, languages\", \"<b>Topic 8</b><br>Words: translation, crosslanguage, cooccurrence, wellrecognized, monolingual\", \"<b>Topic 8</b><br>Words: transliteration, languages, translation, phonetics, transliterated\", \"<b>Topic 8</b><br>Words: katakana, variants, languages, translation, transliterating\", \"<b>Topic 8</b><br>Words: translation, languages, language, crosslanguage, transliteration\", \"<b>Topic 8</b><br>Words: translation, crosslanguage, stopwords, stopword, bilingual\", \"<b>Topic 8</b><br>Words: translation, translated, patents, language, crosslanguage\", \"<b>Topic 8</b><br>Words: translation, englishgerman, translations, crosslanguage, bilingual\", \"<b>Topic 8</b><br>Words: onebest, compactness, phrasebased, crosslanguage, wordbased\", \"<b>Topic 8</b><br>Words: translation, transliterated, spelling, languages, crosslingual\", \"<b>Topic 8</b><br>Words: mapndcg, germanenglish, japaneseenglish, crosslanguage, combination\", \"<b>Topic 8</b><br>Words: translation, crosslanguage, parallel, translations, arabic\", \"<b>Topic 8</b><br>Words: crosslingual, translation, language, englishdutchitalianfinnish, embeddings\", \"<b>Topic 8</b><br>Words: translation, clir, crosslingual, swahili, translations\"], \"marker\": {\"color\": \"#F0E442\"}, \"mode\": \"lines\", \"name\": \"8_translation_crosslanguage_translations...\", \"type\": \"scatter\", \"x\": [1971, 1985, 1988, 1996, 1997, 1998, 1999, 2000, 2001, 2002, 2003, 2004, 2005, 2006, 2007, 2008, 2009, 2010, 2011, 2012, 2013, 2014, 2015, 2017, 2018, 2019], \"y\": [1, 1, 1, 2, 1, 3, 3, 1, 4, 8, 4, 5, 7, 2, 2, 2, 3, 3, 2, 2, 1, 3, 1, 3, 1, 2]}, {\"hoverinfo\": \"text\", \"hovertext\": [\"<b>Topic 17</b><br>Words: indexed, files, file, storage, compression\", \"<b>Topic 17</b><br>Words: deletion, insertion, load, directory, algorithms\", \"<b>Topic 17</b><br>Words: strings, dictionaries, lexicographically, hebrew, compressing\", \"<b>Topic 17</b><br>Words: compression, decoding, codes, optimization, bitperbit\", \"<b>Topic 17</b><br>Words: encode, cluster, compression, centroids, disk\", \"<b>Topic 17</b><br>Words: compression, guessing, onepass, substring, onthefly\", \"<b>Topic 17</b><br>Words: bitmaps, compression, compressed, recombinant, sparser\", \"<b>Topic 17</b><br>Words: bitbybit, bytebybyte, compression, decompression, compressed\", \"<b>Topic 17</b><br>Words: bitmap, bitvector, compression, bitmaps, encoding\", \"<b>Topic 17</b><br>Words: compression, uncompress, mimd, cm5, runlength\", \"<b>Topic 17</b><br>Words: compression, lz77, graphtheoretic, decoding, optimality\", \"<b>Topic 17</b><br>Words: processing, compression, compressed, compress, limit\", \"<b>Topic 17</b><br>Words: workstations, memory, disk, processors, compressed\", \"<b>Topic 17</b><br>Words: compression, bytealigned, indexes, faster, compressed\", \"<b>Topic 17</b><br>Words: dgaps, compression, encoding, compressed, algorithms\", \"<b>Topic 17</b><br>Words: receiver, compression, clipping, compressed, semistatic\", \"<b>Topic 17</b><br>Words: indexes, dictionary, permuterm, compression, compressed\", \"<b>Topic 17</b><br>Words: compression, compressed, endtagged, reordered, code\", \"<b>Topic 17</b><br>Words: subsecond, index, flickr, metadata, processing\", \"<b>Topic 17</b><br>Words: compression, indexes, index, strings, dictionary\", \"<b>Topic 17</b><br>Words: inmemory, indexes, algorithmic, selfindex, fmindex\", \"<b>Topic 17</b><br>Words: compression, index, decompression, indexes, processing\", \"<b>Topic 17</b><br>Words: compression, chunks, compressed, substrings, encoding\", \"<b>Topic 17</b><br>Words: compression, postings, indexes, arraybased, suffixarray\", \"<b>Topic 17</b><br>Words: index, compression, grammarbased, encoding, processing\", \"<b>Topic 17</b><br>Words: compressed, compression, ngram, processing, lossless\", \"<b>Topic 17</b><br>Words: compression, dictionary, datastructure, bitwise, bitfunnel\"], \"marker\": {\"color\": \"#D55E00\"}, \"mode\": \"lines\", \"name\": \"17_compression_compressed_processing_enc...\", \"type\": \"scatter\", \"x\": [1971, 1978, 1983, 1985, 1986, 1987, 1989, 1991, 1992, 1993, 1995, 1998, 1999, 2002, 2004, 2005, 2007, 2008, 2009, 2011, 2012, 2013, 2014, 2015, 2016, 2017, 2018], \"y\": [1, 1, 1, 3, 2, 1, 3, 2, 1, 1, 1, 3, 1, 5, 1, 2, 2, 1, 1, 3, 1, 2, 3, 1, 1, 1, 1]}, {\"hoverinfo\": \"text\", \"hovertext\": [\"<b>Topic 32</b><br>Words: file, storage, combinationtoaddress, value, attribute\", \"<b>Topic 32</b><br>Words: algorithms, keysmultikey, multikey, keys, repeatable\", \"<b>Topic 32</b><br>Words: signature, signatures, partialmatch, coded, btrees\", \"<b>Topic 32</b><br>Words: chip, vlsi, codes, parallel, bitserial\", \"<b>Topic 32</b><br>Words: ddc, syc, coprocessor, parallel, databases\", \"<b>Topic 32</b><br>Words: signature, signatures, processors, databases, storage\", \"<b>Topic 32</b><br>Words: mdap, allocation, processors, multiprocessor, interprocessor\", \"<b>Topic 32</b><br>Words: file, parallel, files, processing, processors\", \"<b>Topic 32</b><br>Words: signature, discriminatory, database, frequencies, lhss\", \"<b>Topic 32</b><br>Words: parallel, algorithm, processors, grid, analytical\", \"<b>Topic 32</b><br>Words: keys, transitions, strings, trie, character\", \"<b>Topic 32</b><br>Words: configuration, heuristics, climbing, solutions, hill\", \"<b>Topic 32</b><br>Words: dtf, computes, distribution, decisiontheoretic, selection\", \"<b>Topic 32</b><br>Words: printing, print, control, stored, memory\", \"<b>Topic 32</b><br>Words: sed, topn, cpu, approximation, computation\", \"<b>Topic 32</b><br>Words: partition, cacheoblivious, cacheconscious, sizecontrolled, memory\", \"<b>Topic 32</b><br>Words: partition, partitionbased, competitiveness, parallelism, simplifying\", \"<b>Topic 32</b><br>Words: keys, approximate, fixedsized, dictionary, similaritypreserving\"], \"marker\": {\"color\": \"#0072B2\"}, \"mode\": \"lines\", \"name\": \"32_parallel_signatures_storage_processor...\", \"type\": \"scatter\", \"x\": [1971, 1983, 1986, 1987, 1988, 1989, 1991, 1992, 1993, 1995, 1996, 2000, 2003, 2009, 2010, 2013, 2014, 2016], \"y\": [2, 1, 1, 2, 2, 7, 1, 1, 1, 1, 1, 1, 1, 1, 1, 1, 1, 1]}, {\"hoverinfo\": \"text\", \"hovertext\": [\"<b>Topic 37</b><br>Words: theorem, calculus, primitives, reasonable, logical\", \"<b>Topic 37</b><br>Words: theory, permission, behaviour, logic, factretrieval\", \"<b>Topic 37</b><br>Words: logic, uncertainty, principle, inferences, logical\", \"<b>Topic 37</b><br>Words: kr, retrievals, connectionist, reasoning, boltzmann\", \"<b>Topic 37</b><br>Words: logic, boole, truths, properties, puzzle\", \"<b>Topic 37</b><br>Words: assumptions, probabilistic, theory, hazard, hazards\", \"<b>Topic 37</b><br>Words: logic, tl, logical, plausible, inference\", \"<b>Topic 37</b><br>Words: logic, metaknowledge, calculus, strict, arguments\", \"<b>Topic 37</b><br>Words: turtlewesearch, atnkst, turtle, tractable, croft\", \"<b>Topic 37</b><br>Words: aboutness, logic, symmetry, formalize, logical\", \"<b>Topic 37</b><br>Words: inference, informational, concept, conceptual, minkowski\", \"<b>Topic 37</b><br>Words: belief, beliefbased, formalised, logic, irsystem\", \"<b>Topic 37</b><br>Words: summarisation, logic, logical, implication, logics\", \"<b>Topic 37</b><br>Words: qprp, interference, quantum, approximations, approximation\", \"<b>Topic 37</b><br>Words: qt, quantum, logical, pqd, logic\", \"<b>Topic 37</b><br>Words: p2p, disrupt, defense, censor, adversary\", \"<b>Topic 37</b><br>Words: inference, relational, knowledge, relation, graphstructured\", \"<b>Topic 37</b><br>Words: inference, supertype, antisymmetric, issubtypeof, hyperrectangular\", \"<b>Topic 37</b><br>Words: quantum, claim, claims, premise, qt\"], \"marker\": {\"color\": \"#CC79A7\"}, \"mode\": \"lines\", \"name\": \"37_logic_inference_logical_theory\", \"type\": \"scatter\", \"x\": [1971, 1981, 1986, 1988, 1989, 1991, 1993, 1996, 1997, 1999, 2001, 2004, 2007, 2010, 2013, 2014, 2016, 2018, 2019], \"y\": [1, 1, 1, 1, 2, 1, 2, 1, 1, 2, 1, 1, 1, 1, 2, 1, 1, 1, 2]}, {\"hoverinfo\": \"text\", \"hovertext\": [\"<b>Topic 62</b><br>Words: design, forem, process, evaluation, guiding\", \"<b>Topic 62</b><br>Words: interviews, interface, recon, energys, intermediaries\", \"<b>Topic 62</b><br>Words: builder, interface, customized, module, interfaces\", \"<b>Topic 62</b><br>Words: design, interface, impression, mapping, evaluation\", \"<b>Topic 62</b><br>Words: design, outcomes, participants, designers, perceptions\", \"<b>Topic 62</b><br>Words: awareness, interface, design, organizing, prototype\", \"<b>Topic 62</b><br>Words: design, interface, interfaces, implementation, software\", \"<b>Topic 62</b><br>Words: interagency, initiatives, department, agencies, virtual\", \"<b>Topic 62</b><br>Words: design, usercentered, methodology, user, system\", \"<b>Topic 62</b><br>Words: collaborate, modeling, sigir, ideas, workshop\", \"<b>Topic 62</b><br>Words: transportation, talks, presentations, professionals, sigir\"], \"marker\": {\"color\": \"#E69F00\"}, \"mode\": \"lines\", \"name\": \"62_design_interface_evaluation_forem\", \"type\": \"scatter\", \"x\": [1971, 1985, 1987, 1988, 1992, 1993, 1996, 2001, 2002, 2013, 2018], \"y\": [1, 1, 1, 2, 1, 1, 2, 1, 1, 1, 1]}, {\"hoverinfo\": \"text\", \"hovertext\": [\"<b>Topic 69</b><br>Words: questions, quantification, extensional, problems, qa\", \"<b>Topic 69</b><br>Words: questions, uniqueness, opendomain, wealth, freely\", \"<b>Topic 69</b><br>Words: questions, questionquestion, measures, similarity, similar\", \"<b>Topic 69</b><br>Words: answering, recallbased, lists, userbased, disagreement\", \"<b>Topic 69</b><br>Words: questions, answers, discussion, questionrelated, boards\", \"<b>Topic 69</b><br>Words: decision, decisionmaking, qa, questions, analytic\", \"<b>Topic 69</b><br>Words: qa, pipelines, components, synergies, component\", \"<b>Topic 69</b><br>Words: legal, jurisdictionally, conversationally, legally, jurisdictions\"], \"marker\": {\"color\": \"#56B4E9\"}, \"mode\": \"lines\", \"name\": \"69_qa_questions_decision_decisionmaking\", \"type\": \"scatter\", \"x\": [1971, 2004, 2005, 2008, 2009, 2014, 2018, 2019], \"y\": [1, 2, 1, 1, 2, 1, 1, 3]}, {\"hoverinfo\": \"text\", \"hovertext\": [\"<b>Topic 3</b><br>Words: clustered, bottomup, cluster, nearest, clustering\", \"<b>Topic 3</b><br>Words: clustering, adaptation, reproductive, adaptive, strategy\", \"<b>Topic 3</b><br>Words: clustering, bibliographic, problems1, duplication, characteristics\", \"<b>Topic 3</b><br>Words: clustering, organization, algorithm, clustered, cluster\", \"<b>Topic 3</b><br>Words: clustering, clusters, cluster, salt, vanr\", \"<b>Topic 3</b><br>Words: clustering, wards, cluster, clusters, algorithm\", \"<b>Topic 3</b><br>Words: clustering, bsp, environments, functionoptimization, similaritystability\", \"<b>Topic 3</b><br>Words: bit, matrix, block, compressing, matrices\", \"<b>Topic 3</b><br>Words: poisson, clustering, distributions, distribution, indication\", \"<b>Topic 3</b><br>Words: cluster, clustering, hypertext, tipster, clusters\", \"<b>Topic 3</b><br>Words: tendency, clustering, visualization, browsing, diagnostic\", \"<b>Topic 3</b><br>Words: scattergather, clusterbased, cluster, tend, hypothesis\", \"<b>Topic 3</b><br>Words: clustering, speed, calculations, clusters, mediumsised\", \"<b>Topic 3</b><br>Words: clustering, clusters, classification, markovblanketbased, accuracysignificantly\", \"<b>Topic 3</b><br>Words: viewpoints, clusterbased, browsing, expanded, clustering\", \"<b>Topic 3</b><br>Words: clustering, clusters, cluster, wordclusters, bottleneck\", \"<b>Topic 3</b><br>Words: thresholding, sd, clustering, cluster, threshold\", \"<b>Topic 3</b><br>Words: clustering, clusters, cluster, intragroup, intergroup\", \"<b>Topic 3</b><br>Words: clustering, cluster, reinforcement, factorization, matrix\", \"<b>Topic 3</b><br>Words: clustering, clusters, cluster, factorization, optimization\", \"<b>Topic 3</b><br>Words: clustering, tdt5, t11su, ctrk, nmf\", \"<b>Topic 3</b><br>Words: clustering, cluster, clusters, nmf, plsi\", \"<b>Topic 3</b><br>Words: clustering, clusters, cluster, msdr, clgr\", \"<b>Topic 3</b><br>Words: clustering, hyperedges, cluster, clusters, prc\", \"<b>Topic 3</b><br>Words: clustering, clusters, ntf, kmeans, ktree\", \"<b>Topic 3</b><br>Words: clustering, clusterings, plmmr, clusters, cluster\", \"<b>Topic 3</b><br>Words: clustering, universum, clusters, organization, conceptsclusters\", \"<b>Topic 3</b><br>Words: merging, interdocument, clusters, similarities, lists\", \"<b>Topic 3</b><br>Words: cluster, clustering, hypothesis, clusters, mrfs\", \"<b>Topic 3</b><br>Words: clustering, simrank, cluster, graphs, matrixbased\", \"<b>Topic 3</b><br>Words: simrank, trait, highquality, clustering, connectivity\", \"<b>Topic 3</b><br>Words: clustering, uct, contentbased, cluster, sampling\", \"<b>Topic 3</b><br>Words: tvs, nmf, tv, clustering, channel\", \"<b>Topic 3</b><br>Words: hypothesis, cluster, tests, interpassage, similarities\", \"<b>Topic 3</b><br>Words: tensor, clustering, sparse, reorganization, coauthors\"], \"marker\": {\"color\": \"#009E73\"}, \"mode\": \"lines\", \"name\": \"3_clustering_cluster_clusters_algorithm\", \"type\": \"scatter\", \"x\": [1978, 1979, 1981, 1983, 1985, 1986, 1987, 1991, 1992, 1993, 1995, 1996, 1997, 1998, 1999, 2000, 2001, 2002, 2003, 2004, 2005, 2006, 2007, 2008, 2009, 2010, 2011, 2012, 2013, 2014, 2015, 2016, 2017, 2018, 2019], \"y\": [2, 2, 1, 2, 2, 2, 2, 1, 2, 2, 1, 1, 2, 2, 1, 3, 3, 3, 2, 4, 2, 7, 5, 8, 6, 7, 2, 1, 5, 5, 1, 1, 2, 2, 1]}, {\"hoverinfo\": \"text\", \"hovertext\": [\"<b>Topic 56</b><br>Words: ldquomeaningrdquo, syracuse, plotted, manipulating, euclidean\", \"<b>Topic 56</b><br>Words: autoindexing, orthogonal, atomic, frequencies, pairwise\", \"<b>Topic 56</b><br>Words: attics, preprocessors, sector, textual, objectoriented\", \"<b>Topic 56</b><br>Words: svd, vectors, dimensionality, loglikelihood, eigenvectors\", \"<b>Topic 56</b><br>Words: weighted, subgraphs, countries, graph, correlate\", \"<b>Topic 56</b><br>Words: longitude, latitude, gazetteer, geographic, place\", \"<b>Topic 56</b><br>Words: detection, xml, instancelevel, service, similarity\", \"<b>Topic 56</b><br>Words: similarity, vector, space, computation, measure\", \"<b>Topic 56</b><br>Words: similarity, hashvalues, shingles, jaccard, domains\", \"<b>Topic 56</b><br>Words: geographic, multilingual, temporal, exploration, similarity\", \"<b>Topic 56</b><br>Words: textile, multisets, weaving, hypergraphs, similarity\", \"<b>Topic 56</b><br>Words: informativeness, rsd, frequencies, measure, frequency\"], \"marker\": {\"color\": \"#F0E442\"}, \"mode\": \"lines\", \"name\": \"56_similarity_multilingual_vector_neardu...\", \"type\": \"scatter\", \"x\": [1978, 1987, 1999, 2000, 2002, 2004, 2006, 2009, 2010, 2011, 2015, 2016], \"y\": [2, 1, 1, 1, 1, 1, 3, 1, 1, 1, 1, 1]}, {\"hoverinfo\": \"text\", \"hovertext\": [\"<b>Topic 7</b><br>Words: manuscript, publication, detailed, summarization, sentences\", \"<b>Topic 7</b><br>Words: summarization, summaries, summmies, summary, summarizes\", \"<b>Topic 7</b><br>Words: summaries, summarization, sentences, summary, clearest\", \"<b>Topic 7</b><br>Words: summarization, summary, sentences, sentence, summaries\", \"<b>Topic 7</b><br>Words: summarization, summarizer, segment, sentences, summary\", \"<b>Topic 7</b><br>Words: summarization, summaries, summary, sentences, hierarchies\", \"<b>Topic 7</b><br>Words: summaries, summarization, sentences, summary, summarizer\", \"<b>Topic 7</b><br>Words: fractal, summarization, summarizing, hierarchies, informatively\", \"<b>Topic 7</b><br>Words: summarization, puretext, summarizationbased, classification, summary\", \"<b>Topic 7</b><br>Words: summaries, summarization, summary, summarizers, sentences\", \"<b>Topic 7</b><br>Words: summarization, sentences, catalog, summaries, summary\", \"<b>Topic 7</b><br>Words: sentences, summarization, sentence, graphranking, summary\", \"<b>Topic 7</b><br>Words: summarization, summaries, summary, themes, mrc\", \"<b>Topic 7</b><br>Words: summarization, sentences, summary, summaries, hurricane\", \"<b>Topic 7</b><br>Words: summarization, sentences, summary, summaries, sentence\", \"<b>Topic 7</b><br>Words: summarization, sentences, summary, multidocument, summaries\", \"<b>Topic 7</b><br>Words: summarization, summarisation, summaries, sentiment, sentences\", \"<b>Topic 7</b><br>Words: sentence, sentences, explanatoriness, summarization, summarisation\", \"<b>Topic 7</b><br>Words: summarization, sentences, summaries, books, summary\", \"<b>Topic 7</b><br>Words: sentences, contrastive, manifoldranking, summarization, multidocument\", \"<b>Topic 7</b><br>Words: sentence, summarization, sentences, summaries, summary\", \"<b>Topic 7</b><br>Words: summary, summaries, radiologist, summarization, radiology\"], \"marker\": {\"color\": \"#D55E00\"}, \"mode\": \"lines\", \"name\": \"7_summarization_sentences_summaries_summ...\", \"type\": \"scatter\", \"x\": [1979, 1995, 1998, 1999, 2000, 2001, 2002, 2003, 2004, 2005, 2006, 2007, 2008, 2009, 2010, 2011, 2012, 2013, 2014, 2015, 2017, 2019], \"y\": [1, 2, 2, 5, 3, 6, 3, 3, 2, 4, 5, 5, 7, 3, 6, 5, 2, 2, 4, 3, 4, 1]}, {\"hoverinfo\": \"text\", \"hovertext\": [\"<b>Topic 34</b><br>Words: regular, weighting, approximations, normalized, generalized\", \"<b>Topic 34</b><br>Words: weighting, frequency, weights, salton, frequencies\", \"<b>Topic 34</b><br>Words: weighting, teras, tera, ita, weights\", \"<b>Topic 34</b><br>Words: weighting, anaphoric, weights, anaphors, resolution\", \"<b>Topic 34</b><br>Words: weighting, adhoc, kklqccunyvmctmy, kwok, 11367\", \"<b>Topic 34</b><br>Words: weight, weighting, flattening, corroborate, correlation\", \"<b>Topic 34</b><br>Words: metascoring, weighting, documentterm, precisionrecall, measurement\", \"<b>Topic 34</b><br>Words: weights, average, termsets, termset, precision\", \"<b>Topic 34</b><br>Words: pronomial, cutoff, weighting, resolution, precision\", \"<b>Topic 34</b><br>Words: termweighting, indispensable, consequence, calculate, weights\", \"<b>Topic 34</b><br>Words: physical, formulas, weighting, newtons, gravitation\", \"<b>Topic 34</b><br>Words: weights, cooccurrence, walkbased, weighting, cooccurring\", \"<b>Topic 34</b><br>Words: termweighting, weighting, mrf, functions, constraints\", \"<b>Topic 34</b><br>Words: parameterized, weight, weights, nonparameterized, weighting\", \"<b>Topic 34</b><br>Words: weighting, frequency, normalizations, weight, consistency\", \"<b>Topic 34</b><br>Words: weighting, vectors, interpreting, weights, complicated\", \"<b>Topic 34</b><br>Words: weighting, matched, weights, weight, answeringcqa\", \"<b>Topic 34</b><br>Words: deepct, contextualized, weights, weighting, importance\"], \"marker\": {\"color\": \"#0072B2\"}, \"mode\": \"lines\", \"name\": \"34_weighting_weights_anaphoric_terms\", \"type\": \"scatter\", \"x\": [1979, 1981, 1986, 1988, 1996, 1998, 2001, 2002, 2003, 2004, 2005, 2007, 2009, 2011, 2013, 2015, 2016, 2019], \"y\": [1, 2, 3, 3, 1, 1, 1, 1, 1, 1, 1, 1, 3, 1, 1, 1, 1, 1]}, {\"hoverinfo\": \"text\", \"hovertext\": [\"<b>Topic 48</b><br>Words: copies, fee, patent, permission, redistribute\", \"<b>Topic 48</b><br>Words: copies, fee, permission, patent, redistribute\", \"<b>Topic 48</b><br>Words: patent, newspaper, patents, reexamine, articles\", \"<b>Topic 48</b><br>Words: patent, patents, task, claim, ntcir\", \"<b>Topic 48</b><br>Words: patent, uspto, citationbased, invalidity, patents\", \"<b>Topic 48</b><br>Words: patent, patents, priorart, invalidate, seventh\", \"<b>Topic 48</b><br>Words: patent, requirements, sourcing, hours, requiring\", \"<b>Topic 48</b><br>Words: patent, boolean, pseudolabeled, surveys, searched\", \"<b>Topic 48</b><br>Words: patent, importance, patents, queries, patentspecific\", \"<b>Topic 48</b><br>Words: patent, lexicon, disambiguation, ipc, topic\", \"<b>Topic 48</b><br>Words: patent, patents, evolution, technology, patentrelated\", \"<b>Topic 48</b><br>Words: patent, patents, claim, informationextractionbased, structures\", \"<b>Topic 48</b><br>Words: patent, efficacy, patents, relevantirrelevant, interactivity\", \"<b>Topic 48</b><br>Words: patent, authorities, artefacts, patenting, deanonymisation\"], \"marker\": {\"color\": \"#CC79A7\"}, \"mode\": \"lines\", \"name\": \"48_patent_patents_copies_invalidity\", \"type\": \"scatter\", \"x\": [1979, 1999, 2003, 2004, 2007, 2009, 2010, 2011, 2012, 2013, 2014, 2017, 2018, 2019], \"y\": [1, 1, 1, 1, 1, 2, 1, 1, 2, 1, 2, 1, 1, 2]}, {\"hoverinfo\": \"text\", \"hovertext\": [\"<b>Topic 58</b><br>Words: productivity, office, workforce, houston, micronet\", \"<b>Topic 58</b><br>Words: direction, cognitive, rasmussen, humanwork, ergonomics\", \"<b>Topic 58</b><br>Words: roles, emails, email, actors, actions\", \"<b>Topic 58</b><br>Words: expert, enterprise, expertise, staff, experts\", \"<b>Topic 58</b><br>Words: expert, theoreticallybased, sound, solutions, outperforms\", \"<b>Topic 58</b><br>Words: expert, expertise, ontopic, experts, authors\", \"<b>Topic 58</b><br>Words: synergic, expert, collaboration, computers, expertise\", \"<b>Topic 58</b><br>Words: media, expert, expertise, enterprise, organizations\", \"<b>Topic 58</b><br>Words: associations, expert, documentperson, expertise, association\"], \"marker\": {\"color\": \"#E69F00\"}, \"mode\": \"lines\", \"name\": \"58_expert_expertise_enterprise_associati...\", \"type\": \"scatter\", \"x\": [1979, 1989, 2004, 2006, 2007, 2009, 2011, 2013, 2016], \"y\": [1, 1, 1, 2, 1, 2, 2, 3, 1]}, {\"hoverinfo\": \"text\", \"hovertext\": [\"<b>Topic 9</b><br>Words: extensible, extend, extendable, extendible, extending\", \"<b>Topic 9</b><br>Words: extensible, extend, extendable, extendible, extending\", \"<b>Topic 9</b><br>Words: extensible, extend, extendable, extendible, extending\", \"<b>Topic 9</b><br>Words: extensible, extend, extendable, extendible, extending\", \"<b>Topic 9</b><br>Words: extensible, extend, extendable, extendible, extending\", \"<b>Topic 9</b><br>Words: extensible, extend, extendable, extendible, extending\", \"<b>Topic 9</b><br>Words: extensible, extend, extendable, extendible, extending\", \"<b>Topic 9</b><br>Words: extensible, extend, extendable, extendible, extending\", \"<b>Topic 9</b><br>Words: extensible, extend, extendable, extendible, extending\", \"<b>Topic 9</b><br>Words: extensible, extend, extendable, extendible, extending\", \"<b>Topic 9</b><br>Words: extensible, extend, extendable, extendible, extending\", \"<b>Topic 9</b><br>Words: extensible, extend, extendable, extendible, extending\", \"<b>Topic 9</b><br>Words: extensible, extend, extendable, extendible, extending\", \"<b>Topic 9</b><br>Words: extensible, extend, extendable, extendible, extending\", \"<b>Topic 9</b><br>Words: extensible, extend, extendable, extendible, extending\", \"<b>Topic 9</b><br>Words: extensible, extend, extendable, extendible, extending\", \"<b>Topic 9</b><br>Words: extensible, extend, extendable, extendible, extending\", \"<b>Topic 9</b><br>Words: extensible, extend, extendable, extendible, extending\"], \"marker\": {\"color\": \"#56B4E9\"}, \"mode\": \"lines\", \"name\": \"9_extensible_extend_extendable_extendibl...\", \"type\": \"scatter\", \"x\": [1981, 1985, 1991, 1993, 1996, 1997, 1999, 2000, 2001, 2002, 2003, 2004, 2005, 2006, 2008, 2012, 2013, 2014], \"y\": [3, 3, 1, 5, 17, 5, 2, 1, 3, 5, 3, 5, 2, 3, 1, 1, 1, 1]}, {\"hoverinfo\": \"text\", \"hovertext\": [\"<b>Topic 24</b><br>Words: stochastic, models, simplify, solved, model\", \"<b>Topic 24</b><br>Words: smoothing, models, model, likelihood, synonomy\", \"<b>Topic 24</b><br>Words: smoothing, models, smoothed, bigram, model\", \"<b>Topic 24</b><br>Words: models, bigram, lm, bayessmoothing, smoothed\", \"<b>Topic 24</b><br>Words: models, smoothing, bayesian, discriminative, dirichlet\", \"<b>Topic 24</b><br>Words: ldm, models, dirichlet, priors, smoothing\", \"<b>Topic 24</b><br>Words: language, smoothing, models, lm, icf\", \"<b>Topic 24</b><br>Words: smoothing, mixture, models, poisson, likelihood\", \"<b>Topic 24</b><br>Words: probabilistic, bigram, models, dcm, distribution\", \"<b>Topic 24</b><br>Words: plm, heuristics, proximitybased, density, plms\", \"<b>Topic 24</b><br>Words: models, probabilistic, smoothing, modeling, generative\", \"<b>Topic 24</b><br>Words: distributions, sampling, models, articles, hypergeometric\", \"<b>Topic 24</b><br>Words: ccr, entities, entity, treckba2013, priorities\", \"<b>Topic 24</b><br>Words: entitybased, entitymarkup, entitylinking, accounting, devising\", \"<b>Topic 24</b><br>Words: dssmlike, finetune, encoder, transformers, language\"], \"marker\": {\"color\": \"#009E73\"}, \"mode\": \"lines\", \"name\": \"24_smoothing_models_probabilistic_dirich...\", \"type\": \"scatter\", \"x\": [1981, 2001, 2002, 2003, 2004, 2005, 2006, 2007, 2008, 2009, 2010, 2011, 2015, 2016, 2019], \"y\": [1, 2, 3, 2, 4, 5, 5, 2, 5, 1, 4, 1, 1, 1, 1]}, {\"hoverinfo\": \"text\", \"hovertext\": [\"<b>Topic 31</b><br>Words: dcr, mdl, contents, references, advanced\", \"<b>Topic 31</b><br>Words: topics, testing, hypothesis, tracking, timeline\", \"<b>Topic 31</b><br>Words: segmentation, audio, topics, ngram, segment\", \"<b>Topic 31</b><br>Words: tracking, topic, tdt, topics, development\", \"<b>Topic 31</b><br>Words: topic, topics, htd, profilebased, formative\", \"<b>Topic 31</b><br>Words: segmentation, wmi, topic, multidocument, singledocument\", \"<b>Topic 31</b><br>Words: debate, visualized, meetings, speaker, content\", \"<b>Topic 31</b><br>Words: con, topic, procon, debating, topics\", \"<b>Topic 31</b><br>Words: topics, regularized, parallelization, vocabulary, suboptimization\", \"<b>Topic 31</b><br>Words: gnmf, topics, gmf, modeling, scalability\", \"<b>Topic 31</b><br>Words: topic, ngram, segmenttopics, wordtopics, topics\", \"<b>Topic 31</b><br>Words: topic, predictivity, topicterm, topicword, documenttopic\", \"<b>Topic 31</b><br>Words: topic, sentencelda, generative, topics, judgement\", \"<b>Topic 31</b><br>Words: apslda, implementations, spark, pipelines, lda\", \"<b>Topic 31</b><br>Words: topics, topic, initiatives, indication, criterion\"], \"marker\": {\"color\": \"#F0E442\"}, \"mode\": \"lines\", \"name\": \"31_topics_segmentation_rlsi_gnmf\", \"type\": \"scatter\", \"x\": [1981, 2000, 2001, 2002, 2005, 2007, 2009, 2010, 2011, 2012, 2013, 2014, 2016, 2017, 2018], \"y\": [1, 1, 4, 4, 4, 1, 1, 2, 2, 1, 1, 2, 2, 1, 1]}, {\"hoverinfo\": \"text\", \"hovertext\": [\"<b>Topic 35</b><br>Words: limitations, maron, sequencing, considerations, identifies\", \"<b>Topic 35</b><br>Words: experimenters, precision, measures, validates, researchers\", \"<b>Topic 35</b><br>Words: judgments, judgmentsrankings, aspseudorelevance, infallible, relevance\", \"<b>Topic 35</b><br>Words: topics, larger, scores, average, researchers\", \"<b>Topic 35</b><br>Words: distracting, hypothesized, subcollections, reasons, limitations\", \"<b>Topic 35</b><br>Words: geographic, metadata, precision, accuracy, scores\", \"<b>Topic 35</b><br>Words: confidence, judgments, iir, evaluation, precision\", \"<b>Topic 35</b><br>Words: scores, w3c, topics, university, predictors\", \"<b>Topic 35</b><br>Words: gmap, score, scores, ramifications, breadthfirst\", \"<b>Topic 35</b><br>Words: normalexponential, cutoff, scoredistributional, scores, incompatibility\", \"<b>Topic 35</b><br>Words: redundancy, downsampling, resultsthis, diversity, marginally\", \"<b>Topic 35</b><br>Words: judgments, corpus, dt, ds, relevance\", \"<b>Topic 35</b><br>Words: adaptive, bars, stress, benchmarking, technologies\", \"<b>Topic 35</b><br>Words: interrater, checks, engineers, investigations, industrial\", \"<b>Topic 35</b><br>Words: expertise, academic, expert, crossorganization, institutions\", \"<b>Topic 35</b><br>Words: inconsistent, humanassisted, breakeven, scores, adherence\", \"<b>Topic 35</b><br>Words: measurement, accuracy, test, speculate, anova\"], \"marker\": {\"color\": \"#D55E00\"}, \"mode\": \"lines\", \"name\": \"35_judgments_expertise_test_scores\", \"type\": \"scatter\", \"x\": [1981, 2000, 2001, 2002, 2003, 2004, 2006, 2007, 2008, 2009, 2010, 2011, 2013, 2015, 2016, 2017, 2019], \"y\": [1, 1, 1, 1, 1, 4, 4, 2, 2, 1, 1, 1, 1, 1, 1, 1, 1]}, {\"hoverinfo\": \"text\", \"hovertext\": [\"<b>Topic 70</b><br>Words: bounded, indexing, polynomialtime, abstracted, descriptors\", \"<b>Topic 70</b><br>Words: lsi, multidimensional, interobject, realvalued, encoding\", \"<b>Topic 70</b><br>Words: lsi, mapping, computational, sublinear, spanned\", \"<b>Topic 70</b><br>Words: higherranked, duplicating, discriminate, differing, synonyms\", \"<b>Topic 70</b><br>Words: lsi, indexing, semantic, representation, rankk\", \"<b>Topic 70</b><br>Words: orthogonal, dimensionality, locality, semantic, dimensions\", \"<b>Topic 70</b><br>Words: ldi, isable, betweenclass, withinclass, classspecific\", \"<b>Topic 70</b><br>Words: labels, hierarchical, indexing, decomposition, scaled\", \"<b>Topic 70</b><br>Words: lsi, indexing, reduction, locality, decomposition\"], \"marker\": {\"color\": \"#0072B2\"}, \"mode\": \"lines\", \"name\": \"70_lsi_locality_dimensionality_dimension...\", \"type\": \"scatter\", \"x\": [1981, 1992, 2001, 2003, 2004, 2005, 2007, 2008, 2011], \"y\": [1, 1, 1, 1, 2, 2, 1, 1, 1]}, {\"hoverinfo\": \"text\", \"hovertext\": [\"<b>Topic 0</b><br>Words: subjects, undergraduates, problemsolving, trained, competency\", \"<b>Topic 0</b><br>Words: stochastic, ohgr, a1, automata, converges\", \"<b>Topic 0</b><br>Words: pawlak82, attributes, pawlak84, pawlaks, boolean\", \"<b>Topic 0</b><br>Words: testing, tests, frequency, counting, croft\", \"<b>Topic 0</b><br>Words: training, learning, categorization, llsf, feedback\", \"<b>Topic 0</b><br>Words: sleepingexperts, classifiers, categorization, classifier, coknbination\", \"<b>Topic 0</b><br>Words: categorization, learning, comiderable, gie, rrddmsed\", \"<b>Topic 0</b><br>Words: classifiers, knn, categorization, learning, filtering\", \"<b>Topic 0</b><br>Words: nnet, llsf, knn, svm, trainingset\", \"<b>Topic 0</b><br>Words: classification, categorization, vector, classifier, classifiers\", \"<b>Topic 0</b><br>Words: classification, categorization, feature, svms, categoryspecific\", \"<b>Topic 0</b><br>Words: classification, classifiers, classifier, mva, tdfa\", \"<b>Topic 0</b><br>Words: classifiers, classification, svm, learning, categorization\", \"<b>Topic 0</b><br>Words: taxonomy, learning, classification, svm, vector\", \"<b>Topic 0</b><br>Words: czech, classification, categorization, learning, svmrfe\", \"<b>Topic 0</b><br>Words: svm, learning, classification, taxonomy, classifiers\", \"<b>Topic 0</b><br>Words: ranking, svm, classification, feature, rank\", \"<b>Topic 0</b><br>Words: learning, classification, ranking, algorithms, svm\", \"<b>Topic 0</b><br>Words: learning, classification, rank, ranking, learningtorank\", \"<b>Topic 0</b><br>Words: labeling, labels, rank, ranking, classification\", \"<b>Topic 0</b><br>Words: learning, ranking, rank, lambdamart, training\", \"<b>Topic 0</b><br>Words: classification, learning, oneclass, ranking, classifiers\", \"<b>Topic 0</b><br>Words: classifier, classifiers, class, classification, lda\", \"<b>Topic 0</b><br>Words: categories, learning, classification, rank, algorithms\", \"<b>Topic 0</b><br>Words: learning, ranking, classification, rank, feature\", \"<b>Topic 0</b><br>Words: learning, rank, neural, ranking, training\", \"<b>Topic 0</b><br>Words: learning, neural, ranking, training, classification\", \"<b>Topic 0</b><br>Words: learning, neural, ranking, gradient, rank\", \"<b>Topic 0</b><br>Words: learning, neural, classification, gradient, ranking\"], \"marker\": {\"color\": \"#CC79A7\"}, \"mode\": \"lines\", \"name\": \"0_learning_classification_ranking_rank\", \"type\": \"scatter\", \"x\": [1983, 1987, 1988, 1992, 1995, 1996, 1997, 1998, 1999, 2000, 2001, 2002, 2003, 2004, 2005, 2006, 2007, 2008, 2009, 2010, 2011, 2012, 2013, 2014, 2015, 2016, 2017, 2018, 2019], \"y\": [1, 1, 1, 1, 3, 2, 1, 4, 1, 5, 4, 10, 11, 6, 10, 9, 16, 17, 14, 13, 17, 12, 4, 6, 14, 15, 25, 29, 27]}, {\"hoverinfo\": \"text\", \"hovertext\": [\"<b>Topic 2</b><br>Words: library, news, catalog, menutype, choicewe\", \"<b>Topic 2</b><br>Words: ratings, recommendation, predictor, pca, clusteringbased\", \"<b>Topic 2</b><br>Words: prediction, correlationbased, filtering, collaborative, visualization\", \"<b>Topic 2</b><br>Words: privacy, recommending, risks, filtering, protects\", \"<b>Topic 2</b><br>Words: ratings, groups, collaborative, preferences, eachmovie\", \"<b>Topic 2</b><br>Words: filtering, rating, ratings, normalization, distribution\", \"<b>Topic 2</b><br>Words: collaborative, filtering, memorybased, smoothingbased, decentralized\", \"<b>Topic 2</b><br>Words: ratings, attacks, attack, filtering, svdbased\", \"<b>Topic 2</b><br>Words: movielens, prediction, filtering, recommendation, borrowing\", \"<b>Topic 2</b><br>Words: collaborative, feedback, filtering, recommender, rating\", \"<b>Topic 2</b><br>Words: recommender, recommendations, recommendation, filtering, collaborative\", \"<b>Topic 2</b><br>Words: items, recommendation, artists, pop, recommender\", \"<b>Topic 2</b><br>Words: recommendation, recommender, rating, ratings, recommendations\", \"<b>Topic 2</b><br>Words: recommendation, recommender, users, tfmap, preferences\", \"<b>Topic 2</b><br>Words: recommendation, recommender, collaborative, friendship, interests\", \"<b>Topic 2</b><br>Words: recommendation, recommender, rating, preferences, ratings\", \"<b>Topic 2</b><br>Words: recommendation, factorization, recommender, filtering, personalized\", \"<b>Topic 2</b><br>Words: recommendation, recommendations, dcf, features, collaborative\", \"<b>Topic 2</b><br>Words: recommendation, recommender, privacy, user, users\", \"<b>Topic 2</b><br>Words: recommendation, recommender, attention, recommendations, collaborative\", \"<b>Topic 2</b><br>Words: recommendation, collaborative, recommendations, recommender, filtering\"], \"marker\": {\"color\": \"#E69F00\"}, \"mode\": \"lines\", \"name\": \"2_recommendation_recommender_filtering_r...\", \"type\": \"scatter\", \"x\": [1983, 1999, 2000, 2002, 2003, 2004, 2005, 2006, 2007, 2008, 2009, 2010, 2011, 2012, 2013, 2014, 2015, 2016, 2017, 2018, 2019], \"y\": [1, 2, 2, 2, 1, 5, 2, 2, 2, 6, 4, 4, 11, 10, 16, 18, 14, 9, 15, 13, 34]}, {\"hoverinfo\": \"text\", \"hovertext\": [\"<b>Topic 6</b><br>Words: ir, intermediary, 1982, goal, conference\", \"<b>Topic 6</b><br>Words: airphys, estimation, ir, fachinformationsentrum, phrasedescriptor\", \"<b>Topic 6</b><br>Words: university, science, ir, research, evaluation\", \"<b>Topic 6</b><br>Words: ir, evaluation, evaluations, levels, assess\", \"<b>Topic 6</b><br>Words: elicitation, iowa, ir, indianapolis, university\", \"<b>Topic 6</b><br>Words: trec6, control, systems, 3d, effect\", \"<b>Topic 6</b><br>Words: presentation, aof, validity, ir, reliability\", \"<b>Topic 6</b><br>Words: cited, availability, selfpublishing, scholarly, proceedings\", \"<b>Topic 6</b><br>Words: analyser, ir, visualisation, system, analysing\", \"<b>Topic 6</b><br>Words: uk, computer, nottelmann, nottelmannuniduisburgde, mellon\", \"<b>Topic 6</b><br>Words: variability, workshop, ir, arda, flaws\", \"<b>Topic 6</b><br>Words: irf, wait, ir, optimal, broker\", \"<b>Topic 6</b><br>Words: semantic, xml, conceptualize, applications, querytime\", \"<b>Topic 6</b><br>Words: satisfaction, ir, effectiveness, concluded, evaluation\", \"<b>Topic 6</b><br>Words: students, ir, tools, mediation, collaborative\", \"<b>Topic 6</b><br>Words: accessibility, evaluation, prediction, quality, effectiveness\", \"<b>Topic 6</b><br>Words: ir, sorting, evaluation, modelling, irtasks\", \"<b>Topic 6</b><br>Words: tutorial, evaluation, foundations, students, abandonment\", \"<b>Topic 6</b><br>Words: stability, biasvariance, stabilityrobustness, methodology, effectiveness\", \"<b>Topic 6</b><br>Words: research, risksensitive, disciplines, limitations, mediation\", \"<b>Topic 6</b><br>Words: ir, research, evaluation, academic, sigir\", \"<b>Topic 6</b><br>Words: ir, privacy, research, participants, evaluation\", \"<b>Topic 6</b><br>Words: ebm, research, experimentation, decisions, evaluation\", \"<b>Topic 6</b><br>Words: ir, research, experimental, interaction, biases\", \"<b>Topic 6</b><br>Words: explanation, engineers, evaluation, experimentation, skepticism\"], \"marker\": {\"color\": \"#56B4E9\"}, \"mode\": \"lines\", \"name\": \"6_ir_research_evaluation_effectiveness\", \"type\": \"scatter\", \"x\": [1983, 1988, 1991, 1995, 1996, 1998, 2000, 2001, 2002, 2003, 2004, 2005, 2006, 2007, 2008, 2010, 2011, 2012, 2013, 2014, 2015, 2016, 2017, 2018, 2019], \"y\": [2, 2, 1, 2, 4, 3, 2, 1, 2, 4, 2, 2, 1, 2, 2, 4, 6, 7, 1, 8, 7, 9, 5, 7, 3]}, {\"hoverinfo\": \"text\", \"hovertext\": [\"<b>Topic 10</b><br>Words: citations, abstracts, bibliographic, store, files\", \"<b>Topic 10</b><br>Words: annod, hepatitis, items2, document, deletion\", \"<b>Topic 10</b><br>Words: imprecise, imprecision, nonapplicable, precise, nlp\", \"<b>Topic 10</b><br>Words: hypertext, reference, fulltext, texts, lawyer\", \"<b>Topic 10</b><br>Words: syntactic, summarizes, identifiers, dictionaries, linguistic\", \"<b>Topic 10</b><br>Words: identifications, texts, copy, notice, acm\", \"<b>Topic 10</b><br>Words: textual, access, linguistics, programming, code\", \"<b>Topic 10</b><br>Words: fulllength, structure, subtopics, multiparagraph, comprise\", \"<b>Topic 10</b><br>Words: dissemination, mfonnation, isoknowledge, documents, mfonnatitm\", \"<b>Topic 10</b><br>Words: stylistic, corpus, differs, analyzed, variation\", \"<b>Topic 10</b><br>Words: abstracts, parsing, parses, textabstracting, sloppiness\", \"<b>Topic 10</b><br>Words: ectiveness, distributed, collections, ectively, ective\", \"<b>Topic 10</b><br>Words: rollup, drilldown, slicing, searching, collection\", \"<b>Topic 10</b><br>Words: xml, xmlql, querygeneration, textbfunderlineexpressive, textbfunderlineefficienttextbfunderlinelanguage\", \"<b>Topic 10</b><br>Words: lexical, df, metadata, tf, wilenskys\", \"<b>Topic 10</b><br>Words: adaboost, usagein, phrasebased, conceptbased, termbased\", \"<b>Topic 10</b><br>Words: handwritten, manuscripts, transcribed, pdf, documents\", \"<b>Topic 10</b><br>Words: medline, mining, pubmed, nlm, nlms\", \"<b>Topic 10</b><br>Words: cdip, assembling, mining, anonymous, attribution\", \"<b>Topic 10</b><br>Words: plagiarized, fingerprint, plagiarism, equivalent, ngram\", \"<b>Topic 10</b><br>Words: passages, fire, text, language, tamil\", \"<b>Topic 10</b><br>Words: programming, java, implementation, document, generative\", \"<b>Topic 10</b><br>Words: language, ocrs, wordimages, telugu, labeled\", \"<b>Topic 10</b><br>Words: metaindex, entries, metadex, pdf, references\", \"<b>Topic 10</b><br>Words: documents, document, government, rewriting, readability\", \"<b>Topic 10</b><br>Words: additional, constituent, modifying, transcripts, introducing\", \"<b>Topic 10</b><br>Words: subcollection, index, clustered, documents, incidental\", \"<b>Topic 10</b><br>Words: cooking, recipe, plsa, cookpad, datasets\", \"<b>Topic 10</b><br>Words: texygen, plsa, authorship, topic, lda\", \"<b>Topic 10</b><br>Words: diligence, signature, semanticrelated, collisions, representation\"], \"marker\": {\"color\": \"#009E73\"}, \"mode\": \"lines\", \"name\": \"10_text_document_documents_language\", \"type\": \"scatter\", \"x\": [1983, 1985, 1987, 1988, 1989, 1991, 1992, 1993, 1995, 1996, 1998, 1999, 2000, 2001, 2002, 2003, 2004, 2005, 2006, 2007, 2008, 2009, 2010, 2011, 2012, 2013, 2016, 2017, 2018, 2019], \"y\": [1, 2, 3, 2, 1, 1, 2, 1, 3, 1, 2, 2, 1, 2, 2, 1, 3, 2, 2, 1, 4, 3, 3, 1, 3, 1, 2, 3, 3, 2]}, {\"hoverinfo\": \"text\", \"hovertext\": [\"<b>Topic 11</b><br>Words: sessions, monitoring, catalog, libraries, ohio\", \"<b>Topic 11</b><br>Words: software, reuse, lifecycle, productivity, panel\", \"<b>Topic 11</b><br>Words: groups, conference, package, techniques, test\", \"<b>Topic 11</b><br>Words: panel, test, collections, participation, audience\", \"<b>Topic 11</b><br>Words: test, eaectiveness, judging, judged, judgements\", \"<b>Topic 11</b><br>Words: articles2, englishjapanese, enhancement, emphasis, scientific\", \"<b>Topic 11</b><br>Words: qa, test, legitimate, answering, evaluation\", \"<b>Topic 11</b><br>Words: assertion, systemoriented, adequately, relevancebased, test\", \"<b>Topic 11</b><br>Words: judgments, assessorbuilt, filtering, pooled, collections\", \"<b>Topic 11</b><br>Words: incomplete, judgments, collections, robust, collection\", \"<b>Topic 11</b><br>Words: tests, test, reliability, significance, comparisons\", \"<b>Topic 11</b><br>Words: pooling, test, pools, collections, judgment\", \"<b>Topic 11</b><br>Words: biased, judgements, test, tests, power\", \"<b>Topic 11</b><br>Words: batch, outcomes, relevance, test, collection\", \"<b>Topic 11</b><br>Words: test, trec, collections, randomization, pooled\", \"<b>Topic 11</b><br>Words: reusability, test, judgments, collections, approachsimulating\", \"<b>Topic 11</b><br>Words: mpeg, trecfiles, evaluator, easytouse, p10\", \"<b>Topic 11</b><br>Words: trec, reuseable, adhoc, systemsruns, submission\", \"<b>Topic 11</b><br>Words: test, collection, collections, wilcoxon, permutation\", \"<b>Topic 11</b><br>Words: test, collection, privilege, collections, judgment\", \"<b>Topic 11</b><br>Words: test, pooling, pooled, reusability, bias\", \"<b>Topic 11</b><br>Words: reliability, collection, recall, collections, evaluation\", \"<b>Topic 11</b><br>Words: test, collections, judgment, collection, evaluation\", \"<b>Topic 11</b><br>Words: pytreceval, python, treceval, pipelines, qlearning\", \"<b>Topic 11</b><br>Words: pci, quantification, prevalence, assessments, test\"], \"marker\": {\"color\": \"#F0E442\"}, \"mode\": \"lines\", \"name\": \"11_test_collection_collections_evaluatio...\", \"type\": \"scatter\", \"x\": [1983, 1989, 1993, 1996, 1998, 1999, 2000, 2001, 2003, 2004, 2005, 2006, 2007, 2008, 2009, 2010, 2011, 2012, 2013, 2014, 2015, 2016, 2017, 2018, 2019], \"y\": [1, 1, 1, 1, 3, 1, 1, 1, 1, 2, 2, 2, 3, 1, 4, 1, 1, 2, 4, 6, 3, 5, 4, 2, 2]}, {\"hoverinfo\": \"text\", \"hovertext\": [\"<b>Topic 66</b><br>Words: assumption, dependence, choice, functionirrespective, dependenceindependence\", \"<b>Topic 66</b><br>Words: indexing, probabilistic, bii, retrievalwithprobabilisticindexing, relevance\", \"<b>Topic 66</b><br>Words: weight, selection, random, database, models\", \"<b>Topic 66</b><br>Words: indexing, dataabstraction, restriction, knowledgebased, flexibility\", \"<b>Topic 66</b><br>Words: relational, join, operator, database, operators\", \"<b>Topic 66</b><br>Words: probability, idfbased, poissonbased, idf, assuming\", \"<b>Topic 66</b><br>Words: gap, probabilistic, gammapoisson, independentcomponent, factorization\", \"<b>Topic 66</b><br>Words: idf, poissonbased, estimates, superiority, idfcomponentin\", \"<b>Topic 66</b><br>Words: ipiidiiqi, integral, probability, ixi, iqi\", \"<b>Topic 66</b><br>Words: smoothing, riskaverse, risk, uncertainty, relevancy\", \"<b>Topic 66</b><br>Words: tf, frequency, normalization, probabilistic, normalized\", \"<b>Topic 66</b><br>Words: probability, rejection, tfidf, approximate, bayesian\"], \"marker\": {\"color\": \"#D55E00\"}, \"mode\": \"lines\", \"name\": \"66_probabilistic_probability_tfidf_poiss...\", \"type\": \"scatter\", \"x\": [1983, 1986, 1987, 1989, 1993, 2003, 2004, 2005, 2008, 2009, 2015, 2016], \"y\": [1, 1, 1, 1, 1, 1, 1, 1, 1, 1, 1, 1]}, {\"hoverinfo\": \"text\", \"hovertext\": [\"<b>Topic 29</b><br>Words: indexing, ngrams, spelling, ngram, index\", \"<b>Topic 29</b><br>Words: phonographic, correction, typographical, misspelt, phonetically\", \"<b>Topic 29</b><br>Words: diffeent, nonphonetic, spellingcorrection, searches, ngram\", \"<b>Topic 29</b><br>Words: characterbased, wordbased, indexing, japanese, fulltext\", \"<b>Topic 29</b><br>Words: chinese, indexing, japanese, searching, segmentation\", \"<b>Topic 29</b><br>Words: chinese, word, wordbased, vocabulary, segment\", \"<b>Topic 29</b><br>Words: indexing, chinese, segmentation, crosslanguage, ngram\", \"<b>Topic 29</b><br>Words: ngrams, ngram, constraints, asian, optimizations\", \"<b>Topic 29</b><br>Words: trec7, transcriptions, broadcast, forms, retrieval\", \"<b>Topic 29</b><br>Words: ngram, japanese, pseudofrequency, speeded, asian\", \"<b>Topic 29</b><br>Words: arabic, stemmer, morphological, stemmers, scanned\", \"<b>Topic 29</b><br>Words: ngram, pseudostem, languageneutral, languagespecific, tokenization\", \"<b>Topic 29</b><br>Words: plurals, broken, arabic, plural, confusing\", \"<b>Topic 29</b><br>Words: segmentation, ngrams, languages, translations, chinese\", \"<b>Topic 29</b><br>Words: ngram, languages, morphology, tokenization, stemming\", \"<b>Topic 29</b><br>Words: pos, segmentation, pelws, pel, vietnamese\", \"<b>Topic 29</b><br>Words: erroneous, ocr, errors, errormodelling, correction\"], \"marker\": {\"color\": \"#0072B2\"}, \"mode\": \"lines\", \"name\": \"29_chinese_ngram_segmentation_ngrams\", \"type\": \"scatter\", \"x\": [1985, 1988, 1992, 1993, 1995, 1996, 1997, 1998, 1999, 2000, 2002, 2003, 2004, 2008, 2009, 2014, 2015], \"y\": [2, 1, 1, 1, 2, 3, 5, 1, 1, 1, 3, 1, 2, 2, 1, 2, 1]}, {\"hoverinfo\": \"text\", \"hovertext\": [\"<b>Topic 73</b><br>Words: servers, processor, processors, testbed, messagebased\", \"<b>Topic 73</b><br>Words: multimedia, management, computer, office, films\", \"<b>Topic 73</b><br>Words: visually, displayed, diagrams, visual, graphic\", \"<b>Topic 73</b><br>Words: subdocuments, restructuring, aggregation, plex, nonfkstnormalform\", \"<b>Topic 73</b><br>Words: envisions, envision, visualization, icons, graphic\", \"<b>Topic 73</b><br>Words: library, sgml, databases, catalog, blobworld\", \"<b>Topic 73</b><br>Words: mixedmodality, documentation, precisionrecall, alternatives, modalities\", \"<b>Topic 73</b><br>Words: boolean, legal, ediscovery, litigation, formulation\", \"<b>Topic 73</b><br>Words: requirements, requirement, requirementsbased, revbomir, disqualifying\"], \"marker\": {\"color\": \"#CC79A7\"}, \"mode\": \"lines\", \"name\": \"73_library_multimedia_visual_interface\", \"type\": \"scatter\", \"x\": [1985, 1986, 1991, 1995, 1996, 1999, 2009, 2012, 2019], \"y\": [1, 1, 1, 1, 1, 2, 1, 1, 1]}, {\"hoverinfo\": \"text\", \"hovertext\": [\"<b>Topic 27</b><br>Words: language, artificial, adlike, ergonomics, originality\", \"<b>Topic 27</b><br>Words: humancomputer, intermediary, interaction, userhuman, humanintermediary\", \"<b>Topic 27</b><br>Words: discussion, moderator, presentations, librarians, invited\", \"<b>Topic 27</b><br>Words: hal, emailact, email, conversational, messages\", \"<b>Topic 27</b><br>Words: meetings, transcribed, conversation, monitors, intervals\", \"<b>Topic 27</b><br>Words: conversations, conversation, engaging, messaging, expressing\", \"<b>Topic 27</b><br>Words: conversations, contextualize, conversational, hear, speech\", \"<b>Topic 27</b><br>Words: perspectives, addressing, workshop, discuss, conversational\", \"<b>Topic 27</b><br>Words: conversation, conversational, retrievalbased, respond, learningtorespond\", \"<b>Topic 27</b><br>Words: conversational, conversation, dialogue, conversations, utterances\", \"<b>Topic 27</b><br>Words: conversational, conversation, conversations, dialog, dialogue\", \"<b>Topic 27</b><br>Words: conversational, conversation, dialogue, dialog, conversations\"], \"marker\": {\"color\": \"#E69F00\"}, \"mode\": \"lines\", \"name\": \"27_conversational_conversation_conversat...\", \"type\": \"scatter\", \"x\": [1986, 1988, 1996, 2005, 2010, 2012, 2013, 2015, 2016, 2017, 2018, 2019], \"y\": [1, 1, 2, 2, 1, 1, 1, 1, 1, 6, 8, 7]}, {\"hoverinfo\": \"text\", \"hovertext\": [\"<b>Topic 13</b><br>Words: specified, organizations, incrementally, queries, specification\", \"<b>Topic 13</b><br>Words: refinement, searchers, findings, process, specialists\", \"<b>Topic 13</b><br>Words: tipster, inquery, formulating, evaluates, routing\", \"<b>Topic 13</b><br>Words: xml, fragments, extended, reap, queries\", \"<b>Topic 13</b><br>Words: qdl, queries, false, query, detecting\", \"<b>Topic 13</b><br>Words: context, profile, factors, usercentric, queryspecific\", \"<b>Topic 13</b><br>Words: tasks, task, switch, searching, aspectual\", \"<b>Topic 13</b><br>Words: zip, directories, income, demographic, directory\", \"<b>Topic 13</b><br>Words: queries, suggestion, logs, workers, tasks\", \"<b>Topic 13</b><br>Words: suggestion, typeahead, queries, query, sorted\", \"<b>Topic 13</b><br>Words: task, offtask, queries, query, tasqs\", \"<b>Topic 13</b><br>Words: searchpanel, session, sessions, cognitive, searchers\", \"<b>Topic 13</b><br>Words: presearch, queries, taskoriented, knowledge, context\", \"<b>Topic 13</b><br>Words: session, pomdp, queries, feedbacks, scentbar\", \"<b>Topic 13</b><br>Words: tasks, subtasks, keyphrases, hierarchies, tasksubtask\", \"<b>Topic 13</b><br>Words: binbybin, clarifications, route, rsnod, nmd\", \"<b>Topic 13</b><br>Words: query, processing, multiple, queries, strategy\"], \"marker\": {\"color\": \"#56B4E9\"}, \"mode\": \"lines\", \"name\": \"13_queries_query_tasks_task\", \"type\": \"scatter\", \"x\": [1987, 1989, 1993, 2003, 2005, 2007, 2009, 2010, 2011, 2012, 2013, 2014, 2015, 2016, 2017, 2018, 2019], \"y\": [1, 1, 1, 1, 3, 1, 4, 2, 6, 3, 8, 4, 3, 3, 2, 4, 3]}, {\"hoverinfo\": \"text\", \"hovertext\": [\"<b>Topic 14</b><br>Words: retreival, original, recover, trace, modifying\", \"<b>Topic 14</b><br>Words: yardstick, similar, recallprecision, query, notable\", \"<b>Topic 14</b><br>Words: expression, expansion, conceptbased, inquery, occurrence\", \"<b>Topic 14</b><br>Words: terminological, terms, expansion, difftcult, domainrelated\", \"<b>Topic 14</b><br>Words: qe, pcfg, contextfree, recognition, ecting\", \"<b>Topic 14</b><br>Words: topranked, frequencies, speci, ectiveness, selection\", \"<b>Topic 14</b><br>Words: transformation, clarification, expansion, ambiguity, queries\", \"<b>Topic 14</b><br>Words: replacement, decisions, frequency, query, fixed\", \"<b>Topic 14</b><br>Words: categorization, queries, recall, query, candidates\", \"<b>Topic 14</b><br>Words: brf, brft1, queries, brft2, lca\", \"<b>Topic 14</b><br>Words: expansion, knownitem, ambiguity, queries, query\", \"<b>Topic 14</b><br>Words: ambiguous, expanded, ambiguity, queries, query\", \"<b>Topic 14</b><br>Words: mmqe, expansion, videos, textonly, query\", \"<b>Topic 14</b><br>Words: word, terms, semantic, acronyms, wordnet\", \"<b>Topic 14</b><br>Words: keyqueries, expansion, qe, phrank, queries\", \"<b>Topic 14</b><br>Words: properties, indicative, differently, distinct, necessary\", \"<b>Topic 14</b><br>Words: sqe, expansion, tfs, uqe, qe\", \"<b>Topic 14</b><br>Words: narratives, dbpediaentity, queries, narrative, query\", \"<b>Topic 14</b><br>Words: expansion, corpusbased, matching, entities, joins\"], \"marker\": {\"color\": \"#009E73\"}, \"mode\": \"lines\", \"name\": \"14_terms_queries_query_qe\", \"type\": \"scatter\", \"x\": [1987, 1993, 1996, 1998, 1999, 2001, 2002, 2003, 2005, 2006, 2007, 2008, 2010, 2011, 2013, 2014, 2016, 2017, 2019], \"y\": [1, 2, 1, 2, 3, 1, 3, 3, 2, 6, 4, 3, 2, 4, 4, 1, 1, 4, 2]}, {\"hoverinfo\": \"text\", \"hovertext\": [\"<b>Topic 15</b><br>Words: image, images, fuzzy, partial, description\", \"<b>Topic 15</b><br>Words: interpretation, images, signatures, particukzr, tk\", \"<b>Topic 15</b><br>Words: image, images, alphabetic, catalogue, recognition\", \"<b>Topic 15</b><br>Words: images, map, feature, roundness, bending\", \"<b>Topic 15</b><br>Words: image, images, ikom, imagee, eelecting\", \"<b>Topic 15</b><br>Words: color, fuzzy, blue, foql, permission\", \"<b>Topic 15</b><br>Words: patches, patch, pixel, learningbased, classifying\", \"<b>Topic 15</b><br>Words: image, images, annotation, visual, photographs\", \"<b>Topic 15</b><br>Words: blobs, annotation, vocabulary, wordblob, semantic\", \"<b>Topic 15</b><br>Words: image, annotation, images, metadata, video\", \"<b>Topic 15</b><br>Words: annotation, semantic, database, annotated, classification\", \"<b>Topic 15</b><br>Words: images, computable, gaps, annotation, cbir\", \"<b>Topic 15</b><br>Words: distance, images, sketches, sketch, estimators\", \"<b>Topic 15</b><br>Words: entropy, ccds, classification, ccd, manifolds\", \"<b>Topic 15</b><br>Words: feature, facial, visual, annotation, ulr\", \"<b>Topic 15</b><br>Words: images, tags, annotations, tag, gown\", \"<b>Topic 15</b><br>Words: images, image, facial, annotation, searchbased\", \"<b>Topic 15</b><br>Words: images, visual, prism, crossview, geotagged\", \"<b>Topic 15</b><br>Words: image, images, targets, labels, embedding\", \"<b>Topic 15</b><br>Words: images, rbprf, annotation, torralba, correlation\", \"<b>Topic 15</b><br>Words: multimodal, auction, sbir, sketches, codes\", \"<b>Topic 15</b><br>Words: tagir, images, learningagnostic, relevant, flickr\"], \"marker\": {\"color\": \"#F0E442\"}, \"mode\": \"lines\", \"name\": \"15_annotation_visual_semantic_feature\", \"type\": \"scatter\", \"x\": [1987, 1991, 1995, 1996, 1997, 1998, 1999, 2001, 2003, 2004, 2005, 2007, 2008, 2010, 2011, 2012, 2013, 2014, 2015, 2016, 2017, 2018], \"y\": [1, 1, 3, 1, 2, 1, 1, 3, 2, 2, 4, 3, 2, 2, 3, 2, 4, 3, 2, 2, 4, 1]}, {\"hoverinfo\": \"text\", \"hovertext\": [\"<b>Topic 22</b><br>Words: piston, outer, damper, tubular, hydraulic\", \"<b>Topic 22</b><br>Words: shaft, overdrive, gear, clutch, turbine\", \"<b>Topic 22</b><br>Words: metal, barrel, piston, disposed, tool\", \"<b>Topic 22</b><br>Words: plunger, valve, plastic, spool, deck\", \"<b>Topic 22</b><br>Words: rod, fluid, pressing, piston, nozzle\", \"<b>Topic 22</b><br>Words: rods, concrete, compartments, pipe, molding\", \"<b>Topic 22</b><br>Words: magnetic, tape, impedance, roller, presses\", \"<b>Topic 22</b><br>Words: movable, mounted, hatch, lift, metal\", \"<b>Topic 22</b><br>Words: fabric, cable, conductors, wiring, toroid\", \"<b>Topic 22</b><br>Words: glove, rotor, pct, rotatable, magnetic\", \"<b>Topic 22</b><br>Words: cable, ring, spider, cables, strands\"], \"marker\": {\"color\": \"#D55E00\"}, \"mode\": \"lines\", \"name\": \"22_rod_cable_device_shaft\", \"type\": \"scatter\", \"x\": [1987, 1991, 1996, 1999, 2000, 2001, 2005, 2007, 2008, 2009, 2011], \"y\": [1, 2, 4, 7, 6, 1, 1, 7, 4, 5, 1]}, {\"hoverinfo\": \"text\", \"hovertext\": [\"<b>Topic 38</b><br>Words: descriptions, informational, partners, interaction, zooming\", \"<b>Topic 38</b><br>Words: oriented, manipulation, operators, dynamically, object\", \"<b>Topic 38</b><br>Words: gstas, hypertext, knowledge, limeds, macintosh\", \"<b>Topic 38</b><br>Words: map, semantic, kohonens, lexiconassisted, interrelationships\", \"<b>Topic 38</b><br>Words: versioning, distributed, querytime, versioned, replication\", \"<b>Topic 38</b><br>Words: lexicon, lexical, databases, languagedependent, knowledge\", \"<b>Topic 38</b><br>Words: nara, structure, knowledge, fulltext, whole\", \"<b>Topic 38</b><br>Words: contexts, irrertsion, izraphrase, intensionsd, contextbased\", \"<b>Topic 38</b><br>Words: receptionist, customizable, librarians, sgml, librarian\", \"<b>Topic 38</b><br>Words: paragraphs, markup, symbols, containing, lines\", \"<b>Topic 38</b><br>Words: hypermedia, platform, modelling, knowledgeoriented, connectors\", \"<b>Topic 38</b><br>Words: structured, ir, interface, objects, structure\", \"<b>Topic 38</b><br>Words: chord, overlay, proposals, functionality, hash\", \"<b>Topic 38</b><br>Words: broadcasting, scenes, contents, connections, sceneviz\", \"<b>Topic 38</b><br>Words: ontologies, path, connectivity, ontology, relevancerated\", \"<b>Topic 38</b><br>Words: metagraphs, nodes, subgraph, embedding, paths\"], \"marker\": {\"color\": \"#0072B2\"}, \"mode\": \"lines\", \"name\": \"38_knowledge_nara_fulltext_multitext\", \"type\": \"scatter\", \"x\": [1987, 1988, 1989, 1991, 1992, 1993, 1996, 1997, 1998, 1999, 2001, 2002, 2005, 2017, 2018, 2019], \"y\": [1, 1, 1, 2, 1, 1, 2, 1, 3, 1, 1, 1, 1, 1, 3, 2]}, {\"hoverinfo\": \"text\", \"hovertext\": [\"<b>Topic 20</b><br>Words: morcovcr, cffectivcness, thcorctical, depcndencies, bow\", \"<b>Topic 20</b><br>Words: nouns, lexicon, syntactic, word, newspapers\", \"<b>Topic 20</b><br>Words: word, words, relatedness, contexts, apparition\", \"<b>Topic 20</b><br>Words: morphology, morphological, word, describe, linguistics\", \"<b>Topic 20</b><br>Words: stopword, negation, nouns, remove, recognizing\", \"<b>Topic 20</b><br>Words: wordword, similarity, handcaptioned, querycaption, wordtoword\", \"<b>Topic 20</b><br>Words: routing, profiles, zone, domain, zoning\", \"<b>Topic 20</b><br>Words: bigram, segmented, contextual, identifying, context\", \"<b>Topic 20</b><br>Words: pn, quantity, disambiguation, nncs, nnc\", \"<b>Topic 20</b><br>Words: word, adjective, wordsphrases, nouns, frequent\", \"<b>Topic 20</b><br>Words: wordsegmentation, selfsupervised, dictionary, approaches, chinese\", \"<b>Topic 20</b><br>Words: representations, disambiguation, hypotheses, metasearch, preconditions\", \"<b>Topic 20</b><br>Words: word, senses, multiplesense, disambiguationexperimental, coarsegrained\", \"<b>Topic 20</b><br>Words: katakana, loanwords, variants, edit, weight\", \"<b>Topic 20</b><br>Words: mlsa, cooccurrence, pairwise, multiple, cases\", \"<b>Topic 20</b><br>Words: aperiodic, word, taxonomies, wordnet, wordnets\", \"<b>Topic 20</b><br>Words: hypernym, word, wordnet, associative, clustering\", \"<b>Topic 20</b><br>Words: word, embeddings, embedding, words, crosslingual\", \"<b>Topic 20</b><br>Words: embedding, embeddings, words, classification, doc2sent2vec\", \"<b>Topic 20</b><br>Words: word, embedding, embeddings, relatedness, wordentity\", \"<b>Topic 20</b><br>Words: embeddings, semantics, meanings, topological, coevolution\", \"<b>Topic 20</b><br>Words: embeddings, words, matching, embedding, mmn\"], \"marker\": {\"color\": \"#CC79A7\"}, \"mode\": \"lines\", \"name\": \"20_word_embeddings_words_embedding\", \"type\": \"scatter\", \"x\": [1988, 1989, 1992, 1993, 1995, 1996, 1997, 1999, 2000, 2001, 2002, 2003, 2004, 2005, 2006, 2007, 2008, 2015, 2016, 2017, 2018, 2019], \"y\": [1, 2, 1, 1, 1, 1, 1, 2, 5, 1, 1, 2, 1, 1, 1, 2, 2, 2, 5, 4, 1, 4]}, {\"hoverinfo\": \"text\", \"hovertext\": [\"<b>Topic 1</b><br>Words: tactics, epxsemanticallybased, semanticallybased, knowledgebase, knowledgebased\", \"<b>Topic 1</b><br>Words: searchers, termconsistency, conceptconsistency, terminologicat, interviewed\", \"<b>Topic 1</b><br>Words: browsers, subjects, mental, personalization, contents\", \"<b>Topic 1</b><br>Words: economics, searches, strategies, business, economic\", \"<b>Topic 1</b><br>Words: evidence, uncertainty, detectionrecognition, celebrity, image\", \"<b>Topic 1</b><br>Words: searchers, services, interact, archives, bookstores\", \"<b>Topic 1</b><br>Words: searchers, feedback, worktask, groups, web\", \"<b>Topic 1</b><br>Words: abstracts, eyetracking, viewing, browse, viewed\", \"<b>Topic 1</b><br>Words: toolbar, feedback, user, clicked, web\", \"<b>Topic 1</b><br>Words: multitasking, behavior, web, clickthrough, feedback\", \"<b>Topic 1</b><br>Words: behavior, searching, users, searchers, study\", \"<b>Topic 1</b><br>Words: personalization, searchers, user, web, searcher\", \"<b>Topic 1</b><br>Words: personalization, task, participants, familiarity, behaviors\", \"<b>Topic 1</b><br>Words: frustration, behavior, ads, clicks, attention\", \"<b>Topic 1</b><br>Words: behavior, participants, searcher, users, user\", \"<b>Topic 1</b><br>Words: subjects, tasks, user, examination, searcher\", \"<b>Topic 1</b><br>Words: searchers, behavior, biases, switching, study\", \"<b>Topic 1</b><br>Words: satisfaction, behavior, users, user, web\", \"<b>Topic 1</b><br>Words: participants, searchers, serps, satisfaction, web\", \"<b>Topic 1</b><br>Words: behavior, users, user, participants, tasks\", \"<b>Topic 1</b><br>Words: participants, behavior, behaviors, satisfaction, serp\", \"<b>Topic 1</b><br>Words: behavior, satisfaction, user, users, preference\", \"<b>Topic 1</b><br>Words: behavior, experiences, users, satisfaction, behaviors\"], \"marker\": {\"color\": \"#E69F00\"}, \"mode\": \"lines\", \"name\": \"1_behavior_satisfaction_searchers_users\", \"type\": \"scatter\", \"x\": [1989, 1995, 1998, 1999, 2000, 2002, 2003, 2004, 2005, 2006, 2007, 2008, 2009, 2010, 2011, 2012, 2013, 2014, 2015, 2016, 2017, 2018, 2019], \"y\": [1, 1, 2, 4, 1, 3, 2, 1, 7, 8, 11, 12, 6, 11, 18, 20, 9, 25, 19, 18, 17, 14, 10]}, {\"hoverinfo\": \"text\", \"hovertext\": [\"<b>Topic 21</b><br>Words: hash, hashing, opmphfs, sequential, access\", \"<b>Topic 21</b><br>Words: hash, nextstation, timing, bits, hashing\", \"<b>Topic 21</b><br>Words: schemas, schema, hashing, semanticallyrelated, hash\", \"<b>Topic 21</b><br>Words: hashbased, similarity, hash, hashing, unequaledwhile\", \"<b>Topic 21</b><br>Words: association, multilingual, dictionary, wikipedia, mined\", \"<b>Topic 21</b><br>Words: prank, hashing, codes, simrank, similarity\", \"<b>Topic 21</b><br>Words: hashing, chmis, similarity, lsh, hash\", \"<b>Topic 21</b><br>Words: hashing, klsh, similarity, localitysensitive, neighborhood\", \"<b>Topic 21</b><br>Words: hashing, lsh, bits, similarity, shttm\", \"<b>Topic 21</b><br>Words: hashing, hash, crossmodal, codes, semantic\", \"<b>Topic 21</b><br>Words: hashing, crossmodal, bits, rcmh, hash\", \"<b>Topic 21</b><br>Words: crossmodal, hashing, codes, hyperplanes, multimodal\", \"<b>Topic 21</b><br>Words: hashing, lsh, hash, generative, losha\", \"<b>Topic 21</b><br>Words: hashing, kterm, hash, kterms, similarity\", \"<b>Topic 21</b><br>Words: hashing, hash, codes, multimodal, semantic\"], \"marker\": {\"color\": \"#56B4E9\"}, \"mode\": \"lines\", \"name\": \"21_hashing_codes_hash_similarity\", \"type\": \"scatter\", \"x\": [1989, 1992, 2004, 2007, 2009, 2010, 2011, 2012, 2013, 2014, 2015, 2016, 2017, 2018, 2019], \"y\": [1, 1, 1, 1, 1, 2, 2, 3, 2, 6, 3, 4, 4, 3, 5]}, {\"hoverinfo\": \"text\", \"hovertext\": [\"<b>Topic 57</b><br>Words: catalyst, carbon, catalytic, titanium, oil\", \"<b>Topic 57</b><br>Words: sieve, oxygen, gas, carbon, zeolite\", \"<b>Topic 57</b><br>Words: carbon, monoxide, oxygen, furnace, gas\", \"<b>Topic 57</b><br>Words: aromatic, aliphatic, hydrocarbon, polyimides, carbon\", \"<b>Topic 57</b><br>Words: carbon, isomeric, r3, methane, hydrogen\", \"<b>Topic 57</b><br>Words: acid, reaction, diazo, pigment, carbon\"], \"marker\": {\"color\": \"#009E73\"}, \"mode\": \"lines\", \"name\": \"57_carbon_catalyst_metal_gas\", \"type\": \"scatter\", \"x\": [1989, 1991, 1997, 2007, 2008, 2009], \"y\": [3, 1, 1, 2, 6, 1]}, {\"hoverinfo\": \"text\", \"hovertext\": [\"<b>Topic 23</b><br>Words: stories, seeker, coded, news, dow\", \"<b>Topic 23</b><br>Words: detection, stories, news, tracking, clustering\", \"<b>Topic 23</b><br>Words: tdt, event, news, broadcast, smallcluster\", \"<b>Topic 23</b><br>Words: predictive, news, sparsefeature, reuters810000, oneyear\", \"<b>Topic 23</b><br>Words: tdt2002, news, tdt3, tdt4, sourcespecific\", \"<b>Topic 23</b><br>Words: stories, hypothesis, story, language, languagespecific\", \"<b>Topic 23</b><br>Words: news, events, chronicle, hiscovery, explorations\", \"<b>Topic 23</b><br>Words: news, articles, credibility, 691, speculative\", \"<b>Topic 23</b><br>Words: news, stories, aggregators, story, articles\", \"<b>Topic 23</b><br>Words: news, blognews, happenings, commentary, channels\", \"<b>Topic 23</b><br>Words: tracking, event, limitations, events, weblogs\", \"<b>Topic 23</b><br>Words: news, stories, event, events, web\", \"<b>Topic 23</b><br>Words: news, articles, chinese, languages, english\", \"<b>Topic 23</b><br>Words: news, objectives, events, click, trendy\", \"<b>Topic 23</b><br>Words: news, newsrelated, newswire, rankings, sources\", \"<b>Topic 23</b><br>Words: events, news, extraction, metadata, locations\", \"<b>Topic 23</b><br>Words: news, event, events, dates, entities\", \"<b>Topic 23</b><br>Words: news, events, journalism, organizational, newsir\"], \"marker\": {\"color\": \"#F0E442\"}, \"mode\": \"lines\", \"name\": \"23_news_events_stories_tracking\", \"type\": \"scatter\", \"x\": [1992, 1998, 2000, 2002, 2003, 2004, 2005, 2006, 2007, 2008, 2009, 2010, 2011, 2012, 2013, 2015, 2016, 2019], \"y\": [1, 2, 3, 1, 1, 1, 1, 1, 3, 1, 1, 3, 2, 3, 2, 6, 3, 3]}, {\"hoverinfo\": \"text\", \"hovertext\": [\"<b>Topic 46</b><br>Words: feedback, relevance, techniques, manageable, wellknown\", \"<b>Topic 46</b><br>Words: feedback, relevance, inference, highlyranked, turtle\", \"<b>Topic 46</b><br>Words: feedback, incrementallyusing, paas, timto, drifting\", \"<b>Topic 46</b><br>Words: feedback, overfocuses, relevance, clustering, querybiased\", \"<b>Topic 46</b><br>Words: feedback, role, oriented, logical, modeled\", \"<b>Topic 46</b><br>Words: rfa, feedback, relevance, capitalizing, undertaken\", \"<b>Topic 46</b><br>Words: feedback, effect, terms, relevance, alleviate\", \"<b>Topic 46</b><br>Words: feedback, relevance, interface, baseline, recalloriented\", \"<b>Topic 46</b><br>Words: feedback, relevance, srm, semistructured, cognitive\", \"<b>Topic 46</b><br>Words: resampling, pseudorelevance, pseudorelevant, variance, overfitting\", \"<b>Topic 46</b><br>Words: feedback, merits, utilizes, exploiting, challenge\", \"<b>Topic 46</b><br>Words: feedback, transition, manipulation, relevance, context\", \"<b>Topic 46</b><br>Words: feedback, distributions, relevance, transformation, normalization\", \"<b>Topic 46</b><br>Words: feedback, relevance, documentlevel, integrates, varying\", \"<b>Topic 46</b><br>Words: feedback, relevance, drawback, modifications, variants\"], \"marker\": {\"color\": \"#D55E00\"}, \"mode\": \"lines\", \"name\": \"46_relevance_pseudorelevance_resampling_...\", \"type\": \"scatter\", \"x\": [1992, 1993, 1996, 2000, 2001, 2004, 2005, 2006, 2007, 2008, 2011, 2012, 2014, 2016, 2019], \"y\": [1, 1, 1, 1, 1, 2, 1, 1, 2, 2, 1, 2, 1, 1, 1]}, {\"hoverinfo\": \"text\", \"hovertext\": [\"<b>Topic 49</b><br>Words: reviewers, papers, assignment, submitted, reviews\", \"<b>Topic 49</b><br>Words: opinion, reviews, rules, observer, opinions\", \"<b>Topic 49</b><br>Words: mining, customer, product, soping, mines\", \"<b>Topic 49</b><br>Words: reviews, aspect, ratings, ilda, reviewers\", \"<b>Topic 49</b><br>Words: reviews, opinion, reputation, ratings, reviewers\", \"<b>Topic 49</b><br>Words: sjasm, helpfulness, product, sentiments, quality\", \"<b>Topic 49</b><br>Words: reviews, reviewers, consumers, deceptive, unpopular\", \"<b>Topic 49</b><br>Words: reviews, polarity, review, opinion, ratings\", \"<b>Topic 49</b><br>Words: opinion, reviewminer, reviewers, personalizes, informed\", \"<b>Topic 49</b><br>Words: reviews, polarities, variation, aspects, ratings\", \"<b>Topic 49</b><br>Words: reviews, rating, viewpoint, aspect, sentiments\"], \"marker\": {\"color\": \"#0072B2\"}, \"mode\": \"lines\", \"name\": \"49_reviews_product_opinion_reviewers\", \"type\": \"scatter\", \"x\": [1992, 2007, 2008, 2011, 2012, 2014, 2015, 2016, 2017, 2018, 2019], \"y\": [1, 1, 1, 1, 4, 1, 2, 3, 1, 1, 1]}, {\"hoverinfo\": \"text\", \"hovertext\": [\"<b>Topic 61</b><br>Words: fusion, colection, rmrnber, collection, merged\", \"<b>Topic 61</b><br>Words: subcollections, fusion, subset, evaluated, ranking\", \"<b>Topic 61</b><br>Words: fusion, merged, fragments, reranking, metasearchdata\", \"<b>Topic 61</b><br>Words: fusion, genetic, similarity, metasearch, rcombmnz\", \"<b>Topic 61</b><br>Words: fusion, probfuse, resultsthis, combmnz, fused\", \"<b>Topic 61</b><br>Words: fusion, condorcet, fuse, ranks, combine\", \"<b>Topic 61</b><br>Words: fusion, attempt, training, gauge, calculations\", \"<b>Topic 61</b><br>Words: fusion, lists, ranks, clusters, scores\", \"<b>Topic 61</b><br>Words: fusion, diversity, diversification, intermediate, relevance\", \"<b>Topic 61</b><br>Words: fusion, merge, intermediatelevel, methodological, representations\"], \"marker\": {\"color\": \"#CC79A7\"}, \"mode\": \"lines\", \"name\": \"61_fusion_diversity_gp_diversification\", \"type\": \"scatter\", \"x\": [1995, 1999, 2002, 2005, 2006, 2009, 2010, 2011, 2014, 2018], \"y\": [1, 1, 1, 2, 1, 1, 1, 1, 3, 1]}, {\"hoverinfo\": \"text\", \"hovertext\": [\"<b>Topic 63</b><br>Words: usefulinformation, estimatesof, ofuser, systemwhich, supplying\", \"<b>Topic 63</b><br>Words: ocr, alphabet, plagiarism, eflecthwness, thailanguage\", \"<b>Topic 63</b><br>Words: tm, semantic, contentbased, plagiarism, categories\", \"<b>Topic 63</b><br>Words: email, messages, emailrelated, graphwalk, threading\", \"<b>Topic 63</b><br>Words: edr, plagiarism, toptier, hones, mostspecificfirst\", \"<b>Topic 63</b><br>Words: examples, samelanguage, classification, bilingual, handannotating\", \"<b>Topic 63</b><br>Words: plagiarism, detection, crosslanguage, plagiarised, languages\", \"<b>Topic 63</b><br>Words: plagiarism, entity, detection, undetected, disguised\", \"<b>Topic 63</b><br>Words: plagiarism, reuse, hyplag, retracted, paraphrases\", \"<b>Topic 63</b><br>Words: completion, tasks, notifications, plagiarism, task\"], \"marker\": {\"color\": \"#E69F00\"}, \"mode\": \"lines\", \"name\": \"63_plagiarism_detection_reuse_crosslangu...\", \"type\": \"scatter\", \"x\": [1996, 1997, 2000, 2006, 2007, 2008, 2010, 2013, 2018, 2019], \"y\": [1, 1, 1, 1, 2, 1, 1, 2, 1, 1]}, {\"hoverinfo\": \"text\", \"hovertext\": [\"<b>Topic 43</b><br>Words: rmap, slower, refinement, fast, lag\", \"<b>Topic 43</b><br>Words: abductive, explanations, suitability, reasoning, explanation\", \"<b>Topic 43</b><br>Words: biomedical, concepts, conceptbased, synonyms, genomics\", \"<b>Topic 43</b><br>Words: tokenization, biomedical, mediocre, biomedicine, quantifies\", \"<b>Topic 43</b><br>Words: biomedical, terminology, concepts, spongiform, trecgenomics\", \"<b>Topic 43</b><br>Words: medical, clinical, biomedical, patients, smoker\", \"<b>Topic 43</b><br>Words: clinical, medical, jeopardy, disease, genetic\", \"<b>Topic 43</b><br>Words: patients, emrs, symptom, diagnostic, diagnosis\", \"<b>Topic 43</b><br>Words: loop, enhancement, recall, reqrec, requeryreclassify\", \"<b>Topic 43</b><br>Words: negations, negative, remedy, detrimental, resolving\", \"<b>Topic 43</b><br>Words: medical, biomedical, patients, virus, ebola\", \"<b>Topic 43</b><br>Words: symptoms, experiencing, symptom, diagnostic, elicitation\", \"<b>Topic 43</b><br>Words: semanticrich, recognition, classification, extraction, processing\"], \"marker\": {\"color\": \"#56B4E9\"}, \"mode\": \"lines\", \"name\": \"43_patients_records_symptom_diagnostic\", \"type\": \"scatter\", \"x\": [1997, 2001, 2006, 2007, 2008, 2010, 2012, 2013, 2014, 2016, 2017, 2018, 2019], \"y\": [1, 1, 1, 1, 1, 2, 3, 4, 1, 1, 2, 1, 1]}, {\"hoverinfo\": \"text\", \"hovertext\": [\"<b>Topic 47</b><br>Words: topdocument, feedback, prf, pastquery, lends\", \"<b>Topic 47</b><br>Words: prf, requests, fprf, test, training\", \"<b>Topic 47</b><br>Words: prf, criterion, pseudorelevance, reliability, discriminated\", \"<b>Topic 47</b><br>Words: prf, dissatisfaction, average, precision, monolingual\", \"<b>Topic 47</b><br>Words: feedback, prf, average, tackling, improvement\", \"<b>Topic 47</b><br>Words: prf, resampling, similarity, titlessnippets, metafeedback\", \"<b>Topic 47</b><br>Words: crfqr, refinement, prf, crf, discriminative\", \"<b>Topic 47</b><br>Words: prf, distribution, seed, pseudorelevance, expansion\", \"<b>Topic 47</b><br>Words: qprp, pseudorelevance, pseudorelevant, language, instability\", \"<b>Topic 47</b><br>Words: prp, iprp, principle, prf, prps\", \"<b>Topic 47</b><br>Words: tworound, feedback, accumulators, incremental, processing\", \"<b>Topic 47</b><br>Words: prf, constraints, feedback, modify, constraint\", \"<b>Topic 47</b><br>Words: constraints, loglogistic, proximitybased, feedback, axioms\", \"<b>Topic 47</b><br>Words: prf, constraints, axiomatic, pseudorelevance, interdependence\"], \"marker\": {\"color\": \"#009E73\"}, \"mode\": \"lines\", \"name\": \"47_prf_requests_crfqr_refinement\", \"type\": \"scatter\", \"x\": [1997, 2001, 2002, 2004, 2006, 2007, 2008, 2009, 2010, 2011, 2013, 2016, 2017, 2018], \"y\": [1, 1, 1, 1, 1, 2, 1, 2, 3, 1, 1, 1, 1, 1]}, {\"hoverinfo\": \"text\", \"hovertext\": [\"<b>Topic 25</b><br>Words: epic, spatialquerying, video, usercentred, epics\", \"<b>Topic 25</b><br>Words: video, videoaudio, assimilate, assimilation, multimedia\", \"<b>Topic 25</b><br>Words: video, shots, aspects, contextual, mpeg7\", \"<b>Topic 25</b><br>Words: video, deviation, visual, frame, average\", \"<b>Topic 25</b><br>Words: video, visual, videos, documentaries, trecvid2003\", \"<b>Topic 25</b><br>Words: keyframes, video, visual, browsing, mountain\", \"<b>Topic 25</b><br>Words: video, videos, descriptiveness, videoreach, viewings\", \"<b>Topic 25</b><br>Words: video, videos, adimage, interface, facets\", \"<b>Topic 25</b><br>Words: video, videos, advertising, invideo, duplicated\", \"<b>Topic 25</b><br>Words: video, videos, content, semanticthemebased, contentenriched\", \"<b>Topic 25</b><br>Words: video, predictions, videos, questions, sportsbasketball\", \"<b>Topic 25</b><br>Words: vir, video, visual, svk, videos\", \"<b>Topic 25</b><br>Words: video, multimedia, clips, mood, videos\", \"<b>Topic 25</b><br>Words: motion, video, videos, sketch, sketching\", \"<b>Topic 25</b><br>Words: video, hyperlinking, contents, features, segments\", \"<b>Topic 25</b><br>Words: video, frames, frame, framelevel, visual\", \"<b>Topic 25</b><br>Words: video, moment, moments, cnn, visual\", \"<b>Topic 25</b><br>Words: video, vqa, videos, regularization, selfattention\"], \"marker\": {\"color\": \"#F0E442\"}, \"mode\": \"lines\", \"name\": \"25_video_videos_visual_vqa\", \"type\": \"scatter\", \"x\": [1998, 1999, 2002, 2003, 2004, 2006, 2007, 2008, 2009, 2010, 2011, 2012, 2013, 2014, 2016, 2017, 2018, 2019], \"y\": [1, 2, 1, 2, 2, 2, 2, 2, 2, 2, 2, 2, 3, 1, 1, 2, 2, 5]}, {\"hoverinfo\": \"text\", \"hovertext\": [\"<b>Topic 40</b><br>Words: phonemes, phoneme, wordbased, transcription, phonemebased\", \"<b>Topic 40</b><br>Words: truncated, recognizer, untruncated, transcriptions, added\", \"<b>Topic 40</b><br>Words: oov, speech, spoken, transcriptions, outofvocabulary\", \"<b>Topic 40</b><br>Words: speech, prosodic, spoken, transcripts, markow\", \"<b>Topic 40</b><br>Words: discussions, telephone, transcribed, spoken, dialogues\", \"<b>Topic 40</b><br>Words: speech, assessment, manually, recognition, oral\", \"<b>Topic 40</b><br>Words: informativeness, bulletin, speech, idfmixture, topiccentric\", \"<b>Topic 40</b><br>Words: speech, wcns, broadcasts, transcript, transcripts\", \"<b>Topic 40</b><br>Words: speech, transcripts, phonetic, transcription, spoken\", \"<b>Topic 40</b><br>Words: speech, spoken, transcripts, podcasts, asr\", \"<b>Topic 40</b><br>Words: speech, pronunciations, spoken, transcriptions, recognition\", \"<b>Topic 40</b><br>Words: speech, spoken, content, transcripts, lectures\", \"<b>Topic 40</b><br>Words: spoken, speech, dirichletlm, zeroresource, lowresource\", \"<b>Topic 40</b><br>Words: contextualisation, spoken, speech, spokenquerydoc, recognition\", \"<b>Topic 40</b><br>Words: speech, recognition, asr, tv, voice\"], \"marker\": {\"color\": \"#D55E00\"}, \"mode\": \"lines\", \"name\": \"40_spoken_transcripts_phonemes_transcrip...\", \"type\": \"scatter\", \"x\": [1998, 1999, 2000, 2001, 2002, 2004, 2005, 2006, 2007, 2008, 2009, 2014, 2015, 2016, 2019], \"y\": [1, 1, 1, 1, 1, 1, 1, 2, 2, 2, 3, 1, 2, 1, 1]}, {\"hoverinfo\": \"text\", \"hovertext\": [\"<b>Topic 51</b><br>Words: syntactic, japanese, fulltext, accuracy, semantic\", \"<b>Topic 51</b><br>Words: dependence, dependency, hierarchy, differing, consequence\", \"<b>Topic 51</b><br>Words: linkage, dependencies, dependence, dependency, approach\", \"<b>Topic 51</b><br>Words: dependence, dependencies, dependency, phrases, collections\", \"<b>Topic 51</b><br>Words: dependency, dependence, dfr, dependencies, modelthis\", \"<b>Topic 51</b><br>Words: dependency, utilizing, dependencies, mrf, featurebased\", \"<b>Topic 51</b><br>Words: dependence, dependencies, latency, sequential, segmentation\", \"<b>Topic 51</b><br>Words: hyperedge, hypergraph, hypergraphs, vertices, dependency\", \"<b>Topic 51</b><br>Words: dependence, dependency, dependent, dependencies, noncompositional\", \"<b>Topic 51</b><br>Words: transn, consid, dependencies, analyses, integrate\", \"<b>Topic 51</b><br>Words: dependency, hierarchy, prerequisite, dependencies, dependence\"], \"marker\": {\"color\": \"#0072B2\"}, \"mode\": \"lines\", \"name\": \"51_dependency_dependence_dependencies_la...\", \"type\": \"scatter\", \"x\": [1998, 2003, 2004, 2005, 2007, 2008, 2009, 2012, 2015, 2018, 2019], \"y\": [1, 2, 1, 2, 3, 1, 1, 1, 2, 1, 2]}, {\"hoverinfo\": \"text\", \"hovertext\": [\"<b>Topic 71</b><br>Words: emx, speculative, multiprocessor, latency, emx4\", \"<b>Topic 71</b><br>Words: databases, templategenerated, queryrelated, indexed, retrieves\", \"<b>Topic 71</b><br>Words: pruned, degradation, compute, loads, topmatching\", \"<b>Topic 71</b><br>Words: compressing, position, positions, indexes, compression\", \"<b>Topic 71</b><br>Words: dryadlinq, toolkit, parallel, processing, computation\", \"<b>Topic 71</b><br>Words: intersection, processing, sharding, parallelism, multicore\", \"<b>Topic 71</b><br>Words: ibi, iai, ioi, ioiiai, iexacti\", \"<b>Topic 71</b><br>Words: bitvectors, semibitvectors, bitvector, intersection, compression\", \"<b>Topic 71</b><br>Words: block, blockmaxwand, blocks, constantsized, uncompressed\"], \"marker\": {\"color\": \"#CC79A7\"}, \"mode\": \"lines\", \"name\": \"71_index_bitvectors_ibi_semibitvectors\", \"type\": \"scatter\", \"x\": [1998, 2004, 2007, 2009, 2010, 2011, 2013, 2014, 2017], \"y\": [1, 1, 1, 1, 1, 3, 1, 1, 1]}, {\"hoverinfo\": \"text\", \"hovertext\": [\"<b>Topic 16</b><br>Words: music, key, melodies, musical, pitch\", \"<b>Topic 16</b><br>Words: music, mir, melodies, musical, ngrams\", \"<b>Topic 16</b><br>Words: music, monophonic, polyphonic, finishes, pitches\", \"<b>Topic 16</b><br>Words: music, melody, musical, accompaniment, melodies\", \"<b>Topic 16</b><br>Words: music, genre, polyphonic, musical, mir\", \"<b>Topic 16</b><br>Words: cmrs, audio, music, multimedia, genres\", \"<b>Topic 16</b><br>Words: musicsurfer, music, descriptions, metadata, rhythm\", \"<b>Topic 16</b><br>Words: music, singer, vocal, harmony, timing\", \"<b>Topic 16</b><br>Words: music, songs, audio, annotate, audition\", \"<b>Topic 16</b><br>Words: music, acoustic, polyphonic, monophonic, melody\", \"<b>Topic 16</b><br>Words: music, audio, songs, mdct, mir\", \"<b>Topic 16</b><br>Words: music, genre, ensemble, songs, screenshot\", \"<b>Topic 16</b><br>Words: music, ambience, subclassifiers, song, mir\", \"<b>Topic 16</b><br>Words: music, audio, listening, mir, microblog\", \"<b>Topic 16</b><br>Words: music, geospatial, listening, popularity, listeners\", \"<b>Topic 16</b><br>Words: music, venuemusic, listening, playlist, audio\", \"<b>Topic 16</b><br>Words: music, dlmptm, anomaly, audio, songs\", \"<b>Topic 16</b><br>Words: music, spotify, userspecific, chroma, transcription\", \"<b>Topic 16</b><br>Words: listening, streaming, identification, audio, songs\"], \"marker\": {\"color\": \"#E69F00\"}, \"mode\": \"lines\", \"name\": \"16_music_audio_musical_songs\", \"type\": \"scatter\", \"x\": [1999, 2000, 2001, 2002, 2003, 2004, 2005, 2006, 2007, 2009, 2010, 2011, 2012, 2013, 2014, 2015, 2016, 2017, 2018], \"y\": [3, 1, 1, 3, 3, 1, 1, 2, 2, 3, 3, 3, 3, 2, 2, 4, 4, 3, 3]}, {\"hoverinfo\": \"text\", \"hovertext\": [\"<b>Topic 28</b><br>Words: appliances, contextaware, networked, access, availability\", \"<b>Topic 28</b><br>Words: hyperdocument, orientation, comprehension, composition, studying\", \"<b>Topic 28</b><br>Words: community, fisc, develop, communities, workgroups\", \"<b>Topic 28</b><br>Words: genre, context, metatagged, domain, aspects\", \"<b>Topic 28</b><br>Words: temporal, topic, coreference, ontopic, temporally\", \"<b>Topic 28</b><br>Words: temporal, context, confluence, time, timeml\", \"<b>Topic 28</b><br>Words: relatedness, documentconcept, ontology, entropy, association\", \"<b>Topic 28</b><br>Words: adclick, context, transition, advertising, automatic\", \"<b>Topic 28</b><br>Words: context, contextaware, challenges, temporal, activities\", \"<b>Topic 28</b><br>Words: temporal, web, sigir2010, wsdm2011, context\", \"<b>Topic 28</b><br>Words: temporal, contextualization, eventdriven, popularity, timeaware\", \"<b>Topic 28</b><br>Words: temporal, timecritical, timestamp, urgent, time\", \"<b>Topic 28</b><br>Words: selectioncentric, references, reference, selection, insights\", \"<b>Topic 28</b><br>Words: temporal, timeseries, intents, temporalia2, timerelated\"], \"marker\": {\"color\": \"#56B4E9\"}, \"mode\": \"lines\", \"name\": \"28_temporal_context_time_timeaware\", \"type\": \"scatter\", \"x\": [2000, 2002, 2004, 2005, 2006, 2007, 2008, 2009, 2010, 2011, 2013, 2014, 2015, 2016], \"y\": [1, 1, 1, 1, 1, 6, 1, 1, 2, 4, 3, 5, 2, 1]}, {\"hoverinfo\": \"text\", \"hovertext\": [\"<b>Topic 50</b><br>Words: spam, filters, filter, messages, bayesian\", \"<b>Topic 50</b><br>Words: spam, replication, emanating, machinegenerated, instances\", \"<b>Topic 50</b><br>Words: filters, spam, stacking, filter, averaging\", \"<b>Topic 50</b><br>Words: spam, filtering, filters, svms, threat\", \"<b>Topic 50</b><br>Words: spam, ecmlpkdd, selftraining, semisupervised, classified\", \"<b>Topic 50</b><br>Words: spam, filters, filter, rates, samples\", \"<b>Topic 50</b><br>Words: spam, spammers, honeypots, filter, filters\", \"<b>Topic 50</b><br>Words: spam, pagessites, antispam, spamming, web\", \"<b>Topic 50</b><br>Words: spam, sham, shamming, ham, legitimate\", \"<b>Topic 50</b><br>Words: spam, 06460, 06190, spamicity, 098\"], \"marker\": {\"color\": \"#009E73\"}, \"mode\": \"lines\", \"name\": \"50_spam_filters_filter_spammers\", \"type\": \"scatter\", \"x\": [2000, 2005, 2006, 2007, 2008, 2009, 2010, 2012, 2013, 2015], \"y\": [1, 1, 1, 3, 1, 2, 3, 3, 1, 1]}, {\"hoverinfo\": \"text\", \"hovertext\": [\"<b>Topic 54</b><br>Words: caching, caches, replicas, cache, similarity\", \"<b>Topic 54</b><br>Words: cache, caching, cached, ective, scheme\", \"<b>Topic 54</b><br>Words: caching, cache, vscaching, dataaccess, memorydisk\", \"<b>Topic 54</b><br>Words: caching, cache, load, pruning, efficient\", \"<b>Topic 54</b><br>Words: cache, caching, cached, updates, update\", \"<b>Topic 54</b><br>Words: cached, cache, update, caching, timetolive\", \"<b>Topic 54</b><br>Words: cache, caching, stale, replicas, cached\", \"<b>Topic 54</b><br>Words: caching, cache, ssd, hdd, wellknown\", \"<b>Topic 54</b><br>Words: cache, caching, prefetchaware, demote, prefetching\", \"<b>Topic 54</b><br>Words: caching, snippet, cache, ssds, drives\", \"<b>Topic 54</b><br>Words: caching, cache, caches, cached, resizing\"], \"marker\": {\"color\": \"#F0E442\"}, \"mode\": \"lines\", \"name\": \"54_caching_cache_cached_caches\", \"type\": \"scatter\", \"x\": [2000, 2001, 2007, 2008, 2010, 2011, 2012, 2013, 2014, 2015, 2016], \"y\": [1, 1, 1, 1, 1, 1, 3, 3, 1, 2, 1]}, {\"hoverinfo\": \"text\", \"hovertext\": [\"<b>Topic 64</b><br>Words: anchor, pages, hypertext, hyperlinks, linked\", \"<b>Topic 64</b><br>Words: anchor, link, links, usefully, topology\", \"<b>Topic 64</b><br>Words: url, noncontent, anchor, page, pages\", \"<b>Topic 64</b><br>Words: anchor, intranet, titles, anchortext, premise\", \"<b>Topic 64</b><br>Words: anchor, scores, normalisation, tf, navigational\", \"<b>Topic 64</b><br>Words: anchor, text, texts, hyperlinks, links\", \"<b>Topic 64</b><br>Words: anchor, link, web, anchors, ad\", \"<b>Topic 64</b><br>Words: anchor, anchors, tweets, html, conversations\"], \"marker\": {\"color\": \"#D55E00\"}, \"mode\": \"lines\", \"name\": \"64_anchor_link_links_anchors\", \"type\": \"scatter\", \"x\": [2000, 2001, 2002, 2003, 2004, 2009, 2010, 2012], \"y\": [2, 1, 1, 1, 1, 2, 3, 1]}, {\"hoverinfo\": \"text\", \"hovertext\": [\"<b>Topic 19</b><br>Words: link, pagerank, hyperlink, links, weights\", \"<b>Topic 19</b><br>Words: pagerank, selection3, pagerank1, surfers, equilibrium\", \"<b>Topic 19</b><br>Words: pagerank, linkbased, web, webpages, webpage\", \"<b>Topic 19</b><br>Words: page, pagerank, pages, segmentation, blocklevel\", \"<b>Topic 19</b><br>Words: pagerank, algorithm, hierarchical, outlinks, aggregated\", \"<b>Topic 19</b><br>Words: pagerank, websites, web, hostgraph, website\", \"<b>Topic 19</b><br>Words: diffusionrank, pagerank, flow, antimanipulation, communities\", \"<b>Topic 19</b><br>Words: pagerank, pages, page, crawler, web\", \"<b>Topic 19</b><br>Words: pagerank, privacypreserving, transdomain, secure, graphs\", \"<b>Topic 19</b><br>Words: web, snapshots, linkbased, pagerank, link\", \"<b>Topic 19</b><br>Words: porn, overblocking, cyberporn, blacklists, pornographic\", \"<b>Topic 19</b><br>Words: browserank, nerd, browsing, page, limitations\", \"<b>Topic 19</b><br>Words: policy, graph, aggregators, pages, browsegraph\", \"<b>Topic 19</b><br>Words: useragents, sites, web, tor, crawler\", \"<b>Topic 19</b><br>Words: uncertainties, pagerank, uncertain, seq2seq, urls\", \"<b>Topic 19</b><br>Words: politeness, politebinarylambdacrawl, crawler, filtering, web\"], \"marker\": {\"color\": \"#0072B2\"}, \"mode\": \"lines\", \"name\": \"19_pagerank_crawler_links_ranking\", \"type\": \"scatter\", \"x\": [2001, 2002, 2003, 2004, 2005, 2006, 2007, 2008, 2009, 2010, 2011, 2013, 2015, 2016, 2017, 2019], \"y\": [5, 1, 1, 3, 4, 6, 4, 5, 2, 1, 1, 2, 3, 1, 2, 2]}, {\"hoverinfo\": \"text\", \"hovertext\": [\"<b>Topic 33</b><br>Words: questions, trivia, question, cqa, quizzes\", \"<b>Topic 33</b><br>Words: subsystem, qa, passageretrieval, questions, postretrieval\", \"<b>Topic 33</b><br>Words: questions, qa, assess, answering, adapting\", \"<b>Topic 33</b><br>Words: portals, popularity, incentive, question, questionanswer\", \"<b>Topic 33</b><br>Words: communities, millions, seeker, community, orientation\", \"<b>Topic 33</b><br>Words: questions, urgent, cqa, answering, responses\", \"<b>Topic 33</b><br>Words: questions, answering, segmentation, communitybased, asker\", \"<b>Topic 33</b><br>Words: questions, answering, seeking, yahoo, searcher\", \"<b>Topic 33</b><br>Words: votes, questions, answering, asking, popular\", \"<b>Topic 33</b><br>Words: questions, answering, queries, yahoo, cluewebcqa\", \"<b>Topic 33</b><br>Words: cqa, assessments, assessment, replies, bias\", \"<b>Topic 33</b><br>Words: questions, answering, passages, result, australia\", \"<b>Topic 33</b><br>Words: cqa, questions, kbqa, webqa, community\", \"<b>Topic 33</b><br>Words: matrices, duplicate, questions, cnn, convolutional\", \"<b>Topic 33</b><br>Words: questions, questionpair, cqadupstack, quora, backgrounds\"], \"marker\": {\"color\": \"#CC79A7\"}, \"mode\": \"lines\", \"name\": \"33_cqa_community_communitybased_quality\", \"type\": \"scatter\", \"x\": [2001, 2003, 2006, 2007, 2008, 2009, 2010, 2011, 2012, 2013, 2014, 2015, 2016, 2018, 2019], \"y\": [1, 1, 1, 1, 3, 1, 2, 2, 2, 3, 1, 3, 3, 1, 1]}, {\"hoverinfo\": \"text\", \"hovertext\": [\"<b>Topic 53</b><br>Words: crowse, topicwise, taxonomy, clusering, userindependent\", \"<b>Topic 53</b><br>Words: triangulation, selflearning, portals, filtering, rules\", \"<b>Topic 53</b><br>Words: fragment, advertisements, extraction, job, industries\", \"<b>Topic 53</b><br>Words: relationshipnet, dqw, dqwrnet, rnet, category\", \"<b>Topic 53</b><br>Words: picks, subquery, randomized, exponentially, subqueries\", \"<b>Topic 53</b><br>Words: longtail, queries, nodes, boundaries, headqueries\", \"<b>Topic 53</b><br>Words: coordinations, facet, variants, facets, brf\", \"<b>Topic 53</b><br>Words: sorting, attribute, value, queries, pricebased\", \"<b>Topic 53</b><br>Words: knowledgebase, brand, shopping, product, grammars\", \"<b>Topic 53</b><br>Words: entityset, setrank, unsupervised, interentity, queries\", \"<b>Topic 53</b><br>Words: insurance, fraudulent, fraudsters, pornographic, buyers\"], \"marker\": {\"color\": \"#E69F00\"}, \"mode\": \"lines\", \"name\": \"53_queries_entity_entityset_sorting\", \"type\": \"scatter\", \"x\": [2001, 2004, 2009, 2010, 2011, 2012, 2013, 2015, 2016, 2018, 2019], \"y\": [1, 1, 1, 1, 1, 2, 2, 2, 1, 1, 3]}, {\"hoverinfo\": \"text\", \"hovertext\": [\"<b>Topic 67</b><br>Words: email, outlook, manages, issues, tm\", \"<b>Topic 67</b><br>Words: messages, email, send, accessing, mail\", \"<b>Topic 67</b><br>Words: email, threading, unusual, mailing, duplicated\", \"<b>Topic 67</b><br>Words: email, refinding, emailclients, behavior, analyses\", \"<b>Topic 67</b><br>Words: email, communication, emailing, sender, enterprises\", \"<b>Topic 67</b><br>Words: email, communication, emails, productive, innovation\", \"<b>Topic 67</b><br>Words: email, behavior, communication, interaction, behavioral\", \"<b>Topic 67</b><br>Words: email, calendaremail, exchange, capers, calendar\", \"<b>Topic 67</b><br>Words: email, intent, responding, workplace, enterprise\"], \"marker\": {\"color\": \"#56B4E9\"}, \"mode\": \"lines\", \"name\": \"67_email_communication_exchange_calendar...\", \"type\": \"scatter\", \"x\": [2001, 2003, 2005, 2011, 2014, 2016, 2017, 2018, 2019], \"y\": [1, 1, 1, 2, 1, 1, 2, 2, 1]}, {\"hoverinfo\": \"text\", \"hovertext\": [\"<b>Topic 26</b><br>Words: uncertainties, representations, cognitive, polyrepresentation, intellectually\", \"<b>Topic 26</b><br>Words: judgments, relevance, assessors, thisrelationship, evaluate\", \"<b>Topic 26</b><br>Words: judges, judgements, bronze, judgments, parsimonious\", \"<b>Topic 26</b><br>Words: nuance, pqd, revision, attributed, explains\", \"<b>Topic 26</b><br>Words: componentlevel, relevance, surfacelevel, wholepage, complements\", \"<b>Topic 26</b><br>Words: inconsistency, assessors, judgements, assessment, judge\", \"<b>Topic 26</b><br>Words: rhetorical, assessors, judgments, relevance, judge\", \"<b>Topic 26</b><br>Words: relevance, assessors, judgments, behavioural, assessor\", \"<b>Topic 26</b><br>Words: assessors, relevance, expertise, judgments, webbased\", \"<b>Topic 26</b><br>Words: judgments, assessors, professions, perceptions, brain\", \"<b>Topic 26</b><br>Words: lowprecision, assessors, sampling, relevance, highprecision\", \"<b>Topic 26</b><br>Words: judgments, assessors, relevance, cfdocument, cftopic\", \"<b>Topic 26</b><br>Words: relevance, judgments, assessors, readability, dyslexia\", \"<b>Topic 26</b><br>Words: passagelevel, relevance, assessors, judgments, annotators\"], \"marker\": {\"color\": \"#009E73\"}, \"mode\": \"lines\", \"name\": \"26_relevance_judgments_assessors_judging\", \"type\": \"scatter\", \"x\": [2002, 2007, 2008, 2009, 2010, 2011, 2012, 2013, 2014, 2015, 2016, 2017, 2018, 2019], \"y\": [1, 3, 3, 1, 1, 1, 4, 5, 3, 4, 1, 2, 3, 3]}, {\"hoverinfo\": \"text\", \"hovertext\": [\"<b>Topic 42</b><br>Words: xml, hyrex, classix, cyclades, xml1\", \"<b>Topic 42</b><br>Words: xml, timber, element, elements, xquery\", \"<b>Topic 42</b><br>Words: xml, elements, element, length, textrich\", \"<b>Topic 42</b><br>Words: xml, elements, element, topicfocused, reranks\", \"<b>Topic 42</b><br>Words: xml, elements, element, benchmarks, aim\", \"<b>Topic 42</b><br>Words: xml, startingpoint, bep, inex, beps\", \"<b>Topic 42</b><br>Words: xml, element, inex, markedup, dempstershafer\", \"<b>Topic 42</b><br>Words: xml, visualization, component, questions, test\", \"<b>Topic 42</b><br>Words: xml, field, bm25fbased, densely, relevant\", \"<b>Topic 42</b><br>Words: xml, extension, defacto, basex, proofofconcept\"], \"marker\": {\"color\": \"#F0E442\"}, \"mode\": \"lines\", \"name\": \"42_xml_element_elements_xquery\", \"type\": \"scatter\", \"x\": [2002, 2003, 2004, 2005, 2006, 2007, 2008, 2009, 2010, 2013], \"y\": [2, 2, 4, 1, 4, 1, 3, 1, 2, 1]}, {\"hoverinfo\": \"text\", \"hovertext\": [\"<b>Topic 30</b><br>Words: p2p, semicollaborating, networks, collaborate, peers\", \"<b>Topic 30</b><br>Words: teabif, social, adoption, access, adopter\", \"<b>Topic 30</b><br>Words: social, relevancecentric, facebooks, network, networking\", \"<b>Topic 30</b><br>Words: social, update, streams, network, linkedin\", \"<b>Topic 30</b><br>Words: popularity, topic, edge, perplexity, frequent\", \"<b>Topic 30</b><br>Words: trending, volunteering, tendency, osns, networks\", \"<b>Topic 30</b><br>Words: social, networks, personalization, reader, online\", \"<b>Topic 30</b><br>Words: social, trends, healthrelated, media, transition\", \"<b>Topic 30</b><br>Words: media, networks, topic, kanonymization, events\", \"<b>Topic 30</b><br>Words: social, media, networks, privacy, brand\", \"<b>Topic 30</b><br>Words: network, networks, infobot, linkage, collaborative\"], \"marker\": {\"color\": \"#D55E00\"}, \"mode\": \"lines\", \"name\": \"30_social_topic_trends_trending\", \"type\": \"scatter\", \"x\": [2003, 2006, 2011, 2012, 2013, 2014, 2015, 2016, 2017, 2018, 2019], \"y\": [1, 1, 1, 2, 1, 4, 3, 4, 5, 5, 2]}, {\"hoverinfo\": \"text\", \"hovertext\": [\"<b>Topic 12</b><br>Words: homepage, pagerank, hyperlink, homepages, anchortext\", \"<b>Topic 12</b><br>Words: appraisal, sentiment, stance, opinionated, orientation\", \"<b>Topic 12</b><br>Words: sentiment, splsa, readers, blogs, emotions\", \"<b>Topic 12</b><br>Words: opinion, subjective, sentiment, opinionfinding, opinionfinder\", \"<b>Topic 12</b><br>Words: sentiment, comments, blog, commented, opinionfinding\", \"<b>Topic 12</b><br>Words: comments, sentiment, emotions, posts, post\", \"<b>Topic 12</b><br>Words: writing, opinion, sentiment, essay, dissertation\", \"<b>Topic 12</b><br>Words: emotions, sentiment, sentimentladen, anger, sadness\", \"<b>Topic 12</b><br>Words: sentiment, emotion, comments, phraselevel, emotions\", \"<b>Topic 12</b><br>Words: sentiment, semeval2015, initializing, messagelevel, initialize\", \"<b>Topic 12</b><br>Words: sentiment, emotion, quantification, lexicon, opinion\", \"<b>Topic 12</b><br>Words: sentiment, comments, polarity, emotion, opinion\", \"<b>Topic 12</b><br>Words: sentiment, sarcasm, affective, wordlevel, emotions\", \"<b>Topic 12</b><br>Words: emotions, lyrics, sentiment, song, commenting\"], \"marker\": {\"color\": \"#0072B2\"}, \"mode\": \"lines\", \"name\": \"12_sentiment_opinion_comments_emotions\", \"type\": \"scatter\", \"x\": [2004, 2006, 2007, 2008, 2009, 2010, 2011, 2012, 2014, 2015, 2016, 2017, 2018, 2019], \"y\": [1, 1, 2, 5, 6, 7, 4, 2, 2, 1, 4, 5, 6, 6]}, {\"hoverinfo\": \"text\", \"hovertext\": [\"<b>Topic 36</b><br>Words: entity, entities, semantic, linguistic, phoneme\", \"<b>Topic 36</b><br>Words: inex, testset, entity, trecs, graphbased\", \"<b>Topic 36</b><br>Words: entity, wslda, allocation, dirichlet, entities\", \"<b>Topic 36</b><br>Words: entity, entities, nerq, ner, recognition\", \"<b>Topic 36</b><br>Words: entity, linking, entities, sitelevel, knowledge\", \"<b>Topic 36</b><br>Words: entity, aliases, rdf, alias, activelearningbased\", \"<b>Topic 36</b><br>Words: entity, linking, overview, disambiguating, toolkits\", \"<b>Topic 36</b><br>Words: entity, annotations, entities, google, eqfe\", \"<b>Topic 36</b><br>Words: erecruitment, job, organizations, entity, hire\", \"<b>Topic 36</b><br>Words: entity, disambiguation, entities, resolver, freebase\", \"<b>Topic 36</b><br>Words: entity, entities, relink, nordlys, linking\", \"<b>Topic 36</b><br>Words: concepts, etf, entity, entities, taxonomies\", \"<b>Topic 36</b><br>Words: entities, entity, attributed, recognize, annotation\"], \"marker\": {\"color\": \"#CC79A7\"}, \"mode\": \"lines\", \"name\": \"36_entity_entities_named_recognition\", \"type\": \"scatter\", \"x\": [2004, 2008, 2009, 2010, 2011, 2012, 2013, 2014, 2015, 2016, 2017, 2018, 2019], \"y\": [4, 1, 1, 2, 2, 2, 1, 1, 1, 2, 3, 2, 2]}, {\"hoverinfo\": \"text\", \"hovertext\": [\"<b>Topic 59</b><br>Words: subwebs, topicspecific, highlyrelevant, neighborhoods, diversification\", \"<b>Topic 59</b><br>Words: reranking, diversity, diversifying, preferred, personalization\", \"<b>Topic 59</b><br>Words: diversification, diversity, querytointent, querylikelihood, diversifying\", \"<b>Topic 59</b><br>Words: diversification, wses, personalization, diversity, subscriptions\", \"<b>Topic 59</b><br>Words: diversification, personalization, iki, relevancebased, competitive\", \"<b>Topic 59</b><br>Words: diversification, sentiment, sentiments, diversify, aspects\", \"<b>Topic 59</b><br>Words: intents, hierarchical, hierarchies, diversity, diversification\", \"<b>Topic 59</b><br>Words: diversification, subtopics, maxpooling, maximal, mmr\"], \"marker\": {\"color\": \"#E69F00\"}, \"mode\": \"lines\", \"name\": \"59_diversification_diversity_sentiment_t...\", \"type\": \"scatter\", \"x\": [2004, 2006, 2010, 2011, 2012, 2013, 2016, 2017], \"y\": [1, 1, 2, 3, 3, 2, 1, 1]}, {\"hoverinfo\": \"text\", \"hovertext\": [\"<b>Topic 65</b><br>Words: webawhere, geogeo, geonongeo, london, geographic\", \"<b>Topic 65</b><br>Words: geographic, restrictions, neighborhoods, neighborhood, restaurants\", \"<b>Topic 65</b><br>Words: postal, geocoding, geographic, transliteration, addresses\", \"<b>Topic 65</b><br>Words: geographical, geographic, toponym, reranking, geoclef\", \"<b>Topic 65</b><br>Words: beijing, kyoto, restaurants, restaurant, domains\", \"<b>Topic 65</b><br>Words: spatial, indexes, movers, earth, cloud\"], \"marker\": {\"color\": \"#56B4E9\"}, \"mode\": \"lines\", \"name\": \"65_geographic_spatial_location_restauran...\", \"type\": \"scatter\", \"x\": [2004, 2007, 2008, 2009, 2012, 2014], \"y\": [1, 2, 1, 5, 1, 2]}, {\"hoverinfo\": \"text\", \"hovertext\": [\"<b>Topic 41</b><br>Words: ads, advertising, advertisers, keywords, gains\", \"<b>Topic 41</b><br>Words: ads, associating, advertisers, advertising, monetization\", \"<b>Topic 41</b><br>Words: sponsored, links, advertisement, ads, ecommerce\", \"<b>Topic 41</b><br>Words: ads, advertising, optimizing, tolerable, ad\", \"<b>Topic 41</b><br>Words: ads, advertising, bid, ad, adon\", \"<b>Topic 41</b><br>Words: ads, advertising, advertisers, ad, advertisement\", \"<b>Topic 41</b><br>Words: ads, advertising, ad, bid, advertisers\", \"<b>Topic 41</b><br>Words: advertising, growth, ads, deliver, marketing\", \"<b>Topic 41</b><br>Words: advertisers, ads, auction, ad, keywords\", \"<b>Topic 41</b><br>Words: ads, advertisers, embeddings, advertising, sponsored\", \"<b>Topic 41</b><br>Words: ads, ad, advertising, advertisers, innovations\", \"<b>Topic 41</b><br>Words: hidenseek, cover, ads, privacy, disguise\", \"<b>Topic 41</b><br>Words: ads, targeting, keywords, advertisers, campaigns\"], \"marker\": {\"color\": \"#009E73\"}, \"mode\": \"lines\", \"name\": \"41_ads_advertising_advertisers_ad\", \"type\": \"scatter\", \"x\": [2005, 2006, 2007, 2008, 2009, 2010, 2012, 2013, 2015, 2016, 2017, 2018, 2019], \"y\": [1, 1, 2, 2, 3, 4, 1, 1, 1, 1, 2, 1, 1]}, {\"hoverinfo\": \"text\", \"hovertext\": [\"<b>Topic 52</b><br>Words: extracting, extraction, complexities, abstraction, assigning\", \"<b>Topic 52</b><br>Words: geospatial, georeferenced, geographically, browser, probability\", \"<b>Topic 52</b><br>Words: smoothing, cellbased, geonamesfootnotehttpwwwgeonamesorg, annotations, map\", \"<b>Topic 52</b><br>Words: landmarks, tagged, images, regions, clustering\", \"<b>Topic 52</b><br>Words: photos, flickr, private, images, image\", \"<b>Topic 52</b><br>Words: flickr, geotagged, latitudelongitude, tags, gpsbased\", \"<b>Topic 52</b><br>Words: images, flickr, tag, annotating, uploaded\"], \"marker\": {\"color\": \"#F0E442\"}, \"mode\": \"lines\", \"name\": \"52_flickr_images_photos_tags\", \"type\": \"scatter\", \"x\": [2005, 2008, 2009, 2011, 2012, 2013, 2014], \"y\": [1, 1, 1, 4, 3, 2, 5]}, {\"hoverinfo\": \"text\", \"hovertext\": [\"<b>Topic 60</b><br>Words: prototypes, tools, historians, archival, scholars\", \"<b>Topic 60</b><br>Words: archivists, historians, archival, archives, preserved\", \"<b>Topic 60</b><br>Words: revolution, evolved, monitor, encountered, root\", \"<b>Topic 60</b><br>Words: geolinguistic, atlas, archaeologists, ethnographers, historians\", \"<b>Topic 60</b><br>Words: archives, archiving, persistence, existed, heritage\", \"<b>Topic 60</b><br>Words: temporal, evolutionaware, historians, economists, archival\", \"<b>Topic 60</b><br>Words: scholars, archives, past, webpages, longitudinal\", \"<b>Topic 60</b><br>Words: opensource, wwwyoutubecomwatchvuf24m6p3vts, multiuser, crowdworkers, singleuser\", \"<b>Topic 60</b><br>Words: sensitive, archival, protecting, protected, delays\"], \"marker\": {\"color\": \"#D55E00\"}, \"mode\": \"lines\", \"name\": \"60_archives_historians_archival_archivin...\", \"type\": \"scatter\", \"x\": [2005, 2009, 2012, 2013, 2014, 2015, 2016, 2018, 2019], \"y\": [2, 1, 1, 1, 3, 1, 3, 1, 1]}, {\"hoverinfo\": \"text\", \"hovertext\": [\"<b>Topic 68</b><br>Words: federated, engines, resource, federating, maximization\", \"<b>Topic 68</b><br>Words: dir, combinations, collections, distributed, querydriven\", \"<b>Topic 68</b><br>Words: publishers, synopses, perkeyword, subscriber, sources\", \"<b>Topic 68</b><br>Words: federated, aggregated, forwarding, thresholding, distributed\", \"<b>Topic 68</b><br>Words: errors, estimates, scores, calculated, estimation\", \"<b>Topic 68</b><br>Words: site, replication, replicating, sites, federated\", \"<b>Topic 68</b><br>Words: dumpling, memex, qcm, enforcement, algorithms\"], \"marker\": {\"color\": \"#0072B2\"}, \"mode\": \"lines\", \"name\": \"68_federated_dir_resource_aggregated\", \"type\": \"scatter\", \"x\": [2005, 2007, 2008, 2010, 2011, 2012, 2015], \"y\": [1, 5, 1, 2, 1, 1, 1]}, {\"hoverinfo\": \"text\", \"hovertext\": [\"<b>Topic 55</b><br>Words: autocompletion, completions, qac, fullfledged, tenth\", \"<b>Topic 55</b><br>Words: qac, popularity, timeseries, forecasted, forecasts\", \"<b>Topic 55</b><br>Words: qac, rankers, personalizing, query, popularity\", \"<b>Topic 55</b><br>Words: qac, autocompletion, completions, skipping, query\", \"<b>Topic 55</b><br>Words: qac, autocompletion, keystroke, completions, keystrokes\", \"<b>Topic 55</b><br>Words: qac, autocompletion, personalizing, personalized, categories\", \"<b>Topic 55</b><br>Words: qac, previously, autocompletion, queries, neural\", \"<b>Topic 55</b><br>Words: qac, completions, tokens, autocompletion, match\", \"<b>Topic 55</b><br>Words: ghosting, autocompletion, qac, ghost, sessioncontext\"], \"marker\": {\"color\": \"#CC79A7\"}, \"mode\": \"lines\", \"name\": \"55_qac_autocompletion_keystroke_query\", \"type\": \"scatter\", \"x\": [2006, 2012, 2013, 2014, 2015, 2016, 2017, 2018, 2019], \"y\": [1, 1, 2, 3, 3, 2, 1, 1, 1]}, {\"hoverinfo\": \"text\", \"hovertext\": [\"<b>Topic 39</b><br>Words: freeparameters, criteria, languagemodelbased, queryexpansion, qpp\", \"<b>Topic 39</b><br>Words: sqe, qpp, correlation, prediction, predictably\", \"<b>Topic 39</b><br>Words: predictors, prediction, queryperformance, qpp, personalization\", \"<b>Topic 39</b><br>Words: predictors, prediction, predictor, qpp, predicting\", \"<b>Topic 39</b><br>Words: prediction, predictors, performance, qpp, frameworks\", \"<b>Topic 39</b><br>Words: qpp, predictors, prediction, queryrepresentativeness, queryperformance\", \"<b>Topic 39</b><br>Words: predictors, prediction, qpp, queryperformance, predictor\", \"<b>Topic 39</b><br>Words: qpp, pseudoeffective, pseudoineffective, generating, prediction\", \"<b>Topic 39</b><br>Words: qpp, prediction, predictors, predictor, neuralqpp\", \"<b>Topic 39</b><br>Words: qpp, prediction, predictors, transactions, transaction\"], \"marker\": {\"color\": \"#E69F00\"}, \"mode\": \"lines\", \"name\": \"39_qpp_prediction_predictors_queryperfor...\", \"type\": \"scatter\", \"x\": [2007, 2009, 2010, 2011, 2012, 2013, 2014, 2017, 2018, 2019], \"y\": [1, 1, 3, 2, 1, 1, 4, 1, 4, 4]}, {\"hoverinfo\": \"text\", \"hovertext\": [\"<b>Topic 44</b><br>Words: movements, mouse, intent, exploration, explore\", \"<b>Topic 44</b><br>Words: mobile, sensor, sensors, devices, gyroscope\", \"<b>Topic 44</b><br>Words: app, apps, mobile, interoperability, devices\", \"<b>Topic 44</b><br>Words: informationintensive, interface, design, unexplored, directions\", \"<b>Topic 44</b><br>Words: app, location, mobile, apps, gps\", \"<b>Topic 44</b><br>Words: assistants, mobile, gestures, touch, app\", \"<b>Topic 44</b><br>Words: mobile, device, attention, affect, tablets\", \"<b>Topic 44</b><br>Words: apps, app, alexa, intelligent, assistants\", \"<b>Topic 44</b><br>Words: mobile, customers, voiceenabled, intelligent, app\"], \"marker\": {\"color\": \"#56B4E9\"}, \"mode\": \"lines\", \"name\": \"44_mobile_app_apps_devices\", \"type\": \"scatter\", \"x\": [2008, 2011, 2013, 2014, 2015, 2016, 2017, 2018, 2019], \"y\": [1, 1, 4, 1, 3, 3, 1, 3, 2]}, {\"hoverinfo\": \"text\", \"hovertext\": [\"<b>Topic 72</b><br>Words: nhor, metrics, negative, higherorder, values\", \"<b>Topic 72</b><br>Words: metaevaluation, measure, correlations, correlation, rankings\", \"<b>Topic 72</b><br>Words: measures, discount, measure, hypotheses, classifying\", \"<b>Topic 72</b><br>Words: measure, measures, tests, timebiased, repeatability\", \"<b>Topic 72</b><br>Words: evaluation, metrics, correlation, evaluations, metaevaluation\", \"<b>Topic 72</b><br>Words: rlr, predictions, interaction, evaluation, effort\", \"<b>Topic 72</b><br>Words: criteria, tradeoffs, correlation, relevance, estimators\", \"<b>Topic 72</b><br>Words: rankbiased, suitability, constraintbased, diversification, evaluation\", \"<b>Topic 72</b><br>Words: fatrec, growing, recsys, fat, ai\"], \"marker\": {\"color\": \"#009E73\"}, \"mode\": \"lines\", \"name\": \"72_metrics_measure_evaluation_measures\", \"type\": \"scatter\", \"x\": [2008, 2009, 2011, 2012, 2013, 2015, 2016, 2018, 2019], \"y\": [2, 1, 1, 1, 1, 1, 2, 1, 1]}, {\"hoverinfo\": \"text\", \"hovertext\": [\"<b>Topic 18</b><br>Words: tweets, tweet, quickview, nlpbased, ie\", \"<b>Topic 18</b><br>Words: tweets, twitter, tweet, hashtag, posts\", \"<b>Topic 18</b><br>Words: tweets, tweet, twitter, retweet, streams\", \"<b>Topic 18</b><br>Words: tweets, twitter, tweet, hashtags, hashtag\", \"<b>Topic 18</b><br>Words: tweets, tweet, twitter, hashtags, indyref\", \"<b>Topic 18</b><br>Words: tweets, tweet, twitter, geoburst, fsd\", \"<b>Topic 18</b><br>Words: tweets, twitter, tweet, tweets2013, downloadable\", \"<b>Topic 18</b><br>Words: tweets, tweet, troll, twitter, crossattention\", \"<b>Topic 18</b><br>Words: tweets, retweet, tweet, social, circles\"], \"marker\": {\"color\": \"#F0E442\"}, \"mode\": \"lines\", \"name\": \"18_tweets_tweet_twitter_retweet\", \"type\": \"scatter\", \"x\": [2011, 2012, 2013, 2014, 2015, 2016, 2017, 2018, 2019], \"y\": [1, 9, 5, 4, 4, 11, 3, 3, 3]}, {\"hoverinfo\": \"text\", \"hovertext\": [\"<b>Topic 45</b><br>Words: poi, geographical, travelogue, location, locations\", \"<b>Topic 45</b><br>Words: pois, poi, geographic, seeded, locationbased\", \"<b>Topic 45</b><br>Words: recommendation, visiting, visit, places, recommend\", \"<b>Topic 45</b><br>Words: poi, geographical, pois, neighbors, location\", \"<b>Topic 45</b><br>Words: poi, pois, geosoca, geographical, correlations\", \"<b>Topic 45</b><br>Words: recreational, lbsns, location, nyc, locationbased\", \"<b>Topic 45</b><br>Words: poi, route, venues, geosocial, routes\", \"<b>Topic 45</b><br>Words: poi, recommendation, kde, interest, tourism\"], \"marker\": {\"color\": \"#D55E00\"}, \"mode\": \"lines\", \"name\": \"45_poi_pois_geographical_location\", \"type\": \"scatter\", \"x\": [2011, 2012, 2013, 2014, 2015, 2016, 2017, 2018], \"y\": [5, 1, 1, 3, 3, 1, 4, 1]}],                        {\"height\": 450, \"hoverlabel\": {\"bgcolor\": \"white\", \"font\": {\"family\": \"Rockwell\", \"size\": 16}}, \"legend\": {\"title\": {\"text\": \"<b>Global Topic Representation\"}}, \"template\": {\"data\": {\"bar\": [{\"error_x\": {\"color\": \"rgb(36,36,36)\"}, \"error_y\": {\"color\": \"rgb(36,36,36)\"}, \"marker\": {\"line\": {\"color\": \"white\", \"width\": 0.5}}, \"type\": \"bar\"}], \"barpolar\": [{\"marker\": {\"line\": {\"color\": \"white\", \"width\": 0.5}}, \"type\": \"barpolar\"}], \"carpet\": [{\"aaxis\": {\"endlinecolor\": \"rgb(36,36,36)\", \"gridcolor\": \"white\", \"linecolor\": \"white\", \"minorgridcolor\": \"white\", \"startlinecolor\": \"rgb(36,36,36)\"}, \"baxis\": {\"endlinecolor\": \"rgb(36,36,36)\", \"gridcolor\": \"white\", \"linecolor\": \"white\", \"minorgridcolor\": \"white\", \"startlinecolor\": \"rgb(36,36,36)\"}, \"type\": \"carpet\"}], \"choropleth\": [{\"colorbar\": {\"outlinewidth\": 1, \"tickcolor\": \"rgb(36,36,36)\", \"ticks\": \"outside\"}, \"type\": \"choropleth\"}], \"contour\": [{\"colorbar\": {\"outlinewidth\": 1, \"tickcolor\": \"rgb(36,36,36)\", \"ticks\": \"outside\"}, \"colorscale\": [[0.0, \"#440154\"], [0.1111111111111111, \"#482878\"], [0.2222222222222222, \"#3e4989\"], [0.3333333333333333, \"#31688e\"], [0.4444444444444444, \"#26828e\"], [0.5555555555555556, \"#1f9e89\"], [0.6666666666666666, \"#35b779\"], [0.7777777777777778, \"#6ece58\"], [0.8888888888888888, \"#b5de2b\"], [1.0, \"#fde725\"]], \"type\": \"contour\"}], \"contourcarpet\": [{\"colorbar\": {\"outlinewidth\": 1, \"tickcolor\": \"rgb(36,36,36)\", \"ticks\": \"outside\"}, \"type\": \"contourcarpet\"}], \"heatmap\": [{\"colorbar\": {\"outlinewidth\": 1, \"tickcolor\": \"rgb(36,36,36)\", \"ticks\": \"outside\"}, \"colorscale\": [[0.0, \"#440154\"], [0.1111111111111111, \"#482878\"], [0.2222222222222222, \"#3e4989\"], [0.3333333333333333, \"#31688e\"], [0.4444444444444444, \"#26828e\"], [0.5555555555555556, \"#1f9e89\"], [0.6666666666666666, \"#35b779\"], [0.7777777777777778, \"#6ece58\"], [0.8888888888888888, \"#b5de2b\"], [1.0, \"#fde725\"]], \"type\": \"heatmap\"}], \"heatmapgl\": [{\"colorbar\": {\"outlinewidth\": 1, \"tickcolor\": \"rgb(36,36,36)\", \"ticks\": \"outside\"}, \"colorscale\": [[0.0, \"#440154\"], [0.1111111111111111, \"#482878\"], [0.2222222222222222, \"#3e4989\"], [0.3333333333333333, \"#31688e\"], [0.4444444444444444, \"#26828e\"], [0.5555555555555556, \"#1f9e89\"], [0.6666666666666666, \"#35b779\"], [0.7777777777777778, \"#6ece58\"], [0.8888888888888888, \"#b5de2b\"], [1.0, \"#fde725\"]], \"type\": \"heatmapgl\"}], \"histogram\": [{\"marker\": {\"line\": {\"color\": \"white\", \"width\": 0.6}}, \"type\": \"histogram\"}], \"histogram2d\": [{\"colorbar\": {\"outlinewidth\": 1, \"tickcolor\": \"rgb(36,36,36)\", \"ticks\": \"outside\"}, \"colorscale\": [[0.0, \"#440154\"], [0.1111111111111111, \"#482878\"], [0.2222222222222222, \"#3e4989\"], [0.3333333333333333, \"#31688e\"], [0.4444444444444444, \"#26828e\"], [0.5555555555555556, \"#1f9e89\"], [0.6666666666666666, \"#35b779\"], [0.7777777777777778, \"#6ece58\"], [0.8888888888888888, \"#b5de2b\"], [1.0, \"#fde725\"]], \"type\": \"histogram2d\"}], \"histogram2dcontour\": [{\"colorbar\": {\"outlinewidth\": 1, \"tickcolor\": \"rgb(36,36,36)\", \"ticks\": \"outside\"}, \"colorscale\": [[0.0, \"#440154\"], [0.1111111111111111, \"#482878\"], [0.2222222222222222, \"#3e4989\"], [0.3333333333333333, \"#31688e\"], [0.4444444444444444, \"#26828e\"], [0.5555555555555556, \"#1f9e89\"], [0.6666666666666666, \"#35b779\"], [0.7777777777777778, \"#6ece58\"], [0.8888888888888888, \"#b5de2b\"], [1.0, \"#fde725\"]], \"type\": \"histogram2dcontour\"}], \"mesh3d\": [{\"colorbar\": {\"outlinewidth\": 1, \"tickcolor\": \"rgb(36,36,36)\", \"ticks\": \"outside\"}, \"type\": \"mesh3d\"}], \"parcoords\": [{\"line\": {\"colorbar\": {\"outlinewidth\": 1, \"tickcolor\": \"rgb(36,36,36)\", \"ticks\": \"outside\"}}, \"type\": \"parcoords\"}], \"pie\": [{\"automargin\": true, \"type\": \"pie\"}], \"scatter\": [{\"marker\": {\"colorbar\": {\"outlinewidth\": 1, \"tickcolor\": \"rgb(36,36,36)\", \"ticks\": \"outside\"}}, \"type\": \"scatter\"}], \"scatter3d\": [{\"line\": {\"colorbar\": {\"outlinewidth\": 1, \"tickcolor\": \"rgb(36,36,36)\", \"ticks\": \"outside\"}}, \"marker\": {\"colorbar\": {\"outlinewidth\": 1, \"tickcolor\": \"rgb(36,36,36)\", \"ticks\": \"outside\"}}, \"type\": \"scatter3d\"}], \"scattercarpet\": [{\"marker\": {\"colorbar\": {\"outlinewidth\": 1, \"tickcolor\": \"rgb(36,36,36)\", \"ticks\": \"outside\"}}, \"type\": \"scattercarpet\"}], \"scattergeo\": [{\"marker\": {\"colorbar\": {\"outlinewidth\": 1, \"tickcolor\": \"rgb(36,36,36)\", \"ticks\": \"outside\"}}, \"type\": \"scattergeo\"}], \"scattergl\": [{\"marker\": {\"colorbar\": {\"outlinewidth\": 1, \"tickcolor\": \"rgb(36,36,36)\", \"ticks\": \"outside\"}}, \"type\": \"scattergl\"}], \"scattermapbox\": [{\"marker\": {\"colorbar\": {\"outlinewidth\": 1, \"tickcolor\": \"rgb(36,36,36)\", \"ticks\": \"outside\"}}, \"type\": \"scattermapbox\"}], \"scatterpolar\": [{\"marker\": {\"colorbar\": {\"outlinewidth\": 1, \"tickcolor\": \"rgb(36,36,36)\", \"ticks\": \"outside\"}}, \"type\": \"scatterpolar\"}], \"scatterpolargl\": [{\"marker\": {\"colorbar\": {\"outlinewidth\": 1, \"tickcolor\": \"rgb(36,36,36)\", \"ticks\": \"outside\"}}, \"type\": \"scatterpolargl\"}], \"scatterternary\": [{\"marker\": {\"colorbar\": {\"outlinewidth\": 1, \"tickcolor\": \"rgb(36,36,36)\", \"ticks\": \"outside\"}}, \"type\": \"scatterternary\"}], \"surface\": [{\"colorbar\": {\"outlinewidth\": 1, \"tickcolor\": \"rgb(36,36,36)\", \"ticks\": \"outside\"}, \"colorscale\": [[0.0, \"#440154\"], [0.1111111111111111, \"#482878\"], [0.2222222222222222, \"#3e4989\"], [0.3333333333333333, \"#31688e\"], [0.4444444444444444, \"#26828e\"], [0.5555555555555556, \"#1f9e89\"], [0.6666666666666666, \"#35b779\"], [0.7777777777777778, \"#6ece58\"], [0.8888888888888888, \"#b5de2b\"], [1.0, \"#fde725\"]], \"type\": \"surface\"}], \"table\": [{\"cells\": {\"fill\": {\"color\": \"rgb(237,237,237)\"}, \"line\": {\"color\": \"white\"}}, \"header\": {\"fill\": {\"color\": \"rgb(217,217,217)\"}, \"line\": {\"color\": \"white\"}}, \"type\": \"table\"}]}, \"layout\": {\"annotationdefaults\": {\"arrowhead\": 0, \"arrowwidth\": 1}, \"autotypenumbers\": \"strict\", \"coloraxis\": {\"colorbar\": {\"outlinewidth\": 1, \"tickcolor\": \"rgb(36,36,36)\", \"ticks\": \"outside\"}}, \"colorscale\": {\"diverging\": [[0.0, \"rgb(103,0,31)\"], [0.1, \"rgb(178,24,43)\"], [0.2, \"rgb(214,96,77)\"], [0.3, \"rgb(244,165,130)\"], [0.4, \"rgb(253,219,199)\"], [0.5, \"rgb(247,247,247)\"], [0.6, \"rgb(209,229,240)\"], [0.7, \"rgb(146,197,222)\"], [0.8, \"rgb(67,147,195)\"], [0.9, \"rgb(33,102,172)\"], [1.0, \"rgb(5,48,97)\"]], \"sequential\": [[0.0, \"#440154\"], [0.1111111111111111, \"#482878\"], [0.2222222222222222, \"#3e4989\"], [0.3333333333333333, \"#31688e\"], [0.4444444444444444, \"#26828e\"], [0.5555555555555556, \"#1f9e89\"], [0.6666666666666666, \"#35b779\"], [0.7777777777777778, \"#6ece58\"], [0.8888888888888888, \"#b5de2b\"], [1.0, \"#fde725\"]], \"sequentialminus\": [[0.0, \"#440154\"], [0.1111111111111111, \"#482878\"], [0.2222222222222222, \"#3e4989\"], [0.3333333333333333, \"#31688e\"], [0.4444444444444444, \"#26828e\"], [0.5555555555555556, \"#1f9e89\"], [0.6666666666666666, \"#35b779\"], [0.7777777777777778, \"#6ece58\"], [0.8888888888888888, \"#b5de2b\"], [1.0, \"#fde725\"]]}, \"colorway\": [\"#1F77B4\", \"#FF7F0E\", \"#2CA02C\", \"#D62728\", \"#9467BD\", \"#8C564B\", \"#E377C2\", \"#7F7F7F\", \"#BCBD22\", \"#17BECF\"], \"font\": {\"color\": \"rgb(36,36,36)\"}, \"geo\": {\"bgcolor\": \"white\", \"lakecolor\": \"white\", \"landcolor\": \"white\", \"showlakes\": true, \"showland\": true, \"subunitcolor\": \"white\"}, \"hoverlabel\": {\"align\": \"left\"}, \"hovermode\": \"closest\", \"mapbox\": {\"style\": \"light\"}, \"paper_bgcolor\": \"white\", \"plot_bgcolor\": \"white\", \"polar\": {\"angularaxis\": {\"gridcolor\": \"rgb(232,232,232)\", \"linecolor\": \"rgb(36,36,36)\", \"showgrid\": false, \"showline\": true, \"ticks\": \"outside\"}, \"bgcolor\": \"white\", \"radialaxis\": {\"gridcolor\": \"rgb(232,232,232)\", \"linecolor\": \"rgb(36,36,36)\", \"showgrid\": false, \"showline\": true, \"ticks\": \"outside\"}}, \"scene\": {\"xaxis\": {\"backgroundcolor\": \"white\", \"gridcolor\": \"rgb(232,232,232)\", \"gridwidth\": 2, \"linecolor\": \"rgb(36,36,36)\", \"showbackground\": true, \"showgrid\": false, \"showline\": true, \"ticks\": \"outside\", \"zeroline\": false, \"zerolinecolor\": \"rgb(36,36,36)\"}, \"yaxis\": {\"backgroundcolor\": \"white\", \"gridcolor\": \"rgb(232,232,232)\", \"gridwidth\": 2, \"linecolor\": \"rgb(36,36,36)\", \"showbackground\": true, \"showgrid\": false, \"showline\": true, \"ticks\": \"outside\", \"zeroline\": false, \"zerolinecolor\": \"rgb(36,36,36)\"}, \"zaxis\": {\"backgroundcolor\": \"white\", \"gridcolor\": \"rgb(232,232,232)\", \"gridwidth\": 2, \"linecolor\": \"rgb(36,36,36)\", \"showbackground\": true, \"showgrid\": false, \"showline\": true, \"ticks\": \"outside\", \"zeroline\": false, \"zerolinecolor\": \"rgb(36,36,36)\"}}, \"shapedefaults\": {\"fillcolor\": \"black\", \"line\": {\"width\": 0}, \"opacity\": 0.3}, \"ternary\": {\"aaxis\": {\"gridcolor\": \"rgb(232,232,232)\", \"linecolor\": \"rgb(36,36,36)\", \"showgrid\": false, \"showline\": true, \"ticks\": \"outside\"}, \"baxis\": {\"gridcolor\": \"rgb(232,232,232)\", \"linecolor\": \"rgb(36,36,36)\", \"showgrid\": false, \"showline\": true, \"ticks\": \"outside\"}, \"bgcolor\": \"white\", \"caxis\": {\"gridcolor\": \"rgb(232,232,232)\", \"linecolor\": \"rgb(36,36,36)\", \"showgrid\": false, \"showline\": true, \"ticks\": \"outside\"}}, \"title\": {\"x\": 0.05}, \"xaxis\": {\"automargin\": true, \"gridcolor\": \"rgb(232,232,232)\", \"linecolor\": \"rgb(36,36,36)\", \"showgrid\": false, \"showline\": true, \"ticks\": \"outside\", \"title\": {\"standoff\": 15}, \"zeroline\": false, \"zerolinecolor\": \"rgb(36,36,36)\"}, \"yaxis\": {\"automargin\": true, \"gridcolor\": \"rgb(232,232,232)\", \"linecolor\": \"rgb(36,36,36)\", \"showgrid\": false, \"showline\": true, \"ticks\": \"outside\", \"title\": {\"standoff\": 15}, \"zeroline\": false, \"zerolinecolor\": \"rgb(36,36,36)\"}}}, \"title\": {\"font\": {\"color\": \"Black\", \"size\": 22}, \"text\": \"<b>Topics over Time\", \"x\": 0.4, \"xanchor\": \"center\", \"y\": 0.95, \"yanchor\": \"top\"}, \"width\": 1250, \"xaxis\": {\"showgrid\": true}, \"yaxis\": {\"showgrid\": true, \"title\": {\"text\": \"Frequency\"}}},                        {\"responsive\": true}                    ).then(function(){\n",
              "                            \n",
              "var gd = document.getElementById('956c64ae-03d4-4734-a096-c2cd50694358');\n",
              "var x = new MutationObserver(function (mutations, observer) {{\n",
              "        var display = window.getComputedStyle(gd).display;\n",
              "        if (!display || display === 'none') {{\n",
              "            console.log([gd, 'removed!']);\n",
              "            Plotly.purge(gd);\n",
              "            observer.disconnect();\n",
              "        }}\n",
              "}});\n",
              "\n",
              "// Listen for the removal of the full notebook cells\n",
              "var notebookContainer = gd.closest('#notebook-container');\n",
              "if (notebookContainer) {{\n",
              "    x.observe(notebookContainer, {childList: true});\n",
              "}}\n",
              "\n",
              "// Listen for the clearing of the current output cell\n",
              "var outputEl = gd.closest('.output');\n",
              "if (outputEl) {{\n",
              "    x.observe(outputEl, {childList: true});\n",
              "}}\n",
              "\n",
              "                        })                };                            </script>        </div>\n",
              "</body>\n",
              "</html>"
            ]
          },
          "metadata": {
            "tags": []
          }
        }
      ]
    },
    {
      "cell_type": "code",
      "metadata": {
        "colab": {
          "base_uri": "https://localhost:8080/"
        },
        "id": "79GNClCRkIdd",
        "outputId": "4ef2dd5e-d9bf-4ada-fc4b-120231473001"
      },
      "source": [
        "new_topics, _ = model.reduce_topics(title, topics, probs, nr_topics=16)\n",
        "model.get_topics()"
      ],
      "execution_count": null,
      "outputs": [
        {
          "output_type": "stream",
          "text": [
            "2021-07-23 15:00:15,706 - BERTopic - Reduced number of topics from 85 to 17\n"
          ],
          "name": "stderr"
        },
        {
          "output_type": "execute_result",
          "data": {
            "text/plain": [
              "{-1: [('retrieval', 0.021964238631450615),\n",
              "  ('information', 0.021940356175178012),\n",
              "  ('search', 0.021188744815791485),\n",
              "  ('query', 0.017454446521229815),\n",
              "  ('results', 0.013742454510709077),\n",
              "  ('relevance', 0.013647030632111617),\n",
              "  ('queries', 0.013407589452402648),\n",
              "  ('web', 0.012357032232786532),\n",
              "  ('using', 0.012340227944737063),\n",
              "  ('data', 0.012127697209193718)],\n",
              " 0: [('query', 0.032686985512830266),\n",
              "  ('queries', 0.025205482342271438),\n",
              "  ('hashing', 0.0250785317577771),\n",
              "  ('questions', 0.02302356639143005),\n",
              "  ('semantic', 0.015414297229947515),\n",
              "  ('search', 0.014134421458647392),\n",
              "  ('similarity', 0.012990239759951904),\n",
              "  ('retrieval', 0.012662137251475901),\n",
              "  ('qa', 0.01200896302026434),\n",
              "  ('qac', 0.011833055857916287)],\n",
              " 1: [('learning', 0.043999085195698735),\n",
              "  ('classification', 0.03239435750490074),\n",
              "  ('ranking', 0.029551662181851117),\n",
              "  ('rank', 0.016091444775983323),\n",
              "  ('feature', 0.014648885048723345),\n",
              "  ('classifiers', 0.01359061464459981),\n",
              "  ('svm', 0.012556313356151844),\n",
              "  ('datasets', 0.012441188810999093),\n",
              "  ('classifier', 0.012196958181831205),\n",
              "  ('categorization', 0.012101335355765375)],\n",
              " 2: [('sentiment', 0.01689867394239466),\n",
              "  ('email', 0.01633848272730995),\n",
              "  ('opinion', 0.014581541614938577),\n",
              "  ('search', 0.014500009828107223),\n",
              "  ('paper', 0.01410151587893233),\n",
              "  ('blog', 0.013892819929066304),\n",
              "  ('spam', 0.013318735162158604),\n",
              "  ('web', 0.013028635295033326),\n",
              "  ('ads', 0.012969384514123461),\n",
              "  ('topic', 0.012464957328586587)],\n",
              " 3: [('summarization', 0.03108905297761787),\n",
              "  ('text', 0.028954256078210183),\n",
              "  ('document', 0.028491041124601296),\n",
              "  ('word', 0.02308144838972054),\n",
              "  ('retrieval', 0.022789039524843145),\n",
              "  ('information', 0.021222155782973182),\n",
              "  ('summaries', 0.017402993790302506),\n",
              "  ('words', 0.012197484170696247),\n",
              "  ('semantic', 0.01091740404809056),\n",
              "  ('terms', 0.010258021416843689)],\n",
              " 4: [('translation', 0.040604472438688186),\n",
              "  ('retrieval', 0.034748447096618396),\n",
              "  ('words', 0.019822763141127672),\n",
              "  ('language', 0.019309288803311432),\n",
              "  ('crosslanguage', 0.017930571119709724),\n",
              "  ('conversational', 0.01604765591232668),\n",
              "  ('languages', 0.014514860546188859),\n",
              "  ('audio', 0.013353815930270687),\n",
              "  ('spoken', 0.012837268439519229),\n",
              "  ('translations', 0.012136167280966498)],\n",
              " 5: [('recommendation', 0.05800654439795817),\n",
              "  ('collaborative', 0.028385680366602797),\n",
              "  ('recommender', 0.025795958781710784),\n",
              "  ('filtering', 0.023457939808735784),\n",
              "  ('ratings', 0.021113981673006314),\n",
              "  ('recommendations', 0.020118099116322938),\n",
              "  ('reviews', 0.019483093920308576),\n",
              "  ('rating', 0.01629144310698906),\n",
              "  ('methods', 0.01543481923472165),\n",
              "  ('preferences', 0.014405496725160083)],\n",
              " 6: [('behavior', 0.0384058280499319),\n",
              "  ('user', 0.035643897525331786),\n",
              "  ('users', 0.03430650945800458),\n",
              "  ('participants', 0.0200040322400889),\n",
              "  ('satisfaction', 0.019705464594714443),\n",
              "  ('task', 0.01685989451655816),\n",
              "  ('examination', 0.015625520236832575),\n",
              "  ('searchers', 0.01334392207552646),\n",
              "  ('behaviors', 0.012989680961841853),\n",
              "  ('feedback', 0.012330072955047079)],\n",
              " 7: [('retrieval', 0.030381039722464486),\n",
              "  ('user', 0.02511075295467311),\n",
              "  ('search', 0.01902172457021657),\n",
              "  ('dependency', 0.01643788655165178),\n",
              "  ('app', 0.01509816618174494),\n",
              "  ('apps', 0.014281233142407089),\n",
              "  ('users', 0.013791675185057427),\n",
              "  ('using', 0.012464141833600876),\n",
              "  ('approach', 0.011478146876181122),\n",
              "  ('use', 0.01109674393380029)],\n",
              " 8: [('document', 0.02380584668605859),\n",
              "  ('diversification', 0.023772498590709307),\n",
              "  ('retrieval', 0.02083658743747967),\n",
              "  ('information', 0.017910305878409947),\n",
              "  ('relevance', 0.016911303843307413),\n",
              "  ('query', 0.01625883599552141),\n",
              "  ('graphs', 0.015067914904735753),\n",
              "  ('metrics', 0.0150155816776106),\n",
              "  ('search', 0.013351105745702222),\n",
              "  ('crowdsourcing', 0.012766957853666924)],\n",
              " 9: [('visual', 0.03571337452479472),\n",
              "  ('retrieval', 0.022645800853291674),\n",
              "  ('semantic', 0.02129016027518222),\n",
              "  ('annotation', 0.020922916224314754),\n",
              "  ('tags', 0.019051317429949425),\n",
              "  ('videos', 0.0175959632291544),\n",
              "  ('features', 0.016039030818554494),\n",
              "  ('feature', 0.015751112918066225),\n",
              "  ('tag', 0.015302712260183848),\n",
              "  ('classification', 0.011492127839542217)],\n",
              " 10: [('test', 0.047863569322729775),\n",
              "  ('relevance', 0.03120387675841419),\n",
              "  ('collection', 0.0276997060644095),\n",
              "  ('collections', 0.02384712979196243),\n",
              "  ('evaluation', 0.023062022310767243),\n",
              "  ('information', 0.017145610741688265),\n",
              "  ('retrieval', 0.016933216499740084),\n",
              "  ('assessors', 0.016915882764717106),\n",
              "  ('tests', 0.01578970533990425),\n",
              "  ('testing', 0.011745258444833071)],\n",
              " 11: [('index', 0.03700098470305281),\n",
              "  ('compression', 0.036034869109228894),\n",
              "  ('processing', 0.02678744445459906),\n",
              "  ('caching', 0.02179018049008254),\n",
              "  ('query', 0.02085742534630191),\n",
              "  ('queries', 0.01820358486057068),\n",
              "  ('indexes', 0.017024210579809813),\n",
              "  ('cache', 0.01608263323678996),\n",
              "  ('compressed', 0.01357124660535081),\n",
              "  ('algorithm', 0.012652251992936632)],\n",
              " 12: [('web', 0.054283440678979736),\n",
              "  ('tweets', 0.05260569747844585),\n",
              "  ('tweet', 0.03304739085667478),\n",
              "  ('twitter', 0.03138834293520278),\n",
              "  ('page', 0.02972511865324606),\n",
              "  ('pagerank', 0.02831781681733726),\n",
              "  ('link', 0.026675953617715187),\n",
              "  ('search', 0.019750827801700985),\n",
              "  ('links', 0.015475944262021285),\n",
              "  ('ranking', 0.0130318383730968)],\n",
              " 13: [('search', 0.052741767811152536),\n",
              "  ('query', 0.04076743348937358),\n",
              "  ('queries', 0.03580038355912234),\n",
              "  ('users', 0.024833016516246444),\n",
              "  ('task', 0.02127562050030993),\n",
              "  ('information', 0.019648990104669226),\n",
              "  ('tasks', 0.016951630411837764),\n",
              "  ('expert', 0.016947355125374666),\n",
              "  ('finding', 0.012270815061429272),\n",
              "  ('using', 0.010696981330407156)],\n",
              " 14: [('models', 0.0657318483918334),\n",
              "  ('query', 0.04160329381963896),\n",
              "  ('retrieval', 0.04069243563850068),\n",
              "  ('prediction', 0.03380008007869584),\n",
              "  ('probabilistic', 0.029917501602477404),\n",
              "  ('qpp', 0.026819543132493393),\n",
              "  ('predictors', 0.022712139795553563),\n",
              "  ('poisson', 0.020093865876111307),\n",
              "  ('dirichlet', 0.015009431846311302),\n",
              "  ('queries', 0.014535546600881754)],\n",
              " 15: [('clustering', 0.15463225060405233),\n",
              "  ('cluster', 0.06175149241788377),\n",
              "  ('clusters', 0.05915122849031199),\n",
              "  ('algorithm', 0.023944498216094557),\n",
              "  ('data', 0.015451837134763854),\n",
              "  ('information', 0.015188968409993588),\n",
              "  ('algorithms', 0.014262893980304411),\n",
              "  ('similarity', 0.014162270669964217),\n",
              "  ('nmf', 0.01369601259613479),\n",
              "  ('search', 0.013182600875013347)]}"
            ]
          },
          "metadata": {
            "tags": []
          },
          "execution_count": 25
        }
      ]
    }
  ]
}