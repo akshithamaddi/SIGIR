{
  "nbformat": 4,
  "nbformat_minor": 0,
  "metadata": {
    "colab": {
      "name": "topic_modeling_LDA.ipynb",
      "provenance": [],
      "collapsed_sections": [],
      "include_colab_link": true
    },
    "kernelspec": {
      "display_name": "Python 3",
      "name": "python3"
    },
    "language_info": {
      "name": "python"
    }
  },
  "cells": [
    {
      "cell_type": "markdown",
      "metadata": {
        "id": "view-in-github",
        "colab_type": "text"
      },
      "source": [
        "<a href=\"https://colab.research.google.com/github/akshithamaddi/SIGIR/blob/main/topic_modeling_LDA.ipynb\" target=\"_parent\"><img src=\"https://colab.research.google.com/assets/colab-badge.svg\" alt=\"Open In Colab\"/></a>"
      ]
    },
    {
      "cell_type": "code",
      "metadata": {
        "colab": {
          "base_uri": "https://localhost:8080/"
        },
        "id": "ZpfIFW30EfQu",
        "outputId": "641aa500-5622-4cfc-92d7-eb3444202cb8"
      },
      "source": [
        "pip install pyLDAvis==2.1.2"
      ],
      "execution_count": null,
      "outputs": [
        {
          "output_type": "stream",
          "text": [
            "Collecting pyLDAvis==2.1.2\n",
            "\u001b[?25l  Downloading https://files.pythonhosted.org/packages/a5/3a/af82e070a8a96e13217c8f362f9a73e82d61ac8fff3a2561946a97f96266/pyLDAvis-2.1.2.tar.gz (1.6MB)\n",
            "\u001b[K     |████████████████████████████████| 1.6MB 5.0MB/s \n",
            "\u001b[?25hRequirement already satisfied: wheel>=0.23.0 in /usr/local/lib/python3.7/dist-packages (from pyLDAvis==2.1.2) (0.36.2)\n",
            "Requirement already satisfied: numpy>=1.9.2 in /usr/local/lib/python3.7/dist-packages (from pyLDAvis==2.1.2) (1.21.0)\n",
            "Requirement already satisfied: scipy>=0.18.0 in /usr/local/lib/python3.7/dist-packages (from pyLDAvis==2.1.2) (1.4.1)\n",
            "Requirement already satisfied: pandas>=0.17.0 in /usr/local/lib/python3.7/dist-packages (from pyLDAvis==2.1.2) (1.1.5)\n",
            "Requirement already satisfied: joblib>=0.8.4 in /usr/local/lib/python3.7/dist-packages (from pyLDAvis==2.1.2) (1.0.1)\n",
            "Requirement already satisfied: jinja2>=2.7.2 in /usr/local/lib/python3.7/dist-packages (from pyLDAvis==2.1.2) (2.11.3)\n",
            "Requirement already satisfied: numexpr in /usr/local/lib/python3.7/dist-packages (from pyLDAvis==2.1.2) (2.7.3)\n",
            "Requirement already satisfied: pytest in /usr/local/lib/python3.7/dist-packages (from pyLDAvis==2.1.2) (3.6.4)\n",
            "Requirement already satisfied: future in /usr/local/lib/python3.7/dist-packages (from pyLDAvis==2.1.2) (0.16.0)\n",
            "Collecting funcy\n",
            "  Downloading https://files.pythonhosted.org/packages/44/52/5cf7401456a461e4b481650dfb8279bc000f31a011d0918904f86e755947/funcy-1.16-py2.py3-none-any.whl\n",
            "Requirement already satisfied: pytz>=2017.2 in /usr/local/lib/python3.7/dist-packages (from pandas>=0.17.0->pyLDAvis==2.1.2) (2018.9)\n",
            "Requirement already satisfied: python-dateutil>=2.7.3 in /usr/local/lib/python3.7/dist-packages (from pandas>=0.17.0->pyLDAvis==2.1.2) (2.8.1)\n",
            "Requirement already satisfied: MarkupSafe>=0.23 in /usr/local/lib/python3.7/dist-packages (from jinja2>=2.7.2->pyLDAvis==2.1.2) (2.0.1)\n",
            "Requirement already satisfied: pluggy<0.8,>=0.5 in /usr/local/lib/python3.7/dist-packages (from pytest->pyLDAvis==2.1.2) (0.7.1)\n",
            "Requirement already satisfied: py>=1.5.0 in /usr/local/lib/python3.7/dist-packages (from pytest->pyLDAvis==2.1.2) (1.10.0)\n",
            "Requirement already satisfied: attrs>=17.4.0 in /usr/local/lib/python3.7/dist-packages (from pytest->pyLDAvis==2.1.2) (21.2.0)\n",
            "Requirement already satisfied: more-itertools>=4.0.0 in /usr/local/lib/python3.7/dist-packages (from pytest->pyLDAvis==2.1.2) (8.8.0)\n",
            "Requirement already satisfied: six>=1.10.0 in /usr/local/lib/python3.7/dist-packages (from pytest->pyLDAvis==2.1.2) (1.15.0)\n",
            "Requirement already satisfied: atomicwrites>=1.0 in /usr/local/lib/python3.7/dist-packages (from pytest->pyLDAvis==2.1.2) (1.4.0)\n",
            "Requirement already satisfied: setuptools in /usr/local/lib/python3.7/dist-packages (from pytest->pyLDAvis==2.1.2) (57.0.0)\n",
            "Building wheels for collected packages: pyLDAvis\n",
            "  Building wheel for pyLDAvis (setup.py) ... \u001b[?25l\u001b[?25hdone\n",
            "  Created wheel for pyLDAvis: filename=pyLDAvis-2.1.2-py2.py3-none-any.whl size=97738 sha256=575d20fb17a8eca3641de3e0e1774aa468cd9f977922d7042d79e7df4bed8131\n",
            "  Stored in directory: /root/.cache/pip/wheels/98/71/24/513a99e58bb6b8465bae4d2d5e9dba8f0bef8179e3051ac414\n",
            "Successfully built pyLDAvis\n",
            "Installing collected packages: funcy, pyLDAvis\n",
            "Successfully installed funcy-1.16 pyLDAvis-2.1.2\n"
          ],
          "name": "stdout"
        }
      ]
    },
    {
      "cell_type": "code",
      "metadata": {
        "colab": {
          "base_uri": "https://localhost:8080/",
          "height": 337
        },
        "id": "HBumxNkHFEEV",
        "outputId": "d5867281-6e48-4152-9c9a-548df0969115"
      },
      "source": [
        "pip install \"gensim==3.8.1\""
      ],
      "execution_count": null,
      "outputs": [
        {
          "output_type": "stream",
          "text": [
            "Collecting gensim==3.8.1\n",
            "\u001b[?25l  Downloading https://files.pythonhosted.org/packages/44/93/c6011037f24e3106d13f3be55297bf84ece2bf15b278cc4776339dc52db5/gensim-3.8.1-cp37-cp37m-manylinux1_x86_64.whl (24.2MB)\n",
            "\u001b[K     |████████████████████████████████| 24.2MB 118kB/s \n",
            "\u001b[?25hRequirement already satisfied: scipy>=0.18.1 in /usr/local/lib/python3.7/dist-packages (from gensim==3.8.1) (1.4.1)\n",
            "Requirement already satisfied: smart-open>=1.8.1 in /usr/local/lib/python3.7/dist-packages (from gensim==3.8.1) (5.1.0)\n",
            "Requirement already satisfied: six>=1.5.0 in /usr/local/lib/python3.7/dist-packages (from gensim==3.8.1) (1.15.0)\n",
            "Requirement already satisfied: numpy>=1.11.3 in /usr/local/lib/python3.7/dist-packages (from gensim==3.8.1) (1.21.0)\n",
            "Installing collected packages: gensim\n",
            "  Found existing installation: gensim 3.6.0\n",
            "    Uninstalling gensim-3.6.0:\n",
            "      Successfully uninstalled gensim-3.6.0\n",
            "Successfully installed gensim-3.8.1\n"
          ],
          "name": "stdout"
        },
        {
          "output_type": "display_data",
          "data": {
            "application/vnd.colab-display-data+json": {
              "pip_warning": {
                "packages": [
                  "gensim"
                ]
              }
            }
          },
          "metadata": {
            "tags": []
          }
        }
      ]
    },
    {
      "cell_type": "code",
      "metadata": {
        "colab": {
          "base_uri": "https://localhost:8080/"
        },
        "id": "Ecyye-N44oix",
        "outputId": "11cd4b19-763e-4c63-9089-0a2b39890768"
      },
      "source": [
        "import nltk\n",
        "nltk.download('stopwords')\n",
        "nltk.download('wordnet')\n",
        "import pandas as pd\n",
        "\n",
        "\n",
        "main = pd.read_csv('Article_information.csv',encoding='ISO-8859-1')\n",
        "header = [\"Abstract\"]\n",
        "main.to_csv('output.csv', columns = header)"
      ],
      "execution_count": null,
      "outputs": [
        {
          "output_type": "stream",
          "text": [
            "[nltk_data] Downloading package stopwords to /root/nltk_data...\n",
            "[nltk_data]   Unzipping corpora/stopwords.zip.\n",
            "[nltk_data] Downloading package wordnet to /root/nltk_data...\n",
            "[nltk_data]   Unzipping corpora/wordnet.zip.\n"
          ],
          "name": "stdout"
        }
      ]
    },
    {
      "cell_type": "code",
      "metadata": {
        "id": "y_xh75Lk3JZC"
      },
      "source": [
        "import pandas as pd\n",
        "from nltk.corpus import stopwords\n",
        "import string\n",
        "from nltk.stem import WordNetLemmatizer\n",
        "from nltk.stem import PorterStemmer\n",
        "from textblob import Word\n",
        "\n",
        "\n",
        "ps = PorterStemmer()\n",
        "lemma = WordNetLemmatizer()\n",
        "\n",
        "\n",
        "pd.read_csv('output.csv', encoding='ISO-8859-1')\n",
        "df = pd.read_csv('output.csv',encoding='ISO-8859-1')\n",
        "\n",
        "\n",
        "df.columns = ['','Abstract']\n",
        "#lowercase and removing special characters and punctuation marks\n",
        "df['Abstract'] = df['Abstract'].str.lower()\n",
        "df['Abstract']= df['Abstract'].str.replace(r'[^\\w\\s]+','')\n",
        "#removing numbers\n",
        "df['Abstract'] = df['Abstract'].str.replace('\\d+', '')\n",
        "#removing stopwords\n",
        "#stop = stopwords.words('english')\n",
        "stopwords = nltk.corpus.stopwords.words('english')\n",
        "newStopWords = ['inform','inform retriev']\n",
        "stopwords.extend(newStopWords)\n",
        "df['Abstract'] = df['Abstract'].apply(lambda x: [item for item in str.split(x) if item not in stopwords])\n",
        "#lemmatization\n",
        "df['Abstract']= df['Abstract'].apply(lambda x : [lemma.lemmatize(y) for y in x])\n",
        "#stemming\n",
        "df['Abstract']= df['Abstract'].apply(lambda x : [ps.stem(y) for y in x])\n",
        "\n",
        "def remove_punc(text):\n",
        "  no_punc=\" \".join([c for c in text if c not in string.punctuation])\n",
        "  return no_punc\n",
        "df['Abstract']= df['Abstract'].apply(lambda x : remove_punc(x))\n",
        "\n",
        "#Adding columns for clean_content and clean_title in a csv\n",
        "csv_input = pd.read_csv('output.csv')\n",
        "csv_input['clean_abstract'] = df['Abstract']\n",
        "csv_input.to_csv('output_review.csv', index=False)"
      ],
      "execution_count": null,
      "outputs": []
    },
    {
      "cell_type": "code",
      "metadata": {
        "id": "16S0uO90BXF3"
      },
      "source": [
        "#topic Modeling\n",
        "import pandas as pd\n",
        "topicm = pd.read_csv(\"output_review.csv\",encoding=\"ISO-8859-1\")\n",
        "header = [\"clean_abstract\"]\n",
        "topicm.to_csv('clean_abstract.csv', columns = header)"
      ],
      "execution_count": null,
      "outputs": []
    },
    {
      "cell_type": "code",
      "metadata": {
        "colab": {
          "base_uri": "https://localhost:8080/"
        },
        "id": "hraJ0LcsFztM",
        "outputId": "2ba393a3-b1b8-4285-f972-a529ba241e21"
      },
      "source": [
        "import spacy.cli\n",
        "spacy.cli.download(\"en_core_web_sm\")"
      ],
      "execution_count": null,
      "outputs": [
        {
          "output_type": "stream",
          "text": [
            "\u001b[38;5;2m✔ Download and installation successful\u001b[0m\n",
            "You can now load the model via spacy.load('en_core_web_sm')\n"
          ],
          "name": "stdout"
        }
      ]
    },
    {
      "cell_type": "code",
      "metadata": {
        "colab": {
          "base_uri": "https://localhost:8080/"
        },
        "id": "Hxa-xuRzFmqn",
        "outputId": "145bdfba-2a04-42ab-801a-eee89f673fe6"
      },
      "source": [
        "import nltk;\n",
        "nltk.download('stopwords')"
      ],
      "execution_count": null,
      "outputs": [
        {
          "output_type": "stream",
          "text": [
            "[nltk_data] Downloading package stopwords to /root/nltk_data...\n",
            "[nltk_data]   Package stopwords is already up-to-date!\n"
          ],
          "name": "stdout"
        },
        {
          "output_type": "execute_result",
          "data": {
            "text/plain": [
              "True"
            ]
          },
          "metadata": {
            "tags": []
          },
          "execution_count": 6
        }
      ]
    },
    {
      "cell_type": "code",
      "metadata": {
        "id": "9xGuCnx6EVFD",
        "colab": {
          "base_uri": "https://localhost:8080/"
        },
        "outputId": "5397ac50-b588-4ef0-c4b1-dfc0444db248"
      },
      "source": [
        "import re\n",
        "import numpy as np\n",
        "import pandas as pd\n",
        "from pprint import pprint\n",
        "\n",
        "# Gensim\n",
        "import gensim\n",
        "import gensim.corpora as corpora\n",
        "from gensim.utils import simple_preprocess\n",
        "from gensim.models import CoherenceModel\n",
        "\n",
        "# spacy for lemmatization\n",
        "import spacy\n",
        "\n",
        "# Plotting tools\n",
        "import pyLDAvis\n",
        "import pyLDAvis.gensim  # don't skip this\n",
        "import matplotlib.pyplot as plt\n",
        "%matplotlib inline\n",
        "\n",
        "# Enable logging for gensim - optional\n",
        "import logging\n",
        "logging.basicConfig(format='%(asctime)s : %(levelname)s : %(message)s', level=logging.ERROR)\n",
        "\n",
        "import warnings\n",
        "warnings.filterwarnings(\"ignore\",category=DeprecationWarning)"
      ],
      "execution_count": null,
      "outputs": [
        {
          "output_type": "stream",
          "text": [
            "/usr/local/lib/python3.7/dist-packages/sklearn/decomposition/_lda.py:29: DeprecationWarning: `np.float` is a deprecated alias for the builtin `float`. To silence this warning, use `float` by itself. Doing this will not modify any behavior and is safe. If you specifically wanted the numpy scalar type, use `np.float64` here.\n",
            "Deprecated in NumPy 1.20; for more details and guidance: https://numpy.org/devdocs/release/1.20.0-notes.html#deprecations\n",
            "  EPS = np.finfo(np.float).eps\n"
          ],
          "name": "stderr"
        }
      ]
    },
    {
      "cell_type": "code",
      "metadata": {
        "id": "GWTUkgWTJRB7"
      },
      "source": [
        "from nltk.corpus import stopwords\n",
        "stop_words = stopwords.words('english')\n",
        "stop_words.extend(['from', 'subject', 're', 'edu', 'use'])"
      ],
      "execution_count": null,
      "outputs": []
    },
    {
      "cell_type": "code",
      "metadata": {
        "colab": {
          "base_uri": "https://localhost:8080/"
        },
        "id": "iTdewGpLJZKH",
        "outputId": "82b76215-214b-4fd8-8b2d-8e918d988051"
      },
      "source": [
        "data = topicm.clean_abstract.values.tolist()\n",
        "\n",
        "data = [re.sub('\\S*@\\S*\\s?', '', str(sent)) for sent in data]\n",
        "\n",
        "# Remove new line characters\n",
        "data = [re.sub('\\s+', ' ', sent) for sent in data]\n",
        "\n",
        "# Remove distracting single quotes\n",
        "data = [re.sub(\"\\'\", \"\", sent) for sent in data]\n",
        "\n",
        "print(data[:1])\n"
      ],
      "execution_count": null,
      "outputs": [
        {
          "output_type": "stream",
          "text": [
            "['introduct prospect provid acm inform storag retriev symposium held univers maryland april symposium sponsor univers maryland nation aeronaut space administr special interest group inform retriev sigir acm focu advanc techniqu comput orient technolog inform retriev earli develop statu recent effort document retriev quesitonansw data manag system review briefli']\n"
          ],
          "name": "stdout"
        }
      ]
    },
    {
      "cell_type": "code",
      "metadata": {
        "colab": {
          "base_uri": "https://localhost:8080/"
        },
        "id": "Rsct4k8uJj8C",
        "outputId": "1f81e266-4ebd-44e0-b077-f3f989756661"
      },
      "source": [
        "def sent_to_words(sentences):\n",
        "    for sentence in sentences:\n",
        "        yield(gensim.utils.simple_preprocess(str(sentence), deacc=True))  # deacc=True removes punctuations\n",
        "\n",
        "data_words = list(sent_to_words(data))\n",
        "\n",
        "print(data_words[:1])"
      ],
      "execution_count": null,
      "outputs": [
        {
          "output_type": "stream",
          "text": [
            "[['introduct', 'prospect', 'provid', 'acm', 'inform', 'storag', 'retriev', 'symposium', 'held', 'univers', 'maryland', 'april', 'symposium', 'sponsor', 'univers', 'maryland', 'nation', 'aeronaut', 'space', 'administr', 'special', 'interest', 'group', 'inform', 'retriev', 'sigir', 'acm', 'focu', 'advanc', 'techniqu', 'comput', 'orient', 'technolog', 'inform', 'retriev', 'earli', 'develop', 'statu', 'recent', 'effort', 'document', 'retriev', 'quesitonansw', 'data', 'manag', 'system', 'review', 'briefli']]\n"
          ],
          "name": "stdout"
        }
      ]
    },
    {
      "cell_type": "code",
      "metadata": {
        "colab": {
          "base_uri": "https://localhost:8080/"
        },
        "id": "rRgKVD8-JoL6",
        "outputId": "6724f537-3ad7-464b-bdce-9e21dd5745a3"
      },
      "source": [
        "# Build the bigram and trigram models\n",
        "bigram = gensim.models.Phrases(data_words, min_count=5, threshold=100) # higher threshold fewer phrases.\n",
        "trigram = gensim.models.Phrases(bigram[data_words], threshold=100)  \n",
        "\n",
        "# Faster way to get a sentence clubbed as a trigram/bigram\n",
        "bigram_mod = gensim.models.phrases.Phraser(bigram)\n",
        "trigram_mod = gensim.models.phrases.Phraser(trigram)\n",
        "\n",
        "# See trigram example\n",
        "print(trigram_mod[bigram_mod[data_words[0]]])"
      ],
      "execution_count": null,
      "outputs": [
        {
          "output_type": "stream",
          "text": [
            "['introduct', 'prospect', 'provid', 'acm', 'inform', 'storag', 'retriev', 'symposium', 'held', 'univers', 'maryland', 'april', 'symposium', 'sponsor', 'univers', 'maryland', 'nation', 'aeronaut', 'space', 'administr', 'special', 'interest', 'group', 'inform', 'retriev', 'sigir', 'acm', 'focu', 'advanc', 'techniqu', 'comput', 'orient', 'technolog', 'inform', 'retriev', 'earli', 'develop', 'statu', 'recent', 'effort', 'document', 'retriev', 'quesitonansw', 'data', 'manag', 'system', 'review', 'briefli']\n"
          ],
          "name": "stdout"
        }
      ]
    },
    {
      "cell_type": "code",
      "metadata": {
        "id": "vepRqrNVJqWW"
      },
      "source": [
        "# Define functions for stopwords, bigrams, trigrams and lemmatization\n",
        "def remove_stopwords(texts):\n",
        "    return [[word for word in simple_preprocess(str(doc)) if word not in stop_words] for doc in texts]\n",
        "\n",
        "def make_bigrams(texts):\n",
        "    return [bigram_mod[doc] for doc in texts]\n",
        "\n",
        "def make_trigrams(texts):\n",
        "    return [trigram_mod[bigram_mod[doc]] for doc in texts]\n",
        "\n",
        "def lemmatization(texts, allowed_postags=['NOUN', 'ADJ', 'VERB', 'ADV']):\n",
        "    \"\"\"https://spacy.io/api/annotation\"\"\"\n",
        "    texts_out = []\n",
        "    for sent in texts:\n",
        "        doc = nlp(\" \".join(sent)) \n",
        "        texts_out.append([token.lemma_ for token in doc if token.pos_ in allowed_postags])\n",
        "    return texts_out"
      ],
      "execution_count": null,
      "outputs": []
    },
    {
      "cell_type": "code",
      "metadata": {
        "colab": {
          "base_uri": "https://localhost:8080/"
        },
        "id": "LidHRFcsJ1rg",
        "outputId": "79383aa2-9f5b-4cda-863d-757a2fb58c68"
      },
      "source": [
        "# Remove Stop Words\n",
        "data_words_nostops = remove_stopwords(data_words)\n",
        "\n",
        "# Form Bigrams\n",
        "data_words_bigrams = make_bigrams(data_words_nostops)\n",
        "\n",
        "# Initialize spacy 'en' model, keeping only tagger component (for efficiency)\n",
        "# python3 -m spacy download en\n",
        "nlp = spacy.load('en', disable=['parser', 'ner'])\n",
        "\n",
        "# Do lemmatization keeping only noun, adj, vb, adv\n",
        "data_lemmatized = lemmatization(data_words_bigrams, allowed_postags=['NOUN', 'ADJ', 'VERB', 'ADV'])\n",
        "\n",
        "print(data_lemmatized[:1])"
      ],
      "execution_count": null,
      "outputs": [
        {
          "output_type": "stream",
          "text": [
            "[['introduct', 'acm', 'inform', 'retriev', 'symposium', 'hold', 'symposium', 'sponsor', 'special', 'interest', 'group', 'advanc', 'comput', 'develop', 'system']]\n"
          ],
          "name": "stdout"
        }
      ]
    },
    {
      "cell_type": "code",
      "metadata": {
        "colab": {
          "base_uri": "https://localhost:8080/"
        },
        "id": "e7-iQQl0KDlF",
        "outputId": "4bd5193e-22f8-45ea-8de4-8053d5a5dd9b"
      },
      "source": [
        "# Create Dictionary\n",
        "id2word = corpora.Dictionary(data_lemmatized)\n",
        "\n",
        "# Create Corpus\n",
        "texts = data_lemmatized\n",
        "\n",
        "# Term Document Frequency\n",
        "corpus = [id2word.doc2bow(text) for text in texts]\n",
        "\n",
        "# View\n",
        "print(corpus[:1])"
      ],
      "execution_count": null,
      "outputs": [
        {
          "output_type": "stream",
          "text": [
            "[[(0, 1), (1, 1), (2, 1), (3, 1), (4, 1), (5, 1), (6, 1), (7, 1), (8, 1), (9, 1), (10, 1), (11, 1), (12, 2), (13, 1)]]\n"
          ],
          "name": "stdout"
        }
      ]
    },
    {
      "cell_type": "code",
      "metadata": {
        "colab": {
          "base_uri": "https://localhost:8080/"
        },
        "id": "Dj3yQ4CdKIjo",
        "outputId": "ca396d1e-9acc-4da8-91b5-87c25afac27c"
      },
      "source": [
        "# Human readable format of corpus (term-frequency)\n",
        "[[(id2word[id], freq) for id, freq in cp] for cp in corpus[:1]]"
      ],
      "execution_count": null,
      "outputs": [
        {
          "output_type": "execute_result",
          "data": {
            "text/plain": [
              "[[('acm', 1),\n",
              "  ('advanc', 1),\n",
              "  ('comput', 1),\n",
              "  ('develop', 1),\n",
              "  ('group', 1),\n",
              "  ('hold', 1),\n",
              "  ('inform', 1),\n",
              "  ('interest', 1),\n",
              "  ('introduct', 1),\n",
              "  ('retriev', 1),\n",
              "  ('special', 1),\n",
              "  ('sponsor', 1),\n",
              "  ('symposium', 2),\n",
              "  ('system', 1)]]"
            ]
          },
          "metadata": {
            "tags": []
          },
          "execution_count": 15
        }
      ]
    },
    {
      "cell_type": "code",
      "metadata": {
        "id": "lcbjo5ECKMEe"
      },
      "source": [
        "# Build LDA model\n",
        "lda_model = gensim.models.ldamodel.LdaModel(corpus=corpus,\n",
        "                                           id2word=id2word,\n",
        "                                           num_topics=20, \n",
        "                                           random_state=100,\n",
        "                                           update_every=1,\n",
        "                                           chunksize=100,\n",
        "                                           passes=10,\n",
        "                                           alpha='auto',\n",
        "                                           per_word_topics=True)"
      ],
      "execution_count": null,
      "outputs": []
    },
    {
      "cell_type": "code",
      "metadata": {
        "colab": {
          "base_uri": "https://localhost:8080/"
        },
        "id": "KJhNOl6tKYv5",
        "outputId": "b3fd2e80-d940-4d1c-a854-aed649ae1721"
      },
      "source": [
        "pprint(lda_model.print_topics())\n",
        "doc_lda = lda_model[corpus]"
      ],
      "execution_count": null,
      "outputs": [
        {
          "output_type": "stream",
          "text": [
            "[(0,\n",
            "  '0.275*\"question\" + 0.218*\"answer\" + 0.060*\"character\" + 0.048*\"reflect\" + '\n",
            "  '0.041*\"cluster\" + 0.026*\"close\" + 0.022*\"phase\" + 0.022*\"despit\" + '\n",
            "  '0.021*\"pose\" + 0.019*\"mainli\"'),\n",
            " (1,\n",
            "  '0.304*\"network\" + 0.130*\"aspect\" + 0.109*\"link\" + 0.062*\"far\" + '\n",
            "  '0.060*\"languag\" + 0.046*\"power\" + 0.037*\"total\" + 0.029*\"write\" + '\n",
            "  '0.022*\"multipl\" + 0.019*\"wellknown\"'),\n",
            " (2,\n",
            "  '0.346*\"page\" + 0.158*\"ad\" + 0.155*\"prior\" + 0.043*\"advantag\" + 0.031*\"hard\" '\n",
            "  '+ 0.006*\"insid\" + 0.004*\"grant\" + 0.004*\"bear\" + 0.000*\"web\" + '\n",
            "  '0.000*\"target\"'),\n",
            " (3,\n",
            "  '0.250*\"understand\" + 0.094*\"vector\" + 0.094*\"better\" + 0.088*\"space\" + '\n",
            "  '0.080*\"input\" + 0.070*\"interfac\" + 0.041*\"yield\" + 0.041*\"map\" + '\n",
            "  '0.030*\"hierarch\" + 0.030*\"profession\"'),\n",
            " (4,\n",
            "  '0.136*\"research\" + 0.091*\"item\" + 0.055*\"high\" + 0.045*\"rate\" + '\n",
            "  '0.040*\"limit\" + 0.039*\"level\" + 0.034*\"share\" + 0.032*\"usual\" + '\n",
            "  '0.032*\"public\" + 0.028*\"attent\"'),\n",
            " (5,\n",
            "  '0.120*\"user\" + 0.095*\"search\" + 0.070*\"system\" + 0.058*\"inform\" + '\n",
            "  '0.057*\"task\" + 0.024*\"topic\" + 0.023*\"result\" + 0.021*\"find\" + '\n",
            "  '0.021*\"interest\" + 0.021*\"develop\"'),\n",
            " (6,\n",
            "  '0.125*\"know\" + 0.101*\"major\" + 0.097*\"scale\" + 0.069*\"role\" + 0.067*\"adopt\" '\n",
            "  '+ 0.049*\"year\" + 0.045*\"play\" + 0.042*\"facilit\" + 0.034*\"simul\" + '\n",
            "  '0.032*\"rise\"'),\n",
            " (7,\n",
            "  '0.190*\"product\" + 0.084*\"advanc\" + 0.066*\"formal\" + 0.061*\"author\" + '\n",
            "  '0.058*\"tree\" + 0.056*\"next\" + 0.044*\"long\" + 0.040*\"path\" + 0.034*\"bring\" + '\n",
            "  '0.032*\"sequenc\"'),\n",
            " (8,\n",
            "  '0.338*\"semant\" + 0.155*\"object\" + 0.135*\"class\" + 0.093*\"expert\" + '\n",
            "  '0.040*\"suitabl\" + 0.031*\"formula\" + 0.005*\"arbitrari\" + 0.004*\"primit\" + '\n",
            "  '0.001*\"atom\" + 0.000*\"dataset\"'),\n",
            " (9,\n",
            "  '0.278*\"collect\" + 0.269*\"test\" + 0.114*\"review\" + 0.051*\"contribut\" + '\n",
            "  '0.050*\"come\" + 0.047*\"run\" + 0.017*\"argument\" + 0.017*\"hope\" + 0.012*\"tri\" '\n",
            "  '+ 0.003*\"outsid\"'),\n",
            " (10,\n",
            "  '0.245*\"domain\" + 0.108*\"explain\" + 0.051*\"dimen\" + 0.037*\"summar\" + '\n",
            "  '0.037*\"critic\" + 0.033*\"think\" + 0.032*\"speed\" + 0.031*\"variant\" + '\n",
            "  '0.030*\"reliabl\" + 0.028*\"length\"'),\n",
            " (11,\n",
            "  '0.071*\"model\" + 0.032*\"effect\" + 0.030*\"perform\" + 0.029*\"method\" + '\n",
            "  '0.028*\"document\" + 0.025*\"approach\" + 0.025*\"problem\" + 0.023*\"show\" + '\n",
            "  '0.022*\"set\" + 0.022*\"paper\"'),\n",
            " (12,\n",
            "  '0.138*\"complet\" + 0.103*\"area\" + 0.089*\"judgment\" + 0.066*\"account\" + '\n",
            "  '0.064*\"simpl\" + 0.057*\"trend\" + 0.054*\"furthermor\" + 0.040*\"perspect\" + '\n",
            "  '0.038*\"expen\" + 0.030*\"tend\"'),\n",
            " (13,\n",
            "  '0.274*\"factor\" + 0.110*\"see\" + 0.090*\"keyword\" + 0.078*\"look\" + '\n",
            "  '0.049*\"right\" + 0.038*\"logic\" + 0.032*\"easy\" + 0.032*\"date\" + 0.011*\"none\" '\n",
            "  '+ 0.006*\"inspect\"'),\n",
            " (14,\n",
            "  '0.329*\"learn\" + 0.141*\"rank\" + 0.101*\"train\" + 0.049*\"list\" + 0.041*\"score\" '\n",
            "  '+ 0.038*\"could\" + 0.029*\"group\" + 0.027*\"specif\" + 0.022*\"overal\" + '\n",
            "  '0.022*\"pair\"'),\n",
            " (15,\n",
            "  '0.315*\"address\" + 0.171*\"estim\" + 0.098*\"solut\" + 0.077*\"record\" + '\n",
            "  '0.045*\"segment\" + 0.044*\"attract\" + 0.026*\"jointli\" + 0.021*\"linguist\" + '\n",
            "  '0.014*\"dual\" + 0.009*\"foundat\"'),\n",
            " (16,\n",
            "  '0.000*\"reinvent\" + 0.000*\"inte\" + 0.000*\"era\" + 0.000*\"prehistori\" + '\n",
            "  '0.000*\"reappear\" + 0.000*\"easier\" + 0.000*\"secreci\" + 0.000*\"notat\" + '\n",
            "  '0.000*\"consolid\" + 0.000*\"timesa\"'),\n",
            " (17,\n",
            "  '0.160*\"due\" + 0.151*\"pattern\" + 0.100*\"short\" + 0.068*\"error\" + '\n",
            "  '0.067*\"reduc\" + 0.065*\"remain\" + 0.059*\"transfer\" + 0.033*\"accuraci\" + '\n",
            "  '0.030*\"univer\" + 0.030*\"version\"'),\n",
            " (18,\n",
            "  '0.081*\"datum\" + 0.059*\"predict\" + 0.059*\"time\" + 0.042*\"make\" + '\n",
            "  '0.037*\"help\" + 0.034*\"type\" + 0.031*\"detect\" + 0.028*\"order\" + '\n",
            "  '0.024*\"first\" + 0.024*\"may\"'),\n",
            " (19,\n",
            "  '0.179*\"explor\" + 0.092*\"precis\" + 0.067*\"recal\" + 0.058*\"member\" + '\n",
            "  '0.057*\"almost\" + 0.046*\"boolean\" + 0.045*\"partial\" + 0.044*\"sequenti\" + '\n",
            "  '0.038*\"reduct\" + 0.034*\"illustr\"')]\n"
          ],
          "name": "stdout"
        }
      ]
    },
    {
      "cell_type": "code",
      "metadata": {
        "colab": {
          "base_uri": "https://localhost:8080/"
        },
        "id": "Os48GE3QKcoK",
        "outputId": "4ba58b98-3911-4a6c-fa23-fcdccb5cd355"
      },
      "source": [
        "# Compute Perplexity\n",
        "print('\\nPerplexity: ', lda_model.log_perplexity(corpus))  # a measure of how good the model is. lower the better.\n",
        "\n",
        "# Compute Coherence Score\n",
        "coherence_model_lda = CoherenceModel(model=lda_model, texts=data_lemmatized, dictionary=id2word, coherence='c_v')\n",
        "coherence_lda = coherence_model_lda.get_coherence()\n",
        "print('\\nCoherence Score: ', coherence_lda)"
      ],
      "execution_count": null,
      "outputs": [
        {
          "output_type": "stream",
          "text": [
            "\n",
            "Perplexity:  -11.843457079872005\n",
            "\n",
            "Coherence Score:  0.3413808738414733\n"
          ],
          "name": "stdout"
        }
      ]
    },
    {
      "cell_type": "code",
      "metadata": {
        "colab": {
          "base_uri": "https://localhost:8080/"
        },
        "id": "dsFsMc5d_KDC",
        "outputId": "b9b616cd-19d7-4db7-b801-c092da8e1ea8"
      },
      "source": [
        "coherence = []\n",
        "perplexity = []\n",
        "for k in range(5,100):\n",
        "  print('Round: '+str(k))\n",
        "  lda_model = gensim.models.ldamodel.LdaModel(corpus=corpus,\n",
        "                                           id2word=id2word,\n",
        "                                           num_topics=k, \n",
        "                                           chunksize=10000,\n",
        "                                           passes=10,\n",
        "                                           iterations=200,\n",
        "                                          eval_every = None) \n",
        "  coherence_model_lda = CoherenceModel(model=lda_model, texts=data_lemmatized, dictionary=id2word, coherence='c_v')                                              \n",
        "  coherence.append([k,coherence_model_lda.get_coherence()])\n",
        "  doc_lda = lda_model[corpus]\n",
        "  perplexity.append(lda_model.log_perplexity(corpus))\n"
      ],
      "execution_count": null,
      "outputs": [
        {
          "output_type": "stream",
          "text": [
            "Round: 5\n",
            "Round: 6\n",
            "Round: 7\n",
            "Round: 8\n",
            "Round: 9\n",
            "Round: 10\n",
            "Round: 11\n",
            "Round: 12\n",
            "Round: 13\n",
            "Round: 14\n",
            "Round: 15\n",
            "Round: 16\n",
            "Round: 17\n",
            "Round: 18\n",
            "Round: 19\n",
            "Round: 20\n",
            "Round: 21\n",
            "Round: 22\n",
            "Round: 23\n",
            "Round: 24\n",
            "Round: 25\n",
            "Round: 26\n",
            "Round: 27\n",
            "Round: 28\n",
            "Round: 29\n",
            "Round: 30\n",
            "Round: 31\n",
            "Round: 32\n",
            "Round: 33\n",
            "Round: 34\n",
            "Round: 35\n",
            "Round: 36\n",
            "Round: 37\n",
            "Round: 38\n",
            "Round: 39\n",
            "Round: 40\n",
            "Round: 41\n",
            "Round: 42\n",
            "Round: 43\n",
            "Round: 44\n",
            "Round: 45\n",
            "Round: 46\n",
            "Round: 47\n",
            "Round: 48\n",
            "Round: 49\n",
            "Round: 50\n",
            "Round: 51\n",
            "Round: 52\n",
            "Round: 53\n",
            "Round: 54\n",
            "Round: 55\n",
            "Round: 56\n",
            "Round: 57\n",
            "Round: 58\n",
            "Round: 59\n",
            "Round: 60\n",
            "Round: 61\n",
            "Round: 62\n",
            "Round: 63\n",
            "Round: 64\n",
            "Round: 65\n",
            "Round: 66\n",
            "Round: 67\n",
            "Round: 68\n",
            "Round: 69\n",
            "Round: 70\n",
            "Round: 71\n",
            "Round: 72\n",
            "Round: 73\n",
            "Round: 74\n",
            "Round: 75\n",
            "Round: 76\n",
            "Round: 77\n",
            "Round: 78\n",
            "Round: 79\n",
            "Round: 80\n",
            "Round: 81\n",
            "Round: 82\n",
            "Round: 83\n",
            "Round: 84\n",
            "Round: 85\n",
            "Round: 86\n",
            "Round: 87\n",
            "Round: 88\n",
            "Round: 89\n",
            "Round: 90\n",
            "Round: 91\n",
            "Round: 92\n",
            "Round: 93\n",
            "Round: 94\n",
            "Round: 95\n",
            "Round: 96\n",
            "Round: 97\n",
            "Round: 98\n",
            "Round: 99\n"
          ],
          "name": "stdout"
        }
      ]
    },
    {
      "cell_type": "code",
      "metadata": {
        "colab": {
          "base_uri": "https://localhost:8080/"
        },
        "id": "NVEj23TaB89P",
        "outputId": "7540b8d9-01cc-40c5-a5e1-8891a0776977"
      },
      "source": [
        "print(coherence)\n",
        "print(perplexity)"
      ],
      "execution_count": null,
      "outputs": [
        {
          "output_type": "stream",
          "text": [
            "[[5, 0.32131398837018005], [6, 0.34301851181097326], [7, 0.3451323112711918], [8, 0.3293579091776484], [9, 0.3411289976267073], [10, 0.3281008209746063], [11, 0.332500323842521], [12, 0.318448798197049], [13, 0.3198709412226448], [14, 0.31834598371697403], [15, 0.33149041792703043], [16, 0.3441529287192103], [17, 0.321715433287995], [18, 0.32893686329521044], [19, 0.3309625364809664], [20, 0.3323248678618932], [21, 0.33237236273972653], [22, 0.33237028769892585], [23, 0.331920888627938], [24, 0.32961443314650185], [25, 0.3189399655719911], [26, 0.3331210186183314], [27, 0.3287528374918496], [28, 0.33032113665457496], [29, 0.3361795979871357], [30, 0.3220062384841357], [31, 0.3343880730054535], [32, 0.3201087729732998], [33, 0.32496997717492443], [34, 0.33652466320643354], [35, 0.321501305777392], [36, 0.34001088012353214], [37, 0.3340026124227133], [38, 0.32797731957662396], [39, 0.3263346186989653], [40, 0.3224764111923283], [41, 0.3293182949427298], [42, 0.3226347819348991], [43, 0.3168356067171905], [44, 0.3231354138420792], [45, 0.3320197727177391], [46, 0.31943393375935514], [47, 0.329352885531428], [48, 0.32638306870720774], [49, 0.3155922978861895], [50, 0.32069590844841933], [51, 0.3252552947904412], [52, 0.32202852853055125], [53, 0.33292330259064035], [54, 0.319898486984743], [55, 0.32121919467702514], [56, 0.322335813796466], [57, 0.32670524611582913], [58, 0.32223550596051886], [59, 0.3243615418342188], [60, 0.3149928700143471], [61, 0.3246863354646233], [62, 0.3188056070948433], [63, 0.32304358996464405], [64, 0.3165240574282211], [65, 0.31372123368348304], [66, 0.3232610948591087], [67, 0.32434385547513545], [68, 0.3125467202827727], [69, 0.3126958317827439], [70, 0.3150408744970964], [71, 0.3211016449377894], [72, 0.3249531975798643], [73, 0.3203349760239562], [74, 0.3241691748975871], [75, 0.32000508474102013], [76, 0.32240082720678237], [77, 0.32302215274429075], [78, 0.3125247123186703], [79, 0.30815085509541856], [80, 0.31922081194097807], [81, 0.3203264416259732], [82, 0.324980817938958], [83, 0.3159293363759585], [84, 0.32116673542307317], [85, 0.3169012968579332], [86, 0.3144585497293845], [87, 0.3107581040214028], [88, 0.31803128937832187], [89, 0.32043772635576395], [90, 0.31628374772079754], [91, 0.3197388120167765], [92, 0.31847293399404836], [93, 0.31235413545968654], [94, 0.31663063610098824], [95, 0.31132162487677906], [96, 0.31055253181659903], [97, 0.3105277300749351], [98, 0.3140081463644637], [99, 0.310162276447208]]\n",
            "[-6.740453948629975, -6.744425663336193, -6.774196832300734, -6.7700438378587116, -6.775336758889845, -6.793613437853748, -6.79938780980801, -6.809512398444004, -6.829375225419639, -6.829439253021821, -6.825167898905228, -6.822999856597176, -6.8577161028098175, -6.83590108275528, -6.865235710271211, -6.8704313791504985, -6.867105101618264, -6.876939584350737, -6.878970653952071, -6.889376653911974, -6.913933022260968, -6.907064691361224, -6.9130069928269755, -6.925133819583872, -6.941434287215641, -6.926638447731685, -6.944462763626393, -6.944457932753469, -6.957094227721814, -6.966859208833793, -6.959703357855518, -6.988703948724111, -6.968357036907157, -6.981840958683899, -6.9955786503873005, -6.997506687120521, -7.016244628960621, -7.011839915184269, -7.0181368154509105, -7.023519397033251, -7.04068832680611, -7.0435469974139, -7.039841201891083, -7.055974661541845, -7.066533362180149, -7.057896217954998, -7.0672767941303585, -7.088699363215323, -7.093650696069688, -7.09764014861946, -7.1137801778113845, -7.101306121851007, -7.115747893027953, -7.123225544189275, -7.115069906519523, -7.140818394962163, -7.133912865429763, -7.140497816442674, -7.150736500368271, -7.144584107597231, -7.160046935704946, -7.166050688623774, -7.177267697950645, -7.169855341395331, -7.162892908328434, -7.198975230373846, -7.20122424629096, -7.214195893742363, -7.212456592421133, -7.226869760537542, -7.206141290727808, -7.2332886455143655, -7.225661285541652, -7.228114748012901, -7.231502809217634, -7.242525464065852, -7.251678131232528, -7.2599061168957135, -7.262960421778468, -7.275005608501255, -7.275560495321852, -7.286144808317688, -7.287935588622644, -7.285444292677791, -7.2835222007844695, -7.304753513669108, -7.290276453069748, -7.313744947190327, -7.3129323330356835, -7.309700628627839, -7.3239450614672155, -7.31356249734569, -7.330531787873735, -7.344770270759825, -7.348953960204498]\n"
          ],
          "name": "stdout"
        }
      ]
    },
    {
      "cell_type": "code",
      "metadata": {
        "colab": {
          "base_uri": "https://localhost:8080/",
          "height": 414
        },
        "id": "G9cO2kD-R1PQ",
        "outputId": "f9b9186c-8ed4-4006-99e7-6cee7a2aa886"
      },
      "source": [
        "column_names = [\"num topics\",\"Coherence\"]\n",
        "df = pd.DataFrame(coherence, columns=column_names)\n",
        "df['perplexity'] = perplexity\n",
        "df"
      ],
      "execution_count": null,
      "outputs": [
        {
          "output_type": "execute_result",
          "data": {
            "text/html": [
              "<div>\n",
              "<style scoped>\n",
              "    .dataframe tbody tr th:only-of-type {\n",
              "        vertical-align: middle;\n",
              "    }\n",
              "\n",
              "    .dataframe tbody tr th {\n",
              "        vertical-align: top;\n",
              "    }\n",
              "\n",
              "    .dataframe thead th {\n",
              "        text-align: right;\n",
              "    }\n",
              "</style>\n",
              "<table border=\"1\" class=\"dataframe\">\n",
              "  <thead>\n",
              "    <tr style=\"text-align: right;\">\n",
              "      <th></th>\n",
              "      <th>num topics</th>\n",
              "      <th>Coherence</th>\n",
              "      <th>perplexity</th>\n",
              "    </tr>\n",
              "  </thead>\n",
              "  <tbody>\n",
              "    <tr>\n",
              "      <th>0</th>\n",
              "      <td>5</td>\n",
              "      <td>0.321314</td>\n",
              "      <td>-6.740454</td>\n",
              "    </tr>\n",
              "    <tr>\n",
              "      <th>1</th>\n",
              "      <td>6</td>\n",
              "      <td>0.343019</td>\n",
              "      <td>-6.744426</td>\n",
              "    </tr>\n",
              "    <tr>\n",
              "      <th>2</th>\n",
              "      <td>7</td>\n",
              "      <td>0.345132</td>\n",
              "      <td>-6.774197</td>\n",
              "    </tr>\n",
              "    <tr>\n",
              "      <th>3</th>\n",
              "      <td>8</td>\n",
              "      <td>0.329358</td>\n",
              "      <td>-6.770044</td>\n",
              "    </tr>\n",
              "    <tr>\n",
              "      <th>4</th>\n",
              "      <td>9</td>\n",
              "      <td>0.341129</td>\n",
              "      <td>-6.775337</td>\n",
              "    </tr>\n",
              "    <tr>\n",
              "      <th>...</th>\n",
              "      <td>...</td>\n",
              "      <td>...</td>\n",
              "      <td>...</td>\n",
              "    </tr>\n",
              "    <tr>\n",
              "      <th>90</th>\n",
              "      <td>95</td>\n",
              "      <td>0.311322</td>\n",
              "      <td>-7.323945</td>\n",
              "    </tr>\n",
              "    <tr>\n",
              "      <th>91</th>\n",
              "      <td>96</td>\n",
              "      <td>0.310553</td>\n",
              "      <td>-7.313562</td>\n",
              "    </tr>\n",
              "    <tr>\n",
              "      <th>92</th>\n",
              "      <td>97</td>\n",
              "      <td>0.310528</td>\n",
              "      <td>-7.330532</td>\n",
              "    </tr>\n",
              "    <tr>\n",
              "      <th>93</th>\n",
              "      <td>98</td>\n",
              "      <td>0.314008</td>\n",
              "      <td>-7.344770</td>\n",
              "    </tr>\n",
              "    <tr>\n",
              "      <th>94</th>\n",
              "      <td>99</td>\n",
              "      <td>0.310162</td>\n",
              "      <td>-7.348954</td>\n",
              "    </tr>\n",
              "  </tbody>\n",
              "</table>\n",
              "<p>95 rows × 3 columns</p>\n",
              "</div>"
            ],
            "text/plain": [
              "    num topics  Coherence  perplexity\n",
              "0            5   0.321314   -6.740454\n",
              "1            6   0.343019   -6.744426\n",
              "2            7   0.345132   -6.774197\n",
              "3            8   0.329358   -6.770044\n",
              "4            9   0.341129   -6.775337\n",
              "..         ...        ...         ...\n",
              "90          95   0.311322   -7.323945\n",
              "91          96   0.310553   -7.313562\n",
              "92          97   0.310528   -7.330532\n",
              "93          98   0.314008   -7.344770\n",
              "94          99   0.310162   -7.348954\n",
              "\n",
              "[95 rows x 3 columns]"
            ]
          },
          "metadata": {
            "tags": []
          },
          "execution_count": 24
        }
      ]
    },
    {
      "cell_type": "code",
      "metadata": {
        "colab": {
          "base_uri": "https://localhost:8080/",
          "height": 542
        },
        "id": "pCgzBNNGdRIV",
        "outputId": "04626824-b82f-4a3e-db59-4d26e310ac81"
      },
      "source": [
        "import plotly.graph_objects as go\n",
        "from plotly.subplots import make_subplots\n",
        "\n",
        "# Create figure with secondary y-axis\n",
        "fig = make_subplots(specs=[[{\"secondary_y\": True}]])\n",
        "\n",
        "# Add traces\n",
        "fig.add_trace(\n",
        "    go.Scatter(x=df['num topics'], y=df['Coherence'], name=\"coherence\"),\n",
        "    secondary_y=False,\n",
        ")\n",
        "\n",
        "fig.add_trace(\n",
        "    go.Scatter(x=df['num topics'], y=df['perplexity'], name=\"perplexity\"),\n",
        "    secondary_y=True,\n",
        ")\n",
        "\n",
        "# Add figure title\n",
        "fig.update_layout(\n",
        "    title_text=\"Coherence and preplexity\"\n",
        ")\n",
        "\n",
        "\n",
        "# Set x-axis title\n",
        "fig.update_xaxes(title_text=\"Num topics\")\n",
        "\n",
        "# Set y-axes titles\n",
        "fig.update_yaxes(title_text=\"Coherence\", secondary_y=False)\n",
        "fig.update_yaxes(title_text=\"Perplexity\", secondary_y=True)\n",
        "fig.update_layout(\n",
        "    legend=dict(\n",
        "        x=0.82,\n",
        "        y=.9,\n",
        "        traceorder=\"normal\",\n",
        "        font=dict(\n",
        "            family=\"sans-serif\",\n",
        "            size=12,\n",
        "            color=\"black\"\n",
        "        ),\n",
        "    )\n",
        ")\n",
        "\n",
        "fig.show()"
      ],
      "execution_count": null,
      "outputs": [
        {
          "output_type": "display_data",
          "data": {
            "text/html": [
              "<html>\n",
              "<head><meta charset=\"utf-8\" /></head>\n",
              "<body>\n",
              "    <div>            <script src=\"https://cdnjs.cloudflare.com/ajax/libs/mathjax/2.7.5/MathJax.js?config=TeX-AMS-MML_SVG\"></script><script type=\"text/javascript\">if (window.MathJax) {MathJax.Hub.Config({SVG: {font: \"STIX-Web\"}});}</script>                <script type=\"text/javascript\">window.PlotlyConfig = {MathJaxConfig: 'local'};</script>\n",
              "        <script src=\"https://cdn.plot.ly/plotly-latest.min.js\"></script>                <div id=\"d4e7d0f7-abd4-4276-a847-45931cedb5e3\" class=\"plotly-graph-div\" style=\"height:525px; width:100%;\"></div>            <script type=\"text/javascript\">                                    window.PLOTLYENV=window.PLOTLYENV || {};                                    if (document.getElementById(\"d4e7d0f7-abd4-4276-a847-45931cedb5e3\")) {                    Plotly.newPlot(                        \"d4e7d0f7-abd4-4276-a847-45931cedb5e3\",                        [{\"name\": \"coherence\", \"type\": \"scatter\", \"x\": [5, 6, 7, 8, 9, 10, 11, 12, 13, 14, 15, 16, 17, 18, 19, 20, 21, 22, 23, 24, 25, 26, 27, 28, 29, 30, 31, 32, 33, 34, 35, 36, 37, 38, 39, 40, 41, 42, 43, 44, 45, 46, 47, 48, 49, 50, 51, 52, 53, 54, 55, 56, 57, 58, 59, 60, 61, 62, 63, 64, 65, 66, 67, 68, 69, 70, 71, 72, 73, 74, 75, 76, 77, 78, 79, 80, 81, 82, 83, 84, 85, 86, 87, 88, 89, 90, 91, 92, 93, 94, 95, 96, 97, 98, 99], \"xaxis\": \"x\", \"y\": [0.32131398837018005, 0.34301851181097326, 0.3451323112711918, 0.3293579091776484, 0.3411289976267073, 0.3281008209746063, 0.332500323842521, 0.318448798197049, 0.3198709412226448, 0.31834598371697403, 0.33149041792703043, 0.3441529287192103, 0.321715433287995, 0.32893686329521044, 0.3309625364809664, 0.3323248678618932, 0.33237236273972653, 0.33237028769892585, 0.331920888627938, 0.32961443314650185, 0.3189399655719911, 0.3331210186183314, 0.3287528374918496, 0.33032113665457496, 0.3361795979871357, 0.3220062384841357, 0.3343880730054535, 0.3201087729732998, 0.32496997717492443, 0.33652466320643354, 0.321501305777392, 0.34001088012353214, 0.3340026124227133, 0.32797731957662396, 0.3263346186989653, 0.3224764111923283, 0.3293182949427298, 0.3226347819348991, 0.3168356067171905, 0.3231354138420792, 0.3320197727177391, 0.31943393375935514, 0.329352885531428, 0.32638306870720774, 0.3155922978861895, 0.32069590844841933, 0.3252552947904412, 0.32202852853055125, 0.33292330259064035, 0.319898486984743, 0.32121919467702514, 0.322335813796466, 0.32670524611582913, 0.32223550596051886, 0.3243615418342188, 0.3149928700143471, 0.3246863354646233, 0.3188056070948433, 0.32304358996464405, 0.3165240574282211, 0.31372123368348304, 0.3232610948591087, 0.32434385547513545, 0.3125467202827727, 0.3126958317827439, 0.3150408744970964, 0.3211016449377894, 0.3249531975798643, 0.3203349760239562, 0.3241691748975871, 0.32000508474102013, 0.32240082720678237, 0.32302215274429075, 0.3125247123186703, 0.30815085509541856, 0.31922081194097807, 0.3203264416259732, 0.324980817938958, 0.3159293363759585, 0.32116673542307317, 0.3169012968579332, 0.3144585497293845, 0.3107581040214028, 0.31803128937832187, 0.32043772635576395, 0.31628374772079754, 0.3197388120167765, 0.31847293399404836, 0.31235413545968654, 0.31663063610098824, 0.31132162487677906, 0.31055253181659903, 0.3105277300749351, 0.3140081463644637, 0.310162276447208], \"yaxis\": \"y\"}, {\"name\": \"perplexity\", \"type\": \"scatter\", \"x\": [5, 6, 7, 8, 9, 10, 11, 12, 13, 14, 15, 16, 17, 18, 19, 20, 21, 22, 23, 24, 25, 26, 27, 28, 29, 30, 31, 32, 33, 34, 35, 36, 37, 38, 39, 40, 41, 42, 43, 44, 45, 46, 47, 48, 49, 50, 51, 52, 53, 54, 55, 56, 57, 58, 59, 60, 61, 62, 63, 64, 65, 66, 67, 68, 69, 70, 71, 72, 73, 74, 75, 76, 77, 78, 79, 80, 81, 82, 83, 84, 85, 86, 87, 88, 89, 90, 91, 92, 93, 94, 95, 96, 97, 98, 99], \"xaxis\": \"x\", \"y\": [-6.740453948629975, -6.744425663336193, -6.774196832300734, -6.7700438378587116, -6.775336758889845, -6.793613437853748, -6.79938780980801, -6.809512398444004, -6.829375225419639, -6.829439253021821, -6.825167898905228, -6.822999856597176, -6.8577161028098175, -6.83590108275528, -6.865235710271211, -6.8704313791504985, -6.867105101618264, -6.876939584350737, -6.878970653952071, -6.889376653911974, -6.913933022260968, -6.907064691361224, -6.9130069928269755, -6.925133819583872, -6.941434287215641, -6.926638447731685, -6.944462763626393, -6.944457932753469, -6.957094227721814, -6.966859208833793, -6.959703357855518, -6.988703948724111, -6.968357036907157, -6.981840958683899, -6.9955786503873005, -6.997506687120521, -7.016244628960621, -7.011839915184269, -7.0181368154509105, -7.023519397033251, -7.04068832680611, -7.0435469974139, -7.039841201891083, -7.055974661541845, -7.066533362180149, -7.057896217954998, -7.0672767941303585, -7.088699363215323, -7.093650696069688, -7.09764014861946, -7.1137801778113845, -7.101306121851007, -7.115747893027953, -7.123225544189275, -7.115069906519523, -7.140818394962163, -7.133912865429763, -7.140497816442674, -7.150736500368271, -7.144584107597231, -7.160046935704946, -7.166050688623774, -7.177267697950645, -7.169855341395331, -7.162892908328434, -7.198975230373846, -7.20122424629096, -7.214195893742363, -7.212456592421133, -7.226869760537542, -7.206141290727808, -7.2332886455143655, -7.225661285541652, -7.228114748012901, -7.231502809217634, -7.242525464065852, -7.251678131232528, -7.2599061168957135, -7.262960421778468, -7.275005608501255, -7.275560495321852, -7.286144808317688, -7.287935588622644, -7.285444292677791, -7.2835222007844695, -7.304753513669108, -7.290276453069748, -7.313744947190327, -7.3129323330356835, -7.309700628627839, -7.3239450614672155, -7.31356249734569, -7.330531787873735, -7.344770270759825, -7.348953960204498], \"yaxis\": \"y2\"}],                        {\"legend\": {\"font\": {\"color\": \"black\", \"family\": \"sans-serif\", \"size\": 12}, \"traceorder\": \"normal\", \"x\": 0.82, \"y\": 0.9}, \"template\": {\"data\": {\"bar\": [{\"error_x\": {\"color\": \"#2a3f5f\"}, \"error_y\": {\"color\": \"#2a3f5f\"}, \"marker\": {\"line\": {\"color\": \"#E5ECF6\", \"width\": 0.5}}, \"type\": \"bar\"}], \"barpolar\": [{\"marker\": {\"line\": {\"color\": \"#E5ECF6\", \"width\": 0.5}}, \"type\": \"barpolar\"}], \"carpet\": [{\"aaxis\": {\"endlinecolor\": \"#2a3f5f\", \"gridcolor\": \"white\", \"linecolor\": \"white\", \"minorgridcolor\": \"white\", \"startlinecolor\": \"#2a3f5f\"}, \"baxis\": {\"endlinecolor\": \"#2a3f5f\", \"gridcolor\": \"white\", \"linecolor\": \"white\", \"minorgridcolor\": \"white\", \"startlinecolor\": \"#2a3f5f\"}, \"type\": \"carpet\"}], \"choropleth\": [{\"colorbar\": {\"outlinewidth\": 0, \"ticks\": \"\"}, \"type\": \"choropleth\"}], \"contour\": [{\"colorbar\": {\"outlinewidth\": 0, \"ticks\": \"\"}, \"colorscale\": [[0.0, \"#0d0887\"], [0.1111111111111111, \"#46039f\"], [0.2222222222222222, \"#7201a8\"], [0.3333333333333333, \"#9c179e\"], [0.4444444444444444, \"#bd3786\"], [0.5555555555555556, \"#d8576b\"], [0.6666666666666666, \"#ed7953\"], [0.7777777777777778, \"#fb9f3a\"], [0.8888888888888888, \"#fdca26\"], [1.0, \"#f0f921\"]], \"type\": \"contour\"}], \"contourcarpet\": [{\"colorbar\": {\"outlinewidth\": 0, \"ticks\": \"\"}, \"type\": \"contourcarpet\"}], \"heatmap\": [{\"colorbar\": {\"outlinewidth\": 0, \"ticks\": \"\"}, \"colorscale\": [[0.0, \"#0d0887\"], [0.1111111111111111, \"#46039f\"], [0.2222222222222222, \"#7201a8\"], [0.3333333333333333, \"#9c179e\"], [0.4444444444444444, \"#bd3786\"], [0.5555555555555556, \"#d8576b\"], [0.6666666666666666, \"#ed7953\"], [0.7777777777777778, \"#fb9f3a\"], [0.8888888888888888, \"#fdca26\"], [1.0, \"#f0f921\"]], \"type\": \"heatmap\"}], \"heatmapgl\": [{\"colorbar\": {\"outlinewidth\": 0, \"ticks\": \"\"}, \"colorscale\": [[0.0, \"#0d0887\"], [0.1111111111111111, \"#46039f\"], [0.2222222222222222, \"#7201a8\"], [0.3333333333333333, \"#9c179e\"], [0.4444444444444444, \"#bd3786\"], [0.5555555555555556, \"#d8576b\"], [0.6666666666666666, \"#ed7953\"], [0.7777777777777778, \"#fb9f3a\"], [0.8888888888888888, \"#fdca26\"], [1.0, \"#f0f921\"]], \"type\": \"heatmapgl\"}], \"histogram\": [{\"marker\": {\"colorbar\": {\"outlinewidth\": 0, \"ticks\": \"\"}}, \"type\": \"histogram\"}], \"histogram2d\": [{\"colorbar\": {\"outlinewidth\": 0, \"ticks\": \"\"}, \"colorscale\": [[0.0, \"#0d0887\"], [0.1111111111111111, \"#46039f\"], [0.2222222222222222, \"#7201a8\"], [0.3333333333333333, \"#9c179e\"], [0.4444444444444444, \"#bd3786\"], [0.5555555555555556, \"#d8576b\"], [0.6666666666666666, \"#ed7953\"], [0.7777777777777778, \"#fb9f3a\"], [0.8888888888888888, \"#fdca26\"], [1.0, \"#f0f921\"]], \"type\": \"histogram2d\"}], \"histogram2dcontour\": [{\"colorbar\": {\"outlinewidth\": 0, \"ticks\": \"\"}, \"colorscale\": [[0.0, \"#0d0887\"], [0.1111111111111111, \"#46039f\"], [0.2222222222222222, \"#7201a8\"], [0.3333333333333333, \"#9c179e\"], [0.4444444444444444, \"#bd3786\"], [0.5555555555555556, \"#d8576b\"], [0.6666666666666666, \"#ed7953\"], [0.7777777777777778, \"#fb9f3a\"], [0.8888888888888888, \"#fdca26\"], [1.0, \"#f0f921\"]], \"type\": \"histogram2dcontour\"}], \"mesh3d\": [{\"colorbar\": {\"outlinewidth\": 0, \"ticks\": \"\"}, \"type\": \"mesh3d\"}], \"parcoords\": [{\"line\": {\"colorbar\": {\"outlinewidth\": 0, \"ticks\": \"\"}}, \"type\": \"parcoords\"}], \"pie\": [{\"automargin\": true, \"type\": \"pie\"}], \"scatter\": [{\"marker\": {\"colorbar\": {\"outlinewidth\": 0, \"ticks\": \"\"}}, \"type\": \"scatter\"}], \"scatter3d\": [{\"line\": {\"colorbar\": {\"outlinewidth\": 0, \"ticks\": \"\"}}, \"marker\": {\"colorbar\": {\"outlinewidth\": 0, \"ticks\": \"\"}}, \"type\": \"scatter3d\"}], \"scattercarpet\": [{\"marker\": {\"colorbar\": {\"outlinewidth\": 0, \"ticks\": \"\"}}, \"type\": \"scattercarpet\"}], \"scattergeo\": [{\"marker\": {\"colorbar\": {\"outlinewidth\": 0, \"ticks\": \"\"}}, \"type\": \"scattergeo\"}], \"scattergl\": [{\"marker\": {\"colorbar\": {\"outlinewidth\": 0, \"ticks\": \"\"}}, \"type\": \"scattergl\"}], \"scattermapbox\": [{\"marker\": {\"colorbar\": {\"outlinewidth\": 0, \"ticks\": \"\"}}, \"type\": \"scattermapbox\"}], \"scatterpolar\": [{\"marker\": {\"colorbar\": {\"outlinewidth\": 0, \"ticks\": \"\"}}, \"type\": \"scatterpolar\"}], \"scatterpolargl\": [{\"marker\": {\"colorbar\": {\"outlinewidth\": 0, \"ticks\": \"\"}}, \"type\": \"scatterpolargl\"}], \"scatterternary\": [{\"marker\": {\"colorbar\": {\"outlinewidth\": 0, \"ticks\": \"\"}}, \"type\": \"scatterternary\"}], \"surface\": [{\"colorbar\": {\"outlinewidth\": 0, \"ticks\": \"\"}, \"colorscale\": [[0.0, \"#0d0887\"], [0.1111111111111111, \"#46039f\"], [0.2222222222222222, \"#7201a8\"], [0.3333333333333333, \"#9c179e\"], [0.4444444444444444, \"#bd3786\"], [0.5555555555555556, \"#d8576b\"], [0.6666666666666666, \"#ed7953\"], [0.7777777777777778, \"#fb9f3a\"], [0.8888888888888888, \"#fdca26\"], [1.0, \"#f0f921\"]], \"type\": \"surface\"}], \"table\": [{\"cells\": {\"fill\": {\"color\": \"#EBF0F8\"}, \"line\": {\"color\": \"white\"}}, \"header\": {\"fill\": {\"color\": \"#C8D4E3\"}, \"line\": {\"color\": \"white\"}}, \"type\": \"table\"}]}, \"layout\": {\"annotationdefaults\": {\"arrowcolor\": \"#2a3f5f\", \"arrowhead\": 0, \"arrowwidth\": 1}, \"autotypenumbers\": \"strict\", \"coloraxis\": {\"colorbar\": {\"outlinewidth\": 0, \"ticks\": \"\"}}, \"colorscale\": {\"diverging\": [[0, \"#8e0152\"], [0.1, \"#c51b7d\"], [0.2, \"#de77ae\"], [0.3, \"#f1b6da\"], [0.4, \"#fde0ef\"], [0.5, \"#f7f7f7\"], [0.6, \"#e6f5d0\"], [0.7, \"#b8e186\"], [0.8, \"#7fbc41\"], [0.9, \"#4d9221\"], [1, \"#276419\"]], \"sequential\": [[0.0, \"#0d0887\"], [0.1111111111111111, \"#46039f\"], [0.2222222222222222, \"#7201a8\"], [0.3333333333333333, \"#9c179e\"], [0.4444444444444444, \"#bd3786\"], [0.5555555555555556, \"#d8576b\"], [0.6666666666666666, \"#ed7953\"], [0.7777777777777778, \"#fb9f3a\"], [0.8888888888888888, \"#fdca26\"], [1.0, \"#f0f921\"]], \"sequentialminus\": [[0.0, \"#0d0887\"], [0.1111111111111111, \"#46039f\"], [0.2222222222222222, \"#7201a8\"], [0.3333333333333333, \"#9c179e\"], [0.4444444444444444, \"#bd3786\"], [0.5555555555555556, \"#d8576b\"], [0.6666666666666666, \"#ed7953\"], [0.7777777777777778, \"#fb9f3a\"], [0.8888888888888888, \"#fdca26\"], [1.0, \"#f0f921\"]]}, \"colorway\": [\"#636efa\", \"#EF553B\", \"#00cc96\", \"#ab63fa\", \"#FFA15A\", \"#19d3f3\", \"#FF6692\", \"#B6E880\", \"#FF97FF\", \"#FECB52\"], \"font\": {\"color\": \"#2a3f5f\"}, \"geo\": {\"bgcolor\": \"white\", \"lakecolor\": \"white\", \"landcolor\": \"#E5ECF6\", \"showlakes\": true, \"showland\": true, \"subunitcolor\": \"white\"}, \"hoverlabel\": {\"align\": \"left\"}, \"hovermode\": \"closest\", \"mapbox\": {\"style\": \"light\"}, \"paper_bgcolor\": \"white\", \"plot_bgcolor\": \"#E5ECF6\", \"polar\": {\"angularaxis\": {\"gridcolor\": \"white\", \"linecolor\": \"white\", \"ticks\": \"\"}, \"bgcolor\": \"#E5ECF6\", \"radialaxis\": {\"gridcolor\": \"white\", \"linecolor\": \"white\", \"ticks\": \"\"}}, \"scene\": {\"xaxis\": {\"backgroundcolor\": \"#E5ECF6\", \"gridcolor\": \"white\", \"gridwidth\": 2, \"linecolor\": \"white\", \"showbackground\": true, \"ticks\": \"\", \"zerolinecolor\": \"white\"}, \"yaxis\": {\"backgroundcolor\": \"#E5ECF6\", \"gridcolor\": \"white\", \"gridwidth\": 2, \"linecolor\": \"white\", \"showbackground\": true, \"ticks\": \"\", \"zerolinecolor\": \"white\"}, \"zaxis\": {\"backgroundcolor\": \"#E5ECF6\", \"gridcolor\": \"white\", \"gridwidth\": 2, \"linecolor\": \"white\", \"showbackground\": true, \"ticks\": \"\", \"zerolinecolor\": \"white\"}}, \"shapedefaults\": {\"line\": {\"color\": \"#2a3f5f\"}}, \"ternary\": {\"aaxis\": {\"gridcolor\": \"white\", \"linecolor\": \"white\", \"ticks\": \"\"}, \"baxis\": {\"gridcolor\": \"white\", \"linecolor\": \"white\", \"ticks\": \"\"}, \"bgcolor\": \"#E5ECF6\", \"caxis\": {\"gridcolor\": \"white\", \"linecolor\": \"white\", \"ticks\": \"\"}}, \"title\": {\"x\": 0.05}, \"xaxis\": {\"automargin\": true, \"gridcolor\": \"white\", \"linecolor\": \"white\", \"ticks\": \"\", \"title\": {\"standoff\": 15}, \"zerolinecolor\": \"white\", \"zerolinewidth\": 2}, \"yaxis\": {\"automargin\": true, \"gridcolor\": \"white\", \"linecolor\": \"white\", \"ticks\": \"\", \"title\": {\"standoff\": 15}, \"zerolinecolor\": \"white\", \"zerolinewidth\": 2}}}, \"title\": {\"text\": \"Coherence and preplexity\"}, \"xaxis\": {\"anchor\": \"y\", \"domain\": [0.0, 0.94], \"title\": {\"text\": \"Num topics\"}}, \"yaxis\": {\"anchor\": \"x\", \"domain\": [0.0, 1.0], \"title\": {\"text\": \"Coherence\"}}, \"yaxis2\": {\"anchor\": \"x\", \"overlaying\": \"y\", \"side\": \"right\", \"title\": {\"text\": \"Perplexity\"}}},                        {\"responsive\": true}                    ).then(function(){\n",
              "                            \n",
              "var gd = document.getElementById('d4e7d0f7-abd4-4276-a847-45931cedb5e3');\n",
              "var x = new MutationObserver(function (mutations, observer) {{\n",
              "        var display = window.getComputedStyle(gd).display;\n",
              "        if (!display || display === 'none') {{\n",
              "            console.log([gd, 'removed!']);\n",
              "            Plotly.purge(gd);\n",
              "            observer.disconnect();\n",
              "        }}\n",
              "}});\n",
              "\n",
              "// Listen for the removal of the full notebook cells\n",
              "var notebookContainer = gd.closest('#notebook-container');\n",
              "if (notebookContainer) {{\n",
              "    x.observe(notebookContainer, {childList: true});\n",
              "}}\n",
              "\n",
              "// Listen for the clearing of the current output cell\n",
              "var outputEl = gd.closest('.output');\n",
              "if (outputEl) {{\n",
              "    x.observe(outputEl, {childList: true});\n",
              "}}\n",
              "\n",
              "                        })                };                            </script>        </div>\n",
              "</body>\n",
              "</html>"
            ]
          },
          "metadata": {
            "tags": []
          }
        }
      ]
    },
    {
      "cell_type": "code",
      "metadata": {
        "colab": {
          "base_uri": "https://localhost:8080/",
          "height": 881
        },
        "id": "GWWSsJqoKlAl",
        "outputId": "f8181335-b9bd-4ee5-a892-76c2841507c3"
      },
      "source": [
        "# Visualize the topics\n",
        "pyLDAvis.enable_notebook()\n",
        "vis = pyLDAvis.gensim.prepare(lda_model, corpus, id2word)\n",
        "vis"
      ],
      "execution_count": null,
      "outputs": [
        {
          "output_type": "execute_result",
          "data": {
            "text/html": [
              "\n",
              "<link rel=\"stylesheet\" type=\"text/css\" href=\"https://cdn.rawgit.com/bmabey/pyLDAvis/files/ldavis.v1.0.0.css\">\n",
              "\n",
              "\n",
              "<div id=\"ldavis_el4591405890572299047763842924\"></div>\n",
              "<script type=\"text/javascript\">\n",
              "\n",
              "var ldavis_el4591405890572299047763842924_data = {\"mdsDat\": {\"x\": [-0.3953971086094398, -0.10878375258680917, -0.08398387729965469, -0.04097619491889251, -0.05497711626516417, 0.03727100039992983, 0.007024371369770254, 0.0124094155169222, 0.05139466783989324, 0.01946199694873917, 0.02241399132811584, 0.01453488344685119, 0.0480549740393498, 0.05315703232657835, 0.049744453054531436, 0.06797050361888954, 0.07445619676591826, 0.06668832026647646, 0.07551369958849521, 0.08402254316950006], \"y\": [0.1782627329619192, -0.3145598974968366, -0.146380809561706, -0.03333664313963579, -0.0561310456457564, 0.024454122441594887, 0.010997037766149562, 0.013613553903448804, 0.028755663772174193, 0.017373803471555642, 0.01844230599665492, 0.015402146513854914, 0.027709526368316324, 0.029467552191119288, 0.028273505054783925, 0.03190237352644263, 0.03216218943281836, 0.031707513087442254, 0.032036830550029184, 0.02984753880563106], \"topics\": [1, 2, 3, 4, 5, 6, 7, 8, 9, 10, 11, 12, 13, 14, 15, 16, 17, 18, 19, 20], \"cluster\": [1, 1, 1, 1, 1, 1, 1, 1, 1, 1, 1, 1, 1, 1, 1, 1, 1, 1, 1, 1], \"Freq\": [13.910936986957001, 9.476957485346157, 7.407995898592946, 6.712738393544759, 6.272380288746874, 5.721683003930271, 5.248508813808307, 5.162653621517753, 5.067591938532683, 5.043146154792519, 4.928044220439887, 4.2511408874604415, 3.9656087560732702, 3.654350217829945, 3.3300291552382406, 3.0422335868492683, 2.609758566554545, 2.27335390841002, 1.4724884215051985, 0.44839969386991196]}, \"tinfo\": {\"Term\": [\"search\", \"base\", \"use\", \"model\", \"learn\", \"information\", \"system\", \"user\", \"rank\", \"network\", \"document\", \"text\", \"retrieval\", \"evaluation\", \"query\", \"prediction\", \"online\", \"datum\", \"semantic\", \"classification\", \"relevance\", \"domain\", \"improve\", \"knowledge\", \"study\", \"context\", \"analysis\", \"dynamic\", \"efficient\", \"performance\", \"search\", \"relevance\", \"term\", \"weight\", \"comparison\", \"frequency\", \"element\", \"web\", \"recommendation\", \"engine\", \"measure\", \"result\", \"explainable\", \"task\", \"behavior\", \"aware\", \"deep\", \"challenge\", \"exploratory\", \"job\", \"effectiveness\", \"mobile\", \"personalize\", \"tutorial\", \"modeling\", \"opportunity\", \"ear\", \"effect\", \"example\", \"frontier\", \"image\", \"evaluate\", \"learning\", \"social\", \"entity\", \"neural\", \"base\", \"user\", \"design\", \"concept\", \"server\", \"recommendation\", \"predict\", \"social\", \"task\", \"behavior\", \"web\", \"mining\", \"approach\", \"interaction\", \"interest\", \"extract\", \"similarity\", \"attention\", \"memory\", \"image\", \"session\", \"personalized\", \"news\", \"preference\", \"review\", \"example\", \"content\", \"satisfaction\", \"embed\", \"aware\", \"neural\", \"multi\", \"topic\", \"metric\", \"deep\", \"learning\", \"embedding\", \"learn\", \"context\", \"word\", \"ir\", \"visual\", \"framework\", \"role\", \"orient\", \"index\", \"display\", \"mechanism\", \"modern\", \"browsing\", \"implication\", \"line\", \"embedding\", \"recommendation\", \"aware\", \"challenge\", \"learning\", \"practice\", \"osirrc\", \"replicability\", \"source\", \"task\", \"gradient\", \"open\", \"modeling\", \"theory\", \"variation\", \"neural\", \"attention\", \"image\", \"entity\", \"deep\", \"metric\", \"web\", \"multi\", \"model\", \"knowledge\", \"representation\", \"application\", \"statistical\", \"spatial\", \"graph\", \"topic\", \"neural\", \"recommendation\", \"detection\", \"economic\", \"build\", \"measure\", \"web\", \"tutorial\", \"embed\", \"relation\", \"attentive\", \"short\", \"approach\", \"click\", \"multi\", \"discriminative\", \"construct\", \"personalize\", \"sequential\", \"long\", \"product\", \"generalize\", \"aware\", \"task\", \"deep\", \"memory\", \"entity\", \"behavior\", \"social\", \"network\", \"query\", \"processing\", \"tool\", \"intelligent\", \"entropy\", \"intelligence\", \"maximum\", \"extend\", \"boolean\", \"neural\", \"social\", \"enhance\", \"recommendation\", \"deep\", \"birndl\", \"digital_librarie\", \"aware\", \"extract\", \"attention\", \"memory\", \"mining\", \"predict\", \"interest\", \"theory\", \"gradient\", \"practice\", \"boost\", \"recurrent\", \"convolutional\", \"heterogeneous\", \"learning\", \"web\", \"task\", \"use\", \"incorporate\", \"strategy\", \"investigation\", \"database\", \"structural\", \"space\", \"biomedical\", \"bridge\", \"integration\", \"heterogeneous\", \"contextual\", \"support\", \"note\", \"question\", \"identify\", \"summarization\", \"bert\", \"graph\", \"rule\", \"expressive\", \"archive\", \"scope\", \"trail\", \"vary\", \"expert\", \"customer\", \"detection\", \"approach\", \"product\", \"guide\", \"content\", \"neural\", \"similarity\", \"task\", \"entity\", \"learning\", \"recommendation\", \"metric\", \"web\", \"enhance\", \"topic\", \"behavior\", \"deep\", \"text\", \"study\", \"class\", \"ranking\", \"tree\", \"decision\", \"factor\", \"full\", \"experimental\", \"important\", \"learning\", \"annotation\", \"event\", \"sound\", \"ensemble\", \"quantify\", \"evaluate\", \"active\", \"risk\", \"sensitive\", \"supervise\", \"matching\", \"prevalence\", \"entity\", \"retrieve\", \"preliminary\", \"analytic\", \"generation\", \"effective\", \"collaborative_filtering\", \"neural\", \"deep\", \"recommendation\", \"web\", \"rank\", \"semantic\", \"language\", \"function\", \"optimal\", \"formulation\", \"record\", \"neural\", \"adversarial\", \"robustness\", \"setting\", \"deep\", \"pairwise\", \"understanding\", \"apply\", \"hashing\", \"triple\", \"learning\", \"entity\", \"hash\", \"commerce\", \"image\", \"approach\", \"generative\", \"quality\", \"suggestion\", \"fact\", \"human\", \"examine\", \"axiomatic\", \"answer\", \"social\", \"aware\", \"personalized\", \"recommendation\", \"web\", \"document\", \"structure\", \"exploit\", \"collection\", \"invert\", \"exploration\", \"distance\", \"interactive\", \"metric\", \"generation\", \"inherent\", \"outline\", \"understand\", \"summarization\", \"level\", \"content\", \"dataset\", \"answer\", \"assist\", \"evidence\", \"technology\", \"passage\", \"score\", \"graph\", \"reproducible\", \"repeatability\", \"searching\", \"tie\", \"hyperlink\", \"food\", \"review\", \"question\", \"embedding\", \"image\", \"topic\", \"deep\", \"recommendation\", \"web\", \"aware\", \"neural\", \"retrieval\", \"online\", \"new\", \"personal\", \"non\", \"paper\", \"theoretical\", \"binary\", \"implementation\", \"evaluate\", \"exposure\", \"misinformation\", \"reduce\", \"risk\", \"setting\", \"robustness\", \"sensitive\", \"adversarial\", \"frontier\", \"example\", \"effective\", \"utilize\", \"exploratory\", \"table\", \"product\", \"end\", \"web\", \"mind\", \"revisit\", \"relief\", \"image\", \"metric\", \"embedding\", \"interactive\", \"entity\", \"information\", \"dynamic\", \"adaptive\", \"self\", \"tune\", \"need\", \"relate\", \"seek\", \"space\", \"event\", \"conversation\", \"predict\", \"pipeline\", \"detection\", \"question\", \"answer\", \"embedding\", \"measure\", \"duplicate\", \"cross\", \"check\", \"behavior\", \"combine\", \"note\", \"attentive\", \"topical\", \"heterogeneous\", \"adaption\", \"estimator\", \"ask\", \"task\", \"collaborative\", \"multi\", \"recommendation\", \"social\", \"entity\", \"topic\", \"attention\", \"aware\", \"neural\", \"deep\", \"prediction\", \"efficient\", \"time\", \"hierarchical\", \"access\", \"vector\", \"experiment\", \"share\", \"first\", \"report\", \"project\", \"phase\", \"learning\", \"aware\", \"active\", \"space\", \"effective\", \"annotation\", \"much\", \"would\", \"easy\", \"session\", \"decade\", \"say\", \"demand\", \"link\", \"personalized\", \"service\", \"sequential\", \"click\", \"social\", \"recommendation\", \"embedding\", \"neural\", \"approach\", \"web\", \"system\", \"cluster\", \"overview\", \"presentation\", \"inform\", \"result\", \"component\", \"deep\", \"corpora\", \"difficulty\", \"entertainment\", \"effect\", \"guide\", \"novel\", \"variance\", \"scalable\", \"topic\", \"practice\", \"recommender\", \"error\", \"synchronous\", \"care\", \"hypothesis\", \"inner\", \"exact\", \"lie\", \"accelerate\", \"cognitive\", \"cpu\", \"accuracy\", \"response\", \"interactive\", \"recommendation\", \"review\", \"matching\", \"live\", \"music\", \"collaborative\", \"effectiveness\", \"detection\", \"exploratory\", \"approach\", \"neural\", \"domain\", \"method\", \"feature\", \"distribute\", \"natural_language\", \"interface\", \"simple\", \"syntactic\", \"different\", \"legal\", \"adaptation\", \"open\", \"factoid\", \"lexical\", \"cross\", \"deep\", \"question_answering\", \"set\", \"expansion\", \"instant\", \"mixed\", \"interaction\", \"selection\", \"develop\", \"fast\", \"question_answere\", \"factorization\", \"reader\", \"claim\", \"premise\", \"conversational\", \"generation\", \"multi\", \"metric\", \"recommendation\", \"learning\", \"web\", \"evaluation\", \"analysis\", \"value\", \"automate\", \"metric\", \"sentiment\", \"diversity\", \"effective\", \"offline\", \"web\", \"axiomatic\", \"test_collection\", \"measure\", \"end\", \"policy\", \"introduce\", \"biased\", \"comparative\", \"utility\", \"student\", \"recognition\", \"bitcoin\", \"fact\", \"price\", \"mode\", \"entity\", \"combination\", \"probability\", \"multi\", \"association\", \"effectiveness\", \"aware\", \"image\", \"generation\", \"topic\", \"effect\", \"attention\", \"improve\", \"performance\", \"feedback\", \"environment\", \"architecture\", \"management\", \"common\", \"accuracy\", \"shard\", \"estimation\", \"implicit\", \"systematic\", \"absolute\", \"provide\", \"relative\", \"negative\", \"axiomatic\", \"student\", \"review\", \"sampling\", \"creation\", \"verbose\", \"heuristic\", \"discrimination\", \"ctr\", \"warm\", \"cold\", \"start\", \"note\", \"combine\", \"collaborative\", \"item\", \"recommendation\", \"mining\", \"personalized\", \"focus\", \"web\", \"engine\", \"metric\", \"automatic\", \"estimate\", \"extraction\", \"probabilistic\", \"indexing\", \"ambiguity\", \"prevalence\", \"supervise\", \"quantify\", \"learning\", \"educational\", \"entity\", \"video\", \"flow\", \"completion\", \"article\", \"rule\", \"annotate\", \"expressive\", \"api\", \"table\", \"attribute\", \"expert\", \"relation\", \"collective\", \"content\", \"guide\", \"continuation\", \"worthiness\", \"world\", \"topic\", \"task\", \"open\", \"web\", \"datum\", \"process\", \"technique\", \"compression\", \"large\", \"file\", \"biomedical\", \"bridge\", \"integration\", \"heterogeneous\", \"exploration\", \"distance\", \"interactive\", \"metric\", \"archive\", \"markov\", \"sparsity\", \"top\", \"issue\", \"address\", \"absolute\", \"relative\", \"distribution\", \"precision\", \"medicine\", \"factoring\", \"logic\", \"useing\", \"medical\", \"reformulation\", \"recommendation\", \"combine\", \"web\", \"social\", \"enhance\", \"multi\", \"deep\", \"effective\", \"graph\", \"classification\", \"problem\", \"difficult\", \"scheme\", \"tweet\", \"implicit\", \"recognition\", \"link\", \"entity\", \"sentiment\", \"matching\", \"crime\", \"wise\", \"clothing\", \"fine_grained\", \"level\", \"interpretable\", \"conversational\", \"hyperlink\", \"guide\", \"agent\", \"syntax\", \"convolution\", \"encode\", \"literature\", \"proximity\", \"dependency\", \"resource\", \"alleviating\", \"scientific\", \"aspect\", \"open\", \"graph\", \"aware\", \"embedding\", \"perspective\", \"data\", \"current\", \"empirical\", \"lattice\", \"standardization\", \"score\", \"influential\", \"resale\", \"pull\", \"protect\", \"provider\", \"node\", \"pattern\", \"top\", \"reconstruction\", \"visualizing\", \"fertile\", \"root\", \"trick\", \"old\", \"working\", \"handle\", \"optimally\", \"collaborative_filtere\", \"bound\", \"naive\", \"partition\", \"tractable\", \"observation\", \"look\", \"research\", \"property\", \"sparsity\", \"professional\", \"fusion\", \"news\", \"selection\", \"result\", \"approach\", \"aware\"], \"Freq\": [2231.0, 1036.0, 789.0, 798.0, 693.0, 559.0, 509.0, 702.0, 534.0, 557.0, 503.0, 420.0, 406.0, 316.0, 368.0, 229.0, 240.0, 183.0, 195.0, 127.0, 288.0, 157.0, 140.0, 183.0, 164.0, 184.0, 130.0, 142.0, 128.0, 112.0, 2229.614668266964, 286.37750837810637, 161.48104719042684, 62.58220670091056, 52.713656198404244, 39.32587794166423, 8.239676367077507, 0.12443428668011167, 0.12429019823952184, 0.12404872306774456, 0.12396355494286898, 0.12395760917746483, 0.12393696837693607, 0.1239584619100277, 0.1239261865665863, 0.12395944313653841, 0.12396544730828248, 0.12390177271649852, 0.12388734635053757, 0.12387059541224768, 0.12388126040991759, 0.12386623829928943, 0.123865046809955, 0.12385379774888584, 0.12385988368950582, 0.12383909103249326, 0.12383110104519181, 0.12384470972239384, 0.1238361006278892, 0.12383120617660366, 0.12386358665145693, 0.12385517613850802, 0.12388353825717459, 0.1238751978318336, 0.12387594543298461, 0.12389581526982639, 1034.4501184947205, 700.8621656123088, 30.311822020357116, 21.15746538706442, 11.23188044810518, 0.1304462485244512, 0.13015552780460898, 0.13017691088175273, 0.13014785631731215, 0.1300988670270639, 0.13019402848463188, 0.13005716724134253, 0.13009281100856507, 0.13006111439663218, 0.13005492309256897, 0.13005026767756, 0.13005840072737054, 0.1300710141167538, 0.13005098389525369, 0.13007633004363586, 0.1300446015998055, 0.1300406703604646, 0.13004195955231324, 0.13002140410450438, 0.1300383148000498, 0.13002229539763432, 0.13004030429364338, 0.1300121728542302, 0.1300275078708495, 0.13008663562045059, 0.1300962647694435, 0.13004325670213623, 0.13004356706313683, 0.13004524619572982, 0.13005675342667505, 0.1300504905008425, 0.1300434556514956, 691.1052787084543, 182.44376319340623, 117.03209003427976, 92.34318579960394, 58.64057067377143, 56.54816509079302, 53.17634422065985, 43.24446283815543, 39.202156441104066, 17.001648931600265, 16.08097187490984, 11.6361125170533, 11.087712169392013, 6.270719425810556, 3.2368385840978555, 0.10427700366167518, 0.10435391552510333, 0.10425771971015244, 0.10419657714256629, 0.10422953403778161, 0.10417087972200484, 0.10415222405406396, 0.10415222405406396, 0.10415693307061323, 0.10420923612364653, 0.10415018990820979, 0.10416329677461574, 0.10416154877771965, 0.10414182316150074, 0.10414000673767988, 0.10421731672139753, 0.10416297330188051, 0.10416758900898693, 0.10418401147092889, 0.10418643129581351, 0.1041696231548411, 0.10417620458087694, 0.10416468397499948, 796.1552482202864, 181.40272596703616, 146.1933657016606, 60.652443901260135, 27.406533054364946, 4.766945371004794, 0.11125649690479424, 0.11127056638028769, 0.11131210966329524, 0.11137984156134391, 0.11123079305533501, 0.11118221503458073, 0.11118541674214495, 0.11119370285151009, 0.11128123122308964, 0.11117170802243337, 0.11117271137445174, 0.11116307243090454, 0.1111655413532868, 0.11115704104517617, 0.11119239511180076, 0.11115725524392166, 0.11118871991227283, 0.1111389807088456, 0.11113539569826314, 0.11115742434819441, 0.11115218211573892, 0.11114041245835496, 0.11114824762299275, 0.11113347918317187, 0.11120835855514911, 0.11119271077310991, 0.11119904654652925, 0.11114896913455652, 0.11116736767943258, 0.11115786401930358, 0.11116109954772235, 555.6493475465163, 366.73319911055887, 111.93382662966317, 42.85626426943128, 40.88487524469342, 14.451837397288648, 12.9208403687539, 3.872691293380154, 3.6258213580351693, 1.5439658947999622, 0.09838998659040878, 0.09826807585976055, 0.09820742071528009, 0.09832547597825206, 0.09823554666800027, 0.09814675503673492, 0.09814696571802871, 0.09818806963844601, 0.098131059280348, 0.09814963083639508, 0.09811976676300117, 0.09811566901183708, 0.09812400145700624, 0.09810975940154643, 0.0981008054465606, 0.09810058423120212, 0.09810112146850127, 0.09810103719598376, 0.09808847005680953, 0.09808705849214118, 0.09811338311979952, 0.09813176506268219, 0.09811970355861303, 0.09810423955164928, 787.9007191005509, 42.649961317448344, 29.080710593363722, 27.765251525078035, 6.14151596203266, 3.61338862886669, 0.1415108968984162, 0.14149655996672983, 0.14149747284106642, 0.14149376368849878, 0.14149664644956172, 0.14144266194405636, 0.14143733844529346, 0.1414240681352004, 0.14144840824777516, 0.14142681636741372, 0.1414308426236983, 0.14140201501306887, 0.14144864847786373, 0.1414026203928921, 0.1414020438406795, 0.1414036677960783, 0.1413951828693497, 0.14139528857058867, 0.1413955384098808, 0.14140557041837984, 0.1413996127121831, 0.14143739610051473, 0.14145340503361759, 0.1414107305606825, 0.1414058298668755, 0.14142716229874128, 0.14149294690619763, 0.14141637116316233, 0.1414539623674231, 0.14145377979255577, 0.14145655685237973, 0.14152999038585642, 0.14144100916104693, 0.14148955485734688, 0.14141900408493316, 0.14143521481131044, 0.14142913218546763, 0.1414322263490085, 418.6535363138059, 162.2815962618823, 81.08143356058407, 80.42736723454549, 58.523754303101576, 31.842956514334503, 23.702511954123995, 22.350110861220266, 14.406589556605285, 4.524508030067287, 0.10502935732962737, 0.1049703351864237, 0.10498070989707942, 0.10494100040557215, 0.10493696334739007, 0.10493831197162994, 0.10495074928406428, 0.1049258834737331, 0.10492459655125584, 0.10492543393231982, 0.10492139687413772, 0.10492893330371346, 0.10491094283264436, 0.10496116806740759, 0.10490631520044873, 0.10489505022150394, 0.1048956584245925, 0.10491348141944881, 0.10493148951959295, 0.10489430098581512, 0.10495141037437794, 0.10493308495088326, 0.10494189948839874, 0.10492056830761126, 532.5585867001417, 193.60526896681438, 93.81428558135042, 33.04485425472961, 8.365140114399235, 4.5741954403765135, 3.108145659890459, 0.10795269671572391, 0.10784493294591656, 0.10780706086075133, 0.10779050049384072, 0.10785550210155218, 0.10775484801806247, 0.10775490004015748, 0.10774629905378295, 0.10774489445721776, 0.10774325576122504, 0.10781166481615946, 0.10780443374495347, 0.10775067758011272, 0.10774756492476147, 0.10777820593872069, 0.10778217695863956, 0.10773581660163901, 0.10775306192613389, 0.1077497411824026, 0.1077443482252202, 0.10773842637673854, 0.1077323918137177, 0.1077352790399906, 0.10775196079178957, 0.10777963654633338, 0.10778466534885074, 0.1077432384205267, 0.10778828088445375, 0.10775369486162314, 501.1622529378358, 125.13000760224885, 57.88408334511416, 49.33126921751135, 9.49613402468087, 0.142511979891393, 0.14251176712391542, 0.1425210522966371, 0.1425380311413482, 0.14249594573428237, 0.14246611573392529, 0.14246612424462438, 0.1424697498024424, 0.14246569019897012, 0.14247385195941017, 0.14247553707783264, 0.14244763900617202, 0.14246139229592295, 0.14242608140534335, 0.1424290941928259, 0.14242655800449314, 0.14243700063229287, 0.14244020916585481, 0.14246453274389206, 0.14241690687170996, 0.14241690687170996, 0.1424169749573028, 0.14241737496016066, 0.14241705155359474, 0.1424159877162068, 0.14245228584788241, 0.14244563899188273, 0.1424687114971518, 0.14244539218160873, 0.14244437940841545, 0.14246030292643772, 0.14250464366876595, 0.14248075413638298, 0.14244849007608235, 0.14244054108311985, 404.96384974910694, 238.60574506013313, 86.34699948548048, 42.842849178972685, 38.39320125200959, 11.685946941581971, 8.936919503056917, 5.4633957388199414, 0.9053261378301297, 0.10907098234166826, 0.10901930057422014, 0.1090194360885235, 0.1090208843976408, 0.10900835779422292, 0.10899827044826575, 0.1089991004733739, 0.10900447022764498, 0.10900103155219694, 0.10897173505373692, 0.10897253966991319, 0.10899949854664005, 0.10895700634288928, 0.1089730732574827, 0.1089556681391435, 0.10895101830460907, 0.10894392074297002, 0.1090577019399379, 0.10893326593086747, 0.1089356289615325, 0.10892788770695243, 0.10896706827991458, 0.1089754871060115, 0.10895835301627903, 0.10894741870592578, 0.1089498918419623, 557.5145230947953, 141.00143491550605, 58.113824679291504, 50.934402437725716, 0.9673935543899719, 0.10988748297026035, 0.10985416243522131, 0.10986227324603558, 0.10984361838116274, 0.10984470258138385, 0.10982277028683504, 0.10983616967735373, 0.10980608519030281, 0.10983626899340451, 0.10982887822395844, 0.10982771953669926, 0.1098540217374827, 0.109836773849996, 0.10980210427193376, 0.10981600851904395, 0.10980297328737816, 0.10983757665473987, 0.10980119387480156, 0.10979957998897627, 0.10980854326255979, 0.10979895926365885, 0.10982826577497859, 0.10978815864313575, 0.10978815864313575, 0.10979103053227102, 0.10985088500554534, 0.10980941227800418, 0.10982790989246327, 0.10990561642586656, 0.1098319652978704, 0.10982966447602717, 0.10981735756206715, 0.10981163861280932, 0.10981137377000723, 0.10981249107557858, 0.1098100578323343, 227.3574525920598, 126.05896066634126, 79.51262605776805, 61.58261531815597, 51.76706334619131, 46.12435850981103, 36.5497143222226, 31.288410256755277, 26.41861423981381, 13.32653509075926, 9.87603479850462, 9.241233794303284, 0.08780961588493967, 0.08780748116805008, 0.08774875146526154, 0.0877534778284084, 0.08777094109767909, 0.08774554582016647, 0.08772396304706535, 0.08772467699920233, 0.08772399160515083, 0.08773189505530728, 0.08771152600083904, 0.08771161167509547, 0.08770905572644506, 0.08772341330391988, 0.0877226493751333, 0.08770707093950424, 0.0877173875478837, 0.08771462455311356, 0.08774349677753332, 0.08779410170500294, 0.08772694736699796, 0.08772954615277659, 0.08772030761212397, 0.08772626911246782, 507.4864246115943, 77.64023629543097, 4.477728989977005, 0.1087681912239375, 0.10876154455564077, 0.10878015256287629, 0.10868580716899709, 0.10876212397462054, 0.10867924042055964, 0.10868081217779213, 0.10867135499444408, 0.1086884711643064, 0.10867656976526206, 0.10866931703803247, 0.1086721475330486, 0.10867184117358804, 0.1087089306482819, 0.10867062239573402, 0.10865884753646687, 0.10865451188410098, 0.10865016957174681, 0.10865016957174681, 0.10865075565071484, 0.10865016291175852, 0.10865016957174681, 0.10865023617162953, 0.10865030943150054, 0.10865037603138328, 0.10865020287168817, 0.10865884753646687, 0.10865686285996144, 0.10867756210351477, 0.10873403880407215, 0.1086639757274373, 0.10866027277395736, 0.10865230742798253, 0.1086540323649453, 0.1086569227998559, 0.10865831473740502, 0.1086576487385777, 0.10865532440267031, 0.10865563076213089, 0.10865627012100512, 155.06264674006135, 100.69776507275044, 96.26711805993789, 59.49624268811852, 41.54785099637914, 38.89191501748423, 18.007915743531566, 12.942421449833809, 12.363394268037938, 0.1030734450839968, 0.10306276627019947, 0.10308141123359961, 0.10304537330565833, 0.1030327305720822, 0.10304413358129795, 0.10310346850761544, 0.10303678115662601, 0.1030330128855504, 0.10304084401566845, 0.10302226042476138, 0.10302218677776968, 0.10303868370391174, 0.10304473503173021, 0.1030221990522683, 0.10302402795256232, 0.10301492027458807, 0.10301978097604063, 0.10300561620463593, 0.1030060212630903, 0.1030060212630903, 0.10300918808373365, 0.10302310736516601, 0.10303518547180572, 0.1030295146534444, 0.10306907536248892, 0.10302998108439186, 0.1030223340717531, 314.10113510801716, 128.45660290236486, 33.60971167529489, 15.90426158082655, 0.09240045199173175, 0.09237322175543292, 0.0923270718458133, 0.09234953721020278, 0.09230329781942055, 0.09239782907515254, 0.09229294037484766, 0.09228722476558551, 0.09231732399166073, 0.09228893050024789, 0.09228591051100958, 0.09227983697709696, 0.0922803682715, 0.09228022286461075, 0.09228097226934767, 0.09227844442650374, 0.09228990920046402, 0.09227479247655444, 0.09228669906375514, 0.09227480925427244, 0.09227424440443341, 0.09233004150189765, 0.09227424440443341, 0.09227495466116169, 0.09231438789101237, 0.0922743394781687, 0.09229237552500864, 0.09231890109715186, 0.09229889646473434, 0.09228625725051472, 0.09229473559067267, 0.0922810281950743, 0.09227872405513692, 138.5664291037701, 110.23626304297566, 84.52923124666744, 17.352414536010116, 15.746968596461409, 11.472553375049138, 3.866396848674684, 0.10708022288320337, 0.10704634863348565, 0.1070556065732275, 0.10704473411419292, 0.10703764249147675, 0.10702099659319916, 0.10702039370308353, 0.1070211192149176, 0.10702860935821869, 0.10702570731088239, 0.1070204141400366, 0.10704699239750744, 0.10702081266062151, 0.10701544796043996, 0.10701584648102488, 0.10701309771083663, 0.10701309771083663, 0.10701338382817964, 0.10701338382817964, 0.10701339404665618, 0.10701341448360925, 0.1070204447954662, 0.10702190603761089, 0.10702871154298405, 0.10702110899644106, 0.1070879787068944, 0.10702054698023157, 0.1070222739027662, 0.10701675592543661, 0.10704757485067, 0.10702258045706228, 0.10702106812253492, 76.12075772155897, 75.44696612981302, 67.03280243422535, 46.79659167083831, 10.238016569829457, 5.840142187099659, 0.10724827227655144, 0.10724828104239927, 0.10724874563233412, 0.10724847389105147, 0.10716568045832187, 0.10722752351474403, 0.10717346453119259, 0.10715730907364672, 0.10716012291079931, 0.10716129753440819, 0.10715769477095113, 0.1071568532495597, 0.1071568532495597, 0.10715730907364672, 0.1071659171362132, 0.10715808923410336, 0.10715758081492938, 0.10716397111799553, 0.10715204079910247, 0.10717788251849758, 0.10715687954710318, 0.10714540505229714, 0.10714444957488396, 0.10714556283755804, 0.10718119600897633, 0.10718670972725976, 0.10716269130421273, 0.10716680248684378, 181.64796061186345, 65.48814064620852, 19.39901631810917, 13.011181351045218, 8.428446518810057, 1.7600449832066631, 0.07866455166840955, 0.07866455166840955, 0.07866455166840955, 0.07866460511976046, 0.07852849507262079, 0.07852849507262079, 0.0785285485239717, 0.07852850270852806, 0.07847660144679408, 0.07846878227774662, 0.0784670641986102, 0.07847178318930487, 0.07846730854764294, 0.0784670641986102, 0.07846274227509374, 0.07846274227509374, 0.07846946950940117, 0.07846274227509374, 0.07846274227509374, 0.07845913812686092, 0.07845913812686092, 0.0784596802762773, 0.07846289499323919, 0.07846274227509374, 0.07852969391006263, 0.0784631775218083, 0.07850753450715664, 0.07848171750466693, 0.07846749944532476, 0.07846747653760294, 0.07846710237814657, 0.07846504068318289, 0.07846291790096102, 125.71433465650564, 9.581344555278916, 8.858014735188355, 6.899575024244806, 0.06309290000477885, 0.06309224714574942, 0.06309224714574942, 0.06309261314247804, 0.06309243509001547, 0.06304706633337136, 0.06304031023159704, 0.06302272755091788, 0.06301436403107866, 0.06301436403107866, 0.06301650066062954, 0.06302848952644283, 0.06301436403107866, 0.06301112446544016, 0.06300933404901095, 0.06301436403107866, 0.06301112446544016, 0.06300725182437919, 0.06300725182437919, 0.06300570870303689, 0.06300725182437919, 0.06300725182437919, 0.06300570870303689, 0.06300805306046077, 0.06300221689640974, 0.06300725182437919, 0.0630077859817669, 0.06301118876216276, 0.06300933404901095, 0.06301235104907123, 0.06300933404901095, 6.163372789379874, 3.0515360878166633, 0.7849363317498986, 0.1887300384228825, 0.11967443497479763, 0.031114354718168636, 0.031114773418879912, 0.031109505019282602, 0.031107384405608215, 0.031107384405608215, 0.031107384405608215, 0.031107384405608215, 0.03110617951147504, 0.031107384405608215, 0.03110617951147504, 0.031098070573958768, 0.031097992255840114, 0.03109726028265421, 0.03109726028265421, 0.03109726028265421, 0.03109726028265421, 0.031095778262870404, 0.031095841519812394, 0.031095624638868422, 0.031095799348517732, 0.031095224011569143, 0.03109523304827514, 0.031095224011569143, 0.0310950372529785, 0.0310950372529785, 0.03109726028265421, 0.03109726028265421, 0.03109585658098906, 0.031095799348517732, 0.031095778262870404, 0.03109636866099566, 0.031098139855371427, 0.031098070573958768, 0.031098139855371427, 0.031098423005492724, 0.031097992255840114], \"Total\": [2231.0, 1036.0, 789.0, 798.0, 693.0, 559.0, 509.0, 702.0, 534.0, 557.0, 503.0, 420.0, 406.0, 316.0, 368.0, 229.0, 240.0, 183.0, 195.0, 127.0, 288.0, 157.0, 140.0, 183.0, 164.0, 184.0, 130.0, 142.0, 128.0, 112.0, 2231.550851390642, 288.3136915017841, 163.41723031410444, 64.51838982458821, 54.64983932208189, 41.262061065341875, 10.175859499521007, 2.062303740968742, 2.0630900760319824, 2.0607204942874033, 2.0606741082585813, 2.060677954770684, 2.060424163493724, 2.0611912945776627, 2.060772266807045, 2.061404149588387, 2.0615119704130893, 2.0605058333044397, 2.060473054909323, 2.0602452718366573, 2.0604740472787615, 2.0603979977984825, 2.0604105334859906, 2.0603533648804597, 2.06050933841231, 2.0601887674015584, 2.0600604302183307, 2.0604025807047432, 2.0602674847685822, 2.0601920664482543, 2.0607766685922067, 2.060642120516775, 2.061338557664578, 2.061161307826757, 2.0612150934854427, 2.0617908256823134, 1036.3800856031842, 702.7921327207721, 32.24178912882022, 23.08743249552753, 13.161847556568285, 2.0630900760319824, 2.0605771354835074, 2.061161307826757, 2.0611912945776627, 2.060772266807045, 2.062303740968742, 2.0602982355945634, 2.06086807984638, 2.0603812448201175, 2.0602844275068244, 2.0602680596965337, 2.0604023392757043, 2.060659005019919, 2.0603506691555293, 2.0607766685922067, 2.060280742547071, 2.0603959569289456, 2.060442404403393, 2.060172041810519, 2.060516938228245, 2.0602674847685822, 2.060575470533479, 2.0601738143269843, 2.060435050136233, 2.061404149588387, 2.0617908256823134, 2.060888266895376, 2.0609401030515806, 2.061018390232592, 2.0615119704130893, 2.061338557664578, 2.0609898788863323, 693.061120731036, 184.3996052159877, 118.98793205686127, 94.29902782218545, 60.59641269635292, 58.50400711337451, 55.13218624324134, 45.20030486073692, 41.15799846368556, 18.957490954181775, 18.036813968564577, 13.591954652651742, 13.043554191973518, 8.226561448392063, 5.192680606679361, 2.0609898788863323, 2.0630900760319824, 2.061404149588387, 2.0605058333044397, 2.061338557664578, 2.0602609878308726, 2.0600467415936587, 2.0600467415936587, 2.060150768156428, 2.0611912945776627, 2.060231520881515, 2.0605422417158246, 2.06050933841231, 2.0601721697645967, 2.060148278959646, 2.0617908256823134, 2.060659005019919, 2.0607766685922067, 2.0612150934854427, 2.0615119704130893, 2.061018390232592, 2.062303740968742, 2.060888266895376, 798.1040614544924, 183.35153920124188, 148.14217893586633, 62.60125713546589, 29.355346288570722, 6.715758605210566, 2.060676249986329, 2.0609401030515806, 2.0617908256823134, 2.0630900760319824, 2.0606297868567585, 2.060100322121973, 2.060223376923188, 2.0606741082585813, 2.062303740968742, 2.0603533648804597, 2.060435050136233, 2.0602676097983843, 2.060314154725099, 2.0601908556790542, 2.06086807984638, 2.0602528169308454, 2.060888266895376, 2.060020932629953, 2.059990964467897, 2.0604105334859906, 2.0603138477703444, 2.060102922033455, 2.0602486391253834, 2.0600056277934895, 2.061404149588387, 2.0611912945776627, 2.0615119704130893, 2.0603506691555293, 2.0612150934854427, 2.060772266807045, 2.061161307826757, 557.6112270240013, 368.6950785880438, 113.89570610714804, 44.81814374691616, 42.8467547221783, 16.413716874773538, 14.882719869953663, 5.834570785223462, 5.587700835520056, 3.505845372284848, 2.0617908256823134, 2.061161307826757, 2.0604612527430315, 2.0630900760319824, 2.0615119704130893, 2.060100038764951, 2.0601082142129217, 2.061404149588387, 2.0602680596965337, 2.060659005019919, 2.0603506691555293, 2.0602982355945634, 2.0605771354835074, 2.0602844275068244, 2.0601721697645967, 2.060231520881515, 2.0602609878308726, 2.0602743379333006, 2.060091317145534, 2.0601018913474634, 2.0607036606133065, 2.061338557664578, 2.062303740968742, 2.0611912945776627, 789.8192681220381, 44.568510338935404, 30.99925961485079, 29.683800546565102, 8.060064983519728, 5.531937650353758, 2.0603895346623053, 2.0603628697288325, 2.0604529556283397, 2.0604739553404774, 2.0607036606133065, 2.0602565291172845, 2.06028885287777, 2.060136779039599, 2.0605009611366087, 2.060255826092923, 2.0603348287556003, 2.0599861782108495, 2.060676249986329, 2.060017937952091, 2.0600102441598005, 2.0600768010534782, 2.05997473905162, 2.0599802225304304, 2.059990186360365, 2.0601422746864952, 2.0600775729475216, 2.0606297868567585, 2.06086807984638, 2.0602486391253834, 2.0601864734553152, 2.060575470533479, 2.0617908256823134, 2.0604023392757043, 2.0611912945776627, 2.0612150934854427, 2.061338557664578, 2.0630900760319824, 2.061018390232592, 2.062303740968742, 2.0604612527430315, 2.0609401030515806, 2.060772266807045, 2.0615119704130893, 420.6086144120856, 164.236674360162, 83.03651165886379, 82.3824453328252, 60.47883240138129, 33.79803461261422, 25.65759005240372, 24.30518895949999, 16.36166765488501, 6.479586128347011, 2.061338557664578, 2.0603427856064984, 2.0605958409850413, 2.0600416364131195, 2.0602391056545954, 2.0603910511906083, 2.060642120516775, 2.060210741810843, 2.0602243354462946, 2.060350750882157, 2.060290375430295, 2.0604488771951233, 2.0602232490263006, 2.0612150934854427, 2.0601646570216743, 2.0600110992931664, 2.060063816163582, 2.0604391814714105, 2.0608048816411424, 2.0600903600403258, 2.0617908256823134, 2.0615119704130893, 2.0630900760319824, 2.062303740968742, 534.5107953590124, 195.55747762568478, 95.76649424022085, 34.99706291360004, 10.317348773269673, 6.5264040992469505, 5.060354318760896, 2.0617908256823134, 2.0604658112850127, 2.0602116580054965, 2.060162899474558, 2.0615119704130893, 2.060122265275799, 2.060151351153266, 2.060045950112314, 2.060036278126338, 2.060027009105673, 2.061338557664578, 2.0612150934854427, 2.060209044249162, 2.0601505517229186, 2.0607766685922067, 2.06086807984638, 2.060011102956757, 2.0603409087692466, 2.060322255134444, 2.060221032745084, 2.060135163048068, 2.0600368870267114, 2.0600984257227073, 2.0604875761971853, 2.061161307826757, 2.061404149588387, 2.0603959569289456, 2.0630900760319824, 2.062303740968742, 503.0797911239292, 127.04754578834232, 59.80162153120763, 51.248807403604815, 11.413672210774346, 2.060329261365617, 2.060368860448113, 2.060689697592178, 2.061018390232592, 2.0604391814714105, 2.060015359925105, 2.0600156298693895, 2.0603144713178128, 2.0603348287556003, 2.06048730745363, 2.060575470533479, 2.060192627026235, 2.0604875761971853, 2.060005367397679, 2.0600639742010185, 2.0600359254324436, 2.060204859809207, 2.0602820511010176, 2.060676249986329, 2.05998783828233, 2.0599918573371427, 2.059996687400284, 2.060003255674384, 2.060000568735103, 2.0599894870250623, 2.060516938228245, 2.0605009611366087, 2.0609898788863323, 2.0607766685922067, 2.0609401030515806, 2.0615119704130893, 2.0630900760319824, 2.062303740968742, 2.061404149588387, 2.0617908256823134, 406.91487006306295, 240.55676537408914, 88.2980197994365, 44.793869492928714, 40.34422156596562, 13.636967255538002, 10.887939997450335, 7.414416052775972, 2.8563464517861608, 2.060642120516775, 2.060104538528223, 2.0601105589662305, 2.0602564644040746, 2.0602243354462946, 2.060162899474558, 2.0602116580054965, 2.060350750882157, 2.0604658112850127, 2.0601920664482543, 2.0602674847685822, 2.0608048816411424, 2.060068749641653, 2.060473054909323, 2.06022283317326, 2.0602486391253834, 2.060137406521875, 2.062303740968742, 2.059992436079456, 2.0600791743509155, 2.0599745509147196, 2.0607766685922067, 2.061018390232592, 2.0609898788863323, 2.060689697592178, 2.0612150934854427, 559.4646728488844, 142.95158466959504, 60.0639744333805, 52.88455219181471, 2.917543308478973, 2.0602785071041003, 2.060066505204921, 2.060247092257927, 2.0603895346623053, 2.0605958409850413, 2.0602420912247332, 2.0605771354835074, 2.0600470646123226, 2.0606297868567585, 2.0605009611366087, 2.0604875761971853, 2.0609898788863323, 2.0606741082585813, 2.060023994319669, 2.060295250287572, 2.0601175764658746, 2.060772266807045, 2.0601665060665577, 2.060136779039599, 2.060314154725099, 2.060147177943335, 2.0607036606133065, 2.0599514366775344, 2.0599514366775344, 2.0600338822621134, 2.0611912945776627, 2.060389054764304, 2.060888266895376, 2.0630900760319824, 2.061161307826757, 2.0612150934854427, 2.0609401030515806, 2.060659005019919, 2.061404149588387, 2.0617908256823134, 2.0615119704130893, 229.32969086035158, 128.0311989346331, 81.48486432605986, 63.554853586447784, 53.73930161448312, 48.09659680766965, 38.52195259051441, 33.26064852504709, 28.390852508105624, 15.29877335905107, 11.84827311158305, 11.213472062595097, 2.061338557664578, 2.061404149588387, 2.060210741810843, 2.0603895346623053, 2.0608048816411424, 2.0603427856064984, 2.060005681551297, 2.0600621179383274, 2.0600637705860745, 2.060280742547071, 2.059983158558538, 2.0600373082446333, 2.0600185539117613, 2.060364476654503, 2.0603959569289456, 2.060066407998895, 2.0603138477703444, 2.0602528169308454, 2.061161307826757, 2.0630900760319824, 2.0609898788863323, 2.0617908256823134, 2.06086807984638, 2.062303740968742, 509.4377214944536, 79.59153317829032, 6.429025872836357, 2.060163641645407, 2.06011580097788, 2.060677954770684, 2.0600490140086323, 2.0615119704130893, 2.060007303065942, 2.060039079331699, 2.0600728688781507, 2.0604025807047432, 2.0601864734553152, 2.0600717004997486, 2.0601835451325785, 2.0602166484756577, 2.0609401030515806, 2.0602609878308726, 2.060055143457529, 2.060038576890947, 2.0599768876610765, 2.059983370571042, 2.0599985584524867, 2.05999105681287, 2.059992787536402, 2.0599959157565455, 2.060001589502149, 2.060011290558096, 2.0600154088543414, 2.060192808205088, 2.060158303064876, 2.060689697592178, 2.0630900760319824, 2.060516938228245, 2.0604488771951233, 2.0600915179524852, 2.0601931520923062, 2.060389054764304, 2.0604740472787615, 2.0606297868567585, 2.060473054909323, 2.06086807984638, 2.0617908256823134, 157.01957828880586, 102.65469662149499, 98.22404960868244, 61.453174236863056, 43.50478261232021, 40.848846566228765, 19.964847292276108, 14.899353011800587, 14.320325816782477, 2.0602478851999844, 2.0600827621597833, 2.0605422417158246, 2.0600546980906542, 2.060013039641542, 2.060295250287572, 2.0615119704130893, 2.060183553063558, 2.0601507635009972, 2.060346300050344, 2.060036070853619, 2.0600384748815452, 2.0603812448201175, 2.060517195699335, 2.0600978623719906, 2.0601443208784582, 2.0599799433722583, 2.060166742369693, 2.0599518351698602, 2.05996248863899, 2.05996248863899, 2.060038589448471, 2.0604391814714105, 2.060888266895376, 2.061018390232592, 2.0630900760319824, 2.061338557664578, 2.062303740968742, 316.06879674178435, 130.42426453613206, 35.57737330906209, 17.871923214593764, 2.061018390232592, 2.0605692202098127, 2.0601390657017395, 2.0608048816411424, 2.060059311577937, 2.062303740968742, 2.0600984257227073, 2.0599930017418164, 2.0606741082585813, 2.060137406521875, 2.060071000831182, 2.0599594669493095, 2.0599840624739256, 2.0599855295971277, 2.060058108321872, 2.0600048231645527, 2.060271392760227, 2.0599502725162417, 2.060221032745084, 2.0599567108067727, 2.0599682664526036, 2.0612150934854427, 2.059975414155635, 2.0599982161162993, 2.060888266895376, 2.0600127230000975, 2.0604740472787615, 2.061404149588387, 2.0607766685922067, 2.0604391814714105, 2.0609401030515806, 2.0604025807047432, 2.060659005019919, 140.51934919332788, 112.18918313253346, 86.48215133622523, 19.305334625567912, 17.699888686019204, 13.425473464606931, 5.819317004323382, 2.060192808205088, 2.060028174309298, 2.0602107841651107, 2.0602705333048257, 2.0601893869141508, 2.059978817330701, 2.059972022676701, 2.059986036733033, 2.0601485315389176, 2.0600984257227073, 2.0600048231645527, 2.060516938228245, 2.060034150408743, 2.0599725200698384, 2.059989783373733, 2.059968126404251, 2.0599733485277425, 2.0599824833023606, 2.0599824833023606, 2.0599866156150686, 2.059998198877601, 2.060136779039599, 2.0601665060665577, 2.060389054764304, 2.0602075782259885, 2.0630900760319824, 2.0602982355945634, 2.0603959569289456, 2.0601638374925852, 2.062303740968742, 2.0607204942874033, 2.061018390232592, 78.0735564522134, 77.39976486046744, 68.98560116487977, 48.74939040149275, 12.190815300483893, 7.792940952797899, 2.0602232490263006, 2.060290375430295, 2.0603910511906083, 2.061338557664578, 2.060004493957787, 2.0612150934854427, 2.06028559171334, 2.059989008403213, 2.0600604495675796, 2.060085827776118, 2.060017937952091, 2.060003696185571, 2.0600102441598005, 2.0600233698082313, 2.06022283317326, 2.060151982756514, 2.0601422746864952, 2.0602676097983843, 2.060059654096996, 2.060575470533479, 2.0601864734553152, 2.0599712939539954, 2.0599874180748055, 2.0600439907557133, 2.0609401030515806, 2.0611912945776627, 2.0605422417158246, 2.062303740968742, 183.62943372653936, 67.46961376088441, 21.380489432785073, 14.99265446572112, 10.40991963348596, 3.7415180978825653, 2.0603628697288325, 2.0604529556283397, 2.0604739553404774, 2.0607036606133065, 2.060329261365617, 2.060368860448113, 2.060689697592178, 2.061018390232592, 2.0600768010534782, 2.060016852629594, 2.05998009027133, 2.060135081548326, 2.0600629891348934, 2.0600684927448496, 2.059978817330701, 2.059986036733033, 2.060175985482537, 2.0600559356704715, 2.0600679125363865, 2.059974786758335, 2.0599775092640153, 2.0599963385458078, 2.0600808047698878, 2.0600985484930323, 2.0630900760319824, 2.0601665060665577, 2.062303740968742, 2.061161307826757, 2.0604612527430315, 2.060888266895376, 2.0615119704130893, 2.0608048816411424, 2.060676249986329, 127.71126133151337, 11.578271230286653, 10.854941442990505, 8.896501699252543, 2.0602648966504282, 2.0602705333048257, 2.060271392760227, 2.060364476654503, 2.0612150934854427, 2.0605692202098127, 2.0604488771951233, 2.0600080248561166, 2.059961993097699, 2.0599749395025873, 2.0600483308033093, 2.06048730745363, 2.0600327989008944, 2.060038589448471, 2.060000568735103, 2.0601864734553152, 2.060094271035632, 2.059981819356089, 2.0600276070999937, 2.059985820984341, 2.060058144256381, 2.06006365314592, 2.0600600406463423, 2.0601492216071624, 2.059964156408461, 2.060133703275327, 2.060181657842273, 2.0605422417158246, 2.060676249986329, 2.061404149588387, 2.0609898788863323, 8.192188040900774, 5.080351339337563, 2.813751583270798, 2.217545289943782, 2.1484896864956973, 2.059974787934359, 2.0602820511010176, 2.0599388084382713, 2.059956029735656, 2.059956029735656, 2.059956708173376, 2.0599599038616456, 2.0599286368351626, 2.0600704564113754, 2.060135081548326, 2.059920145775125, 2.059945276748757, 2.0599175499943683, 2.059918109767185, 2.0599257164145923, 2.059925795853012, 2.05991474783399, 2.0599198863125165, 2.05991211146875, 2.0599350882087846, 2.059911798581375, 2.059915328724204, 2.0599219987768542, 2.0599106711860413, 2.0599121655245427, 2.0600770238067536, 2.060096079105773, 2.0599790270890277, 2.05998009027133, 2.059981668601908, 2.0600940024941616, 2.060442404403393, 2.060517195699335, 2.060677954770684, 2.06086807984638, 2.061404149588387], \"Category\": [\"Default\", \"Default\", \"Default\", \"Default\", \"Default\", \"Default\", \"Default\", \"Default\", \"Default\", \"Default\", \"Default\", \"Default\", \"Default\", \"Default\", \"Default\", \"Default\", \"Default\", \"Default\", \"Default\", \"Default\", \"Default\", \"Default\", \"Default\", \"Default\", \"Default\", \"Default\", \"Default\", \"Default\", \"Default\", \"Default\", \"Topic1\", \"Topic1\", \"Topic1\", \"Topic1\", \"Topic1\", \"Topic1\", \"Topic1\", \"Topic1\", \"Topic1\", \"Topic1\", \"Topic1\", \"Topic1\", \"Topic1\", \"Topic1\", \"Topic1\", \"Topic1\", \"Topic1\", \"Topic1\", \"Topic1\", \"Topic1\", \"Topic1\", \"Topic1\", \"Topic1\", \"Topic1\", \"Topic1\", \"Topic1\", \"Topic1\", \"Topic1\", \"Topic1\", \"Topic1\", \"Topic1\", \"Topic1\", \"Topic1\", \"Topic1\", \"Topic1\", \"Topic1\", \"Topic2\", \"Topic2\", \"Topic2\", \"Topic2\", \"Topic2\", \"Topic2\", \"Topic2\", \"Topic2\", \"Topic2\", \"Topic2\", \"Topic2\", \"Topic2\", \"Topic2\", \"Topic2\", \"Topic2\", \"Topic2\", \"Topic2\", \"Topic2\", \"Topic2\", \"Topic2\", \"Topic2\", \"Topic2\", \"Topic2\", \"Topic2\", \"Topic2\", \"Topic2\", \"Topic2\", \"Topic2\", \"Topic2\", \"Topic2\", \"Topic2\", \"Topic2\", \"Topic2\", \"Topic2\", \"Topic2\", \"Topic2\", \"Topic2\", \"Topic3\", \"Topic3\", \"Topic3\", \"Topic3\", \"Topic3\", \"Topic3\", \"Topic3\", \"Topic3\", \"Topic3\", \"Topic3\", \"Topic3\", \"Topic3\", \"Topic3\", \"Topic3\", \"Topic3\", \"Topic3\", \"Topic3\", \"Topic3\", \"Topic3\", \"Topic3\", \"Topic3\", \"Topic3\", \"Topic3\", \"Topic3\", \"Topic3\", \"Topic3\", \"Topic3\", \"Topic3\", \"Topic3\", \"Topic3\", \"Topic3\", \"Topic3\", \"Topic3\", \"Topic3\", \"Topic3\", \"Topic3\", \"Topic3\", \"Topic3\", \"Topic4\", \"Topic4\", \"Topic4\", \"Topic4\", \"Topic4\", \"Topic4\", \"Topic4\", \"Topic4\", \"Topic4\", \"Topic4\", \"Topic4\", \"Topic4\", \"Topic4\", \"Topic4\", \"Topic4\", \"Topic4\", \"Topic4\", \"Topic4\", \"Topic4\", \"Topic4\", \"Topic4\", \"Topic4\", \"Topic4\", \"Topic4\", \"Topic4\", \"Topic4\", \"Topic4\", \"Topic4\", \"Topic4\", \"Topic4\", \"Topic4\", \"Topic4\", \"Topic4\", \"Topic4\", \"Topic4\", \"Topic4\", \"Topic4\", \"Topic5\", \"Topic5\", \"Topic5\", \"Topic5\", \"Topic5\", \"Topic5\", \"Topic5\", \"Topic5\", \"Topic5\", \"Topic5\", \"Topic5\", \"Topic5\", \"Topic5\", \"Topic5\", \"Topic5\", \"Topic5\", \"Topic5\", \"Topic5\", \"Topic5\", \"Topic5\", \"Topic5\", \"Topic5\", \"Topic5\", \"Topic5\", \"Topic5\", \"Topic5\", \"Topic5\", \"Topic5\", \"Topic5\", \"Topic5\", \"Topic5\", \"Topic5\", \"Topic5\", \"Topic5\", \"Topic6\", \"Topic6\", \"Topic6\", \"Topic6\", \"Topic6\", \"Topic6\", \"Topic6\", \"Topic6\", \"Topic6\", \"Topic6\", \"Topic6\", \"Topic6\", \"Topic6\", \"Topic6\", \"Topic6\", \"Topic6\", \"Topic6\", \"Topic6\", \"Topic6\", \"Topic6\", \"Topic6\", \"Topic6\", \"Topic6\", \"Topic6\", \"Topic6\", \"Topic6\", \"Topic6\", \"Topic6\", \"Topic6\", \"Topic6\", \"Topic6\", \"Topic6\", \"Topic6\", \"Topic6\", \"Topic6\", \"Topic6\", \"Topic6\", \"Topic6\", \"Topic6\", \"Topic6\", \"Topic6\", \"Topic6\", \"Topic6\", \"Topic6\", \"Topic7\", \"Topic7\", \"Topic7\", \"Topic7\", \"Topic7\", \"Topic7\", \"Topic7\", \"Topic7\", \"Topic7\", \"Topic7\", \"Topic7\", \"Topic7\", \"Topic7\", \"Topic7\", \"Topic7\", \"Topic7\", \"Topic7\", \"Topic7\", \"Topic7\", \"Topic7\", \"Topic7\", \"Topic7\", \"Topic7\", \"Topic7\", \"Topic7\", \"Topic7\", \"Topic7\", \"Topic7\", \"Topic7\", \"Topic7\", \"Topic7\", \"Topic7\", \"Topic7\", \"Topic7\", \"Topic8\", \"Topic8\", \"Topic8\", \"Topic8\", \"Topic8\", \"Topic8\", \"Topic8\", \"Topic8\", \"Topic8\", \"Topic8\", \"Topic8\", \"Topic8\", \"Topic8\", \"Topic8\", \"Topic8\", \"Topic8\", \"Topic8\", \"Topic8\", \"Topic8\", \"Topic8\", \"Topic8\", \"Topic8\", \"Topic8\", \"Topic8\", \"Topic8\", \"Topic8\", \"Topic8\", \"Topic8\", \"Topic8\", \"Topic8\", \"Topic8\", \"Topic8\", \"Topic8\", \"Topic8\", \"Topic8\", \"Topic8\", \"Topic9\", \"Topic9\", \"Topic9\", \"Topic9\", \"Topic9\", \"Topic9\", \"Topic9\", \"Topic9\", \"Topic9\", \"Topic9\", \"Topic9\", \"Topic9\", \"Topic9\", \"Topic9\", \"Topic9\", \"Topic9\", \"Topic9\", \"Topic9\", \"Topic9\", \"Topic9\", \"Topic9\", \"Topic9\", \"Topic9\", \"Topic9\", \"Topic9\", \"Topic9\", \"Topic9\", \"Topic9\", \"Topic9\", \"Topic9\", \"Topic9\", \"Topic9\", \"Topic9\", \"Topic9\", \"Topic9\", \"Topic9\", \"Topic9\", \"Topic9\", \"Topic9\", \"Topic9\", \"Topic10\", \"Topic10\", \"Topic10\", \"Topic10\", \"Topic10\", \"Topic10\", \"Topic10\", \"Topic10\", \"Topic10\", \"Topic10\", \"Topic10\", \"Topic10\", \"Topic10\", \"Topic10\", \"Topic10\", \"Topic10\", \"Topic10\", \"Topic10\", \"Topic10\", \"Topic10\", \"Topic10\", \"Topic10\", \"Topic10\", \"Topic10\", \"Topic10\", \"Topic10\", \"Topic10\", \"Topic10\", \"Topic10\", \"Topic10\", \"Topic10\", \"Topic10\", \"Topic10\", \"Topic10\", \"Topic10\", \"Topic11\", \"Topic11\", \"Topic11\", \"Topic11\", \"Topic11\", \"Topic11\", \"Topic11\", \"Topic11\", \"Topic11\", \"Topic11\", \"Topic11\", \"Topic11\", \"Topic11\", \"Topic11\", \"Topic11\", \"Topic11\", \"Topic11\", \"Topic11\", \"Topic11\", \"Topic11\", \"Topic11\", \"Topic11\", \"Topic11\", \"Topic11\", \"Topic11\", \"Topic11\", \"Topic11\", \"Topic11\", \"Topic11\", \"Topic11\", \"Topic11\", \"Topic11\", \"Topic11\", \"Topic11\", \"Topic11\", \"Topic11\", \"Topic11\", \"Topic11\", \"Topic11\", \"Topic11\", \"Topic11\", \"Topic12\", \"Topic12\", \"Topic12\", \"Topic12\", \"Topic12\", \"Topic12\", \"Topic12\", \"Topic12\", \"Topic12\", \"Topic12\", \"Topic12\", \"Topic12\", \"Topic12\", \"Topic12\", \"Topic12\", \"Topic12\", \"Topic12\", \"Topic12\", \"Topic12\", \"Topic12\", \"Topic12\", \"Topic12\", \"Topic12\", \"Topic12\", \"Topic12\", \"Topic12\", \"Topic12\", \"Topic12\", \"Topic12\", \"Topic12\", \"Topic12\", \"Topic12\", \"Topic12\", \"Topic12\", \"Topic12\", \"Topic12\", \"Topic13\", \"Topic13\", \"Topic13\", \"Topic13\", \"Topic13\", \"Topic13\", \"Topic13\", \"Topic13\", \"Topic13\", \"Topic13\", \"Topic13\", \"Topic13\", \"Topic13\", \"Topic13\", \"Topic13\", \"Topic13\", \"Topic13\", \"Topic13\", \"Topic13\", \"Topic13\", \"Topic13\", \"Topic13\", \"Topic13\", \"Topic13\", \"Topic13\", \"Topic13\", \"Topic13\", \"Topic13\", \"Topic13\", \"Topic13\", \"Topic13\", \"Topic13\", \"Topic13\", \"Topic13\", \"Topic13\", \"Topic13\", \"Topic13\", \"Topic13\", \"Topic13\", \"Topic13\", \"Topic13\", \"Topic13\", \"Topic13\", \"Topic14\", \"Topic14\", \"Topic14\", \"Topic14\", \"Topic14\", \"Topic14\", \"Topic14\", \"Topic14\", \"Topic14\", \"Topic14\", \"Topic14\", \"Topic14\", \"Topic14\", \"Topic14\", \"Topic14\", \"Topic14\", \"Topic14\", \"Topic14\", \"Topic14\", \"Topic14\", \"Topic14\", \"Topic14\", \"Topic14\", \"Topic14\", \"Topic14\", \"Topic14\", \"Topic14\", \"Topic14\", \"Topic14\", \"Topic14\", \"Topic14\", \"Topic14\", \"Topic14\", \"Topic14\", \"Topic14\", \"Topic14\", \"Topic14\", \"Topic15\", \"Topic15\", \"Topic15\", \"Topic15\", \"Topic15\", \"Topic15\", \"Topic15\", \"Topic15\", \"Topic15\", \"Topic15\", \"Topic15\", \"Topic15\", \"Topic15\", \"Topic15\", \"Topic15\", \"Topic15\", \"Topic15\", \"Topic15\", \"Topic15\", \"Topic15\", \"Topic15\", \"Topic15\", \"Topic15\", \"Topic15\", \"Topic15\", \"Topic15\", \"Topic15\", \"Topic15\", \"Topic15\", \"Topic15\", \"Topic15\", \"Topic15\", \"Topic15\", \"Topic15\", \"Topic15\", \"Topic15\", \"Topic15\", \"Topic16\", \"Topic16\", \"Topic16\", \"Topic16\", \"Topic16\", \"Topic16\", \"Topic16\", \"Topic16\", \"Topic16\", \"Topic16\", \"Topic16\", \"Topic16\", \"Topic16\", \"Topic16\", \"Topic16\", \"Topic16\", \"Topic16\", \"Topic16\", \"Topic16\", \"Topic16\", \"Topic16\", \"Topic16\", \"Topic16\", \"Topic16\", \"Topic16\", \"Topic16\", \"Topic16\", \"Topic16\", \"Topic16\", \"Topic16\", \"Topic16\", \"Topic16\", \"Topic16\", \"Topic16\", \"Topic16\", \"Topic16\", \"Topic16\", \"Topic16\", \"Topic16\", \"Topic17\", \"Topic17\", \"Topic17\", \"Topic17\", \"Topic17\", \"Topic17\", \"Topic17\", \"Topic17\", \"Topic17\", \"Topic17\", \"Topic17\", \"Topic17\", \"Topic17\", \"Topic17\", \"Topic17\", \"Topic17\", \"Topic17\", \"Topic17\", \"Topic17\", \"Topic17\", \"Topic17\", \"Topic17\", \"Topic17\", \"Topic17\", \"Topic17\", \"Topic17\", \"Topic17\", \"Topic17\", \"Topic17\", \"Topic17\", \"Topic17\", \"Topic17\", \"Topic17\", \"Topic17\", \"Topic18\", \"Topic18\", \"Topic18\", \"Topic18\", \"Topic18\", \"Topic18\", \"Topic18\", \"Topic18\", \"Topic18\", \"Topic18\", \"Topic18\", \"Topic18\", \"Topic18\", \"Topic18\", \"Topic18\", \"Topic18\", \"Topic18\", \"Topic18\", \"Topic18\", \"Topic18\", \"Topic18\", \"Topic18\", \"Topic18\", \"Topic18\", \"Topic18\", \"Topic18\", \"Topic18\", \"Topic18\", \"Topic18\", \"Topic18\", \"Topic18\", \"Topic18\", \"Topic18\", \"Topic18\", \"Topic18\", \"Topic18\", \"Topic18\", \"Topic18\", \"Topic18\", \"Topic19\", \"Topic19\", \"Topic19\", \"Topic19\", \"Topic19\", \"Topic19\", \"Topic19\", \"Topic19\", \"Topic19\", \"Topic19\", \"Topic19\", \"Topic19\", \"Topic19\", \"Topic19\", \"Topic19\", \"Topic19\", \"Topic19\", \"Topic19\", \"Topic19\", \"Topic19\", \"Topic19\", \"Topic19\", \"Topic19\", \"Topic19\", \"Topic19\", \"Topic19\", \"Topic19\", \"Topic19\", \"Topic19\", \"Topic19\", \"Topic19\", \"Topic19\", \"Topic19\", \"Topic19\", \"Topic19\", \"Topic20\", \"Topic20\", \"Topic20\", \"Topic20\", \"Topic20\", \"Topic20\", \"Topic20\", \"Topic20\", \"Topic20\", \"Topic20\", \"Topic20\", \"Topic20\", \"Topic20\", \"Topic20\", \"Topic20\", \"Topic20\", \"Topic20\", \"Topic20\", \"Topic20\", \"Topic20\", \"Topic20\", \"Topic20\", \"Topic20\", \"Topic20\", \"Topic20\", \"Topic20\", \"Topic20\", \"Topic20\", \"Topic20\", \"Topic20\", \"Topic20\", \"Topic20\", \"Topic20\", \"Topic20\", \"Topic20\", \"Topic20\", \"Topic20\", \"Topic20\", \"Topic20\", \"Topic20\", \"Topic20\"], \"logprob\": [30.0, 29.0, 28.0, 27.0, 26.0, 25.0, 24.0, 23.0, 22.0, 21.0, 20.0, 19.0, 18.0, 17.0, 16.0, 15.0, 14.0, 13.0, 12.0, 11.0, 10.0, 9.0, 8.0, 7.0, 6.0, 5.0, 4.0, 3.0, 2.0, 1.0, -0.36469998955726624, -2.4170000553131104, -2.9899001121520996, -3.9377999305725098, -4.109399795532227, -4.402400016784668, -5.965400218963623, -10.158300399780273, -10.15939998626709, -10.161399841308594, -10.162099838256836, -10.162099838256836, -10.162300109863281, -10.162099838256836, -10.162400245666504, -10.162099838256836, -10.162099838256836, -10.162599563598633, -10.162699699401855, -10.162799835205078, -10.162699699401855, -10.1628999710083, -10.1628999710083, -10.163000106811523, -10.1628999710083, -10.163100242614746, -10.163200378417969, -10.163000106811523, -10.163100242614746, -10.163200378417969, -10.1628999710083, -10.163000106811523, -10.162699699401855, -10.162799835205078, -10.162799835205078, -10.162599563598633, -0.7488999962806702, -1.138200044631958, -4.2789998054504395, -4.638500213623047, -5.271699905395508, -9.727299690246582, -9.729499816894531, -9.729399681091309, -9.729599952697754, -9.729999542236328, -9.72920036315918, -9.730299949645996, -9.729999542236328, -9.730299949645996, -9.730299949645996, -9.730299949645996, -9.730299949645996, -9.730199813842773, -9.730299949645996, -9.73009967803955, -9.730400085449219, -9.730400085449219, -9.730400085449219, -9.730600357055664, -9.730400085449219, -9.730600357055664, -9.730400085449219, -9.730600357055664, -9.730500221252441, -9.73009967803955, -9.729999542236328, -9.730400085449219, -9.730400085449219, -9.730400085449219, -9.730299949645996, -9.730299949645996, -9.730400085449219, -0.9059000015258789, -2.237799882888794, -2.68179988861084, -2.9186999797821045, -3.37280011177063, -3.40910005569458, -3.470599889755249, -3.677299976348877, -3.7755000591278076, -4.610899925231934, -4.666600227355957, -4.990099906921387, -5.038400173187256, -5.60830020904541, -6.269599914550781, -9.704899787902832, -9.70419979095459, -9.705100059509277, -9.705699920654297, -9.705400466918945, -9.705900192260742, -9.706100463867188, -9.706100463867188, -9.706100463867188, -9.705599784851074, -9.706100463867188, -9.706000328063965, -9.706000328063965, -9.706199645996094, -9.706199645996094, -9.705499649047852, -9.706000328063965, -9.706000328063965, -9.70580005645752, -9.70580005645752, -9.705900192260742, -9.705900192260742, -9.706000328063965, -0.6658999919891357, -2.14490008354187, -2.3606998920440674, -3.240499973297119, -4.034900188446045, -5.783899784088135, -9.541600227355957, -9.541399955749512, -9.541099548339844, -9.540499687194824, -9.541799545288086, -9.542200088500977, -9.542200088500977, -9.542099952697754, -9.541299819946289, -9.5423002243042, -9.5423002243042, -9.542400360107422, -9.542400360107422, -9.542499542236328, -9.542099952697754, -9.542499542236328, -9.542200088500977, -9.54259967803955, -9.542699813842773, -9.542499542236328, -9.542499542236328, -9.54259967803955, -9.542499542236328, -9.542699813842773, -9.541999816894531, -9.542099952697754, -9.542099952697754, -9.542499542236328, -9.542400360107422, -9.542400360107422, -9.542400360107422, -0.9577000141143799, -1.3732000589370728, -2.5599000453948975, -3.51990008354187, -3.566999912261963, -4.60699987411499, -4.718999862670898, -5.923799991607666, -5.989699840545654, -6.843400001525879, -9.596599578857422, -9.597800254821777, -9.59850025177002, -9.597299575805664, -9.598199844360352, -9.599100112915039, -9.599100112915039, -9.598699569702148, -9.599200248718262, -9.599100112915039, -9.59939956665039, -9.59939956665039, -9.599300384521484, -9.599499702453613, -9.599599838256836, -9.599599838256836, -9.599599838256836, -9.599599838256836, -9.599699974060059, -9.599699974060059, -9.59939956665039, -9.599200248718262, -9.59939956665039, -9.599499702453613, -0.5164999961853027, -3.4328999519348145, -3.8157999515533447, -3.8620998859405518, -5.370800018310547, -5.901299953460693, -9.141300201416016, -9.141400337219238, -9.141400337219238, -9.141400337219238, -9.141400337219238, -9.141799926757812, -9.141799926757812, -9.141900062561035, -9.14169979095459, -9.141900062561035, -9.141799926757812, -9.142000198364258, -9.14169979095459, -9.142000198364258, -9.142000198364258, -9.142000198364258, -9.14210033416748, -9.14210033416748, -9.14210033416748, -9.142000198364258, -9.14210033416748, -9.141799926757812, -9.14169979095459, -9.142000198364258, -9.142000198364258, -9.141900062561035, -9.141400337219238, -9.141900062561035, -9.14169979095459, -9.14169979095459, -9.14169979095459, -9.14109992980957, -9.141799926757812, -9.141400337219238, -9.141900062561035, -9.141799926757812, -9.141900062561035, -9.141799926757812, -1.0625, -2.010200023651123, -2.7040998935699463, -2.7121999263763428, -3.030100107192993, -3.6387999057769775, -3.934000015258789, -3.992799997329712, -4.4319000244140625, -5.590099811553955, -9.353099822998047, -9.353699684143066, -9.353599548339844, -9.353899955749512, -9.354000091552734, -9.354000091552734, -9.353799819946289, -9.354100227355957, -9.354100227355957, -9.354100227355957, -9.354100227355957, -9.354100227355957, -9.35420036315918, -9.353699684143066, -9.354299545288086, -9.354399681091309, -9.354399681091309, -9.35420036315918, -9.354000091552734, -9.354399681091309, -9.353799819946289, -9.354000091552734, -9.353899955749512, -9.354100227355957, -0.805400013923645, -1.8172999620437622, -2.541800022125244, -3.585200071334839, -4.959000110626221, -5.562699794769287, -5.949100017547607, -9.309200286865234, -9.310199737548828, -9.310500144958496, -9.310700416564941, -9.310099601745605, -9.310999870300293, -9.310999870300293, -9.311100006103516, -9.311100006103516, -9.311100006103516, -9.310500144958496, -9.310500144958496, -9.310999870300293, -9.311100006103516, -9.310799598693848, -9.310700416564941, -9.311200141906738, -9.310999870300293, -9.310999870300293, -9.311100006103516, -9.311100006103516, -9.311200141906738, -9.311200141906738, -9.310999870300293, -9.310799598693848, -9.310700416564941, -9.311100006103516, -9.310700416564941, -9.310999870300293, -0.847599983215332, -2.2351999282836914, -3.0060999393463135, -3.1658999919891357, -4.813600063323975, -9.012800216674805, -9.012800216674805, -9.012800216674805, -9.012700080871582, -9.012900352478027, -9.013199806213379, -9.013199806213379, -9.013099670410156, -9.013199806213379, -9.013099670410156, -9.013099670410156, -9.013299942016602, -9.013199806213379, -9.013400077819824, -9.013400077819824, -9.013400077819824, -9.013400077819824, -9.013299942016602, -9.013199806213379, -9.013500213623047, -9.013500213623047, -9.013500213623047, -9.013500213623047, -9.013500213623047, -9.013500213623047, -9.013299942016602, -9.013299942016602, -9.013099670410156, -9.013299942016602, -9.013299942016602, -9.013199806213379, -9.012900352478027, -9.013099670410156, -9.013299942016602, -9.013299942016602, -1.055899977684021, -1.5849000215530396, -2.601300001144409, -3.3020999431610107, -3.411799907684326, -4.60129976272583, -4.869500160217285, -5.361599922180176, -7.15910005569458, -9.275400161743164, -9.275899887084961, -9.275899887084961, -9.275899887084961, -9.276000022888184, -9.276100158691406, -9.276100158691406, -9.276000022888184, -9.276100158691406, -9.276300430297852, -9.276300430297852, -9.276100158691406, -9.27649974822998, -9.276300430297852, -9.27649974822998, -9.27649974822998, -9.276599884033203, -9.275500297546387, -9.276700019836426, -9.276700019836426, -9.276700019836426, -9.276399612426758, -9.276300430297852, -9.27649974822998, -9.276599884033203, -9.27649974822998, -0.713100016117096, -2.0878000259399414, -2.9742000102996826, -3.1059999465942383, -7.069699764251709, -9.24489974975586, -9.245200157165527, -9.245100021362305, -9.24530029296875, -9.24530029296875, -9.245499610900879, -9.24530029296875, -9.245599746704102, -9.24530029296875, -9.245400428771973, -9.245400428771973, -9.245200157165527, -9.24530029296875, -9.245699882507324, -9.245499610900879, -9.245599746704102, -9.24530029296875, -9.245699882507324, -9.245699882507324, -9.245599746704102, -9.245699882507324, -9.245400428771973, -9.245800018310547, -9.245800018310547, -9.245800018310547, -9.245200157165527, -9.245599746704102, -9.245400428771973, -9.24470043182373, -9.245400428771973, -9.245400428771973, -9.245499610900879, -9.245599746704102, -9.245599746704102, -9.245599746704102, -9.245599746704102, -1.4622999429702759, -2.0520999431610107, -2.5129001140594482, -2.768399953842163, -2.9421000480651855, -3.057499885559082, -3.2901999950408936, -3.4456000328063965, -3.614799976348877, -4.299099922180176, -4.598700046539307, -4.665200233459473, -9.321399688720703, -9.321399688720703, -9.322099685668945, -9.321999549865723, -9.321900367736816, -9.322099685668945, -9.322400093078613, -9.322400093078613, -9.322400093078613, -9.32229995727539, -9.322500228881836, -9.322500228881836, -9.322600364685059, -9.322400093078613, -9.322400093078613, -9.322600364685059, -9.322500228881836, -9.322500228881836, -9.322199821472168, -9.321599960327148, -9.322400093078613, -9.32229995727539, -9.322400093078613, -9.322400093078613, -0.5898000001907349, -2.4672000408172607, -5.320199966430664, -9.037799835205078, -9.0378999710083, -9.037699699401855, -9.038599967956543, -9.0378999710083, -9.038700103759766, -9.038599967956543, -9.038700103759766, -9.038599967956543, -9.038700103759766, -9.038700103759766, -9.038700103759766, -9.038700103759766, -9.038399696350098, -9.038700103759766, -9.038800239562988, -9.038900375366211, -9.038900375366211, -9.038900375366211, -9.038900375366211, -9.038900375366211, -9.038900375366211, -9.038900375366211, -9.038900375366211, -9.038900375366211, -9.038900375366211, -9.038800239562988, -9.038900375366211, -9.038700103759766, -9.038100242614746, -9.038800239562988, -9.038800239562988, -9.038900375366211, -9.038900375366211, -9.038900375366211, -9.038800239562988, -9.038900375366211, -9.038900375366211, -9.038900375366211, -9.038900375366211, -1.6936999559402466, -2.1254000663757324, -2.1703999042510986, -2.651599884033203, -3.010699987411499, -3.0768001079559326, -3.8466999530792236, -4.177000045776367, -4.222799777984619, -9.009900093078613, -9.010000228881836, -9.00979995727539, -9.010100364685059, -9.010299682617188, -9.010199546813965, -9.009599685668945, -9.010199546813965, -9.010299682617188, -9.010199546813965, -9.01039981842041, -9.01039981842041, -9.010199546813965, -9.010100364685059, -9.01039981842041, -9.010299682617188, -9.01039981842041, -9.01039981842041, -9.010499954223633, -9.010499954223633, -9.010499954223633, -9.010499954223633, -9.01039981842041, -9.010199546813965, -9.010299682617188, -9.009900093078613, -9.010299682617188, -9.01039981842041, -0.8949000239372253, -1.7890000343322754, -3.1298000812530518, -3.878000020980835, -9.026200294494629, -9.02649974822998, -9.027000427246094, -9.026800155639648, -9.027299880981445, -9.026300430297852, -9.027400016784668, -9.02750015258789, -9.027099609375, -9.02750015258789, -9.02750015258789, -9.02750015258789, -9.02750015258789, -9.02750015258789, -9.02750015258789, -9.027600288391113, -9.027400016784668, -9.027600288391113, -9.02750015258789, -9.027600288391113, -9.027600288391113, -9.027000427246094, -9.027600288391113, -9.027600288391113, -9.027199745178223, -9.027600288391113, -9.027400016784668, -9.027099609375, -9.027299880981445, -9.02750015258789, -9.027400016784668, -9.02750015258789, -9.027600288391113, -1.6229000091552734, -1.8516000509262085, -2.1171000003814697, -3.700500011444092, -3.797600030899048, -4.114299774169922, -5.201900005340576, -8.788399696350098, -8.788700103759766, -8.788599967956543, -8.788700103759766, -8.788800239562988, -8.788999557495117, -8.788999557495117, -8.788999557495117, -8.788900375366211, -8.788900375366211, -8.788999557495117, -8.788700103759766, -8.788999557495117, -8.788999557495117, -8.788999557495117, -8.788999557495117, -8.788999557495117, -8.788999557495117, -8.788999557495117, -8.788999557495117, -8.788999557495117, -8.788999557495117, -8.788999557495117, -8.788900375366211, -8.788999557495117, -8.788299560546875, -8.788999557495117, -8.788900375366211, -8.788999557495117, -8.788700103759766, -8.788900375366211, -8.788999557495117, -2.0685999393463135, -2.077500104904175, -2.19569993019104, -2.5550999641418457, -4.07480001449585, -4.636099815368652, -8.633500099182129, -8.633500099182129, -8.633500099182129, -8.633500099182129, -8.634300231933594, -8.633700370788574, -8.634200096130371, -8.634400367736816, -8.634300231933594, -8.634300231933594, -8.634400367736816, -8.634400367736816, -8.634400367736816, -8.634400367736816, -8.634300231933594, -8.634300231933594, -8.634400367736816, -8.634300231933594, -8.634400367736816, -8.634200096130371, -8.634400367736816, -8.634499549865723, -8.634499549865723, -8.634499549865723, -8.634099960327148, -8.634099960327148, -8.634300231933594, -8.634300231933594, -1.0607999563217163, -2.0810000896453857, -3.2976999282836914, -3.6970999240875244, -4.13129997253418, -5.6975998878479, -8.805500030517578, -8.805500030517578, -8.805500030517578, -8.805500030517578, -8.80720043182373, -8.80720043182373, -8.80720043182373, -8.80720043182373, -8.80780029296875, -8.807900428771973, -8.807999610900879, -8.807900428771973, -8.807999610900879, -8.807999610900879, -8.807999610900879, -8.807999610900879, -8.807900428771973, -8.807999610900879, -8.807999610900879, -8.808099746704102, -8.808099746704102, -8.808099746704102, -8.807999610900879, -8.807999610900879, -8.80720043182373, -8.807999610900879, -8.807499885559082, -8.80780029296875, -8.807999610900879, -8.807999610900879, -8.807999610900879, -8.807999610900879, -8.807999610900879, -0.9945999979972839, -3.5687999725341797, -3.6473000049591064, -3.8970999717712402, -8.591699600219727, -8.591699600219727, -8.591699600219727, -8.591699600219727, -8.591699600219727, -8.592499732971191, -8.592599868774414, -8.592900276184082, -8.593000411987305, -8.593000411987305, -8.593000411987305, -8.59280014038086, -8.593000411987305, -8.593000411987305, -8.593099594116211, -8.593000411987305, -8.593000411987305, -8.593099594116211, -8.593099594116211, -8.593099594116211, -8.593099594116211, -8.593099594116211, -8.593099594116211, -8.593099594116211, -8.593199729919434, -8.593099594116211, -8.593099594116211, -8.593000411987305, -8.593099594116211, -8.593000411987305, -8.593099594116211, -2.8208999633789062, -3.523900032043457, -4.881700038909912, -6.307000160217285, -6.762499809265137, -8.109700202941895, -8.109600067138672, -8.109800338745117, -8.10990047454834, -8.10990047454834, -8.10990047454834, -8.10990047454834, -8.10990047454834, -8.10990047454834, -8.10990047454834, -8.110199928283691, -8.110199928283691, -8.110199928283691, -8.110199928283691, -8.110199928283691, -8.110199928283691, -8.110300064086914, -8.110199928283691, -8.110300064086914, -8.110300064086914, -8.110300064086914, -8.110300064086914, -8.110300064086914, -8.110300064086914, -8.110300064086914, -8.110199928283691, -8.110199928283691, -8.110199928283691, -8.110300064086914, -8.110300064086914, -8.110199928283691, -8.110199928283691, -8.110199928283691, -8.110199928283691, -8.110199928283691, -8.110199928283691], \"loglift\": [30.0, 29.0, 28.0, 27.0, 26.0, 25.0, 24.0, 23.0, 22.0, 21.0, 20.0, 19.0, 18.0, 17.0, 16.0, 15.0, 14.0, 13.0, 12.0, 11.0, 10.0, 9.0, 8.0, 7.0, 6.0, 5.0, 4.0, 3.0, 2.0, 1.0, 1.9716, 1.9658, 1.9606, 1.942, 1.9364, 1.9244, 1.7614, -0.8353, -0.8368, -0.8376, -0.8383, -0.8384, -0.8384, -0.8386, -0.8387, -0.8387, -0.8387, -0.8387, -0.8388, -0.8388, -0.8389, -0.839, -0.839, -0.839, -0.8391, -0.8391, -0.8391, -0.8391, -0.8391, -0.8391, -0.8392, -0.8392, -0.8393, -0.8393, -0.8393, -0.8394, 2.3544, 2.3536, 2.2946, 2.269, 2.1977, -0.4047, -0.4057, -0.4058, -0.4061, -0.4062, -0.4062, -0.4063, -0.4063, -0.4063, -0.4063, -0.4064, -0.4064, -0.4064, -0.4064, -0.4064, -0.4064, -0.4065, -0.4065, -0.4065, -0.4066, -0.4066, -0.4066, -0.4066, -0.4066, -0.4066, -0.4067, -0.4067, -0.4067, -0.4068, -0.4069, -0.4069, -0.4068, 2.5998, 2.5919, 2.586, 2.5817, 2.5698, 2.5686, 2.5665, 2.5584, 2.5539, 2.4937, 2.4878, 2.4472, 2.4402, 2.3311, 2.13, -0.3813, -0.3816, -0.3817, -0.3818, -0.3819, -0.3819, -0.382, -0.382, -0.382, -0.382, -0.3821, -0.3822, -0.3822, -0.3822, -0.3822, -0.3822, -0.3822, -0.3822, -0.3823, -0.3824, -0.3823, -0.3829, -0.3823, 2.6987, 2.6905, 2.6879, 2.6695, 2.6325, 2.3584, -0.2178, -0.2178, -0.2178, -0.2179, -0.218, -0.2182, -0.2182, -0.2184, -0.2184, -0.2184, -0.2184, -0.2184, -0.2184, -0.2184, -0.2185, -0.2185, -0.2185, -0.2185, -0.2185, -0.2185, -0.2186, -0.2186, -0.2186, -0.2186, -0.2186, -0.2186, -0.2187, -0.2186, -0.2189, -0.2187, -0.2189, 2.7655, 2.7637, 2.7516, 2.7243, 2.7221, 2.6417, 2.6277, 2.3592, 2.3365, 1.9489, -0.2734, -0.2743, -0.2746, -0.2747, -0.2748, -0.275, -0.275, -0.2752, -0.2753, -0.2753, -0.2754, -0.2754, -0.2755, -0.2755, -0.2755, -0.2756, -0.2756, -0.2756, -0.2756, -0.2756, -0.2757, -0.2758, -0.2764, -0.276, 2.8585, 2.8169, 2.797, 2.7941, 2.5891, 2.435, 0.1826, 0.1825, 0.1825, 0.1825, 0.1824, 0.1822, 0.1822, 0.1821, 0.1821, 0.1821, 0.1821, 0.1821, 0.1821, 0.182, 0.182, 0.182, 0.182, 0.182, 0.182, 0.182, 0.182, 0.182, 0.182, 0.182, 0.182, 0.182, 0.1818, 0.182, 0.1818, 0.1818, 0.1818, 0.1815, 0.1818, 0.1816, 0.1819, 0.1818, 0.1819, 0.1815, 2.9426, 2.9353, 2.9234, 2.9232, 2.9144, 2.8876, 2.868, 2.8634, 2.82, 2.5881, -0.0296, -0.0297, -0.0297, -0.0299, -0.03, -0.0301, -0.0301, -0.0301, -0.0301, -0.0302, -0.0302, -0.0302, -0.0302, -0.0302, -0.0302, -0.0303, -0.0303, -0.0303, -0.0303, -0.0303, -0.0306, -0.0306, -0.0313, -0.0311, 2.9601, 2.9537, 2.9431, 2.9063, 2.754, 2.6083, 2.4763, 0.0141, 0.0137, 0.0135, 0.0134, 0.0133, 0.0131, 0.013, 0.013, 0.013, 0.013, 0.013, 0.013, 0.013, 0.013, 0.013, 0.0129, 0.0129, 0.0129, 0.0129, 0.0129, 0.0129, 0.0129, 0.0129, 0.0129, 0.0128, 0.0127, 0.0128, 0.0119, 0.012, 2.9785, 2.9671, 2.9497, 2.9442, 2.7984, 0.3111, 0.3111, 0.311, 0.311, 0.3109, 0.3109, 0.3109, 0.3108, 0.3108, 0.3108, 0.3107, 0.3107, 0.3107, 0.3107, 0.3107, 0.3107, 0.3106, 0.3106, 0.3106, 0.3106, 0.3106, 0.3106, 0.3106, 0.3106, 0.3106, 0.3106, 0.3106, 0.3105, 0.3104, 0.3103, 0.3102, 0.3097, 0.3099, 0.3101, 0.3099, 2.9823, 2.979, 2.9648, 2.9426, 2.9376, 2.8327, 2.7897, 2.6818, 1.8381, 0.0484, 0.0482, 0.0482, 0.0481, 0.048, 0.0479, 0.0479, 0.0479, 0.0478, 0.0477, 0.0476, 0.0476, 0.0476, 0.0476, 0.0475, 0.0475, 0.0474, 0.0474, 0.0474, 0.0474, 0.0474, 0.0473, 0.0473, 0.0472, 0.0472, 0.047, 3.0067, 2.9965, 2.9772, 2.9727, 1.9063, 0.0791, 0.0789, 0.0789, 0.0786, 0.0785, 0.0785, 0.0785, 0.0785, 0.0785, 0.0784, 0.0784, 0.0784, 0.0784, 0.0784, 0.0784, 0.0784, 0.0784, 0.0784, 0.0784, 0.0784, 0.0783, 0.0783, 0.0783, 0.0783, 0.0783, 0.0783, 0.0783, 0.0783, 0.0779, 0.0782, 0.0781, 0.0781, 0.0782, 0.0778, 0.0777, 0.0778, 3.1493, 3.1425, 3.1335, 3.1265, 3.1206, 3.1161, 3.1054, 3.0969, 3.086, 3.02, 2.9759, 2.9645, 0.002, 0.002, 0.0019, 0.0019, 0.0019, 0.0018, 0.0017, 0.0017, 0.0017, 0.0017, 0.0016, 0.0016, 0.0015, 0.0015, 0.0015, 0.0015, 0.0015, 0.0015, 0.0014, 0.001, 0.0013, 0.0009, 0.0013, 0.0006, 3.2237, 3.2027, 2.8658, 0.2862, 0.2862, 0.286, 0.2855, 0.2855, 0.2854, 0.2854, 0.2853, 0.2853, 0.2853, 0.2853, 0.2853, 0.2853, 0.2853, 0.2852, 0.2852, 0.2852, 0.2852, 0.2852, 0.2852, 0.2852, 0.2852, 0.2852, 0.2852, 0.2852, 0.2852, 0.2852, 0.2852, 0.2851, 0.2845, 0.2851, 0.2851, 0.2852, 0.2851, 0.2851, 0.285, 0.2849, 0.285, 0.2848, 0.2844, 3.2967, 3.29, 3.2891, 3.2769, 3.2632, 3.2602, 3.2061, 3.1684, 3.1623, 0.3141, 0.3141, 0.314, 0.3139, 0.3138, 0.3138, 0.3138, 0.3138, 0.3138, 0.3137, 0.3137, 0.3137, 0.3137, 0.3137, 0.3137, 0.3137, 0.3137, 0.3136, 0.3136, 0.3136, 0.3136, 0.3136, 0.3135, 0.3134, 0.3133, 0.3127, 0.3132, 0.3126, 3.3959, 3.387, 3.3453, 3.2855, 0.2974, 0.2973, 0.297, 0.2969, 0.2968, 0.2967, 0.2966, 0.2966, 0.2966, 0.2966, 0.2966, 0.2966, 0.2966, 0.2966, 0.2965, 0.2965, 0.2965, 0.2965, 0.2965, 0.2965, 0.2965, 0.2965, 0.2965, 0.2965, 0.2965, 0.2965, 0.2965, 0.2963, 0.2964, 0.2964, 0.2963, 0.2964, 0.2962, 3.4786, 3.475, 3.4697, 3.3859, 3.3757, 3.3354, 3.0837, 0.5356, 0.5354, 0.5354, 0.5352, 0.5352, 0.5352, 0.5351, 0.5351, 0.5351, 0.5351, 0.5351, 0.5351, 0.5351, 0.5351, 0.5351, 0.5351, 0.5351, 0.5351, 0.5351, 0.5351, 0.5351, 0.5351, 0.5351, 0.535, 0.535, 0.5343, 0.535, 0.535, 0.535, 0.5343, 0.5348, 0.5346, 3.6206, 3.6204, 3.6172, 3.605, 3.4713, 3.3574, 0.6905, 0.6905, 0.6904, 0.6899, 0.6898, 0.6898, 0.6898, 0.6898, 0.6897, 0.6897, 0.6897, 0.6897, 0.6897, 0.6897, 0.6897, 0.6897, 0.6897, 0.6897, 0.6897, 0.6897, 0.6897, 0.6897, 0.6896, 0.6896, 0.6895, 0.6894, 0.6895, 0.6887, 3.7731, 3.7541, 3.6867, 3.6422, 3.5728, 3.0298, 0.5185, 0.5184, 0.5184, 0.5183, 0.5168, 0.5167, 0.5166, 0.5164, 0.5162, 0.5161, 0.5161, 0.5161, 0.5161, 0.5161, 0.5161, 0.5161, 0.5161, 0.516, 0.516, 0.516, 0.516, 0.516, 0.516, 0.516, 0.5154, 0.516, 0.5155, 0.5158, 0.5159, 0.5157, 0.5154, 0.5157, 0.5158, 4.2025, 4.0289, 4.0149, 3.964, 0.7322, 0.7322, 0.7322, 0.7322, 0.7318, 0.7314, 0.7313, 0.7312, 0.7311, 0.7311, 0.7311, 0.7311, 0.7311, 0.731, 0.731, 0.731, 0.731, 0.731, 0.731, 0.731, 0.731, 0.731, 0.731, 0.7309, 0.7309, 0.7309, 0.7309, 0.7308, 0.7307, 0.7304, 0.7306, 5.1227, 4.8975, 4.1306, 2.9434, 2.5195, 1.2145, 1.2143, 1.2143, 1.2142, 1.2142, 1.2142, 1.2142, 1.2142, 1.2142, 1.2141, 1.214, 1.2139, 1.2139, 1.2139, 1.2139, 1.2139, 1.2139, 1.2139, 1.2139, 1.2139, 1.2139, 1.2139, 1.2139, 1.2139, 1.2139, 1.2139, 1.2139, 1.2139, 1.2139, 1.2139, 1.2138, 1.2137, 1.2137, 1.2136, 1.2135, 1.2132]}, \"token.table\": {\"Topic\": [12, 11, 17, 15, 4, 16, 15, 17, 2, 10, 5, 3, 7, 19, 13, 9, 16, 1, 18, 2, 3, 20, 20, 6, 18, 7, 2, 14, 19, 3, 14, 9, 14, 11, 12, 1, 5, 16, 17, 15, 12, 7, 9, 5, 17, 7, 14, 16, 18, 12, 8, 3, 1, 7, 8, 12, 10, 3, 7, 16, 6, 3, 17, 11, 5, 5, 14, 9, 6, 3, 4, 8, 18, 3, 3, 16, 5, 3, 14, 4, 3, 14, 5, 10, 10, 10, 8, 3, 13, 10, 16, 10, 20, 12, 12, 17, 19, 18, 5, 12, 5, 8, 7, 8, 1, 12, 4, 10, 3, 19, 1, 11, 8, 2, 12, 14, 4, 4, 6, 6, 9, 7, 14, 13, 18, 1, 7, 10, 12, 5, 7, 11, 6, 2, 15, 12, 3, 1, 3], \"Freq\": [0.9676344581669375, 0.9656370652649744, 0.7699275583303143, 0.9814124730183128, 0.9744213262043467, 0.9039604872000176, 0.895258994115127, 0.9734409889027847, 0.9977034626231757, 0.6743619409013324, 0.5704758161357668, 0.8433284239942025, 0.9754745037071123, 0.9866005447470191, 0.9800037376497676, 0.9561198100495382, 0.687365887960435, 0.9698107196187995, 0.8670912832496018, 0.9095857672380026, 0.9869869286695216, 0.3553974010874005, 0.5905103406472624, 0.7444108716577463, 0.9911265111835725, 0.9468006162718364, 0.9304694562741763, 0.8379697608511667, 0.8291154813931936, 0.8967431418581276, 0.9600805936011113, 0.9958658821908096, 0.9871380479376193, 0.9863479325947611, 0.984135125254352, 0.7861743767567322, 0.8529451377047199, 0.8805856168628781, 0.9689951918485331, 0.9934545998747403, 0.9604912916358976, 0.8556584998119124, 0.9698733665563325, 0.7158579383084874, 0.9712171651569136, 0.9353957230972115, 0.9773573822547239, 0.9828617661179251, 0.5345423829786788, 0.9157879282623502, 0.7661186656488104, 0.9742922376161361, 0.9451781853126601, 0.9051565094457339, 0.9429362710085031, 0.975535250280565, 0.350097586857739, 0.72934482257745, 0.771654223118651, 0.9891876157835207, 0.9648067586956088, 0.9475679444035745, 0.820289681495139, 0.9973820101250968, 0.8734962502549929, 0.9568986091443145, 0.9547393201609449, 0.7885279893971484, 0.9432754392779416, 0.975619814166901, 0.9871746961520683, 0.9815541515408325, 0.7684977676740284, 0.9970260621042168, 0.5777362844425845, 0.8193379569814715, 0.6855688528332425, 0.8870746257008342, 0.9838809457730304, 0.9973636752948508, 0.8828752233703813, 0.9654110991490377, 0.9971104831719395, 0.9739742770601616, 0.9418944900911608, 0.9935284905761507, 0.7753929983181831, 0.9513210172472043, 0.6221782396149046, 0.879961048166833, 0.9804866826604193, 0.9599527901198199, 0.7324050632192604, 0.8026060037213095, 0.989841302922393, 0.9641146199555517, 0.8636867975455453, 0.9633966518670635, 0.9833557719431086, 0.8440048525066366, 0.9954024919601984, 0.9971734988850924, 0.9710806674504487, 0.5928438625093342, 0.9919750897373885, 0.8497413285954022, 0.9855397095462345, 0.9952941752589032, 0.9613259261326186, 0.7868261297121001, 0.9993050342591675, 0.9643647887008789, 0.9920357040569631, 0.8357489290711746, 0.932032337753586, 0.9015846570969638, 0.744517528685537, 0.9197643159982835, 0.9355062140292859, 0.723073948554754, 0.9838836258060941, 0.9863813952098355, 0.8725211081114556, 0.9952148783028817, 0.8886606669941426, 0.9852082285970807, 0.9961755076882244, 0.8266026449546525, 0.9817774216311116, 0.9594328636816588, 0.9755479340016572, 0.3427541236813168, 0.9976966020006529, 0.99744998181207, 0.9556635815871121, 0.9564086245841137, 0.9736549966356506, 0.9764657824115514, 0.9832929943188584], \"Term\": [\"access\", \"adaptive\", \"ambiguity\", \"analysis\", \"application\", \"architecture\", \"automate\", \"automatic\", \"base\", \"binary\", \"boolean\", \"browsing\", \"class\", \"classification\", \"cluster\", \"collection\", \"common\", \"comparison\", \"compression\", \"concept\", \"context\", \"current\", \"data\", \"database\", \"datum\", \"decision\", \"design\", \"different\", \"difficult\", \"display\", \"distribute\", \"document\", \"domain\", \"dynamic\", \"efficient\", \"element\", \"entropy\", \"environment\", \"estimate\", \"evaluation\", \"experiment\", \"experimental\", \"exploit\", \"extend\", \"extraction\", \"factor\", \"feature\", \"feedback\", \"file\", \"first\", \"formulation\", \"framework\", \"frequency\", \"full\", \"function\", \"hierarchical\", \"implementation\", \"implication\", \"important\", \"improve\", \"incorporate\", \"index\", \"indexing\", \"information\", \"intelligence\", \"intelligent\", \"interface\", \"invert\", \"investigation\", \"ir\", \"knowledge\", \"language\", \"large\", \"learn\", \"line\", \"management\", \"maximum\", \"mechanism\", \"method\", \"model\", \"modern\", \"natural_language\", \"network\", \"new\", \"non\", \"online\", \"optimal\", \"orient\", \"overview\", \"paper\", \"performance\", \"personal\", \"perspective\", \"phase\", \"prediction\", \"probabilistic\", \"problem\", \"process\", \"processing\", \"project\", \"query\", \"rank\", \"ranking\", \"record\", \"relevance\", \"report\", \"representation\", \"retrieval\", \"role\", \"scheme\", \"search\", \"self\", \"semantic\", \"server\", \"share\", \"simple\", \"spatial\", \"statistical\", \"strategy\", \"structural\", \"structure\", \"study\", \"syntactic\", \"system\", \"technique\", \"term\", \"text\", \"theoretical\", \"time\", \"tool\", \"tree\", \"tune\", \"use\", \"user\", \"value\", \"vector\", \"visual\", \"weight\", \"word\"]}, \"R\": 30, \"lambda.step\": 0.01, \"plot.opts\": {\"xlab\": \"PC1\", \"ylab\": \"PC2\"}, \"topic.order\": [2, 8, 12, 9, 1, 5, 18, 10, 4, 16, 19, 15, 17, 13, 3, 6, 11, 7, 20, 14]};\n",
              "\n",
              "function LDAvis_load_lib(url, callback){\n",
              "  var s = document.createElement('script');\n",
              "  s.src = url;\n",
              "  s.async = true;\n",
              "  s.onreadystatechange = s.onload = callback;\n",
              "  s.onerror = function(){console.warn(\"failed to load library \" + url);};\n",
              "  document.getElementsByTagName(\"head\")[0].appendChild(s);\n",
              "}\n",
              "\n",
              "if(typeof(LDAvis) !== \"undefined\"){\n",
              "   // already loaded: just create the visualization\n",
              "   !function(LDAvis){\n",
              "       new LDAvis(\"#\" + \"ldavis_el4591405890572299047763842924\", ldavis_el4591405890572299047763842924_data);\n",
              "   }(LDAvis);\n",
              "}else if(typeof define === \"function\" && define.amd){\n",
              "   // require.js is available: use it to load d3/LDAvis\n",
              "   require.config({paths: {d3: \"https://cdnjs.cloudflare.com/ajax/libs/d3/3.5.5/d3.min\"}});\n",
              "   require([\"d3\"], function(d3){\n",
              "      window.d3 = d3;\n",
              "      LDAvis_load_lib(\"https://cdn.rawgit.com/bmabey/pyLDAvis/files/ldavis.v1.0.0.js\", function(){\n",
              "        new LDAvis(\"#\" + \"ldavis_el4591405890572299047763842924\", ldavis_el4591405890572299047763842924_data);\n",
              "      });\n",
              "    });\n",
              "}else{\n",
              "    // require.js not available: dynamically load d3 & LDAvis\n",
              "    LDAvis_load_lib(\"https://cdnjs.cloudflare.com/ajax/libs/d3/3.5.5/d3.min.js\", function(){\n",
              "         LDAvis_load_lib(\"https://cdn.rawgit.com/bmabey/pyLDAvis/files/ldavis.v1.0.0.js\", function(){\n",
              "                 new LDAvis(\"#\" + \"ldavis_el4591405890572299047763842924\", ldavis_el4591405890572299047763842924_data);\n",
              "            })\n",
              "         });\n",
              "}\n",
              "</script>"
            ],
            "text/plain": [
              "PreparedData(topic_coordinates=              x         y  topics  cluster       Freq\n",
              "topic                                                \n",
              "1     -0.395397  0.178263       1        1  13.910937\n",
              "7     -0.108784 -0.314560       2        1   9.476957\n",
              "11    -0.083984 -0.146381       3        1   7.407996\n",
              "8     -0.040976 -0.033337       4        1   6.712738\n",
              "0     -0.054977 -0.056131       5        1   6.272380\n",
              "4      0.037271  0.024454       6        1   5.721683\n",
              "17     0.007024  0.010997       7        1   5.248509\n",
              "9      0.012409  0.013614       8        1   5.162654\n",
              "3      0.051395  0.028756       9        1   5.067592\n",
              "15     0.019462  0.017374      10        1   5.043146\n",
              "18     0.022414  0.018442      11        1   4.928044\n",
              "14     0.014535  0.015402      12        1   4.251141\n",
              "16     0.048055  0.027710      13        1   3.965609\n",
              "12     0.053157  0.029468      14        1   3.654350\n",
              "2      0.049744  0.028274      15        1   3.330029\n",
              "5      0.067971  0.031902      16        1   3.042234\n",
              "10     0.074456  0.032162      17        1   2.609759\n",
              "6      0.066688  0.031708      18        1   2.273354\n",
              "19     0.075514  0.032037      19        1   1.472488\n",
              "13     0.084023  0.029848      20        1   0.448400, topic_info=           Term         Freq        Total Category  logprob  loglift\n",
              "118      search  2231.000000  2231.000000  Default  30.0000  30.0000\n",
              "77         base  1036.000000  1036.000000  Default  29.0000  29.0000\n",
              "91          use   789.000000   789.000000  Default  28.0000  28.0000\n",
              "181       model   798.000000   798.000000  Default  27.0000  27.0000\n",
              "177       learn   693.000000   693.000000  Default  26.0000  26.0000\n",
              "...         ...          ...          ...      ...      ...      ...\n",
              "432        news     0.031098     2.060442  Topic20  -8.1102   1.2137\n",
              "362   selection     0.031098     2.060517  Topic20  -8.1102   1.2137\n",
              "338      result     0.031098     2.060678  Topic20  -8.1102   1.2136\n",
              "254    approach     0.031098     2.060868  Topic20  -8.1102   1.2135\n",
              "1141      aware     0.031098     2.061404  Topic20  -8.1102   1.2132\n",
              "\n",
              "[783 rows x 6 columns], token_table=      Topic      Freq         Term\n",
              "term                              \n",
              "55       12  0.967634       access\n",
              "238      11  0.965637     adaptive\n",
              "10       17  0.769928    ambiguity\n",
              "75       15  0.981412     analysis\n",
              "230       4  0.974421  application\n",
              "...     ...       ...          ...\n",
              "83       15  0.955664        value\n",
              "155      12  0.956409       vector\n",
              "145       3  0.973655       visual\n",
              "214       1  0.976466       weight\n",
              "74        3  0.983293         word\n",
              "\n",
              "[139 rows x 3 columns], R=30, lambda_step=0.01, plot_opts={'xlab': 'PC1', 'ylab': 'PC2'}, topic_order=[2, 8, 12, 9, 1, 5, 18, 10, 4, 16, 19, 15, 17, 13, 3, 6, 11, 7, 20, 14])"
            ]
          },
          "metadata": {
            "tags": []
          },
          "execution_count": 133
        }
      ]
    }
  ]
}